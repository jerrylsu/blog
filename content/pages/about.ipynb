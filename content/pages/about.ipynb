{
 "cells": [
  {
   "cell_type": "markdown",
   "metadata": {},
   "source": [
    "- date: 2021-01-07 12:17:17\n",
    "- author: Jerry Su\n",
    "- slug: about\n",
    "- title: ABOUT"
   ]
  },
  {
   "cell_type": "markdown",
   "metadata": {},
   "source": [
    "### JERRY\n",
    "\n",
    "- NLP, Baidu\n",
    "\n",
    "- Email: sa517301@mail.ustc.edu.cn\n",
    "\n",
    "- Github: [github.com/jerrylsu](https://github.com/jerrylsu)\n",
    "\n",
    "### PROJECTS\n",
    "\n",
    "- Apr. 2022 - Apr. 2022, **[Feedback Prize - Evaluating Student Writing](https://github.com/jerrylsu/Kaggle-Feedback-Prize-Evaluating-Student-Writing)**\n",
    "\n",
    "- Mar. 2021 - Apr. 2021, **[Utterance Rewriter with Transformer and Pointer Networker](https://github.com/jerrylsu/UtteranceRewriter)**\n",
    "\n",
    "- Dec. 2020 - Feb. 2021, **[Span-Extraction: Chinese Machine Reading Comprehension](https://github.com/jerrylsu/cmrc)**\n",
    "\n",
    "- Jan. 2021 - Feb. 2021, **[Pretrain Language Model for BERT](https://github.com/jerrylsu/lm_pretrain)**\n",
    "\n",
    "- Jan. 2021 - Apr. 2021, **[Novel Molecular Toxicity Prediction](https://github.com/jerrylsu/Novel-Molecular-Toxicity-Prediction-Model)**\n",
    "\n",
    "- Jun. 2020 - Sep. 2020, **[BAAI-JD Multimodal Dialog Challenge](http://www.jerrylsu.net/articles/2020/nlp-JDMDC2020.html)**\n",
    "\n",
    "- Oct. 2020 - Present, **[Pyutils: Python pacakage that contains misc utils](https://github.com/jerrylsu/pyutils)**\n",
    "\n",
    "- Sep. 2018 - Present, **[Jerry's Technology Blog with Pelican](https://github.com/jerrylsu/blog)**\n",
    "\n",
    "### EXPERIENCE\n",
    "\n",
    "- Jun. 2021 - Present, **Baidu**. Senior Algorithm Engineer\n",
    "\n",
    "- Dec. 2019 - May. 2021, **CloudWalk**. Algorithm Engineer\n",
    "\n",
    "- Sep. 2018 - Oct. 2019, **eBay**. Data Scientist Intern, advised by [Ben](https://www.linkedin.com/in/ben-chuanlong-du-1239b221/)\n",
    "\n",
    "- Jul. 2018 - Aug. 2018, **Tencent**. Algorithm Engineer Intern, advised by Jingqun Tang\n",
    "\n",
    "- May. 2017 - Jun. 2018, **USTC**. Research Assistant, advised by Zhengang Zhao\n"
   ]
  }
 ],
 "metadata": {
  "kernelspec": {
   "display_name": "Python [conda env:blog]",
   "language": "python",
   "name": "conda-env-blog-py"
  },
  "language_info": {
   "codemirror_mode": {
    "name": "ipython",
    "version": 3
   },
   "file_extension": ".py",
   "mimetype": "text/x-python",
   "name": "python",
   "nbconvert_exporter": "python",
   "pygments_lexer": "ipython3",
   "version": "3.8.3"
  },
  "pycharm": {
   "stem_cell": {
    "cell_type": "raw",
    "metadata": {
     "collapsed": false
    },
    "source": []
   }
  }
 },
 "nbformat": 4,
 "nbformat_minor": 4
}
