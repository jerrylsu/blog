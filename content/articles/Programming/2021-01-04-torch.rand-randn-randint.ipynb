{
 "cells": [
  {
   "cell_type": "markdown",
   "metadata": {},
   "source": [
    "date: 2021-01-04 12:17:17\n",
    "author: Jerry Su\n",
    "slug: torch.rand/randn/randint\n",
    "title: torch.rand/randn/randint\n",
    "category: \n",
    "tags: Deep Learning, Pytorch\n",
    "summary: Reason is the light and the light of life.\n",
    "toc: show"
   ]
  },
  {
   "cell_type": "code",
   "execution_count": 69,
   "metadata": {},
   "outputs": [],
   "source": [
    "import torch"
   ]
  },
  {
   "cell_type": "markdown",
   "metadata": {},
   "source": [
    "## torch.rand 0-1均匀分布"
   ]
  },
  {
   "cell_type": "code",
   "execution_count": 52,
   "metadata": {},
   "outputs": [],
   "source": [
    "\"\"\"\n",
    "Docstring:\n",
    "rand(*size, *, out=None, dtype=None, layout=torch.strided, device=None, requires_grad=False) -> Tensor\n",
    "\n",
    "Returns a tensor filled with random numbers from a uniform distribution\n",
    "on the interval :math:`[0, 1)`\n",
    "\n",
    "The shape of the tensor is defined by the variable argument :attr:`size`.\n",
    "\n",
    "Args:\n",
    "    size (int...): a sequence of integers defining the shape of the output tensor.\n",
    "        Can be a variable number of arguments or a collection like a list or tuple.\n",
    "\n",
    "Keyword args:\n",
    "    out (Tensor, optional): the output tensor.\n",
    "    dtype (:class:`torch.dtype`, optional): the desired data type of returned tensor.\n",
    "        Default: if ``None``, uses a global default (see :func:`torch.set_default_tensor_type`).\n",
    "    layout (:class:`torch.layout`, optional): the desired layout of returned Tensor.\n",
    "        Default: ``torch.strided``.\n",
    "    device (:class:`torch.device`, optional): the desired device of returned tensor.\n",
    "        Default: if ``None``, uses the current device for the default tensor type\n",
    "        (see :func:`torch.set_default_tensor_type`). :attr:`device` will be the CPU\n",
    "        for CPU tensor types and the current CUDA device for CUDA tensor types.\n",
    "    requires_grad (bool, optional): If autograd should record operations on the\n",
    "        returned tensor. Default: ``False``.\n",
    "\n",
    "Example::\n",
    "\n",
    "    >>> torch.rand(4)\n",
    "    tensor([ 0.5204,  0.2503,  0.3525,  0.5673])\n",
    "    >>> torch.rand(2, 3)\n",
    "    tensor([[ 0.8237,  0.5781,  0.6879],\n",
    "            [ 0.3816,  0.7249,  0.0998]])\n",
    "Type:      builtin_function_or_method\n",
    "\"\"\"\n",
    "\n",
    "# [0, 1)之间的均匀分布\n",
    "pass"
   ]
  },
  {
   "cell_type": "code",
   "execution_count": 53,
   "metadata": {},
   "outputs": [
    {
     "data": {
      "text/plain": [
       "tensor([[0.7589, 0.2792, 0.2308],\n",
       "        [0.1568, 0.1513, 0.7230]])"
      ]
     },
     "execution_count": 53,
     "metadata": {},
     "output_type": "execute_result"
    }
   ],
   "source": [
    "torch.rand([2, 3])"
   ]
  },
  {
   "cell_type": "code",
   "execution_count": 50,
   "metadata": {},
   "outputs": [
    {
     "data": {
      "text/plain": [
       "tensor([[0.5647, 0.7497, 0.1139],\n",
       "        [0.1436, 0.9677, 0.3738]])"
      ]
     },
     "execution_count": 50,
     "metadata": {},
     "output_type": "execute_result"
    }
   ],
   "source": [
    "torch.empty([2, 3]).uniform_(0, 1)"
   ]
  },
  {
   "cell_type": "markdown",
   "metadata": {},
   "source": [
    "## torch.randn 标准正态分布"
   ]
  },
  {
   "cell_type": "code",
   "execution_count": 21,
   "metadata": {},
   "outputs": [
    {
     "data": {
      "text/plain": [
       "tensor([[ 1.0449,  0.9979,  0.1418],\n",
       "        [-2.3884, -0.8895,  0.9523]])"
      ]
     },
     "execution_count": 21,
     "metadata": {},
     "output_type": "execute_result"
    }
   ],
   "source": [
    "\"\"\"\n",
    "Docstring:\n",
    "randn(*size, *, out=None, dtype=None, layout=torch.strided, device=None, requires_grad=False) -> Tensor\n",
    "\n",
    "Returns a tensor filled with random numbers from a normal distribution\n",
    "with mean `0` and variance `1` (also called the standard normal\n",
    "distribution).\n",
    "\n",
    ".. math::\n",
    "    \\text{out}_{i} \\sim \\mathcal{N}(0, 1)\n",
    "\n",
    "The shape of the tensor is defined by the variable argument :attr:`size`.\n",
    "\n",
    "Args:\n",
    "    size (int...): a sequence of integers defining the shape of the output tensor.\n",
    "        Can be a variable number of arguments or a collection like a list or tuple.\n",
    "\n",
    "Keyword args:\n",
    "    out (Tensor, optional): the output tensor.\n",
    "    dtype (:class:`torch.dtype`, optional): the desired data type of returned tensor.\n",
    "        Default: if ``None``, uses a global default (see :func:`torch.set_default_tensor_type`).\n",
    "    layout (:class:`torch.layout`, optional): the desired layout of returned Tensor.\n",
    "        Default: ``torch.strided``.\n",
    "    device (:class:`torch.device`, optional): the desired device of returned tensor.\n",
    "        Default: if ``None``, uses the current device for the default tensor type\n",
    "        (see :func:`torch.set_default_tensor_type`). :attr:`device` will be the CPU\n",
    "        for CPU tensor types and the current CUDA device for CUDA tensor types.\n",
    "    requires_grad (bool, optional): If autograd should record operations on the\n",
    "        returned tensor. Default: ``False``.\n",
    "\n",
    "Example::\n",
    "\n",
    "    >>> torch.randn(4)\n",
    "    tensor([-2.1436,  0.9966,  2.3426, -0.6366])\n",
    "    >>> torch.randn(2, 3)\n",
    "    tensor([[ 1.5954,  2.8929, -1.0923],\n",
    "            [ 1.1719, -0.4709, -0.1996]])\n",
    "Type:      builtin_function_or_method\n",
    "\"\"\"\n",
    "\n",
    "# 标准正态分布\n",
    "torch.randn([2, 3])"
   ]
  },
  {
   "cell_type": "markdown",
   "metadata": {},
   "source": [
    "## torch.randint 区间整数随机分布"
   ]
  },
  {
   "cell_type": "code",
   "execution_count": 22,
   "metadata": {},
   "outputs": [
    {
     "data": {
      "text/plain": [
       "tensor([[3, 8, 8],\n",
       "        [7, 9, 1]])"
      ]
     },
     "execution_count": 22,
     "metadata": {},
     "output_type": "execute_result"
    }
   ],
   "source": [
    "\"\"\"\n",
    "Docstring:\n",
    "randint(low=0, high, size, \\*, generator=None, out=None, dtype=None, layout=torch.strided, device=None, requires_grad=False) -> Tensor\n",
    "\n",
    "Returns a tensor filled with random integers generated uniformly\n",
    "between :attr:`low` (inclusive) and :attr:`high` (exclusive).\n",
    "\n",
    "The shape of the tensor is defined by the variable argument :attr:`size`.\n",
    "\n",
    ".. note:\n",
    "    With the global dtype default (``torch.float32``), this function returns\n",
    "    a tensor with dtype ``torch.int64``.\n",
    "\n",
    "Args:\n",
    "    low (int, optional): Lowest integer to be drawn from the distribution. Default: 0.\n",
    "    high (int): One above the highest integer to be drawn from the distribution.\n",
    "    size (tuple): a tuple defining the shape of the output tensor.\n",
    "\n",
    "Keyword args:\n",
    "    generator (:class:`torch.Generator`, optional): a pseudorandom number generator for sampling\n",
    "    out (Tensor, optional): the output tensor.\n",
    "    dtype (:class:`torch.dtype`, optional): the desired data type of returned tensor.\n",
    "        Default: if ``None``, uses a global default (see :func:`torch.set_default_tensor_type`).\n",
    "    layout (:class:`torch.layout`, optional): the desired layout of returned Tensor.\n",
    "        Default: ``torch.strided``.\n",
    "    device (:class:`torch.device`, optional): the desired device of returned tensor.\n",
    "        Default: if ``None``, uses the current device for the default tensor type\n",
    "        (see :func:`torch.set_default_tensor_type`). :attr:`device` will be the CPU\n",
    "        for CPU tensor types and the current CUDA device for CUDA tensor types.\n",
    "    requires_grad (bool, optional): If autograd should record operations on the\n",
    "        returned tensor. Default: ``False``.\n",
    "\n",
    "Example::\n",
    "\n",
    "    >>> torch.randint(3, 5, (3,))\n",
    "    tensor([4, 3, 4])\n",
    "\n",
    "\n",
    "    >>> torch.randint(10, (2, 2))\n",
    "    tensor([[0, 2],\n",
    "            [5, 5]])\n",
    "\n",
    "\n",
    "    >>> torch.randint(3, 10, (2, 2))\n",
    "    tensor([[4, 5],\n",
    "            [6, 7]])\n",
    "Type:      builtin_function_or_method\n",
    "\"\"\"\n",
    "# [low, high)随机整数\n",
    "torch.randint(low=0, high=10, size=[2, 3])"
   ]
  },
  {
   "cell_type": "markdown",
   "metadata": {},
   "source": [
    "## torch.bernoulli 从伯努利分布中提取二进制随机数（0或1）"
   ]
  },
  {
   "cell_type": "markdown",
   "metadata": {},
   "source": [
    "Docstring:\n",
    "bernoulli(input, *, generator=None, out=None) -> Tensor\n",
    "\n",
    "Draws binary random numbers (0 or 1) from a Bernoulli distribution.\n",
    "\n",
    "The :attr:`input` tensor should be a tensor containing probabilities\n",
    "to be used for drawing the binary random number.\n",
    "Hence, all values in :attr:`input` have to be in the range:\n",
    ":math:`0 \\leq \\text{input}_i \\leq 1`.\n",
    "\n",
    "The :math:`\\text{i}^{th}` element of the output tensor will draw a\n",
    "value :math:`1` according to the :math:`\\text{i}^{th}` probability value given\n",
    "in :attr:`input`.\n",
    "\n",
    ".. math::\n",
    "    \\text{out}_{i} \\sim \\mathrm{Bernoulli}(p = \\text{input}_{i})\n",
    "\n",
    "The returned :attr:`out` tensor only has values 0 or 1 and is of the same\n",
    "shape as :attr:`input`.\n",
    "\n",
    ":attr:`out` can have integral ``dtype``, but :attr:`input` must have floating\n",
    "point ``dtype``.\n",
    "\n",
    "Args:\n",
    "    input (Tensor): the input tensor of probability values for the Bernoulli distribution\n",
    "\n",
    "Keyword args:\n",
    "    generator (:class:`torch.Generator`, optional): a pseudorandom number generator for sampling\n",
    "    out (Tensor, optional): the output tensor.\n",
    "\n",
    "Example::\n",
    "\n",
    "    >>> a = torch.empty(3, 3).uniform_(0, 1)  # generate a uniform random matrix with range [0, 1]\n",
    "    >>> a\n",
    "    tensor([[ 0.1737,  0.0950,  0.3609],\n",
    "            [ 0.7148,  0.0289,  0.2676],\n",
    "            [ 0.9456,  0.8937,  0.7202]])\n",
    "    >>> torch.bernoulli(a)\n",
    "    tensor([[ 1.,  0.,  0.],\n",
    "            [ 0.,  0.,  0.],\n",
    "            [ 1.,  1.,  1.]])\n",
    "\n",
    "    >>> a = torch.ones(3, 3) # probability of drawing \"1\" is 1\n",
    "    >>> torch.bernoulli(a)\n",
    "    tensor([[ 1.,  1.,  1.],\n",
    "            [ 1.,  1.,  1.],\n",
    "            [ 1.,  1.,  1.]])\n",
    "    >>> a = torch.zeros(3, 3) # probability of drawing \"1\" is 0\n",
    "    >>> torch.bernoulli(a)\n",
    "    tensor([[ 0.,  0.,  0.],\n",
    "            [ 0.,  0.,  0.],\n",
    "            [ 0.,  0.,  0.]])\n",
    "Type:      builtin_function_or_method"
   ]
  },
  {
   "cell_type": "code",
   "execution_count": 30,
   "metadata": {},
   "outputs": [
    {
     "data": {
      "text/plain": [
       "tensor([[0.4097, 0.6395, 0.4441],\n",
       "        [0.0644, 0.9323, 0.7877],\n",
       "        [0.6428, 0.8769, 0.1398]])"
      ]
     },
     "execution_count": 30,
     "metadata": {},
     "output_type": "execute_result"
    }
   ],
   "source": [
    "torch.ones(3,3).uniform_(0, 1)"
   ]
  },
  {
   "cell_type": "code",
   "execution_count": 35,
   "metadata": {},
   "outputs": [
    {
     "data": {
      "text/plain": [
       "tensor([[0.4031, 0.0478, 0.7641],\n",
       "        [0.2450, 0.5245, 0.2092],\n",
       "        [0.4752, 0.0585, 0.9410]])"
      ]
     },
     "execution_count": 35,
     "metadata": {},
     "output_type": "execute_result"
    }
   ],
   "source": [
    "torch.rand([3, 3]).uniform_(0,1)"
   ]
  },
  {
   "cell_type": "code",
   "execution_count": 68,
   "metadata": {},
   "outputs": [
    {
     "data": {
      "text/plain": [
       "tensor([[1., 0., 1., 1., 1., 0., 1., 1., 1., 1., 0., 1., 1., 1., 0., 1., 1., 1.,\n",
       "         0., 1.]])"
      ]
     },
     "execution_count": 68,
     "metadata": {},
     "output_type": "execute_result"
    }
   ],
   "source": [
    "torch.bernoulli(torch.full([1, 20], 0.8))"
   ]
  },
  {
   "cell_type": "code",
   "execution_count": 83,
   "metadata": {},
   "outputs": [
    {
     "data": {
      "text/plain": [
       "tensor([[1.0000, 3.3000, 6.0000],\n",
       "        [2.0000, 3.0000, 6.4000]])"
      ]
     },
     "execution_count": 83,
     "metadata": {},
     "output_type": "execute_result"
    }
   ],
   "source": [
    "a = torch.tensor([[1.0, 3.3, 6.0],[2,3,6.4]])\n",
    "a"
   ]
  },
  {
   "cell_type": "code",
   "execution_count": 87,
   "metadata": {},
   "outputs": [],
   "source": [
    "aa = a.numpy()"
   ]
  },
  {
   "cell_type": "code",
   "execution_count": 90,
   "metadata": {},
   "outputs": [
    {
     "data": {
      "text/plain": [
       "array([1. , 3.3, 6. ], dtype=float32)"
      ]
     },
     "execution_count": 90,
     "metadata": {},
     "output_type": "execute_result"
    }
   ],
   "source": [
    "aa[0]"
   ]
  },
  {
   "cell_type": "code",
   "execution_count": 91,
   "metadata": {},
   "outputs": [
    {
     "data": {
      "text/plain": [
       "array([2. , 3. , 6.4], dtype=float32)"
      ]
     },
     "execution_count": 91,
     "metadata": {},
     "output_type": "execute_result"
    }
   ],
   "source": [
    "aa[1]"
   ]
  },
  {
   "cell_type": "code",
   "execution_count": 92,
   "metadata": {},
   "outputs": [
    {
     "data": {
      "text/plain": [
       "array([ True, False,  True])"
      ]
     },
     "execution_count": 92,
     "metadata": {},
     "output_type": "execute_result"
    }
   ],
   "source": [
    "aa[0] < aa[1]"
   ]
  },
  {
   "cell_type": "code",
   "execution_count": 95,
   "metadata": {},
   "outputs": [
    {
     "data": {
      "text/plain": [
       "tensor([ True, False,  True])"
      ]
     },
     "execution_count": 95,
     "metadata": {},
     "output_type": "execute_result"
    }
   ],
   "source": [
    "a[0] < a[1]"
   ]
  },
  {
   "cell_type": "code",
   "execution_count": null,
   "metadata": {},
   "outputs": [],
   "source": []
  }
 ],
 "metadata": {
  "kernelspec": {
   "display_name": "Python [conda env:blog] *",
   "language": "python",
   "name": "conda-env-blog-py"
  },
  "language_info": {
   "codemirror_mode": {
    "name": "ipython",
    "version": 3
   },
   "file_extension": ".py",
   "mimetype": "text/x-python",
   "name": "python",
   "nbconvert_exporter": "python",
   "pygments_lexer": "ipython3",
   "version": "3.8.3"
  }
 },
 "nbformat": 4,
 "nbformat_minor": 4
}
