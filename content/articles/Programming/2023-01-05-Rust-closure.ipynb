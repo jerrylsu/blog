{
 "cells": [
  {
   "cell_type": "markdown",
   "id": "2f396242-d25a-4797-8d94-113a24ec7ef9",
   "metadata": {},
   "source": [
    "date: 2023-01-05 14:17:17\n",
    "author: Jerry Su\n",
    "slug: Rust-closure\n",
    "title: Rust closure\n",
    "category: \n",
    "tags: Rust\n",
    "toc: show"
   ]
  },
  {
   "cell_type": "markdown",
   "id": "7b4cc8ce-febe-46af-bc93-f44ba344ee65",
   "metadata": {},
   "source": [
    "闭包：可以捕获其所在作用域中变量的**匿名函数**。"
   ]
  },
  {
   "cell_type": "code",
   "execution_count": null,
   "id": "7e4e2843-f119-4e1f-a724-ae4a1ff1dedd",
   "metadata": {},
   "outputs": [],
   "source": [
    "fn  add_one_v1   (x: u32) -> u32 { x + 1 };\n",
    "let add_one_v2 = |x: u32| -> u32 { x + 1 };\n",
    "let add_one_v3 = |x|             { x + 1 };\n",
    "let add_one_v4 = |x|               x + 1  ;"
   ]
  },
  {
   "cell_type": "markdown",
   "id": "731e2f37-cac6-4288-a5e0-3c0374e50284",
   "metadata": {},
   "source": [
    "- 调用方式与函数调用相同，输入和返回类型可以省略。\n",
    "\n",
    "- 声明时使用 || 替代 () 将输入参数括起来。\n",
    "\n",
    "- 函数体定界符（{}）对于单个表达式是可选的，其他情况必须加上。"
   ]
  },
  {
   "cell_type": "code",
   "execution_count": 40,
   "id": "7348657b-aa49-4b74-935c-951c3c343bb2",
   "metadata": {},
   "outputs": [
    {
     "name": "stdout",
     "output_type": "stream",
     "text": [
      "x: 1001\n"
     ]
    },
    {
     "data": {
      "text/plain": [
       "()"
      ]
     },
     "execution_count": 40,
     "metadata": {},
     "output_type": "execute_result"
    }
   ],
   "source": [
    "fn test_closure() {\n",
    "    let MAX = 1000;\n",
    "    let closure = |i: u32| i + MAX;\n",
    "    let x = 1;\n",
    "    println!(\"x: {}\", closure(x));\n",
    "}\n",
    "\n",
    "test_closure()"
   ]
  },
  {
   "cell_type": "markdown",
   "id": "c3399f3f-a8de-463d-98af-98240b8477d7",
   "metadata": {},
   "source": [
    "- 是匿名函数。\n",
    "\n",
    "- 保存为变量、作为函数参数。\n",
    "\n",
    "- 可以从定义的作用域中捕获变量值。"
   ]
  }
 ],
 "metadata": {
  "kernelspec": {
   "display_name": "Rust",
   "language": "rust",
   "name": "rust"
  },
  "language_info": {
   "codemirror_mode": "rust",
   "file_extension": ".rs",
   "mimetype": "text/rust",
   "name": "Rust",
   "pygment_lexer": "rust",
   "version": ""
  }
 },
 "nbformat": 4,
 "nbformat_minor": 5
}
