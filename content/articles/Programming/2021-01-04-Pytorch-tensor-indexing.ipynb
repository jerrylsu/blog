{
 "cells": [
  {
   "cell_type": "markdown",
   "metadata": {},
   "source": [
    "- date: 2021-02-07 12:17:17\n",
    "- author: Jerry Su\n",
    "- slug: Pytorch-fancy-indexing\n",
    "- title: Pytorch fancy indexing\n",
    "- category: \n",
    "- tags: Deep Learning, Pytorch"
   ]
  },
  {
   "cell_type": "markdown",
   "metadata": {},
   "source": [
    "花式索引\n",
    "\n",
    "组合索引\n",
    "\n",
    "与numpy索引方式几乎一致，参考numpy学习"
   ]
  },
  {
   "cell_type": "code",
   "execution_count": 2,
   "metadata": {},
   "outputs": [],
   "source": [
    "import torch"
   ]
  },
  {
   "cell_type": "code",
   "execution_count": 3,
   "metadata": {},
   "outputs": [
    {
     "data": {
      "text/plain": [
       "tensor([[[[-0.2096, -0.8310, -1.8711,  1.1091,  0.5516],\n",
       "          [-1.7147,  0.6284,  1.1678, -0.0480,  0.7345],\n",
       "          [-0.5088,  0.5154,  1.0333,  0.3668,  0.2949],\n",
       "          [ 0.3878, -0.2964, -0.4628, -1.4881, -1.6214]],\n",
       "\n",
       "         [[ 0.0532, -0.5963,  0.1805, -1.2680, -0.2646],\n",
       "          [ 0.9491, -0.7774,  0.7410, -0.1786, -0.4206],\n",
       "          [ 0.2872,  1.1646, -1.9954,  0.3838, -0.3317],\n",
       "          [-1.3592, -1.5718, -0.0257,  0.6412,  0.0993]],\n",
       "\n",
       "         [[ 0.1774,  3.0720,  0.9011,  1.3693,  0.7278],\n",
       "          [-1.6449, -0.3193,  0.5999,  1.1898, -0.4057],\n",
       "          [-0.3667, -0.2128,  0.3321, -1.5074, -1.4375],\n",
       "          [-0.1333, -0.5582,  0.3205,  1.0068, -0.4006]]]])"
      ]
     },
     "execution_count": 3,
     "metadata": {},
     "output_type": "execute_result"
    }
   ],
   "source": [
    "x = torch.randn(1, 3, 4, 5)\n",
    "x"
   ]
  },
  {
   "cell_type": "code",
   "execution_count": null,
   "metadata": {},
   "outputs": [],
   "source": []
  }
 ],
 "metadata": {
  "kernelspec": {
   "display_name": "Python [conda env:blog]",
   "language": "python",
   "name": "conda-env-blog-py"
  },
  "language_info": {
   "codemirror_mode": {
    "name": "ipython",
    "version": 3
   },
   "file_extension": ".py",
   "mimetype": "text/x-python",
   "name": "python",
   "nbconvert_exporter": "python",
   "pygments_lexer": "ipython3",
   "version": "3.8.3"
  }
 },
 "nbformat": 4,
 "nbformat_minor": 4
}
