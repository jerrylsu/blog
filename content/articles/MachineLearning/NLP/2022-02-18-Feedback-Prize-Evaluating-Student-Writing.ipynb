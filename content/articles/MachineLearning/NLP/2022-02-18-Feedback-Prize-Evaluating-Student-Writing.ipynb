{
 "cells": [
  {
   "cell_type": "markdown",
   "metadata": {},
   "source": [
    "- date: 2022-02-18 11:17:17\n",
    "- author: Jerry Su\n",
    "- slug: Feedback-Prize-Evaluating-Student-Writing\n",
    "- title: Feedback-Pr?ize-Evaluating-Student-Writing\n",
    "- category:\n",
    "- tags: NLP"
   ]
  },
  {
   "cell_type": "code",
   "execution_count": 29,
   "metadata": {},
   "outputs": [],
   "source": [
    "import pandas as pd\n",
    "import os\n",
    "import tqdm"
   ]
  },
  {
   "cell_type": "markdown",
   "metadata": {},
   "source": [
    "## EDA\n",
    "\n",
    "https://www.kaggle.com/robikscube/student-writing-competition-twitch-stream?scriptVersionId=83303421"
   ]
  },
  {
   "cell_type": "code",
   "execution_count": 37,
   "metadata": {},
   "outputs": [],
   "source": [
    "df = pd.read_csv('/root/.cache/data/train.csv')"
   ]
  },
  {
   "cell_type": "code",
   "execution_count": 44,
   "metadata": {},
   "outputs": [
    {
     "data": {
      "text/html": [
       "<div>\n",
       "<style scoped>\n",
       "    .dataframe tbody tr th:only-of-type {\n",
       "        vertical-align: middle;\n",
       "    }\n",
       "\n",
       "    .dataframe tbody tr th {\n",
       "        vertical-align: top;\n",
       "    }\n",
       "\n",
       "    .dataframe thead th {\n",
       "        text-align: right;\n",
       "    }\n",
       "</style>\n",
       "<table border=\"1\" class=\"dataframe\">\n",
       "  <thead>\n",
       "    <tr style=\"text-align: right;\">\n",
       "      <th></th>\n",
       "      <th>id</th>\n",
       "      <th>discourse_id</th>\n",
       "      <th>discourse_start</th>\n",
       "      <th>discourse_end</th>\n",
       "      <th>discourse_text</th>\n",
       "      <th>discourse_type</th>\n",
       "      <th>discourse_type_num</th>\n",
       "      <th>predictionstring</th>\n",
       "    </tr>\n",
       "  </thead>\n",
       "  <tbody>\n",
       "    <tr>\n",
       "      <th>30713</th>\n",
       "      <td>92C09304882D</td>\n",
       "      <td>1.615603e+12</td>\n",
       "      <td>117.0</td>\n",
       "      <td>124.0</td>\n",
       "      <td>family,</td>\n",
       "      <td>Claim</td>\n",
       "      <td>Claim 2</td>\n",
       "      <td>22</td>\n",
       "    </tr>\n",
       "    <tr>\n",
       "      <th>30714</th>\n",
       "      <td>92C09304882D</td>\n",
       "      <td>1.615603e+12</td>\n",
       "      <td>124.0</td>\n",
       "      <td>130.0</td>\n",
       "      <td>money,</td>\n",
       "      <td>Claim</td>\n",
       "      <td>Claim 3</td>\n",
       "      <td>22</td>\n",
       "    </tr>\n",
       "    <tr>\n",
       "      <th>143325</th>\n",
       "      <td>15F434699355</td>\n",
       "      <td>1.617986e+12</td>\n",
       "      <td>201.0</td>\n",
       "      <td>210.0</td>\n",
       "      <td>knowledge</td>\n",
       "      <td>Claim</td>\n",
       "      <td>Claim 2</td>\n",
       "      <td>31</td>\n",
       "    </tr>\n",
       "    <tr>\n",
       "      <th>143326</th>\n",
       "      <td>15F434699355</td>\n",
       "      <td>1.617986e+12</td>\n",
       "      <td>215.0</td>\n",
       "      <td>228.0</td>\n",
       "      <td>environment.</td>\n",
       "      <td>Claim</td>\n",
       "      <td>Claim 3</td>\n",
       "      <td>31</td>\n",
       "    </tr>\n",
       "  </tbody>\n",
       "</table>\n",
       "</div>"
      ],
      "text/plain": [
       "                  id  discourse_id  discourse_start  discourse_end  \\\n",
       "30713   92C09304882D  1.615603e+12            117.0          124.0   \n",
       "30714   92C09304882D  1.615603e+12            124.0          130.0   \n",
       "143325  15F434699355  1.617986e+12            201.0          210.0   \n",
       "143326  15F434699355  1.617986e+12            215.0          228.0   \n",
       "\n",
       "       discourse_text discourse_type discourse_type_num predictionstring  \n",
       "30713         family,          Claim            Claim 2               22  \n",
       "30714          money,          Claim            Claim 3               22  \n",
       "143325      knowledge          Claim            Claim 2               31  \n",
       "143326  environment.           Claim            Claim 3               31  "
      ]
     },
     "execution_count": 44,
     "metadata": {},
     "output_type": "execute_result"
    }
   ],
   "source": [
    "# Examples where the same `prediction string has two label.\n",
    "df = df.loc[df[[\"id\", \"discourse_type\", \"predictionstring\"]].duplicated(keep=False)][\n",
    "    [\n",
    "        \"id\",\n",
    "        \"discourse_id\",\n",
    "        \"discourse_start\",\n",
    "        \"discourse_end\",\n",
    "        \"discourse_text\",\n",
    "        \"discourse_type\",\n",
    "        \"discourse_type_num\",\n",
    "        \"predictionstring\",\n",
    "    ]\n",
    "]\n",
    "df"
   ]
  },
  {
   "cell_type": "code",
   "execution_count": 56,
   "metadata": {},
   "outputs": [
    {
     "ename": "KeyError",
     "evalue": "0",
     "output_type": "error",
     "traceback": [
      "\u001b[0;31m---------------------------------------------------------------------------\u001b[0m",
      "\u001b[0;31mKeyError\u001b[0m                                  Traceback (most recent call last)",
      "\u001b[0;32m/opt/conda/envs/blog/lib/python3.8/site-packages/pandas/core/indexes/base.py\u001b[0m in \u001b[0;36mget_loc\u001b[0;34m(self, key, method, tolerance)\u001b[0m\n\u001b[1;32m   3079\u001b[0m             \u001b[0;32mtry\u001b[0m\u001b[0;34m:\u001b[0m\u001b[0;34m\u001b[0m\u001b[0;34m\u001b[0m\u001b[0m\n\u001b[0;32m-> 3080\u001b[0;31m                 \u001b[0;32mreturn\u001b[0m \u001b[0mself\u001b[0m\u001b[0;34m.\u001b[0m\u001b[0m_engine\u001b[0m\u001b[0;34m.\u001b[0m\u001b[0mget_loc\u001b[0m\u001b[0;34m(\u001b[0m\u001b[0mcasted_key\u001b[0m\u001b[0;34m)\u001b[0m\u001b[0;34m\u001b[0m\u001b[0;34m\u001b[0m\u001b[0m\n\u001b[0m\u001b[1;32m   3081\u001b[0m             \u001b[0;32mexcept\u001b[0m \u001b[0mKeyError\u001b[0m \u001b[0;32mas\u001b[0m \u001b[0merr\u001b[0m\u001b[0;34m:\u001b[0m\u001b[0;34m\u001b[0m\u001b[0;34m\u001b[0m\u001b[0m\n",
      "\u001b[0;32mpandas/_libs/index.pyx\u001b[0m in \u001b[0;36mpandas._libs.index.IndexEngine.get_loc\u001b[0;34m()\u001b[0m\n",
      "\u001b[0;32mpandas/_libs/index.pyx\u001b[0m in \u001b[0;36mpandas._libs.index.IndexEngine.get_loc\u001b[0;34m()\u001b[0m\n",
      "\u001b[0;32mpandas/_libs/hashtable_class_helper.pxi\u001b[0m in \u001b[0;36mpandas._libs.hashtable.Int64HashTable.get_item\u001b[0;34m()\u001b[0m\n",
      "\u001b[0;32mpandas/_libs/hashtable_class_helper.pxi\u001b[0m in \u001b[0;36mpandas._libs.hashtable.Int64HashTable.get_item\u001b[0;34m()\u001b[0m\n",
      "\u001b[0;31mKeyError\u001b[0m: 0",
      "\nThe above exception was the direct cause of the following exception:\n",
      "\u001b[0;31mKeyError\u001b[0m                                  Traceback (most recent call last)",
      "\u001b[0;32m/tmp/ipykernel_25800/3567152749.py\u001b[0m in \u001b[0;36m<module>\u001b[0;34m\u001b[0m\n\u001b[0;32m----> 1\u001b[0;31m \u001b[0mdf\u001b[0m\u001b[0;34m[\u001b[0m\u001b[0;34m'predictionstring'\u001b[0m\u001b[0;34m]\u001b[0m\u001b[0;34m[\u001b[0m\u001b[0;36m0\u001b[0m\u001b[0;34m]\u001b[0m\u001b[0;34m\u001b[0m\u001b[0;34m\u001b[0m\u001b[0m\n\u001b[0m",
      "\u001b[0;32m/opt/conda/envs/blog/lib/python3.8/site-packages/pandas/core/series.py\u001b[0m in \u001b[0;36m__getitem__\u001b[0;34m(self, key)\u001b[0m\n\u001b[1;32m    822\u001b[0m \u001b[0;34m\u001b[0m\u001b[0m\n\u001b[1;32m    823\u001b[0m         \u001b[0;32melif\u001b[0m \u001b[0mkey_is_scalar\u001b[0m\u001b[0;34m:\u001b[0m\u001b[0;34m\u001b[0m\u001b[0;34m\u001b[0m\u001b[0m\n\u001b[0;32m--> 824\u001b[0;31m             \u001b[0;32mreturn\u001b[0m \u001b[0mself\u001b[0m\u001b[0;34m.\u001b[0m\u001b[0m_get_value\u001b[0m\u001b[0;34m(\u001b[0m\u001b[0mkey\u001b[0m\u001b[0;34m)\u001b[0m\u001b[0;34m\u001b[0m\u001b[0;34m\u001b[0m\u001b[0m\n\u001b[0m\u001b[1;32m    825\u001b[0m \u001b[0;34m\u001b[0m\u001b[0m\n\u001b[1;32m    826\u001b[0m         \u001b[0;32mif\u001b[0m \u001b[0mis_hashable\u001b[0m\u001b[0;34m(\u001b[0m\u001b[0mkey\u001b[0m\u001b[0;34m)\u001b[0m\u001b[0;34m:\u001b[0m\u001b[0;34m\u001b[0m\u001b[0;34m\u001b[0m\u001b[0m\n",
      "\u001b[0;32m/opt/conda/envs/blog/lib/python3.8/site-packages/pandas/core/series.py\u001b[0m in \u001b[0;36m_get_value\u001b[0;34m(self, label, takeable)\u001b[0m\n\u001b[1;32m    930\u001b[0m \u001b[0;34m\u001b[0m\u001b[0m\n\u001b[1;32m    931\u001b[0m         \u001b[0;31m# Similar to Index.get_value, but we do not fall back to positional\u001b[0m\u001b[0;34m\u001b[0m\u001b[0;34m\u001b[0m\u001b[0;34m\u001b[0m\u001b[0m\n\u001b[0;32m--> 932\u001b[0;31m         \u001b[0mloc\u001b[0m \u001b[0;34m=\u001b[0m \u001b[0mself\u001b[0m\u001b[0;34m.\u001b[0m\u001b[0mindex\u001b[0m\u001b[0;34m.\u001b[0m\u001b[0mget_loc\u001b[0m\u001b[0;34m(\u001b[0m\u001b[0mlabel\u001b[0m\u001b[0;34m)\u001b[0m\u001b[0;34m\u001b[0m\u001b[0;34m\u001b[0m\u001b[0m\n\u001b[0m\u001b[1;32m    933\u001b[0m         \u001b[0;32mreturn\u001b[0m \u001b[0mself\u001b[0m\u001b[0;34m.\u001b[0m\u001b[0mindex\u001b[0m\u001b[0;34m.\u001b[0m\u001b[0m_get_values_for_loc\u001b[0m\u001b[0;34m(\u001b[0m\u001b[0mself\u001b[0m\u001b[0;34m,\u001b[0m \u001b[0mloc\u001b[0m\u001b[0;34m,\u001b[0m \u001b[0mlabel\u001b[0m\u001b[0;34m)\u001b[0m\u001b[0;34m\u001b[0m\u001b[0;34m\u001b[0m\u001b[0m\n\u001b[1;32m    934\u001b[0m \u001b[0;34m\u001b[0m\u001b[0m\n",
      "\u001b[0;32m/opt/conda/envs/blog/lib/python3.8/site-packages/pandas/core/indexes/base.py\u001b[0m in \u001b[0;36mget_loc\u001b[0;34m(self, key, method, tolerance)\u001b[0m\n\u001b[1;32m   3080\u001b[0m                 \u001b[0;32mreturn\u001b[0m \u001b[0mself\u001b[0m\u001b[0;34m.\u001b[0m\u001b[0m_engine\u001b[0m\u001b[0;34m.\u001b[0m\u001b[0mget_loc\u001b[0m\u001b[0;34m(\u001b[0m\u001b[0mcasted_key\u001b[0m\u001b[0;34m)\u001b[0m\u001b[0;34m\u001b[0m\u001b[0;34m\u001b[0m\u001b[0m\n\u001b[1;32m   3081\u001b[0m             \u001b[0;32mexcept\u001b[0m \u001b[0mKeyError\u001b[0m \u001b[0;32mas\u001b[0m \u001b[0merr\u001b[0m\u001b[0;34m:\u001b[0m\u001b[0;34m\u001b[0m\u001b[0;34m\u001b[0m\u001b[0m\n\u001b[0;32m-> 3082\u001b[0;31m                 \u001b[0;32mraise\u001b[0m \u001b[0mKeyError\u001b[0m\u001b[0;34m(\u001b[0m\u001b[0mkey\u001b[0m\u001b[0;34m)\u001b[0m \u001b[0;32mfrom\u001b[0m \u001b[0merr\u001b[0m\u001b[0;34m\u001b[0m\u001b[0;34m\u001b[0m\u001b[0m\n\u001b[0m\u001b[1;32m   3083\u001b[0m \u001b[0;34m\u001b[0m\u001b[0m\n\u001b[1;32m   3084\u001b[0m         \u001b[0;32mif\u001b[0m \u001b[0mtolerance\u001b[0m \u001b[0;32mis\u001b[0m \u001b[0;32mnot\u001b[0m \u001b[0;32mNone\u001b[0m\u001b[0;34m:\u001b[0m\u001b[0;34m\u001b[0m\u001b[0;34m\u001b[0m\u001b[0m\n",
      "\u001b[0;31mKeyError\u001b[0m: 0"
     ]
    }
   ],
   "source": []
  },
  {
   "cell_type": "code",
   "execution_count": 31,
   "metadata": {},
   "outputs": [
    {
     "data": {
      "text/html": [
       "<div>\n",
       "<style scoped>\n",
       "    .dataframe tbody tr th:only-of-type {\n",
       "        vertical-align: middle;\n",
       "    }\n",
       "\n",
       "    .dataframe tbody tr th {\n",
       "        vertical-align: top;\n",
       "    }\n",
       "\n",
       "    .dataframe thead th {\n",
       "        text-align: right;\n",
       "    }\n",
       "</style>\n",
       "<table border=\"1\" class=\"dataframe\">\n",
       "  <thead>\n",
       "    <tr style=\"text-align: right;\">\n",
       "      <th></th>\n",
       "      <th>id</th>\n",
       "      <th>discourse_id</th>\n",
       "      <th>discourse_start</th>\n",
       "      <th>discourse_end</th>\n",
       "      <th>discourse_text</th>\n",
       "      <th>discourse_type</th>\n",
       "      <th>discourse_type_num</th>\n",
       "      <th>predictionstring</th>\n",
       "    </tr>\n",
       "  </thead>\n",
       "  <tbody>\n",
       "    <tr>\n",
       "      <th>0</th>\n",
       "      <td>423A1CA112E2</td>\n",
       "      <td>1.622628e+12</td>\n",
       "      <td>8.0</td>\n",
       "      <td>229.0</td>\n",
       "      <td>Modern humans today are always on their phone....</td>\n",
       "      <td>Lead</td>\n",
       "      <td>Lead 1</td>\n",
       "      <td>1 2 3 4 5 6 7 8 9 10 11 12 13 14 15 16 17 18 1...</td>\n",
       "    </tr>\n",
       "    <tr>\n",
       "      <th>1</th>\n",
       "      <td>423A1CA112E2</td>\n",
       "      <td>1.622628e+12</td>\n",
       "      <td>230.0</td>\n",
       "      <td>312.0</td>\n",
       "      <td>They are some really bad consequences when stu...</td>\n",
       "      <td>Position</td>\n",
       "      <td>Position 1</td>\n",
       "      <td>45 46 47 48 49 50 51 52 53 54 55 56 57 58 59</td>\n",
       "    </tr>\n",
       "    <tr>\n",
       "      <th>2</th>\n",
       "      <td>423A1CA112E2</td>\n",
       "      <td>1.622628e+12</td>\n",
       "      <td>313.0</td>\n",
       "      <td>401.0</td>\n",
       "      <td>Some certain areas in the United States ban ph...</td>\n",
       "      <td>Evidence</td>\n",
       "      <td>Evidence 1</td>\n",
       "      <td>60 61 62 63 64 65 66 67 68 69 70 71 72 73 74 75</td>\n",
       "    </tr>\n",
       "    <tr>\n",
       "      <th>3</th>\n",
       "      <td>423A1CA112E2</td>\n",
       "      <td>1.622628e+12</td>\n",
       "      <td>402.0</td>\n",
       "      <td>758.0</td>\n",
       "      <td>When people have phones, they know about certa...</td>\n",
       "      <td>Evidence</td>\n",
       "      <td>Evidence 2</td>\n",
       "      <td>76 77 78 79 80 81 82 83 84 85 86 87 88 89 90 9...</td>\n",
       "    </tr>\n",
       "    <tr>\n",
       "      <th>4</th>\n",
       "      <td>423A1CA112E2</td>\n",
       "      <td>1.622628e+12</td>\n",
       "      <td>759.0</td>\n",
       "      <td>886.0</td>\n",
       "      <td>Driving is one of the way how to get around. P...</td>\n",
       "      <td>Claim</td>\n",
       "      <td>Claim 1</td>\n",
       "      <td>139 140 141 142 143 144 145 146 147 148 149 15...</td>\n",
       "    </tr>\n",
       "  </tbody>\n",
       "</table>\n",
       "</div>"
      ],
      "text/plain": [
       "             id  discourse_id  discourse_start  discourse_end  \\\n",
       "0  423A1CA112E2  1.622628e+12              8.0          229.0   \n",
       "1  423A1CA112E2  1.622628e+12            230.0          312.0   \n",
       "2  423A1CA112E2  1.622628e+12            313.0          401.0   \n",
       "3  423A1CA112E2  1.622628e+12            402.0          758.0   \n",
       "4  423A1CA112E2  1.622628e+12            759.0          886.0   \n",
       "\n",
       "                                      discourse_text discourse_type  \\\n",
       "0  Modern humans today are always on their phone....           Lead   \n",
       "1  They are some really bad consequences when stu...       Position   \n",
       "2  Some certain areas in the United States ban ph...       Evidence   \n",
       "3  When people have phones, they know about certa...       Evidence   \n",
       "4  Driving is one of the way how to get around. P...          Claim   \n",
       "\n",
       "  discourse_type_num                                   predictionstring  \n",
       "0             Lead 1  1 2 3 4 5 6 7 8 9 10 11 12 13 14 15 16 17 18 1...  \n",
       "1         Position 1       45 46 47 48 49 50 51 52 53 54 55 56 57 58 59  \n",
       "2         Evidence 1    60 61 62 63 64 65 66 67 68 69 70 71 72 73 74 75  \n",
       "3         Evidence 2  76 77 78 79 80 81 82 83 84 85 86 87 88 89 90 9...  \n",
       "4            Claim 1  139 140 141 142 143 144 145 146 147 148 149 15...  "
      ]
     },
     "execution_count": 31,
     "metadata": {},
     "output_type": "execute_result"
    }
   ],
   "source": [
    "df.head()"
   ]
  },
  {
   "cell_type": "code",
   "execution_count": 32,
   "metadata": {},
   "outputs": [
    {
     "data": {
      "text/plain": [
       "array(['Lead', 'Position', 'Evidence', 'Claim', 'Concluding Statement',\n",
       "       'Counterclaim', 'Rebuttal'], dtype=object)"
      ]
     },
     "execution_count": 32,
     "metadata": {},
     "output_type": "execute_result"
    }
   ],
   "source": [
    "df['discourse_type'].unique()"
   ]
  },
  {
   "cell_type": "code",
   "execution_count": 35,
   "metadata": {},
   "outputs": [
    {
     "data": {
      "text/plain": [
       "array(['Lead 1', 'Position 1', 'Evidence 1', 'Evidence 2', 'Claim 1',\n",
       "       'Evidence 3', 'Evidence 4', 'Claim 2', 'Evidence 5',\n",
       "       'Concluding Statement 1', 'Counterclaim 1', 'Rebuttal 1',\n",
       "       'Claim 3', 'Claim 4', 'Claim 5', 'Claim 6', 'Claim 7',\n",
       "       'Counterclaim 2', 'Rebuttal 2', 'Counterclaim 3', 'Rebuttal 3',\n",
       "       'Evidence 6', 'Lead 2', 'Counterclaim 4', 'Counterclaim 5',\n",
       "       'Counterclaim 6', 'Evidence 7', 'Claim 8', 'Evidence 8',\n",
       "       'Concluding Statement 2', 'Rebuttal 4', 'Rebuttal 5', 'Claim 9',\n",
       "       'Position 2', 'Claim 10', 'Claim 11', 'Claim 12', 'Evidence 9',\n",
       "       'Concluding Statement 3', 'Concluding Statement 4', 'Evidence 10',\n",
       "       'Evidence 11', 'Rebuttal 6', 'Evidence 12'], dtype=object)"
      ]
     },
     "execution_count": 35,
     "metadata": {},
     "output_type": "execute_result"
    }
   ],
   "source": [
    "s = df['discourse_type_num'].unique()\n",
    "s"
   ]
  },
  {
   "cell_type": "code",
   "execution_count": 5,
   "metadata": {},
   "outputs": [
    {
     "data": {
      "text/plain": [
       "15594"
      ]
     },
     "execution_count": 5,
     "metadata": {},
     "output_type": "execute_result"
    }
   ],
   "source": [
    "ids = df['id'].unique()\n",
    "ids.size"
   ]
  },
  {
   "cell_type": "code",
   "execution_count": 27,
   "metadata": {},
   "outputs": [],
   "source": [
    "def get_instance_with_row(df, idx: int):\n",
    "    row = df.loc[idx].to_dict()\n",
    "    file_name = os.path.join('/root/.cache/data/train', row['id'] + '.txt')\n",
    "    with open(file_name, 'r') as fp:\n",
    "        text = fp.read()\n",
    "    row['text'] = text\n",
    "    pred_ls =  row['predictionstring'].split(' ')\n",
    "    row['start_word'], row['end_word'] = int(pred_ls[0]), int(pred_ls[-1])\n",
    "    row['discourse_words'] = ' '.join(text.split()[row['start_word']:row['end_word'] + 1])\n",
    "    return row                                  "
   ]
  },
  {
   "cell_type": "code",
   "execution_count": 28,
   "metadata": {},
   "outputs": [
    {
     "data": {
      "text/plain": [
       "{'id': '423A1CA112E2',\n",
       " 'discourse_id': 1622627653021.0,\n",
       " 'discourse_start': 230.0,\n",
       " 'discourse_end': 312.0,\n",
       " 'discourse_text': 'They are some really bad consequences when stuff happens when it comes to a phone.',\n",
       " 'discourse_type': 'Position',\n",
       " 'discourse_type_num': 'Position 1',\n",
       " 'predictionstring': '45 46 47 48 49 50 51 52 53 54 55 56 57 58 59',\n",
       " 'text': \"Phones\\n\\nModern humans today are always on their phone. They are always on their phone more than 5 hours a day no stop .All they do is text back and forward and just have group Chats on social media. They even do it while driving. They are some really bad consequences when stuff happens when it comes to a phone. Some certain areas in the United States ban phones from class rooms just because of it.\\n\\nWhen people have phones, they know about certain apps that they have .Apps like Facebook Twitter Instagram and Snapchat. So like if a friend moves away and you want to be in contact you can still be in contact by posting videos or text messages. People always have different ways how to communicate with a phone. Phones have changed due to our generation.\\n\\nDriving is one of the way how to get around. People always be on their phones while doing it. Which can cause serious Problems. That's why there's a thing that's called no texting while driving. That's a really important thing to remember. Some people still do it because they think It's stupid. No matter what they do they still have to obey it because that's the only way how did he save.\\n\\nSometimes on the news there is either an accident or a suicide. It might involve someone not looking where they're going or tweet that someone sent. It either injury or death. If a mysterious number says I'm going to kill you and they know where you live but you don't know the person's contact\\n\\n,It makes you puzzled and make you start to freak out. Which can end up really badly.\\n\\nPhones are fine to use and it's also the best way to come over help. If you go through a problem and you can't find help you ,always have a phone there with you. Even though phones are used almost every day as long as you're safe it would come into use if you get into trouble. Make sure you do not be like this phone while you're in the middle of driving. The news always updated when people do something stupid around that involves their phones. The safest way is the best way to stay safe.    \",\n",
       " 'start_word': 45,\n",
       " 'end_word': 59,\n",
       " 'discourse_words': 'They are some really bad consequences when stuff happens when it comes to a phone.'}"
      ]
     },
     "execution_count": 28,
     "metadata": {},
     "output_type": "execute_result"
    }
   ],
   "source": [
    "instance = get_instance_with_row(df, 1)\n",
    "instance"
   ]
  },
  {
   "cell_type": "code",
   "execution_count": 20,
   "metadata": {},
   "outputs": [
    {
     "name": "stderr",
     "output_type": "stream",
     "text": [
      "Special tokens have been added in the vocabulary, make sure the associated word embeddings are fine-tuned or trained.\n"
     ]
    }
   ],
   "source": [
    "from transformers import BigBirdTokenizerFast\n",
    "tokenizer = BigBirdTokenizerFast.from_pretrained('allenai/longformer-large-4096')\n",
    "\n",
    "\n",
    "def mapping_word_to_token(word_ids, word_start, word_end):\n",
    "    token_start, token_end = -1, -1\n",
    "    for idx, word_id in enumerate(word_ids):\n",
    "        if word_id == word_start:\n",
    "            token_start = idx\n",
    "            break\n",
    "    for idx, word_id in enumerate(word_ids):\n",
    "        if word_id == word_end:\n",
    "            token_end = idx\n",
    "    return token_start, token_end"
   ]
  },
  {
   "cell_type": "code",
   "execution_count": null,
   "metadata": {},
   "outputs": [],
   "source": []
  },
  {
   "cell_type": "code",
   "execution_count": null,
   "metadata": {},
   "outputs": [],
   "source": []
  },
  {
   "cell_type": "code",
   "execution_count": 10,
   "metadata": {},
   "outputs": [],
   "source": [
    "text = instance['text']"
   ]
  },
  {
   "cell_type": "code",
   "execution_count": null,
   "metadata": {},
   "outputs": [],
   "source": [
    "ss.split()"
   ]
  },
  {
   "cell_type": "code",
   "execution_count": null,
   "metadata": {},
   "outputs": [],
   "source": []
  },
  {
   "cell_type": "markdown",
   "metadata": {},
   "source": [
    "### (discourse_start, discourse_end) 与 predictionstring时什么关系？"
   ]
  },
  {
   "cell_type": "code",
   "execution_count": null,
   "metadata": {},
   "outputs": [],
   "source": [
    "\n",
    "def stat_relation(df):\n",
    "    cnt = 0\n",
    "    stat = {}\n",
    "    err = []\n",
    "    for idx, item in tqdm.tqdm(df.iterrows()):\n",
    "        id_, discourse_id, start, end, discourse_text, type_, type_num, pred_str = item\n",
    "        file_name = os.path.join('/root/.cache/data/train', id_ + '.txt')\n",
    "        with open(file_name, 'r') as fp:\n",
    "            text = fp.read()\n",
    "        \n",
    "        #print(discourse_text)\n",
    "        # text using char.\n",
    "        text_with_char = text[int(start):int(end)]\n",
    "        \n",
    "        if discourse_text != text_with_char:\n",
    "            text_with_char = text[int(start):int(end) - 1]\n",
    "            if discourse_text[:-1] == text_with_char:\n",
    "                stat['char'] = stat.get('char', 0) + 1\n",
    "            else:\n",
    "                err.append(idx)\n",
    "        else:\n",
    "            stat['char'] = stat.get('char', 0) + 1\n",
    "            \n",
    "        cnt += 1\n",
    "        if cnt == 6000000:\n",
    "            break\n",
    "\n",
    "    return stat\n",
    "        \n",
    "\n",
    "stat_relation(df)"
   ]
  },
  {
   "cell_type": "markdown",
   "metadata": {},
   "source": [
    "## 统计predstring正确数"
   ]
  },
  {
   "cell_type": "code",
   "execution_count": 16,
   "metadata": {},
   "outputs": [
    {
     "name": "stderr",
     "output_type": "stream",
     "text": [
      "49it [00:00, 612.29it/s]"
     ]
    },
    {
     "name": "stdout",
     "output_type": "stream",
     "text": [
      "========================================================================================================================================================================================================\n",
      "Some certain areas in the United States ban phones from class rooms just because of it. \n",
      "\n",
      "Some certain areas in the United States ban phones from class rooms just because of it.\n",
      "========================================================================================================================================================================================================\n",
      "========================================================================================================================================================================================================\n",
      "When people have phones, they know about certain apps that they have .Apps like Facebook Twitter Instagram and Snapchat. So like if a friend moves away and you want to be in contact you can still be in contact by posting videos or text messages. People always have different ways how to communicate with a phone. Phones have changed due to our generation. \n",
      "\n",
      "When people have phones, they know about certain apps that they have .Apps like Facebook Twitter Instagram and Snapchat. So like if a friend moves away and you want to be in contact you can still be in contact by posting videos or text messages. People always have different ways how to communicate with a phone. Phones have changed due to our generation.\n",
      "========================================================================================================================================================================================================\n",
      "========================================================================================================================================================================================================\n",
      "That's why there's a thing that's called no texting while driving. That's a really important thing to remember. Some people still do it because they think It's stupid. No matter what they do they still have to obey it because that's the only way how did he save. \n",
      "\n",
      "That's why there's a thing that's called no texting while driving. That's a really important thing to remember. Some people still do it because they think It's stupid. No matter what they do they still have to obey it because that's the only way how did he save.\n",
      "========================================================================================================================================================================================================\n",
      "========================================================================================================================================================================================================\n",
      "Sometimes on the news there is either an accident or a suicide. It might involve someone not looking where they're going or tweet that someone sent. It either injury or death. If a mysterious number says I'm going to kill you and they know where you live but you don't know the person's contact\n",
      "\n",
      ",It makes you puzzled and make you start to freak out. Which can end up really badly. \n",
      "\n",
      "Sometimes on the news there is either an accident or a suicide. It might involve someone not looking where they're going or tweet that someone sent. It either injury or death. If a mysterious number says I'm going to kill you and they know where you live but you don't know the person's contact ,It makes you puzzled and make you start to freak out. Which can end up really badly.\n",
      "========================================================================================================================================================================================================\n",
      "========================================================================================================================================================================================================\n",
      "The news always updated when people do something stupid around that involves their phones. The safest way is the best way to stay safe. \n",
      "\n",
      "The news always updated when people do something stupid around that involves their phones. The safest way is the best way to stay safe.\n",
      "========================================================================================================================================================================================================\n",
      "========================================================================================================================================================================================================\n",
      "Drivers who used their phone while operating a vehicle are most likely to get into an accident that could be fatal. \n",
      "\n",
      "Drivers who used their phone while operating a vehicle are most likely to get into an accident that could be fatal.\n",
      "========================================================================================================================================================================================================\n",
      "========================================================================================================================================================================================================\n",
      "According to an article by the Edgar Snyder Firm, 21% of teens that were part of a fatal car accident was due to phones. According to the same article, 35% know the risk but continue using their phones while on the road. This shows that its beyond dangerous and irresponsible of drivers not to be fully aware of their surroundings while driving. Drivers should be able to concentrate without any distractions, because it could be fatal.\n",
      "\n",
      "According to another article, \"Distracted Driving\" by the NHTSA, there has already been about 3,000 phone related car accident deaths since 2017. The article states that teen get too distracted with their phones, which causes their accident. Accidents that can be easily avoided by focusing on the road and not a phone. Drivers should not be able to use their phones at all while driving.\n",
      "\n",
      "\n",
      "According to an article by the Edgar Snyder Firm, 21% of teens that were part of a fatal car accident was due to phones. According to the same article, 35% know the risk but continue using their phones while on the road. This shows that its beyond dangerous and irresponsible of drivers not to be fully aware of their surroundings while driving. Drivers should be able to concentrate without any distractions, because it could be fatal. According to another article, \"Distracted Driving\" by the NHTSA, there has already been about 3,000 phone related car accident deaths since 2017. The article states that teen get too distracted with their phones, which causes their accident. Accidents that can be easily avoided by focusing on the road and not a phone. Drivers should not be able to use their phones at all while driving.\n",
      "========================================================================================================================================================================================================\n",
      "========================================================================================================================================================================================================\n",
      "In conclusion, drivers should not able to work a vehicle while using their cell phone. Drivers who uses their phones while operating a vehicle and are likely to have an accident then those who don't.             \n",
      "\n",
      "In conclusion, drivers should not able to work a vehicle while using their cell phone. Drivers who uses their phones while operating a vehicle and are likely to have an accident then those who don't.\n",
      "========================================================================================================================================================================================================\n",
      "========================================================================================================================================================================================================\n",
      "The ability to stay connected to people we know despite distance was originally brought to fruition by the use of letters. This system was found to be rather slow and new pathways were searched for until the invention of the telegram; the people thought it was an invention of the millennia, but after time it too was thought of as slow until the invention of the telephone. Today, a telephone is in the hand or pocket of a majority of the seven billion people on planet earth\n",
      "\n",
      "The ability to stay connected to people we know despite distance was originally brought to fruition by the use of letters. This system was found to be rather slow and new pathways were searched for until the invention of the telegram; the people thought it was an invention of the millennia, but after time it too was thought of as slow until the invention of the telephone. Today, a telephone is in the hand or pocket of a majority of the seven billion people on planet earth.\n",
      "========================================================================================================================================================================================================\n",
      "========================================================================================================================================================================================================\n",
      " However, this device is taken to areas that it is irresponsible and dangerous. \n",
      "\n",
      "However, this device is taken to areas that it is irresponsible and dangerous.\n",
      "========================================================================================================================================================================================================\n",
      "========================================================================================================================================================================================================\n",
      "Within a vehicle capable of traveling upwards of one hundred miles per hour any possible distraction can become fatal spontaneously \n",
      "\n",
      "Within a vehicle capable of traveling upwards of one hundred miles per hour any possible distraction can become fatal spontaneously.\n",
      "========================================================================================================================================================================================================\n",
      "========================================================================================================================================================================================================\n",
      "The most common of these distractions is a cell phone, with its capabilities to connect us to anyone also in ownership of one, it is easy to pick it up whenever it sounds. In that split second of reaching over for a phone, eyes no longer on the road, it is impossible to no an exact location of anything, making an extremely dangerous action. For the myriad of possibilities that lead to serious injury cell phones should stay in the current state they are in regards of the law, but taken as a more serious offense. \n",
      "\n",
      "The most common of these distractions is a cell phone, with its capabilities to connect us to anyone also in ownership of one, it is easy to pick it up whenever it sounds. In that split second of reaching over for a phone, eyes no longer on the road, it is impossible to no an exact location of anything, making an extremely dangerous action. For the myriad of possibilities that lead to serious injury cell phones should stay in the current state they are in regards of the law, but taken as a more serious offense.\n",
      "========================================================================================================================================================================================================\n",
      "========================================================================================================================================================================================================\n",
      "The problem becomes apparent that this is a selfish process of thought; people aren't thinking of those they share the road with. Laws currently in place are not to punish people making poor choices, they are an attempt to keep people safe. \n",
      "\n",
      "The problem becomes apparent that this is a selfish process of thought; people aren't thinking of those they share the road with. Laws currently in place are not to punish people making poor choices, they are an attempt to keep people safe.\n",
      "========================================================================================================================================================================================================\n",
      "========================================================================================================================================================================================================\n",
      "The creation of telecommunication devices was to keep connected to others without regard to the obsession that would encompass the human mind that was bound to follow. The safety of people is top priority without exemption. \n",
      "\n",
      "The creation of telecommunication devices was to keep connected to others without regard to the obsession that would encompass the human mind that was bound to follow. The safety of people is top priority without exemption.\n",
      "========================================================================================================================================================================================================\n",
      "========================================================================================================================================================================================================\n",
      "People are debating whether if drivers should or should not use cell phones while operating a vehicle. Some people think that using a cell phone while operating a vehicle should be allowed because they try multi-tasking and have important calls while some are addicted and can't stay off their phone. Other people says that you shouldn't be able to be on your cell phone while operating a vehicle because the cell phone can cause accidents while driving. \n",
      "\n",
      "People are debating whether if drivers should or should not use cell phones while operating a vehicle. Some people think that using a cell phone while operating a vehicle should be allowed because they try multi-tasking and have important calls while some are addicted and can't stay off their phone. Other people says that you shouldn't be able to be on your cell phone while operating a vehicle because the cell phone can cause accidents while driving.\n",
      "========================================================================================================================================================================================================\n",
      "========================================================================================================================================================================================================\n",
      "because it can cause vehicle collisions \n",
      "\n",
      "because it can cause vehicle collisions,\n",
      "========================================================================================================================================================================================================\n",
      "========================================================================================================================================================================================================\n",
      "and fatal injuries. \n",
      "\n",
      "and fatal injuries.\n",
      "========================================================================================================================================================================================================\n",
      "========================================================================================================================================================================================================\n",
      "\n",
      "The first reason why the use of cell phones shouldn't be allowed while operating a vehicle because there are high chances of vehicle collisions happening.\n",
      "\n",
      "The first reason why the use of cell phones shouldn't be allowed while operating a vehicle because there are high chances of vehicle collisions happening.\n",
      "========================================================================================================================================================================================================\n",
      "========================================================================================================================================================================================================\n",
      " Most vehicle collisions happen when the driver is texting or under the influence of alcohol. When people who drives while texting spend more time looking at their phone than the road causing poor car-following ability and lateral lane control. While under the influence of alcohol it can cause you to lose concentration and it can also hinder your ability to make rational decisions.\n",
      "\n",
      "As stated before, these are some examples of what can cause vehicle collisions. \n",
      "\n",
      "Most vehicle collisions happen when the driver is texting or under the influence of alcohol. When people who drives while texting spend more time looking at their phone than the road causing poor car-following ability and lateral lane control. While under the influence of alcohol it can cause you to lose concentration and it can also hinder your ability to make rational decisions. As stated before, these are some examples of what can cause vehicle collisions.\n",
      "========================================================================================================================================================================================================\n",
      "========================================================================================================================================================================================================\n",
      "The second reason why you shouldn't operate a cell phone while driving because of slow reaction time. \n",
      "\n",
      "The second reason why you shouldn't operate a cell phone while driving because of slow reaction time.\n",
      "========================================================================================================================================================================================================\n",
      "========================================================================================================================================================================================================\n",
      "Reaction time is the measure of how quickly an organism can respond to a particular stimulus. When your spending time at your phone and finally look up to see you're about to get into an accident it would already be too late. Reaction times with no activity were between one and two seconds. Reaction times while using a cellphone were at least three to four seconds. On top of that, drivers were more likely to miss the flashing light altogether when using a cellphone. Cellphones effects the nervous system when a person is driving. \n",
      "\n",
      "Reaction time is the measure of how quickly an organism can respond to a particular stimulus. When your spending time at your phone and finally look up to see you're about to get into an accident it would already be too late. Reaction times with no activity were between one and two seconds. Reaction times while using a cellphone were at least three to four seconds. On top of that, drivers were more likely to miss the flashing light altogether when using a cellphone. Cellphones effects the nervous system when a person is driving.\n",
      "========================================================================================================================================================================================================\n",
      "========================================================================================================================================================================================================\n",
      "The last reason you shouldn't drive while using a cellphone because it can cause fatal injuries that might have long-term or short-term affects. \n",
      "\n",
      "The last reason you shouldn't drive while using a cellphone because it can cause fatal injuries that might have long-term or short-term affects.\n",
      "========================================================================================================================================================================================================\n",
      "========================================================================================================================================================================================================\n",
      "The affects can be physical, emotional, or psychological. One of the most common physical effect is whiplash. Whiplash is caused by a sudden movement of the neck. Whiplash is usually caused by rear end automobile collisions. One emotional effect can be anxiety which can cause difficulties in certain situations involving driving. The last effect is psychological which can cause PTSD. Most car accidents are the results of PTSD but can also be caused by any traumatic experience. PTSD can affect a person's ability to function normally.\n",
      "\n",
      "People who goes through this will sometimes show a wide range of symptoms including anger, fear, shock, nervousness and feeling of mistrust or guilt.\n",
      "\n",
      "\n",
      "The affects can be physical, emotional, or psychological. One of the most common physical effect is whiplash. Whiplash is caused by a sudden movement of the neck. Whiplash is usually caused by rear end automobile collisions. One emotional effect can be anxiety which can cause difficulties in certain situations involving driving. The last effect is psychological which can cause PTSD. Most car accidents are the results of PTSD but can also be caused by any traumatic experience. PTSD can affect a person's ability to function normally. People who goes through this will sometimes show a wide range of symptoms including anger, fear, shock, nervousness and feeling of mistrust or guilt.\n",
      "========================================================================================================================================================================================================\n",
      "========================================================================================================================================================================================================\n",
      "In conclusion, people shouldn't use cellphones while operating a vehicle. IF they do it can cause life changing accidents and other serious problems in life. Also, it can hurt some people financially causing them to pay for these uneventful occurrences. Some things people can do to prevent is to turn their phone off or put it on \"Do Not Disturb\" mode to prevent any accidents. They can also deal with that they have to do on the phone before starting the car and driving. One more solution is that they can have the passenger relay a message for you using your phone, so you won't be distracted or tempted to pick up the phone.      \n",
      "\n",
      "In conclusion, people shouldn't use cellphones while operating a vehicle. IF they do it can cause life changing accidents and other serious problems in life. Also, it can hurt some people financially causing them to pay for these uneventful occurrences. Some things people can do to prevent is to turn their phone off or put it on \"Do Not Disturb\" mode to prevent any accidents. They can also deal with that they have to do on the phone before starting the car and driving. One more solution is that they can have the passenger relay a message for you using your phone, so you won't be distracted or tempted to pick up the phone.\n",
      "========================================================================================================================================================================================================\n",
      "========================================================================================================================================================================================================\n",
      "Over half of drivers in today's society have this horrible habit of texting and driving. This has to stop immediately, texting and driving puts people's lives at risk. This simple act has caused many fatalities over that last years. Fortunately, the government have put a new law to deal with this problem with our generations problem of texting and driving \n",
      "\n",
      "Over half of drivers in today's society have this horrible habit of texting and driving. This has to stop immediately, texting and driving puts people's lives at risk. This simple act has caused many fatalities over that last years. Fortunately, the government have put a new law to deal with this problem with our generations problem of texting and driving.\n",
      "========================================================================================================================================================================================================\n",
      "========================================================================================================================================================================================================\n",
      "I strongly feel that texting and driving is dangerous and should be prohibited.\n",
      "\n",
      "\n",
      "I strongly feel that texting and driving is dangerous and should be prohibited.\n",
      "========================================================================================================================================================================================================\n",
      "========================================================================================================================================================================================================\n",
      "Just imagine you're on the road driving to your friend's house and someone shoots you a text. You look down not even for 5 seconds; then you accidents swerve into the next lane hitting a car. There are so many different scenarios that could go wrong in that situation. Your life is over just because you couldn't wait to text your friend. The consequences that texting and driving comes with just isn't worth it. \n",
      "\n",
      "Just imagine you're on the road driving to your friend's house and someone shoots you a text. You look down not even for 5 seconds; then you accidents swerve into the next lane hitting a car. There are so many different scenarios that could go wrong in that situation. Your life is over just because you couldn't wait to text your friend. The consequences that texting and driving comes with just isn't worth it.\n",
      "========================================================================================================================================================================================================\n",
      "========================================================================================================================================================================================================\n",
      "Texting and driving has taken many lives. In a recent article I read it said \"2017 U.S. Cell Phone and Driving Statistics. In 2012, 3,328 people were killed in distraction-related crashes. About 421,000 people were injured in crashes involving a distracted driver. In 2017, 11% of drivers under age 20 involved in fatal accidents were reported to be distracted at the time of the crash.\" This cannot go on any longer we must do something to stop these numbers from increasing. \n",
      "\n",
      "Texting and driving has taken many lives. In a recent article I read it said \"2017 U.S. Cell Phone and Driving Statistics. In 2012, 3,328 people were killed in distraction-related crashes. About 421,000 people were injured in crashes involving a distracted driver. In 2017, 11% of drivers under age 20 involved in fatal accidents were reported to be distracted at the time of the crash.\" This cannot go on any longer we must do something to stop these numbers from increasing.\n",
      "========================================================================================================================================================================================================\n",
      "========================================================================================================================================================================================================\n",
      "Luckily the government has enforced a brand new law called \"Hands Free\". \n",
      "\n",
      "Luckily the government has enforced a brand new law called \"Hands Free\".\n",
      "========================================================================================================================================================================================================\n",
      "========================================================================================================================================================================================================\n",
      "This law states Drivers cannot have a phone in their hand or touching any part of their body while talking on their phone while driving. If you don't follow these laws they can fine you fifty to one hundred and fifty dollars. I feel that this action was necessary and justified to better protect our society. \n",
      "\n",
      "This law states Drivers cannot have a phone in their hand or touching any part of their body while talking on their phone while driving. If you don't follow these laws they can fine you fifty to one hundred and fifty dollars. I feel that this action was necessary and justified to better protect our society.\n",
      "========================================================================================================================================================================================================\n",
      "========================================================================================================================================================================================================\n",
      "Over all texting and driving is dangerous, has killed many people and is now on the decline thanks to the new \" Hands Down\" law.     \n",
      "\n",
      "Over all texting and driving is dangerous, has killed many people and is now on the decline thanks to the new \" Hands Down\" law.\n",
      "========================================================================================================================================================================================================\n",
      "========================================================================================================================================================================================================\n",
      "Being on your device and driving could be an overly dangerous choice in life. Many people around the world are injured by this situation every day. \n",
      "\n",
      "Being on your device and driving could be an overly dangerous choice in life. Many people around the world are injured by this situation every day.\n",
      "========================================================================================================================================================================================================\n",
      "========================================================================================================================================================================================================\n",
      "The most detrimental outcome is death. \n",
      "\n",
      "The most detrimental outcome is death.\n",
      "========================================================================================================================================================================================================\n",
      "========================================================================================================================================================================================================\n",
      ". Drivers should not be able to use cell phones in any capacity while operating a motor vehicle. \n",
      "\n",
      "Drivers should not be able to use cell phones in any capacity while operating a motor vehicle. One\n",
      "========================================================================================================================================================================================================\n",
      "========================================================================================================================================================================================================\n",
      "One leading cause to motor vehicle accidents is being on your cell phone. \n",
      "\n",
      "One leading cause to motor vehicle accidents is being on your cell phone.\n",
      "========================================================================================================================================================================================================\n",
      "========================================================================================================================================================================================================\n",
      "It could lead to accidents and altercations. Yourself and the passengers are more at risk to bodily injuries and harm. These bodily injuries and harm can range anywhere from mild to critical condition. In an motor vehicle accident there is more than one involved. There is another person or group of people that could have the exact same conditions than the driver on the cell phone. In an example of an altercations you could be more prone to damaging an building or such. An direct result of an event in place; a fee or very large payment would need to be made\n",
      "\n",
      "It could lead to accidents and altercations. Yourself and the passengers are more at risk to bodily injuries and harm. These bodily injuries and harm can range anywhere from mild to critical condition. In an motor vehicle accident there is more than one involved. There is another person or group of people that could have the exact same conditions than the driver on the cell phone. In an example of an altercations you could be more prone to damaging an building or such. An direct result of an event in place; a fee or very large payment would need to be made.\n",
      "========================================================================================================================================================================================================\n",
      "========================================================================================================================================================================================================\n",
      " another consequence could be having your license taken.\n",
      "\n",
      "\n",
      "another consequence could be having your license taken.\n",
      "========================================================================================================================================================================================================\n"
     ]
    },
    {
     "name": "stderr",
     "output_type": "stream",
     "text": [
      "\n"
     ]
    },
    {
     "data": {
      "text/plain": [
       "{'word': 13}"
      ]
     },
     "execution_count": 16,
     "metadata": {},
     "output_type": "execute_result"
    }
   ],
   "source": [
    "def stat_predstring(df):\n",
    "    cnt = 0\n",
    "    stat = {}\n",
    "    err = []\n",
    "    for idx, item in tqdm.tqdm(df.iterrows()):\n",
    "        id_, discourse_id, start_, end_, discourse_text, type_, type_num, pred_str = item\n",
    "        file_name = os.path.join('/root/.cache/data/train', id_ + '.txt')\n",
    "        with open(file_name, 'r') as fp:\n",
    "            text = fp.read()\n",
    "        \n",
    "        pred_ls =  pred_str.split(' ')\n",
    "        start, end = int(pred_ls[0]), int(pred_ls[-1])\n",
    "        text_pred = text.split()[start:end + 1]\n",
    "        text_pred = ' '.join(text_pred)\n",
    "        if discourse_text == text_pred:\n",
    "            stat['word'] = stat.get('word', 0) + 1\n",
    "        else:\n",
    "            print('='*200)\n",
    "            print(discourse_text)\n",
    "            print()\n",
    "            print(text_pred)\n",
    "            print('='*200)\n",
    "        cnt += 1\n",
    "        if cnt == 50:\n",
    "            break\n",
    "    return stat\n",
    "stat_predstring(df)"
   ]
  },
  {
   "cell_type": "code",
   "execution_count": null,
   "metadata": {},
   "outputs": [],
   "source": []
  },
  {
   "cell_type": "code",
   "execution_count": null,
   "metadata": {},
   "outputs": [],
   "source": []
  },
  {
   "cell_type": "code",
   "execution_count": null,
   "metadata": {},
   "outputs": [],
   "source": []
  },
  {
   "cell_type": "markdown",
   "metadata": {},
   "source": [
    "## char vs word vs token"
   ]
  },
  {
   "cell_type": "code",
   "execution_count": null,
   "metadata": {},
   "outputs": [],
   "source": [
    "from transformers import BigBirdTokenizerFast"
   ]
  },
  {
   "cell_type": "code",
   "execution_count": null,
   "metadata": {},
   "outputs": [],
   "source": [
    "tokenizer = BigBirdTokenizerFast.from_pretrained('allenai/longformer-large-4096')"
   ]
  },
  {
   "cell_type": "code",
   "execution_count": null,
   "metadata": {},
   "outputs": [],
   "source": [
    "tokenized_inputs = tokenizer(text.split(), truncation=True, is_split_into_words=True)\n",
    "tokenized_inputs"
   ]
  },
  {
   "cell_type": "code",
   "execution_count": null,
   "metadata": {},
   "outputs": [],
   "source": [
    "len(tokenized_inputs['input_ids'])"
   ]
  },
  {
   "cell_type": "code",
   "execution_count": null,
   "metadata": {},
   "outputs": [],
   "source": [
    "encoded_text = tokenizer.encode_plus(text.split(), add_special_tokens=False, return_offsets_mapping=True, is_split_into_words=True)\n",
    "encoded_text"
   ]
  },
  {
   "cell_type": "code",
   "execution_count": null,
   "metadata": {},
   "outputs": [],
   "source": [
    "print(tokenizer.convert_ids_to_tokens(encoded_text['input_ids']))"
   ]
  },
  {
   "cell_type": "code",
   "execution_count": null,
   "metadata": {},
   "outputs": [],
   "source": [
    "print(text.split())"
   ]
  },
  {
   "cell_type": "code",
   "execution_count": null,
   "metadata": {},
   "outputs": [],
   "source": [
    "cnt = 0\n",
    "for word in encoded_text['offset_mapping']:\n",
    "    if word[0] == 0:\n",
    "        cnt += 1\n",
    "cnt"
   ]
  },
  {
   "cell_type": "code",
   "execution_count": null,
   "metadata": {},
   "outputs": [],
   "source": [
    "len(text.split())"
   ]
  },
  {
   "cell_type": "code",
   "execution_count": null,
   "metadata": {},
   "outputs": [],
   "source": [
    "tokenizer.tokenize('PROPER_NAME')"
   ]
  },
  {
   "cell_type": "code",
   "execution_count": null,
   "metadata": {},
   "outputs": [],
   "source": [
    "text.split().__len__()"
   ]
  },
  {
   "cell_type": "code",
   "execution_count": null,
   "metadata": {},
   "outputs": [],
   "source": [
    "encoded_text = tokenizer.encode_plus(text, add_special_tokens=False, return_offsets_mapping=True, is_split_into_words=False)\n",
    "encoded_text"
   ]
  },
  {
   "cell_type": "code",
   "execution_count": null,
   "metadata": {},
   "outputs": [],
   "source": [
    "tt = 'Phones\\n\\nModern humans today are always on their phone. They are always on their phone more than 5 hours a day no stop .All they do is text back and forward and just have group Chats on social media. They even do it while driving. They are some really bad consequences when stuff happens when it comes to a phone. Some certain areas in the United States ban phones from class rooms just because of it.\\n\\nWhen people have phones, they know about certain apps that they have .Apps like Facebook Twitter Instagram and Snapchat. So like if a friend moves away and you want to be in contact you can still be in contact by posting videos or text messages. People always have different ways how to communicate with a phone. Phones have changed due to our generation.\\n\\nDriving is one of the way how to get around. '"
   ]
  },
  {
   "cell_type": "code",
   "execution_count": null,
   "metadata": {},
   "outputs": [],
   "source": [
    "tt.find('They are always on their phone')"
   ]
  },
  {
   "cell_type": "code",
   "execution_count": null,
   "metadata": {},
   "outputs": [],
   "source": [
    "d = {}"
   ]
  },
  {
   "cell_type": "code",
   "execution_count": null,
   "metadata": {},
   "outputs": [],
   "source": [
    "d[12] =1"
   ]
  },
  {
   "cell_type": "code",
   "execution_count": null,
   "metadata": {},
   "outputs": [],
   "source": [
    "d"
   ]
  },
  {
   "cell_type": "code",
   "execution_count": null,
   "metadata": {},
   "outputs": [],
   "source": [
    "d[12] = d.get(12, 0) + 1"
   ]
  },
  {
   "cell_type": "code",
   "execution_count": null,
   "metadata": {},
   "outputs": [],
   "source": [
    "d[13] = 1"
   ]
  },
  {
   "cell_type": "code",
   "execution_count": null,
   "metadata": {},
   "outputs": [],
   "source": [
    "d"
   ]
  },
  {
   "cell_type": "code",
   "execution_count": null,
   "metadata": {},
   "outputs": [],
   "source": [
    "dict(sorted(d.items(), key=lambda x:x[0], reverse=True))"
   ]
  },
  {
   "cell_type": "code",
   "execution_count": null,
   "metadata": {},
   "outputs": [],
   "source": []
  }
 ],
 "metadata": {
  "kernelspec": {
   "display_name": "Python [conda env:blog]",
   "language": "python",
   "name": "conda-env-blog-py"
  },
  "language_info": {
   "codemirror_mode": {
    "name": "ipython",
    "version": 3
   },
   "file_extension": ".py",
   "mimetype": "text/x-python",
   "name": "python",
   "nbconvert_exporter": "python",
   "pygments_lexer": "ipython3",
   "version": "3.8.3"
  }
 },
 "nbformat": 4,
 "nbformat_minor": 4
}
