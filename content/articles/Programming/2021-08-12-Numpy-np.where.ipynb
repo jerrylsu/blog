{
 "cells": [
  {
   "cell_type": "markdown",
   "metadata": {},
   "source": [
    "date: 2021-08-12 10:17:17\n",
    "author: Jerry Su\n",
    "slug: Numpy-np.where\n",
    "title: Numpy np.where\n",
    "category: \n",
    "tags: Numpy\n",
    "summary: Reason is the light and the light of life.\n",
    "toc: show"
   ]
  },
  {
   "cell_type": "markdown",
   "metadata": {},
   "source": [
    "https://numpy.org/doc/stable/reference/generated/numpy.where.html?highlight=where#numpy.where\n",
    "https://www.cnblogs.com/massquantity/p/8908859.html"
   ]
  },
  {
   "cell_type": "code",
   "execution_count": 1,
   "metadata": {},
   "outputs": [],
   "source": [
    "import numpy as np"
   ]
  },
  {
   "cell_type": "code",
   "execution_count": 2,
   "metadata": {},
   "outputs": [
    {
     "data": {
      "text/plain": [
       "array([[[-0.9941625 , -0.13803124, -0.1789303 , -0.84169049],\n",
       "        [-0.34679528, -0.09184122,  0.2305758 , -0.83257719],\n",
       "        [ 0.31593582, -0.14398776,  0.24329462, -0.72213975],\n",
       "        [ 0.07164275,  0.76827745, -0.50925405, -0.55656705]],\n",
       "\n",
       "       [[-0.59053878, -0.44938365,  0.49978236,  0.51931104],\n",
       "        [-0.7532766 , -0.63130856,  0.57406023, -0.77735105],\n",
       "        [ 0.84732412,  0.56404257,  0.93578561,  0.34568311],\n",
       "        [-0.07856562,  0.24609107,  0.83911535,  0.58042135]]])"
      ]
     },
     "execution_count": 2,
     "metadata": {},
     "output_type": "execute_result"
    }
   ],
   "source": [
    "scores = -1 + 2 * np.random.random(size=(2, 4, 4)) #  随机生成[-1, 1]之间小数\n",
    "scores"
   ]
  },
  {
   "cell_type": "code",
   "execution_count": 3,
   "metadata": {},
   "outputs": [
    {
     "data": {
      "text/plain": [
       "array([[-0.9941625 , -0.13803124, -0.1789303 , -0.84169049],\n",
       "       [-0.34679528, -0.09184122,  0.2305758 , -0.83257719],\n",
       "       [ 0.31593582, -0.14398776,  0.24329462, -0.72213975],\n",
       "       [ 0.07164275,  0.76827745, -0.50925405, -0.55656705]])"
      ]
     },
     "execution_count": 3,
     "metadata": {},
     "output_type": "execute_result"
    }
   ],
   "source": [
    "scores[0]"
   ]
  },
  {
   "cell_type": "code",
   "execution_count": 9,
   "metadata": {},
   "outputs": [
    {
     "data": {
      "text/plain": [
       "(array([0, 1, 1, 1, 1, 1, 1, 1]),\n",
       " array([3, 0, 1, 2, 2, 2, 3, 3]),\n",
       " array([1, 3, 2, 0, 1, 2, 2, 3]))"
      ]
     },
     "execution_count": 9,
     "metadata": {},
     "output_type": "execute_result"
    }
   ],
   "source": [
    "locs = np.where(scores > 0.5)\n",
    "locs"
   ]
  },
  {
   "cell_type": "code",
   "execution_count": 10,
   "metadata": {},
   "outputs": [
    {
     "name": "stdout",
     "output_type": "stream",
     "text": [
      "0 3 1\n",
      "1 0 3\n",
      "1 1 2\n",
      "1 2 0\n",
      "1 2 1\n",
      "1 2 2\n",
      "1 3 2\n",
      "1 3 3\n"
     ]
    }
   ],
   "source": [
    "for label, start, end in zip(*locs):\n",
    "    print(label, start, end)"
   ]
  },
  {
   "cell_type": "code",
   "execution_count": null,
   "metadata": {},
   "outputs": [],
   "source": []
  }
 ],
 "metadata": {
  "kernelspec": {
   "display_name": "Python [conda env:blog]",
   "language": "python",
   "name": "conda-env-blog-py"
  },
  "language_info": {
   "codemirror_mode": {
    "name": "ipython",
    "version": 3
   },
   "file_extension": ".py",
   "mimetype": "text/x-python",
   "name": "python",
   "nbconvert_exporter": "python",
   "pygments_lexer": "ipython3",
   "version": "3.8.3"
  }
 },
 "nbformat": 4,
 "nbformat_minor": 4
}
