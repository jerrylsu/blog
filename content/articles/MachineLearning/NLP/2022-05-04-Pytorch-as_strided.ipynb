{
 "cells": [
  {
   "cell_type": "markdown",
   "metadata": {},
   "source": [
    "- date: 2022-05-04 11:17:17\n",
    "- author: Jerry Su\n",
    "- slug: Pytorch-stride-as_strided\n",
    "- title: Pytorch tensor.stride & tensor.as_strided\n",
    "- category: \n",
    "- tags: Pytorch"
   ]
  },
  {
   "cell_type": "markdown",
   "metadata": {},
   "source": [
    "## tensor.stride()\n",
    "\n",
    "Stride is the jump necessary to go from one element to the next one in the specified dimension dim. \n",
    "\n",
    "一个元素到另一个元素，元素粒度\n",
    "\n",
    "任意维度上的步长，是其低维度乘积。\n",
    "\n",
    "shape: (12, 512, 768) stride: (512x768x1, 768x1, 1x1)\n",
    "\n",
    "## tensor.as_strided()\n",
    "\n",
    "- input (Tensor) – the input tensor.\n",
    "\n",
    "- size (tuple or ints) – the shape of the output tensor\n",
    "\n",
    "- stride (tuple or ints) – the stride of the output tensor\n",
    "\n",
    "- storage_offset (int, optional) – the offset in the underlying storage of the output tensor\n",
    "\n",
    "由input张量，以指定的size, stride, storage_offset创建新的view。"
   ]
  },
  {
   "cell_type": "code",
   "execution_count": 2,
   "metadata": {},
   "outputs": [],
   "source": [
    "import torch"
   ]
  },
  {
   "cell_type": "markdown",
   "metadata": {},
   "source": [
    "## tensor.stride"
   ]
  },
  {
   "cell_type": "code",
   "execution_count": 46,
   "metadata": {},
   "outputs": [
    {
     "data": {
      "text/plain": [
       "tensor([[[ 0.9071,  0.2834, -0.1989, -1.4063],\n",
       "         [-1.7204,  1.7097, -1.2490,  1.1157]],\n",
       "\n",
       "        [[ 1.7791,  0.6694,  0.3891, -0.0156],\n",
       "         [-1.6843, -1.1728,  0.0408, -0.7561]],\n",
       "\n",
       "        [[ 0.9002,  1.4651,  0.7972,  1.1046],\n",
       "         [ 1.4144,  0.3738,  0.4680,  0.9603]]])"
      ]
     },
     "execution_count": 46,
     "metadata": {},
     "output_type": "execute_result"
    }
   ],
   "source": [
    "x = torch.randn(3, 2, 4)\n",
    "x"
   ]
  },
  {
   "cell_type": "code",
   "execution_count": 77,
   "metadata": {},
   "outputs": [
    {
     "name": "stdout",
     "output_type": "stream",
     "text": [
      "0维度上的步长：8\n",
      "1维度上的步长：4\n",
      "2维度上的步长：1\n"
     ]
    },
    {
     "data": {
      "text/plain": [
       "(8, 4, 1)"
      ]
     },
     "execution_count": 77,
     "metadata": {},
     "output_type": "execute_result"
    }
   ],
   "source": [
    "print(f\"0维度上的步长：{len(x[0]) * len(x[0][0] * 1)}\\n\"\n",
    "      f\"1维度上的步长：{len(x[0][0]) * 1}\\n\"\n",
    "      f\"2维度上的步长：{1 * 1}\")\n",
    "\n",
    "x.stride()"
   ]
  },
  {
   "cell_type": "code",
   "execution_count": 78,
   "metadata": {},
   "outputs": [
    {
     "data": {
      "text/plain": [
       "tensor([[ 0.9071,  0.2834, -0.1989, -1.4063],\n",
       "        [-1.7204,  1.7097, -1.2490,  1.1157]])"
      ]
     },
     "execution_count": 78,
     "metadata": {},
     "output_type": "execute_result"
    }
   ],
   "source": [
    "x[0]"
   ]
  },
  {
   "cell_type": "code",
   "execution_count": 67,
   "metadata": {},
   "outputs": [
    {
     "data": {
      "text/plain": [
       "tensor([ 0.9071,  0.2834, -0.1989, -1.4063])"
      ]
     },
     "execution_count": 67,
     "metadata": {},
     "output_type": "execute_result"
    }
   ],
   "source": [
    "x[0][0]"
   ]
  },
  {
   "cell_type": "code",
   "execution_count": 59,
   "metadata": {},
   "outputs": [
    {
     "data": {
      "text/plain": [
       "tensor(0.9071)"
      ]
     },
     "execution_count": 59,
     "metadata": {},
     "output_type": "execute_result"
    }
   ],
   "source": [
    "x[0][0][0]"
   ]
  },
  {
   "cell_type": "code",
   "execution_count": 61,
   "metadata": {},
   "outputs": [
    {
     "data": {
      "text/plain": [
       "torch.Size([3, 2, 4])"
      ]
     },
     "execution_count": 61,
     "metadata": {},
     "output_type": "execute_result"
    }
   ],
   "source": [
    "x.shape"
   ]
  },
  {
   "cell_type": "code",
   "execution_count": 84,
   "metadata": {},
   "outputs": [
    {
     "name": "stdout",
     "output_type": "stream",
     "text": [
      "tensor([[[-0.2049,  1.7724, -0.4653,  0.2304, -0.6612],\n",
      "         [-0.4517, -1.1064, -1.3647, -0.7284,  0.2986],\n",
      "         [ 0.4436, -0.0191,  2.6322,  0.2686,  0.7015]],\n",
      "\n",
      "        [[ 1.6355,  0.7517, -0.9918,  0.2702,  1.8537],\n",
      "         [ 0.2296, -1.2191,  0.1392, -0.7129, -0.9681],\n",
      "         [-1.5700,  0.2363,  0.3035,  0.7965,  1.3703]]])\n"
     ]
    },
    {
     "data": {
      "text/plain": [
       "(15, 5, 1)"
      ]
     },
     "execution_count": 84,
     "metadata": {},
     "output_type": "execute_result"
    }
   ],
   "source": [
    "x1 = torch.randn(2, 3, 5) # stride: (3 * 5 * 1, 5 * 1, 1 * 1)\n",
    "print(x1)\n",
    "x1.stride()"
   ]
  },
  {
   "cell_type": "code",
   "execution_count": 75,
   "metadata": {},
   "outputs": [
    {
     "name": "stdout",
     "output_type": "stream",
     "text": [
      "(245760, 16384, 64, 1)\n"
     ]
    },
    {
     "data": {
      "text/plain": [
       "(245760, 16384, 64, 1)"
      ]
     },
     "execution_count": 75,
     "metadata": {},
     "output_type": "execute_result"
    }
   ],
   "source": [
    "x2 = torch.randn(10, 15, 256, 64) # stride: (15 * 256 * 64 * 1, 256 * 64 * 1, 64 * 1, 1 *1)\n",
    "print((15 * 256 * 64 * 1, 256 * 64 * 1, 64 * 1, 1 *1))\n",
    "x2.stride()"
   ]
  },
  {
   "cell_type": "markdown",
   "metadata": {},
   "source": [
    "## tensor.as_strided"
   ]
  },
  {
   "cell_type": "code",
   "execution_count": 104,
   "metadata": {},
   "outputs": [
    {
     "ename": "RuntimeError",
     "evalue": "setStorage: sizes [2, 2, 2], strides [16, 10, 4], storage offset 0, and itemsize 4 requiring a storage size of 124 are out of bounds for storage of size 120",
     "output_type": "error",
     "traceback": [
      "\u001b[0;31m---------------------------------------------------------------------------\u001b[0m",
      "\u001b[0;31mRuntimeError\u001b[0m                              Traceback (most recent call last)",
      "\u001b[0;32m/tmp/ipykernel_23801/2376004043.py\u001b[0m in \u001b[0;36m<module>\u001b[0;34m\u001b[0m\n\u001b[0;32m----> 1\u001b[0;31m \u001b[0mx1\u001b[0m\u001b[0;34m.\u001b[0m\u001b[0mas_strided\u001b[0m\u001b[0;34m(\u001b[0m\u001b[0;34m(\u001b[0m\u001b[0;36m2\u001b[0m\u001b[0;34m,\u001b[0m\u001b[0;36m2\u001b[0m\u001b[0;34m,\u001b[0m\u001b[0;36m2\u001b[0m\u001b[0;34m)\u001b[0m\u001b[0;34m,\u001b[0m \u001b[0;34m(\u001b[0m\u001b[0;36m16\u001b[0m\u001b[0;34m,\u001b[0m\u001b[0;36m10\u001b[0m\u001b[0;34m,\u001b[0m\u001b[0;36m4\u001b[0m\u001b[0;34m)\u001b[0m\u001b[0;34m)\u001b[0m\u001b[0;34m\u001b[0m\u001b[0;34m\u001b[0m\u001b[0m\n\u001b[0m",
      "\u001b[0;31mRuntimeError\u001b[0m: setStorage: sizes [2, 2, 2], strides [16, 10, 4], storage offset 0, and itemsize 4 requiring a storage size of 124 are out of bounds for storage of size 120"
     ]
    }
   ],
   "source": [
    "x1.as_strided((2,2,2), (16,10,4))"
   ]
  },
  {
   "cell_type": "code",
   "execution_count": 105,
   "metadata": {},
   "outputs": [],
   "source": [
    "h = torch.randn(12,8,512,64)"
   ]
  },
  {
   "cell_type": "code",
   "execution_count": 106,
   "metadata": {},
   "outputs": [
    {
     "data": {
      "text/plain": [
       "(262144, 32768, 64, 1)"
      ]
     },
     "execution_count": 106,
     "metadata": {},
     "output_type": "execute_result"
    }
   ],
   "source": [
    "h.stride()"
   ]
  },
  {
   "cell_type": "code",
   "execution_count": null,
   "metadata": {},
   "outputs": [],
   "source": []
  }
 ],
 "metadata": {
  "kernelspec": {
   "display_name": "Python [conda env:blog]",
   "language": "python",
   "name": "conda-env-blog-py"
  },
  "language_info": {
   "codemirror_mode": {
    "name": "ipython",
    "version": 3
   },
   "file_extension": ".py",
   "mimetype": "text/x-python",
   "name": "python",
   "nbconvert_exporter": "python",
   "pygments_lexer": "ipython3",
   "version": "3.8.3"
  }
 },
 "nbformat": 4,
 "nbformat_minor": 4
}
