{
 "cells": [
  {
   "cell_type": "markdown",
   "metadata": {},
   "source": [
    "- date: 2021-01-07 12:17:17\n",
    "- author: Jerry Su\n",
    "- slug: design-pattern\n",
    "- title: DESIGN PATTERN"
   ]
  },
  {
   "cell_type": "markdown",
   "metadata": {},
   "source": [
    "Design-Patterns-in-Python\n",
    "===============\n",
    "\n",
    "Python设计模式集合\n",
    "\n",
    "Current Patterns\n",
    "----------------\n",
    "\n",
    "__创建型模式__:\n",
    "\n",
    "| Pattern | Description |\n",
    "|:-------:| ----------- |\n",
    "|  |  |\n",
    "\n",
    "__结构型模式__:\n",
    "\n",
    "| 模式名称 | 描述 |\n",
    "|:-------:| ----------- |\n",
    "| [外观模式](patterns/structural/facade.py) | 使用一个类作为其他一些类的统一的API接口 |\n",
    "| [组合模式](patterns/structural/composite.py) | 让客户端统一对待单个对象和组合 |\n",
    "| [装饰器模式](patterns/structural/decorator.py) | 动态的给一个对象添加一些额外的职责 |\n",
    "| [桥接模式](patterns/structural/bridge.py) | 将抽象部分与其实现部分分离，使它们都可以独立的变化 |\n",
    "| [适配器模式](patterns/structural/adapter.py) | 将一个接口转换为客户希望的另一个接口，使得原本不兼容的类可以一起工作 |\n",
    "| [代理模式](structural/proxy.ipynb) | 为其他对象提供一种代理，以控制这个对象的访问 |\n",
    "\n",
    "\n",
    "__行为型模式__:\n",
    "\n",
    "| 模式名称 | 描述 |\n",
    "|:-------:| ----------- |\n",
    "| [策略模式](behavioral/strategy.ipynb) | 定义一系列算法，每个独立封装，并使它们可相互替换。策略让算法独立于使用它的客户端而变化 |\n",
    "| [状态模式](behavioral/state.ipynb) | 允许一个对象在其内部状态改变时改变它的行为，对象看起来像是修改了它的类 |\n",
    "| [观察者模式](behavioral/observer.ipynb) | 定义对象间的一种一对多的依赖关系，当一个对象的状态发生改变时，所以依赖于它的对象都得到通知并被自动更新 |\n"
   ]
  }
 ],
 "metadata": {
  "kernelspec": {
   "display_name": "Python [conda env:blog]",
   "language": "python",
   "name": "conda-env-blog-py"
  },
  "language_info": {
   "codemirror_mode": {
    "name": "ipython",
    "version": 3
   },
   "file_extension": ".py",
   "mimetype": "text/x-python",
   "name": "python",
   "nbconvert_exporter": "python",
   "pygments_lexer": "ipython3",
   "version": "3.8.3"
  },
  "pycharm": {
   "stem_cell": {
    "cell_type": "raw",
    "metadata": {
     "collapsed": false
    },
    "source": []
   }
  }
 },
 "nbformat": 4,
 "nbformat_minor": 4
}
