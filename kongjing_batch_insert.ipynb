{
 "cells": [
  {
   "cell_type": "markdown",
   "id": "739e9f1a-4c36-43e7-800a-96f268a1f549",
   "metadata": {},
   "source": [
    "### 1.1 数据处理"
   ]
  },
  {
   "cell_type": "code",
   "execution_count": 56,
   "id": "8bb987ea-eb0e-4980-82e5-6f37a06b0e84",
   "metadata": {},
   "outputs": [],
   "source": [
    "import pandas as pd\n",
    "import json"
   ]
  },
  {
   "cell_type": "code",
   "execution_count": 57,
   "id": "7c74c183-850d-4117-bb13-043015632665",
   "metadata": {},
   "outputs": [],
   "source": [
    "df = pd.read_csv(\"./口径相似度-数据.csv\")"
   ]
  },
  {
   "cell_type": "code",
   "execution_count": 58,
   "id": "35b22a02-e5b6-4f81-9f68-eb017c86b0f1",
   "metadata": {},
   "outputs": [
    {
     "data": {
      "text/plain": [
       "Index(['IND_BUSINESS_DESC', 'OTHER_SYS_MODEL_DESC'], dtype='object')"
      ]
     },
     "execution_count": 58,
     "metadata": {},
     "output_type": "execute_result"
    }
   ],
   "source": [
    "df.columns"
   ]
  },
  {
   "cell_type": "code",
   "execution_count": 59,
   "id": "a820333d-1d9f-4f1e-a358-cc1cc1034699",
   "metadata": {},
   "outputs": [],
   "source": [
    "df[\"OTHER_SYS_MODEL_DESC\"] = df[\"OTHER_SYS_MODEL_DESC\"].fillna(\"\")"
   ]
  },
  {
   "cell_type": "code",
   "execution_count": 60,
   "id": "a31ffad6-3992-439a-bc2e-c2bcb6b66e6b",
   "metadata": {},
   "outputs": [],
   "source": [
    "df[\"BUSINESS_SYS_DESC\"] = df[\"IND_BUSINESS_DESC\"] + df[\"OTHER_SYS_MODEL_DESC\"]"
   ]
  },
  {
   "cell_type": "code",
   "execution_count": 61,
   "id": "10aa9f10-d51b-43d6-8ddb-9b01af831ac9",
   "metadata": {},
   "outputs": [
    {
     "data": {
      "text/html": [
       "<div>\n",
       "<style scoped>\n",
       "    .dataframe tbody tr th:only-of-type {\n",
       "        vertical-align: middle;\n",
       "    }\n",
       "\n",
       "    .dataframe tbody tr th {\n",
       "        vertical-align: top;\n",
       "    }\n",
       "\n",
       "    .dataframe thead th {\n",
       "        text-align: right;\n",
       "    }\n",
       "</style>\n",
       "<table border=\"1\" class=\"dataframe\">\n",
       "  <thead>\n",
       "    <tr style=\"text-align: right;\">\n",
       "      <th></th>\n",
       "      <th>IND_BUSINESS_DESC</th>\n",
       "      <th>OTHER_SYS_MODEL_DESC</th>\n",
       "      <th>BUSINESS_SYS_DESC</th>\n",
       "    </tr>\n",
       "  </thead>\n",
       "  <tbody>\n",
       "    <tr>\n",
       "      <th>0</th>\n",
       "      <td>统计贷款合同利息的合计值</td>\n",
       "      <td>SELECT SUM(CON_AMT*INTEREST_RATE)\\n  FROM UIMP...</td>\n",
       "      <td>统计贷款合同利息的合计值SELECT SUM(CON_AMT*INTEREST_RATE)\\...</td>\n",
       "    </tr>\n",
       "    <tr>\n",
       "      <th>1</th>\n",
       "      <td>统计借记卡去重客户数</td>\n",
       "      <td>SELECT COUNT(DISTINCT CUST_ISN)\\n     FROM UIM...</td>\n",
       "      <td>统计借记卡去重客户数SELECT COUNT(DISTINCT CUST_ISN)\\n   ...</td>\n",
       "    </tr>\n",
       "    <tr>\n",
       "      <th>2</th>\n",
       "      <td>统计去重的贷款授信客户数</td>\n",
       "      <td>SELECT COUNT(DISTINCT CUST_ISN)\\nFROM UIMP.F_A...</td>\n",
       "      <td>统计去重的贷款授信客户数SELECT COUNT(DISTINCT CUST_ISN)\\nF...</td>\n",
       "    </tr>\n",
       "    <tr>\n",
       "      <th>3</th>\n",
       "      <td>统计信用卡分期待摊余额的合计值</td>\n",
       "      <td>SELECT SUM(MP_L_BAL)           \\n     FROM UIM...</td>\n",
       "      <td>统计信用卡分期待摊余额的合计值SELECT SUM(MP_L_BAL)           ...</td>\n",
       "    </tr>\n",
       "    <tr>\n",
       "      <th>4</th>\n",
       "      <td>统计信用卡授信额度的合计值</td>\n",
       "      <td>SELECT SUM(CRED_LMT)\\n  FROM UIMP.F_AC_CRDT_CA...</td>\n",
       "      <td>统计信用卡授信额度的合计值SELECT SUM(CRED_LMT)\\n  FROM UIMP...</td>\n",
       "    </tr>\n",
       "    <tr>\n",
       "      <th>...</th>\n",
       "      <td>...</td>\n",
       "      <td>...</td>\n",
       "      <td>...</td>\n",
       "    </tr>\n",
       "    <tr>\n",
       "      <th>457</th>\n",
       "      <td>按照机构维度分类，统计（1）+（2）的去重客户数：\\n（1）贷款类型为“普通贷款”，昨日余额...</td>\n",
       "      <td>SELECT\\n  A.SUPER_ORG_NO AS DM_000000_DIMORG,\\...</td>\n",
       "      <td>按照机构维度分类，统计（1）+（2）的去重客户数：\\n（1）贷款类型为“普通贷款”，昨日余额...</td>\n",
       "    </tr>\n",
       "    <tr>\n",
       "      <th>458</th>\n",
       "      <td>按照机构、客户维度分类，统计存款类型为“活期存款”，客户类型为“个人客户”，账户状态不为“销...</td>\n",
       "      <td>SELECT \\nA.SUPER_ORG_NO\\n,B.CUST_ISN\\n,SUM(B.A...</td>\n",
       "      <td>按照机构、客户维度分类，统计存款类型为“活期存款”，客户类型为“个人客户”，账户状态不为“销...</td>\n",
       "    </tr>\n",
       "    <tr>\n",
       "      <th>459</th>\n",
       "      <td>按照机构、客户维度分类，统计存款类型为“活期存款”，客户类型为“个人客户”，账户状态不为“销...</td>\n",
       "      <td>SELECT\\n  A.BEL_ORG_NO AS DM_000000_DIMORG,\\n ...</td>\n",
       "      <td>按照机构、客户维度分类，统计存款类型为“活期存款”，客户类型为“个人客户”，账户状态不为“销...</td>\n",
       "    </tr>\n",
       "    <tr>\n",
       "      <th>460</th>\n",
       "      <td>按照机构、客户维度分类，统计存款类型为“活期存款”，客户类型为“个人客户”，账户状态不为“销...</td>\n",
       "      <td>SELECT\\n  A.BEL_ORG_NO AS DM_000000_DIMORG,\\n ...</td>\n",
       "      <td>按照机构、客户维度分类，统计存款类型为“活期存款”，客户类型为“个人客户”，账户状态不为“销...</td>\n",
       "    </tr>\n",
       "    <tr>\n",
       "      <th>461</th>\n",
       "      <td>按机构、互联网融资贷款产品分类，统计正常本金、逾期本金、呆滞本金、呆账本金之和。</td>\n",
       "      <td>SELECT d_dt_org_hrch_info.super_org_no AS DM_0...</td>\n",
       "      <td>按机构、互联网融资贷款产品分类，统计正常本金、逾期本金、呆滞本金、呆账本金之和。SELECT...</td>\n",
       "    </tr>\n",
       "  </tbody>\n",
       "</table>\n",
       "<p>462 rows × 3 columns</p>\n",
       "</div>"
      ],
      "text/plain": [
       "                                     IND_BUSINESS_DESC  \\\n",
       "0                                         统计贷款合同利息的合计值   \n",
       "1                                           统计借记卡去重客户数   \n",
       "2                                         统计去重的贷款授信客户数   \n",
       "3                                      统计信用卡分期待摊余额的合计值   \n",
       "4                                        统计信用卡授信额度的合计值   \n",
       "..                                                 ...   \n",
       "457  按照机构维度分类，统计（1）+（2）的去重客户数：\\n（1）贷款类型为“普通贷款”，昨日余额...   \n",
       "458  按照机构、客户维度分类，统计存款类型为“活期存款”，客户类型为“个人客户”，账户状态不为“销...   \n",
       "459  按照机构、客户维度分类，统计存款类型为“活期存款”，客户类型为“个人客户”，账户状态不为“销...   \n",
       "460  按照机构、客户维度分类，统计存款类型为“活期存款”，客户类型为“个人客户”，账户状态不为“销...   \n",
       "461           按机构、互联网融资贷款产品分类，统计正常本金、逾期本金、呆滞本金、呆账本金之和。   \n",
       "\n",
       "                                  OTHER_SYS_MODEL_DESC  \\\n",
       "0    SELECT SUM(CON_AMT*INTEREST_RATE)\\n  FROM UIMP...   \n",
       "1    SELECT COUNT(DISTINCT CUST_ISN)\\n     FROM UIM...   \n",
       "2    SELECT COUNT(DISTINCT CUST_ISN)\\nFROM UIMP.F_A...   \n",
       "3    SELECT SUM(MP_L_BAL)           \\n     FROM UIM...   \n",
       "4    SELECT SUM(CRED_LMT)\\n  FROM UIMP.F_AC_CRDT_CA...   \n",
       "..                                                 ...   \n",
       "457  SELECT\\n  A.SUPER_ORG_NO AS DM_000000_DIMORG,\\...   \n",
       "458  SELECT \\nA.SUPER_ORG_NO\\n,B.CUST_ISN\\n,SUM(B.A...   \n",
       "459  SELECT\\n  A.BEL_ORG_NO AS DM_000000_DIMORG,\\n ...   \n",
       "460  SELECT\\n  A.BEL_ORG_NO AS DM_000000_DIMORG,\\n ...   \n",
       "461  SELECT d_dt_org_hrch_info.super_org_no AS DM_0...   \n",
       "\n",
       "                                     BUSINESS_SYS_DESC  \n",
       "0    统计贷款合同利息的合计值SELECT SUM(CON_AMT*INTEREST_RATE)\\...  \n",
       "1    统计借记卡去重客户数SELECT COUNT(DISTINCT CUST_ISN)\\n   ...  \n",
       "2    统计去重的贷款授信客户数SELECT COUNT(DISTINCT CUST_ISN)\\nF...  \n",
       "3    统计信用卡分期待摊余额的合计值SELECT SUM(MP_L_BAL)           ...  \n",
       "4    统计信用卡授信额度的合计值SELECT SUM(CRED_LMT)\\n  FROM UIMP...  \n",
       "..                                                 ...  \n",
       "457  按照机构维度分类，统计（1）+（2）的去重客户数：\\n（1）贷款类型为“普通贷款”，昨日余额...  \n",
       "458  按照机构、客户维度分类，统计存款类型为“活期存款”，客户类型为“个人客户”，账户状态不为“销...  \n",
       "459  按照机构、客户维度分类，统计存款类型为“活期存款”，客户类型为“个人客户”，账户状态不为“销...  \n",
       "460  按照机构、客户维度分类，统计存款类型为“活期存款”，客户类型为“个人客户”，账户状态不为“销...  \n",
       "461  按机构、互联网融资贷款产品分类，统计正常本金、逾期本金、呆滞本金、呆账本金之和。SELECT...  \n",
       "\n",
       "[462 rows x 3 columns]"
      ]
     },
     "execution_count": 61,
     "metadata": {},
     "output_type": "execute_result"
    }
   ],
   "source": [
    "df"
   ]
  },
  {
   "cell_type": "raw",
   "id": "8a2f37d5-6478-493a-acb2-42fe65f97b8a",
   "metadata": {},
   "source": [
    "df[\"IND_BUSINESS_DESC_LEN\"] = df[\"IND_BUSINESS_DESC\"].apply(lambda x: len(x))\n",
    "df[\"OTHER_SYS_MODEL_DESC_LEN\"] = df[\"OTHER_SYS_MODEL_DESC\"].apply(lambda x: len(x))"
   ]
  },
  {
   "cell_type": "raw",
   "id": "9423dffd-92a8-4887-bb71-88f772c1926d",
   "metadata": {},
   "source": [
    "df[\"IND_BUSINESS_DESC_LEN\"].value_counts()"
   ]
  },
  {
   "cell_type": "raw",
   "id": "60c96d8c-b10d-4b3c-8586-4749e1d28987",
   "metadata": {},
   "source": [
    "df[\"OTHER_SYS_MODEL_DESC_LEN\"]"
   ]
  },
  {
   "cell_type": "markdown",
   "id": "4d33bd74-f511-4b0a-9d12-538b13cd005b",
   "metadata": {},
   "source": [
    "### 1.2 创建ES索引"
   ]
  },
  {
   "cell_type": "code",
   "execution_count": 3,
   "id": "2a74f0ac-d9e7-4c06-89b8-3f9949f65892",
   "metadata": {},
   "outputs": [],
   "source": [
    "from elasticsearch import Elasticsearch\n",
    "# es = Elasticsearch(\"http://158.219.101.240:8200\")\n",
    "es = Elasticsearch(\"http://10.31.55.139:8105\")"
   ]
  },
  {
   "cell_type": "code",
   "execution_count": 6,
   "id": "a6594f31-abfb-463c-b17e-e4dae81a1f25",
   "metadata": {},
   "outputs": [],
   "source": [
    "index_config = {\n",
    "    \"settings\": {\n",
    "        \"number_of_shards\": 1,\n",
    "    },\n",
    "    \"mappings\": {\n",
    "        \"properties\": {\n",
    "            \"name\": {\n",
    "                \"type\": \"text\",\n",
    "            },\n",
    "            \"nameVector\": {\n",
    "                \"type\": \"dense_vector\",\n",
    "                \"dims\": 1024,\n",
    "                \"index\": True,\n",
    "                \"similarity\": \"cosine\",\n",
    "            },\n",
    "            \"description\": {\n",
    "                \"type\": \"text\",\n",
    "            },\n",
    "            \"descriptionVector\": {\n",
    "                \"type\": \"dense_vector\",\n",
    "                \"dims\": 1024,\n",
    "                \"index\": True,\n",
    "                \"similarity\": \"cosine\",\n",
    "            }\n",
    "        }\n",
    "    }\n",
    "}"
   ]
  },
  {
   "cell_type": "code",
   "execution_count": 8,
   "id": "fb77f37f-0da9-47c6-8fbe-6ac05906c307",
   "metadata": {},
   "outputs": [
    {
     "name": "stdout",
     "output_type": "stream",
     "text": [
      "Index: [griffinql_indicator1] create success!\n"
     ]
    }
   ],
   "source": [
    "index_name = \"griffinql_indicator1\"\n",
    "# es.indices.delete(index=index_name)\n",
    "if not es.indices.exists(index=index_name):\n",
    "    es.indices.create(index=index_name, **index_config)\n",
    "    print(f\"Index: [{index_name}] create success!\")"
   ]
  },
  {
   "cell_type": "markdown",
   "id": "b41e579d-0854-43d4-aa0f-82e2bd062144",
   "metadata": {},
   "source": [
    "### 1.3 向量化接口"
   ]
  },
  {
   "cell_type": "code",
   "execution_count": 65,
   "id": "89a846c4-cde5-4dc8-b6b6-85fd88b6f9cb",
   "metadata": {},
   "outputs": [],
   "source": [
    "import requests\n",
    "import json\n",
    "import traceback\n",
    "import time"
   ]
  },
  {
   "cell_type": "code",
   "execution_count": 66,
   "id": "dfcda0d7-17ae-40a3-8929-3e471a7aa22f",
   "metadata": {},
   "outputs": [],
   "source": [
    "VECTOR_URL = \"http://158.219.101.240:8832/doc_vector/item_vector\"\n",
    "# VECTOR_URL = \"http://10.31.55.139:8761/doc_vector/item_vector\"\n",
    "def gen_vector(text_list: list):\n",
    "    start_time = time.time()\n",
    "    try:\n",
    "        resp = requests.post(\n",
    "            url=VECTOR_URL,\n",
    "            data=json.dumps({\n",
    "                \"serial_id\": \"123456\",\n",
    "                \"source_list\": text_list\n",
    "            }),\n",
    "            headers={\"Content-Type\": \"application/json\"}\n",
    "        )\n",
    "        vectors = resp.json()[\"data\"]\n",
    "    except Exception as err:\n",
    "        print(f\"Gen vector error {err}, traceback: {traceback.format_exc()}\")\n",
    "        vectors = []\n",
    "    end_time = time.time()\n",
    "    # print(f\"Total time: {end_time - start_time}\")\n",
    "    return vectors"
   ]
  },
  {
   "cell_type": "markdown",
   "id": "07d840d7-4f80-4886-90ad-33cd36458339",
   "metadata": {},
   "source": [
    "### 1.4 数据向量化入库"
   ]
  },
  {
   "cell_type": "raw",
   "id": "89c40f9c-d13f-4509-b97c-2579eec0ebd4",
   "metadata": {},
   "source": [
    "# 单挑插入用于debug ES数据插入失败情况！！！！\n",
    "from pprint import pprint\n",
    "from tqdm import tqdm\n",
    "for idx, row in tqdm(df.iterrows(), total=df.shape[0]):\n",
    "    doc = {\n",
    "            \"subject\": row[\"Description\"],\n",
    "            \"table_name\": row[\"table\"],\n",
    "            \"subject_vector\": gen_vector([row[\"Description\"]])[0],\n",
    "    }\n",
    "    es.index(index=index_name, id=idx, body=doc)"
   ]
  },
  {
   "cell_type": "code",
   "execution_count": 69,
   "id": "d3025374-1853-41c8-830f-c922ec3de281",
   "metadata": {},
   "outputs": [
    {
     "data": {
      "text/plain": [
       "['IND_BUSINESS_DESC', 'OTHER_SYS_MODEL_DESC', 'BUSINESS_SYS_DESC']"
      ]
     },
     "execution_count": 69,
     "metadata": {},
     "output_type": "execute_result"
    }
   ],
   "source": [
    "scenes = df.columns.to_list()\n",
    "scenes"
   ]
  },
  {
   "cell_type": "code",
   "execution_count": 73,
   "id": "74f121f6-693a-4be7-9888-182eabbbb901",
   "metadata": {},
   "outputs": [
    {
     "name": "stderr",
     "output_type": "stream",
     "text": [
      "15it [00:04,  3.75it/s]                        \n",
      "15it [00:04,  3.47it/s]                        \n",
      "15it [00:04,  3.59it/s]                        "
     ]
    },
    {
     "name": "stdout",
     "output_type": "stream",
     "text": [
      "Total time: 12.519971370697021\n"
     ]
    },
    {
     "name": "stderr",
     "output_type": "stream",
     "text": [
      "\n"
     ]
    }
   ],
   "source": [
    "from tqdm import tqdm\n",
    "from typing import List, Dict\n",
    "from elasticsearch.helpers import streaming_bulk\n",
    "\n",
    "start_time = time.time()\n",
    "for scene in scenes:\n",
    "    batch_size = 32\n",
    "    for batch_start in tqdm(range(0, len(df), batch_size), total=len(df) // batch_size):\n",
    "        batch_end = batch_start + batch_size\n",
    "        batch = df.iloc[batch_start:batch_end]\n",
    "        docs = [\n",
    "            {\n",
    "                \"subject\": row[scene],\n",
    "                \"table_name\": scene,\n",
    "            } for index, row in batch.iterrows()\n",
    "        ]\n",
    "\n",
    "        def document_generator():\n",
    "            \"\"\"Documents generator.\n",
    "            \"\"\"\n",
    "            doc_art_content_formated_list = [doc[\"subject\"] for doc in docs]\n",
    "            doc_art_content_formated_vectors = gen_vector(doc_art_content_formated_list)\n",
    "            for doc, doc_art_content_formated_vector in zip(docs, doc_art_content_formated_vectors):\n",
    "                doc[\"subject_vector\"] = doc_art_content_formated_vector\n",
    "                yield doc\n",
    "\n",
    "        successes = 0\n",
    "        for ok, action in streaming_bulk(client=es, index=index_name, actions=document_generator()):\n",
    "            successes += ok\n",
    "        if successes != len(docs):\n",
    "            print(f\"Failed to be added to ElasticSearch: {len(docs)-successes}/{len(docs)}\")\n",
    "end_time = time.time()\n",
    "print(f\"Total time: {end_time - start_time}\")"
   ]
  }
 ],
 "metadata": {
  "kernelspec": {
   "display_name": "Python 3 (ipykernel)",
   "language": "python",
   "name": "python3"
  },
  "language_info": {
   "codemirror_mode": {
    "name": "ipython",
    "version": 3
   },
   "file_extension": ".py",
   "mimetype": "text/x-python",
   "name": "python",
   "nbconvert_exporter": "python",
   "pygments_lexer": "ipython3",
   "version": "3.8.10"
  },
  "vscode": {
   "interpreter": {
    "hash": "ed515e79a73b4c8fe39a227c841caf914aaeb218314f4e7f362c3e638af2593d"
   }
  }
 },
 "nbformat": 4,
 "nbformat_minor": 5
}
