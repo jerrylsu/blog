{
 "cells": [
  {
   "cell_type": "markdown",
   "metadata": {},
   "source": [
    "date: 2021-02-24 10:17:17\n",
    "author: Jerry Su\n",
    "slug: Sliding-Window\n",
    "title: Sliding Window\n",
    "category: \n",
    "tags: SlidingWindow, Algorithm\n",
    "summary: Reason is the light and the light of life.\n",
    "toc: show"
   ]
  },
  {
   "cell_type": "code",
   "execution_count": 33,
   "metadata": {},
   "outputs": [],
   "source": [
    "from typing import List"
   ]
  },
  {
   "cell_type": "markdown",
   "metadata": {},
   "source": [
    "### 滑动窗口均值"
   ]
  },
  {
   "cell_type": "code",
   "execution_count": 56,
   "metadata": {},
   "outputs": [],
   "source": [
    "class Solution:\n",
    "    def meanSlidingWindow(self, nums: List[int], k: int) -> List[int]:\n",
    "        \"\"\"暴力解法O(N*K)\n",
    "        \n",
    "        时间复杂度分析：由于每一个输入数组的元素，我们都需要计算它下K个元素的均值，所以时间复杂度为O(N*K)，N是输入数组元素个数。\n",
    "        这种算法效率低下的原因是，窗口每移动一步，总是有K-1个元素被重复计算了两次。overlapping elements: K-1\n",
    "        \"\"\"\n",
    "        result = []\n",
    "        for i in range(len(nums) - k + 1):\n",
    "            window_sum = 0.\n",
    "            for j in range(i, i + k):\n",
    "                window_sum += nums[j]\n",
    "            result.append(window_sum / k)\n",
    "        return result\n",
    "    \n",
    "    def meanSlidingWindow1(self, nums: List[int], k: int) -> List[int]:\n",
    "        \"\"\"暴力解法O(N*K)\n",
    "        \"\"\"\n",
    "        result = []\n",
    "        window_sum = 0.\n",
    "        for i in range(k):\n",
    "            window_sum += nums[i]\n",
    "        result.append(window_sum / k)\n",
    "        for i in range(1, len(nums) - k + 1):\n",
    "            window_sum = window_sum - nums[i-1] + nums[i+k-1]\n",
    "            result.append(window_sum / k)\n",
    "        return result"
   ]
  },
  {
   "cell_type": "code",
   "execution_count": 57,
   "metadata": {},
   "outputs": [
    {
     "name": "stdout",
     "output_type": "stream",
     "text": [
      "[2.2, 2.8, 2.4, 3.6, 2.8]\n",
      "[2.2, 2.8, 2.4, 3.6, 2.8]\n"
     ]
    }
   ],
   "source": [
    "solution = Solution()\n",
    "print(solution.meanSlidingWindow(nums=[1, 3, 2, 6, -1, 4, 1, 8, 2], k=5))\n",
    "print(solution.meanSlidingWindow1(nums=[1, 3, 2, 6, -1, 4, 1, 8, 2], k=5))"
   ]
  },
  {
   "cell_type": "markdown",
   "metadata": {},
   "source": [
    "### 239. 滑动窗口最大值"
   ]
  },
  {
   "cell_type": "code",
   "execution_count": 32,
   "metadata": {},
   "outputs": [],
   "source": [
    "\n",
    "\n",
    "class Solution:\n",
    "    def maxSlidingWindow(self, nums: List[int], k: int) -> List[int]:\n",
    "        \"\"\"暴力解法O(N*K)\n",
    "        \n",
    "        时间复杂度分析：由于每一个输入数组的元素，我们都需要计算它下K个元素中的最大值，所以时间复杂度为O(N*K)，N是输入数组元素个数。\n",
    "        这种算法效率低下的原因是，窗口每移动一步，总是有K-1个元素被重复计算了两次。overlapping elements: K-1\n",
    "        \"\"\"\n",
    "        result = []\n",
    "        for i in range(len(nums) - k + 1):\n",
    "            max_ = -float('inf')\n",
    "            for j in range(i, i + k):\n",
    "                max_ = max(nums[j], max_)\n",
    "            result.append(max_)\n",
    "        return result"
   ]
  },
  {
   "cell_type": "code",
   "execution_count": 29,
   "metadata": {},
   "outputs": [
    {
     "data": {
      "text/plain": [
       "[3, 3, 5, 5, 6, 7]"
      ]
     },
     "execution_count": 29,
     "metadata": {},
     "output_type": "execute_result"
    }
   ],
   "source": [
    "solution = Solution()\n",
    "solution.maxSlidingWindow(nums=[1,3,-1,-3,5,3,6,7], k=3)"
   ]
  },
  {
   "cell_type": "code",
   "execution_count": 1,
   "metadata": {},
   "outputs": [
    {
     "name": "stdout",
     "output_type": "stream",
     "text": [
      "[NbConvertApp] Converting notebook 2021-02-24-Sliding-Window.ipynb to markdown\n",
      "[NbConvertApp] Writing 2138 bytes to 2021-02-24-Sliding-Window.md\n"
     ]
    }
   ],
   "source": [
    "!jupyter nbconvert --to markdown 2021-02-24-Sliding-Window.ipynb"
   ]
  },
  {
   "cell_type": "code",
   "execution_count": null,
   "metadata": {},
   "outputs": [],
   "source": []
  }
 ],
 "metadata": {
  "kernelspec": {
   "display_name": "Python 3 (ipykernel)",
   "language": "python",
   "name": "python3"
  },
  "language_info": {
   "codemirror_mode": {
    "name": "ipython",
    "version": 3
   },
   "file_extension": ".py",
   "mimetype": "text/x-python",
   "name": "python",
   "nbconvert_exporter": "python",
   "pygments_lexer": "ipython3",
   "version": "3.8.10"
  }
 },
 "nbformat": 4,
 "nbformat_minor": 4
}
