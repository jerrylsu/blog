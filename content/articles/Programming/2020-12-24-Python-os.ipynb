{
 "cells": [
  {
   "cell_type": "markdown",
   "metadata": {},
   "source": [
    "date: 2020-12-24 10:17:17\n",
    "author: Jerry Su\n",
    "slug: Python-os\n",
    "title: Python - os\n",
    "category: \n",
    "tags: Python\n",
    "summary: Reason is the light and the light of life.\n",
    "toc: show"
   ]
  },
  {
   "cell_type": "code",
   "execution_count": 50,
   "metadata": {},
   "outputs": [
    {
     "data": {
      "text/plain": [
       "['__all__',\n",
       " '__builtins__',\n",
       " '__cached__',\n",
       " '__doc__',\n",
       " '__file__',\n",
       " '__loader__',\n",
       " '__name__',\n",
       " '__package__',\n",
       " '__spec__',\n",
       " '_get_sep',\n",
       " '_joinrealpath',\n",
       " '_varprog',\n",
       " '_varprogb',\n",
       " 'abspath',\n",
       " 'altsep',\n",
       " 'basename',\n",
       " 'commonpath',\n",
       " 'commonprefix',\n",
       " 'curdir',\n",
       " 'defpath',\n",
       " 'devnull',\n",
       " 'dirname',\n",
       " 'exists',\n",
       " 'expanduser',\n",
       " 'expandvars',\n",
       " 'extsep',\n",
       " 'genericpath',\n",
       " 'getatime',\n",
       " 'getctime',\n",
       " 'getmtime',\n",
       " 'getsize',\n",
       " 'isabs',\n",
       " 'isdir',\n",
       " 'isfile',\n",
       " 'islink',\n",
       " 'ismount',\n",
       " 'join',\n",
       " 'lexists',\n",
       " 'normcase',\n",
       " 'normpath',\n",
       " 'os',\n",
       " 'pardir',\n",
       " 'pathsep',\n",
       " 'realpath',\n",
       " 'relpath',\n",
       " 'samefile',\n",
       " 'sameopenfile',\n",
       " 'samestat',\n",
       " 'sep',\n",
       " 'split',\n",
       " 'splitdrive',\n",
       " 'splitext',\n",
       " 'stat',\n",
       " 'supports_unicode_filenames',\n",
       " 'sys']"
      ]
     },
     "execution_count": 50,
     "metadata": {},
     "output_type": "execute_result"
    }
   ],
   "source": [
    "dir(os.path)"
   ]
  },
  {
   "cell_type": "code",
   "execution_count": 7,
   "metadata": {},
   "outputs": [],
   "source": [
    "import os"
   ]
  },
  {
   "cell_type": "code",
   "execution_count": 16,
   "metadata": {},
   "outputs": [
    {
     "data": {
      "text/plain": [
       "True"
      ]
     },
     "execution_count": 16,
     "metadata": {},
     "output_type": "execute_result"
    }
   ],
   "source": [
    "os.path.isdir('/var/www/blog/content/articles/Programming')"
   ]
  },
  {
   "cell_type": "code",
   "execution_count": 11,
   "metadata": {},
   "outputs": [
    {
     "data": {
      "text/plain": [
       "True"
      ]
     },
     "execution_count": 11,
     "metadata": {},
     "output_type": "execute_result"
    }
   ],
   "source": [
    "os.path.isfile('/var/www/blog/content/articles/Programming/2018-10-03-Building-Python-Package.md')"
   ]
  },
  {
   "cell_type": "code",
   "execution_count": 8,
   "metadata": {},
   "outputs": [
    {
     "data": {
      "text/plain": [
       "True"
      ]
     },
     "execution_count": 8,
     "metadata": {},
     "output_type": "execute_result"
    }
   ],
   "source": [
    "os.path.exists('/var/www/blog/content/articles/Programming/')"
   ]
  },
  {
   "cell_type": "code",
   "execution_count": 30,
   "metadata": {},
   "outputs": [
    {
     "data": {
      "text/plain": [
       "'/var/www/blog/content/articles'"
      ]
     },
     "execution_count": 30,
     "metadata": {},
     "output_type": "execute_result"
    }
   ],
   "source": [
    "os.path.dirname('/var/www/blog/content/articles/Programming')"
   ]
  },
  {
   "cell_type": "code",
   "execution_count": 43,
   "metadata": {},
   "outputs": [
    {
     "data": {
      "text/plain": [
       "'2018-10-03-Building-Python-Package.md'"
      ]
     },
     "execution_count": 43,
     "metadata": {},
     "output_type": "execute_result"
    }
   ],
   "source": [
    "os.path.basename('/var/www/blog/content/articles/Programming/2018-10-03-Building-Python-Package.md')"
   ]
  },
  {
   "cell_type": "code",
   "execution_count": 40,
   "metadata": {},
   "outputs": [
    {
     "data": {
      "text/plain": [
       "'/var/www/blog/content/articles/Programming/2018-10-03-Building-Python-Package.md'"
      ]
     },
     "execution_count": 40,
     "metadata": {},
     "output_type": "execute_result"
    }
   ],
   "source": [
    "os.path.realpath('2018-10-03-Building-Python-Package.md')"
   ]
  },
  {
   "cell_type": "code",
   "execution_count": 8,
   "metadata": {},
   "outputs": [
    {
     "data": {
      "text/plain": [
       "('/var/www/blog/content/articles/Programming',\n",
       " '2018-10-03-Building-Python-Package.md')"
      ]
     },
     "execution_count": 8,
     "metadata": {},
     "output_type": "execute_result"
    }
   ],
   "source": [
    "os.path.split('/var/www/blog/content/articles/Programming/2018-10-03-Building-Python-Package.md')"
   ]
  },
  {
   "cell_type": "code",
   "execution_count": 56,
   "metadata": {},
   "outputs": [
    {
     "data": {
      "text/plain": [
       "('/var/www/blog/content/articles/Programming',\n",
       " '2018-10-03-Building-Python-Package.md')"
      ]
     },
     "execution_count": 56,
     "metadata": {},
     "output_type": "execute_result"
    }
   ],
   "source": [
    "os.path.split('/var/www/blog/content/articles/Programming/2018-10-03-Building-Python-Package.md')"
   ]
  },
  {
   "cell_type": "code",
   "execution_count": 44,
   "metadata": {},
   "outputs": [],
   "source": [
    "os.path.join"
   ]
  },
  {
   "cell_type": "code",
   "execution_count": 49,
   "metadata": {},
   "outputs": [],
   "source": [
    "os.makedirs"
   ]
  },
  {
   "cell_type": "code",
   "execution_count": null,
   "metadata": {},
   "outputs": [],
   "source": [
    "os.mkdir"
   ]
  },
  {
   "cell_type": "code",
   "execution_count": 6,
   "metadata": {},
   "outputs": [
    {
     "name": "stdout",
     "output_type": "stream",
     "text": [
      "/var/www/blog/content/articles/Programming\n",
      "['.ipynb_checkpoints']\n",
      "['2019-04-12-Checking-DataFrame-Series-missing-values.md', '2021-01-04-torch.nn.CrossEntropyLoss.ipynb', '2019-04-12-Using-loguru-and-notifiers-instead-of-logging.md', '2019-03-11-Spark-Shuffling-and-Partitioning.md', '2019-05-24-Closure.md', '2019-04-17-Case-Class-vs-Class.md', '2020-12-03-tf.not_equal-reduce_any-boolean_mask.ipynb', '2020-12-09-loss.ipynb', '2020-12-20-Python-Decorator.ipynb', '2020-12-20-Python-Requests.ipynb', '2021-02-22-Numpy-Indexing.ipynb', '2020-07-22-Pytorch-Transformer.md', '2019-07-20-Spark.md', '2019-04-17-Singleton-Companion-Object.md', '2019-03-28-Python-logging.md', '2021-01-04-torch.rand-randn-randint.ipynb', '2020-06-11-Iterator.md', '2020-06-25-Pytorch-distributed-train.md', '2021-09-16-Pymysql.md', '2019-01-13-Scala.md', '2018-10-03-Building-Python-Package.md', '2020-11-23-dim.ipynb', '2021-03-04-scatter_nd.ipynb', '2020-12-20-Python-dataclasses.ipynb', '2019-04-26-Python-Object-and-Reference.md', '2021-10-01-Python-list-mapping.ipynb', '2021-08-26-Python-setdefault.ipynb', '2021-08-05-Python-Encode-Decode.ipynb', '2019-01-03-Spark-RDD.md', '2021-08-05-Python-m.ipynb', '2020-12-24-Python-typing.ipynb', '2021-04-02-Python-Coroutine.ipynb', '2020-12-24-Python-os.path.ipynb', '2021-01-04-Pytorch-create-tendsor.ipynb', '2019-04-13-Auto-generated-subtitles-for-any-video.md', '2019-07-17-Scala-Tips.md', '2019-07-16-Spark-Tips.md', '2021-03-22-Python-Blinker.ipynb', '2019-05-23-Using-groupBy-on-multiple-columns.md', '2020-12-03-Python-list.index.ipynb', '2020-12-30-Python-Iterable-Iterator.ipynb', '2021-01-07-batch-padding.ipynb', '2021-08-12-Numpy-np.where.ipynb', '2019-02-28-Scala-with-Gradle-in-Intellij.md', '2021-01-18-torch-detach-detach_-data.ipynb', '2020-12-31-Python-Generator.ipynb', '2019-07-19-Spark-Partitions-with-Coalesce-and-Repartition.md', '2020-12-18-Python-Built-in-Functions.ipynb', '2019-07-12-Collection.md', '2019-03-21-Spark-SQL-Join.md', '2021-01-04-Pytorch-tensor-indexing.ipynb', '2019-05-23-Passing-a-function-as-an-argument-Lambda-Function.md', '2021-09-27-Pandas-to-csv.ipynb', '2020-11-23-merge_split.ipynb', '2019-02-26-Debugging-Spark-Application.md', '2020-11-23-tf.broadcast_to.ipynb', '2020-07-21-Pytorch-contiguous.md', '2020-11-23-tf.math.ipynb', '2020-05-09-C++.md', '2019-06-26-SQLite-Full-text-Search.md', '2019-03-28-Python-email.md']\n"
     ]
    }
   ],
   "source": [
    "for root, dirs, files in os.walk('/var/www/blog/content/articles/Programming'): # 遍历目录 \n",
    "    print(root)\n",
    "    print(dirs)\n",
    "    print(files)\n",
    "    break"
   ]
  }
 ],
 "metadata": {
  "kernelspec": {
   "display_name": "Python 3 (ipykernel)",
   "language": "python",
   "name": "python3"
  },
  "language_info": {
   "codemirror_mode": {
    "name": "ipython",
    "version": 3
   },
   "file_extension": ".py",
   "mimetype": "text/x-python",
   "name": "python",
   "nbconvert_exporter": "python",
   "pygments_lexer": "ipython3",
   "version": "3.8.3"
  }
 },
 "nbformat": 4,
 "nbformat_minor": 4
}
