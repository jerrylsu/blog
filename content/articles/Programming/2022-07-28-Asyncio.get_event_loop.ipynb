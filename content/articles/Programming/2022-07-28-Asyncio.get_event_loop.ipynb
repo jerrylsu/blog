{
 "cells": [
  {
   "cell_type": "markdown",
   "metadata": {},
   "source": [
    "date: 2022-07-28 10:17:17\n",
    "author: Jerry Su\n",
    "slug: asyncio-get_event_loop-vs-get_running_loop\n",
    "title: asyncio get_event_loop vs get_running_loop\n",
    "category: \n",
    "tags: Python\n",
    "summary: Reason is the light and the light of life.\n",
    "toc: show"
   ]
  },
  {
   "cell_type": "markdown",
   "metadata": {},
   "source": [
    "Asyncio\n",
    "\n",
    "**asyncio.get_event_loop** vs **asyncio.get_running_loop**\n",
    "\n",
    "https://stackoverflow.com/questions/65206110/when-should-we-use-asyncio-get-running-loop-vs-asyncio-get-event-loop/69314701#69314701"
   ]
  }
 ],
 "metadata": {
  "kernelspec": {
   "display_name": "Python [conda env:blog]",
   "language": "python",
   "name": "conda-env-blog-py"
  },
  "language_info": {
   "codemirror_mode": {
    "name": "ipython",
    "version": 3
   },
   "file_extension": ".py",
   "mimetype": "text/x-python",
   "name": "python",
   "nbconvert_exporter": "python",
   "pygments_lexer": "ipython3",
   "version": "3.8.3"
  }
 },
 "nbformat": 4,
 "nbformat_minor": 4
}
