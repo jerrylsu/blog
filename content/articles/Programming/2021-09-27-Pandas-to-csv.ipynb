{
 "cells": [
  {
   "cell_type": "markdown",
   "metadata": {},
   "source": [
    "date: 2021-09-27 10:17:17\n",
    "author: Jerry Su\n",
    "slug: Pandas-to-csv\n",
    "title: Pandas-to-csv\n",
    "category: \n",
    "tags: Pandas"
   ]
  },
  {
   "cell_type": "code",
   "execution_count": 1,
   "metadata": {},
   "outputs": [],
   "source": [
    "import pandas as pd"
   ]
  },
  {
   "cell_type": "code",
   "execution_count": 71,
   "metadata": {},
   "outputs": [],
   "source": [
    "columns = ['question', 'answer']"
   ]
  },
  {
   "cell_type": "code",
   "execution_count": 72,
   "metadata": {},
   "outputs": [],
   "source": [
    "questions = open('../../cache/finance_question.txt', 'r', encoding='utf-8').readlines()\n",
    "answers = open('../../cache/finance_answer.txt', 'r', encoding='utf-8').readlines()"
   ]
  },
  {
   "cell_type": "code",
   "execution_count": 73,
   "metadata": {},
   "outputs": [],
   "source": [
    "qa_pairs = []\n",
    "for question, answer in zip(questions, answers):\n",
    "    question = question.strip()\n",
    "    answer = answer.strip()\n",
    "    if not question or not answer:\n",
    "        continue\n",
    "    qa_pairs.append((question, answer))"
   ]
  },
  {
   "cell_type": "code",
   "execution_count": 74,
   "metadata": {},
   "outputs": [],
   "source": [
    "qa_pairs_df = pd.DataFrame(columns=columns, data=qa_pairs)"
   ]
  },
  {
   "cell_type": "code",
   "execution_count": 75,
   "metadata": {
    "scrolled": true
   },
   "outputs": [
    {
     "data": {
      "text/html": [
       "<div>\n",
       "<style scoped>\n",
       "    .dataframe tbody tr th:only-of-type {\n",
       "        vertical-align: middle;\n",
       "    }\n",
       "\n",
       "    .dataframe tbody tr th {\n",
       "        vertical-align: top;\n",
       "    }\n",
       "\n",
       "    .dataframe thead th {\n",
       "        text-align: right;\n",
       "    }\n",
       "</style>\n",
       "<table border=\"1\" class=\"dataframe\">\n",
       "  <thead>\n",
       "    <tr style=\"text-align: right;\">\n",
       "      <th></th>\n",
       "      <th>question</th>\n",
       "      <th>answer</th>\n",
       "    </tr>\n",
       "  </thead>\n",
       "  <tbody>\n",
       "    <tr>\n",
       "      <th>0</th>\n",
       "      <td>天湖小区的房子首付多少，能用公积金贷款</td>\n",
       "      <td>由于各城市相关政策有所不同，具体您所在当地是否有开展公积金贷款业务，以及相关业务规定，您可以...</td>\n",
       "    </tr>\n",
       "    <tr>\n",
       "      <th>1</th>\n",
       "      <td>43###00日元多少人民币</td>\n",
       "      <td>由于外汇汇率是实时变动的，您可以登录我行主页，点击右侧“实时金融信息”下“外汇实时汇率”查看...</td>\n",
       "    </tr>\n",
       "    <tr>\n",
       "      <th>2</th>\n",
       "      <td>定期没到期手机能不能转账</td>\n",
       "      <td>【整存整取已到期转存】到期自动转存后的整存整取，可通过柜台、电话银行、网上银行、手机银行全额...</td>\n",
       "    </tr>\n",
       "    <tr>\n",
       "      <th>3</th>\n",
       "      <td>信用卡太多是不是不利于提额</td>\n",
       "      <td>招行信用卡信用固定额度调整，目前可通过三种方式申请：1、您可以在持卡一段时间后，在我行客服热...</td>\n",
       "    </tr>\n",
       "    <tr>\n",
       "      <th>4</th>\n",
       "      <td>钱多多：短期理财平台有哪些</td>\n",
       "      <td>个人投资理财方式较多，如:定期、国债、受托理财、基金等等，若您持我行卡购买，建议您可以到我行...</td>\n",
       "    </tr>\n",
       "  </tbody>\n",
       "</table>\n",
       "</div>"
      ],
      "text/plain": [
       "              question                                             answer\n",
       "0  天湖小区的房子首付多少，能用公积金贷款  由于各城市相关政策有所不同，具体您所在当地是否有开展公积金贷款业务，以及相关业务规定，您可以...\n",
       "1       43###00日元多少人民币  由于外汇汇率是实时变动的，您可以登录我行主页，点击右侧“实时金融信息”下“外汇实时汇率”查看...\n",
       "2         定期没到期手机能不能转账  【整存整取已到期转存】到期自动转存后的整存整取，可通过柜台、电话银行、网上银行、手机银行全额...\n",
       "3        信用卡太多是不是不利于提额  招行信用卡信用固定额度调整，目前可通过三种方式申请：1、您可以在持卡一段时间后，在我行客服热...\n",
       "4        钱多多：短期理财平台有哪些  个人投资理财方式较多，如:定期、国债、受托理财、基金等等，若您持我行卡购买，建议您可以到我行..."
      ]
     },
     "execution_count": 75,
     "metadata": {},
     "output_type": "execute_result"
    }
   ],
   "source": [
    "qa_pairs_df.head()"
   ]
  },
  {
   "cell_type": "code",
   "execution_count": 76,
   "metadata": {},
   "outputs": [],
   "source": [
    "qa_pairs_df.to_csv('../../cache/qa_pairs.csv')"
   ]
  }
 ],
 "metadata": {
  "kernelspec": {
   "display_name": "Python 3 (ipykernel)",
   "language": "python",
   "name": "python3"
  },
  "language_info": {
   "codemirror_mode": {
    "name": "ipython",
    "version": 3
   },
   "file_extension": ".py",
   "mimetype": "text/x-python",
   "name": "python",
   "nbconvert_exporter": "python",
   "pygments_lexer": "ipython3",
   "version": "3.8.3"
  }
 },
 "nbformat": 4,
 "nbformat_minor": 4
}
