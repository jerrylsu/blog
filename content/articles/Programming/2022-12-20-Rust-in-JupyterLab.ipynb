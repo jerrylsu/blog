{
 "cells": [
  {
   "cell_type": "markdown",
   "metadata": {},
   "source": [
    "date: 2022-12-20 10:17:17\n",
    "author: Jerry Su\n",
    "slug: Rust-in-JupyerLab\n",
    "title: Rust in JupyterLab\n",
    "category: \n",
    "tags: Rust\n",
    "toc: show"
   ]
  },
  {
   "cell_type": "markdown",
   "metadata": {},
   "source": [
    "\n",
    "## 1. Install JupyterLab\n",
    "\n",
    "## 2. Install Rust\n",
    "\n",
    "- `curl https://sh.rustup.rs -sSf | sh`\n",
    "\n",
    "- `source $HOME/.cargo/env`\n",
    "\n",
    "- `export PATH=\"$HOME/.cargo/bin:$PATH\"`\n",
    "\n",
    "## 3. Install Evcxr Jupyter Kernel\n",
    "\n",
    "- `cargo install evcxr_jupyter`\n",
    "\n",
    "- `evcxr_jupyter --install`\n",
    "\n",
    "## Reference\n",
    "\n",
    "https://github.com/google/evcxr/blob/main/evcxr_jupyter/README.md\n",
    "\n",
    "https://datacrayon.com/posts/programming/rust-notebooks/setup-anaconda-jupyter-and-rust/\n"
   ]
  },
  {
   "cell_type": "code",
   "execution_count": 1,
   "metadata": {},
   "outputs": [
    {
     "name": "stdout",
     "output_type": "stream",
     "text": [
      "[NbConvertApp] WARNING | Config option `kernel_spec_manager_class` not recognized by `NbConvertApp`.\n",
      "[NbConvertApp] Converting notebook 2022-12-20-Rust-in-JupyterLab.ipynb to markdown\n",
      "[NbConvertApp] Writing 656 bytes to 2022-12-20-Rust-in-JupyterLab.md\n"
     ]
    }
   ],
   "source": [
    "!jupyter nbconvert --to markdown 2022-12-20-Rust-in-JupyterLab.ipynb"
   ]
  }
 ],
 "metadata": {
  "kernelspec": {
   "display_name": "Python [conda env:dev] *",
   "language": "python",
   "name": "conda-env-dev-py"
  },
  "language_info": {
   "codemirror_mode": {
    "name": "ipython",
    "version": 3
   },
   "file_extension": ".py",
   "mimetype": "text/x-python",
   "name": "python",
   "nbconvert_exporter": "python",
   "pygments_lexer": "ipython3",
   "version": "3.8.10"
  }
 },
 "nbformat": 4,
 "nbformat_minor": 4
}
