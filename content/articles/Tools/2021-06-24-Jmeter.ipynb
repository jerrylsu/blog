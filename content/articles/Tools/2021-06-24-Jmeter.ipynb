{
 "cells": [
  {
   "cell_type": "markdown",
   "metadata": {},
   "source": [
    "date: 2021-06-24 13:17:17\n",
    "author: Jerry Su\n",
    "slug: Jmeter\n",
    "title: Jmeter\n",
    "category: \n",
    "tags: Jmeter, Tools\n",
    "summary: Reason is the light and the light of life.\n",
    "toc: show"
   ]
  },
  {
   "cell_type": "markdown",
   "metadata": {},
   "source": [
    "`https://jmeter.apache.org/download_jmeter.cgi`\n",
    "\n",
    "```\n",
    "tar -xzvf apache-jmeter-5.4.1.tgz\n",
    "cd apache-jmeter-5.4.1/bin\n",
    "sh jmeter\n",
    "```\n",
    "\n",
    "configure Jmeter and export test_plan.jmx\n",
    "\n",
    "![jmeter](../../images/Jmeter/jmeter.png)\n",
    "\n",
    "cmd:`jmeter -n -t testplan/RedisLock.jmx -l testplan/result/result.txt -e -o testplan/webreport\n",
    "`\n",
    "\n",
    "testplan/RedisLock.jmx 为测试计划文件路径\n",
    "\n",
    "testplan/result/result.txt 为测试结果文件路径\n",
    "\n",
    "testplan/webreport 为web报告保存路径\n",
    "\n",
    "[Jmeter test](https://www.cnblogs.com/stulzq/p/8971531.html)"
   ]
  }
 ],
 "metadata": {
  "kernelspec": {
   "display_name": "Python [conda env:blog] *",
   "language": "python",
   "name": "conda-env-blog-py"
  },
  "language_info": {
   "codemirror_mode": {
    "name": "ipython",
    "version": 3
   },
   "file_extension": ".py",
   "mimetype": "text/x-python",
   "name": "python",
   "nbconvert_exporter": "python",
   "pygments_lexer": "ipython3",
   "version": "3.8.3"
  }
 },
 "nbformat": 4,
 "nbformat_minor": 4
}
