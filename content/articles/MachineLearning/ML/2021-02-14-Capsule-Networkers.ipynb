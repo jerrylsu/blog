{
 "cells": [
  {
   "cell_type": "markdown",
   "metadata": {},
   "source": [
    "date: 2021-02-14 10:17:17\n",
    "author: Jerry Su\n",
    "slug: Capsule-Networkers\n",
    "title: Capsule Networkers\n",
    "category: \n",
    "tags: Deep Learning"
   ]
  },
  {
   "cell_type": "markdown",
   "metadata": {},
   "source": [
    "[Dynamic Routing Between Capsules](https://papers.nips.cc/paper/2017/file/2cad8fa47bbef282badbb8de5374b894-Paper.pdf)\n",
    "\n",
    "[https://zhuanlan.zhihu.com/p/30970675](https://zhuanlan.zhihu.com/p/30970675)\n",
    "\n",
    "[https://www.bilibili.com/video/BV1eW411Q7CE?from=search&seid=7299769468991443060](https://www.bilibili.com/video/BV1eW411Q7CE?from=search&seid=7299769468991443060)\n",
    "\n",
    "[https://zhuanlan.zhihu.com/p/34336279](https://zhuanlan.zhihu.com/p/34336279)\n",
    "\n",
    "[https://www.youtube.com/watch?v=sotRFRpEJFg](https://www.youtube.com/watch?v=sotRFRpEJFg)\n",
    "\n",
    "[https://github.com/AlexHex7/CapsNet_pytorch](https://github.com/AlexHex7/CapsNet_pytorch)\n",
    "\n",
    "[https://github.com/leftthomas/CapsNet](https://github.com/leftthomas/CapsNet)\n",
    "\n",
    "[https://github.com/gram-ai/capsule-networks](https://github.com/gram-ai/capsule-networks)\n",
    "\n",
    "[https://github.com/cedrickchee/capsule-net-pytorch](https://github.com/cedrickchee/capsule-net-pytorch)"
   ]
  },
  {
   "cell_type": "code",
   "execution_count": 17,
   "metadata": {
    "scrolled": false
   },
   "outputs": [
    {
     "data": {
      "text/html": [
       "<iframe width=\"1024\" height=\"560\" src=\"https://www.youtube.com/watch?v=sotRFRpEJFg\" frameborder=\"0\" allowfullscreen></iframe>"
      ],
      "text/plain": [
       "<IPython.core.display.HTML object>"
      ]
     },
     "execution_count": 17,
     "metadata": {},
     "output_type": "execute_result"
    }
   ],
   "source": [
    "from IPython.display import HTML\n",
    "HTML(\"\"\"<iframe width=\"1024\" height=\"560\" src=\"https://www.youtube.com/watch?v=sotRFRpEJFg\" frameborder=\"0\" allowfullscreen></iframe>\"\"\")"
   ]
  },
  {
   "cell_type": "code",
   "execution_count": null,
   "metadata": {},
   "outputs": [],
   "source": []
  }
 ],
 "metadata": {
  "kernelspec": {
   "display_name": "Python [conda env:blog] *",
   "language": "python",
   "name": "conda-env-blog-py"
  },
  "language_info": {
   "codemirror_mode": {
    "name": "ipython",
    "version": 3
   },
   "file_extension": ".py",
   "mimetype": "text/x-python",
   "name": "python",
   "nbconvert_exporter": "python",
   "pygments_lexer": "ipython3",
   "version": "3.8.3"
  }
 },
 "nbformat": 4,
 "nbformat_minor": 2
}
