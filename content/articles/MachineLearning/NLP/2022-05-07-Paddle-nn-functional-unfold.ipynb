{
 "cells": [
  {
   "cell_type": "markdown",
   "metadata": {},
   "source": [
    "- date: 2022-05-07 11:17:17\n",
    "- author: Jerry Su\n",
    "- slug: Paddle-nn-functional-unfold\n",
    "- title: Paddle.nn.functional.unfold\n",
    "- category: \n",
    "- tags: Paddle"
   ]
  },
  {
   "cell_type": "code",
   "execution_count": 1,
   "metadata": {},
   "outputs": [],
   "source": [
    "import paddle"
   ]
  },
  {
   "cell_type": "code",
   "execution_count": 57,
   "metadata": {},
   "outputs": [
    {
     "data": {
      "text/plain": [
       "Tensor(shape=[3], dtype=float32, place=CPUPlace, stop_gradient=True,\n",
       "       [-1.37024617,  0.20835546, -0.63053715])"
      ]
     },
     "execution_count": 57,
     "metadata": {},
     "output_type": "execute_result"
    }
   ],
   "source": [
    "x = paddle.randn([3, 1])\n",
    "x.squeeze(-1)"
   ]
  },
  {
   "cell_type": "code",
   "execution_count": 17,
   "metadata": {},
   "outputs": [],
   "source": [
    "y = paddle.nn.functional.unfold(x, [2,2], strides=2, paddings=0)"
   ]
  },
  {
   "cell_type": "code",
   "execution_count": 52,
   "metadata": {},
   "outputs": [
    {
     "data": {
      "text/plain": [
       "[[[997.6767578125, 999.7601318359375, 1002.0780639648438, 1000.0017700195312],\n",
       "  [1000.2700805664062,\n",
       "   1000.8758544921875,\n",
       "   999.9532470703125,\n",
       "   1001.2442016601562],\n",
       "  [998.4443359375, 998.3113403320312, 1000.0145263671875, 1001.0475463867188],\n",
       "  [1001.1615600585938,\n",
       "   998.6926879882812,\n",
       "   999.7933959960938,\n",
       "   999.2969970703125],\n",
       "  [999.9657592773438, 999.6129760742188, 998.1392822265625, 998.295654296875],\n",
       "  [998.6613159179688, 999.550537109375, 1000.5711059570312, 1001.423828125],\n",
       "  [1001.8226318359375,\n",
       "   1000.0838012695312,\n",
       "   997.6318969726562,\n",
       "   1001.953369140625],\n",
       "  [1000.6912231445312, 1000.760498046875, 1000.1134033203125, 1002.2890625]]]"
      ]
     },
     "execution_count": 52,
     "metadata": {},
     "output_type": "execute_result"
    }
   ],
   "source": [
    "y.tolist()"
   ]
  }
 ],
 "metadata": {
  "kernelspec": {
   "display_name": "Python [conda env:blog]",
   "language": "python",
   "name": "conda-env-blog-py"
  },
  "language_info": {
   "codemirror_mode": {
    "name": "ipython",
    "version": 3
   },
   "file_extension": ".py",
   "mimetype": "text/x-python",
   "name": "python",
   "nbconvert_exporter": "python",
   "pygments_lexer": "ipython3",
   "version": "3.8.3"
  }
 },
 "nbformat": 4,
 "nbformat_minor": 4
}
