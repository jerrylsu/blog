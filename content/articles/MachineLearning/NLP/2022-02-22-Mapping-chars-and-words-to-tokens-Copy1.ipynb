{
 "cells": [
  {
   "cell_type": "markdown",
   "metadata": {},
   "source": [
    "- date: 2022-02-22 11:17:17\n",
    "- author: Jerry Su\n",
    "- slug:  Mapping-Chars-and-Words-to-Tokens\n",
    "- title: Mapping-Chars-and-Words-to-Tokens\n",
    "- category:\n",
    "- tags: NLP"
   ]
  },
  {
   "cell_type": "markdown",
   "metadata": {},
   "source": [
    "[How to Convert Characters, Tokens, and Words](https://www.kaggle.com/c/feedback-prize-2021/discussion/298094)"
   ]
  },
  {
   "cell_type": "markdown",
   "metadata": {},
   "source": [
    "## 1. Mapping char to token."
   ]
  },
  {
   "cell_type": "code",
   "execution_count": 47,
   "metadata": {},
   "outputs": [
    {
     "name": "stderr",
     "output_type": "stream",
     "text": [
      "Special tokens have been added in the vocabulary, make sure the associated word embeddings are fine-tuned or trained.\n"
     ]
    }
   ],
   "source": [
    "from transformers import BigBirdTokenizerFast\n",
    "tokenizer = BigBirdTokenizerFast.from_pretrained('allenai/longformer-large-4096')"
   ]
  },
  {
   "cell_type": "code",
   "execution_count": 48,
   "metadata": {},
   "outputs": [],
   "source": [
    "text = \"Phones\\n\\nModern humans today are always on their phone. \"\n",
    "text_encoded = tokenizer(text, return_offsets_mapping=True, max_length=512, truncation=True)"
   ]
  },
  {
   "cell_type": "code",
   "execution_count": 49,
   "metadata": {},
   "outputs": [
    {
     "name": "stdout",
     "output_type": "stream",
     "text": [
      "input_ids:\t [0, 48083, 50118, 50118, 39631, 5868, 452, 32, 460, 15, 49, 1028, 4, 1437, 2], len: 15\n",
      "tokens:\t\t ['<s>', 'Phones', 'Ċ', 'Ċ', 'Modern', 'Ġhumans', 'Ġtoday', 'Ġare', 'Ġalways', 'Ġon', 'Ġtheir', 'Ġphone', '.', 'Ġ', '</s>'], len: 15\n",
      "offset_mapping:  [(0, 0), (0, 6), (6, 7), (7, 8), (8, 14), (15, 21), (22, 27), (28, 31), (32, 38), (39, 41), (42, 47), (48, 53), (53, 54), (55, 55), (0, 0)], len: 15\n"
     ]
    },
    {
     "data": {
      "text/plain": [
       "'Phones\\n\\nModern humans today are always on their phone. '"
      ]
     },
     "execution_count": 49,
     "metadata": {},
     "output_type": "execute_result"
    }
   ],
   "source": [
    "input_ids = text_encoded['input_ids']\n",
    "tokens = tokenizer.convert_ids_to_tokens(input_ids)\n",
    "offset_mapping = text_encoded['offset_mapping']\n",
    "print(f\"input_ids:\\t {input_ids}, len: {len(input_ids)}\")\n",
    "print(f\"tokens:\\t\\t {tokens}, len: {len(tokens)}\")\n",
    "print(f\"offset_mapping:  {offset_mapping}, len: {len(offset_mapping)}\")\n",
    "text"
   ]
  },
  {
   "cell_type": "markdown",
   "metadata": {},
   "source": [
    "**offset_mapping: tokens与offset_mapping意义对应，意义当前token在原文本中的start，end位置。 [start, end）左闭右开  'Phones'->start:0 end:6**"
   ]
  },
  {
   "cell_type": "code",
   "execution_count": 53,
   "metadata": {},
   "outputs": [
    {
     "data": {
      "text/plain": [
       "[[],\n",
       " [0, 6],\n",
       " [6],\n",
       " [7],\n",
       " [8, 14],\n",
       " [15, 21],\n",
       " [22, 27],\n",
       " [28, 31],\n",
       " [32, 38],\n",
       " [39, 41],\n",
       " [42, 47],\n",
       " [48, 53],\n",
       " [53],\n",
       " [],\n",
       " []]"
      ]
     },
     "execution_count": 53,
     "metadata": {},
     "output_type": "execute_result"
    }
   ],
   "source": [
    "new_span = []\n",
    "for i in offset_mapping:\n",
    "    if i[0] == i[1]:\n",
    "        new_span.append([])\n",
    "    else:\n",
    "        if i[0] + 1 == i[1]:\n",
    "            new_span.append([i[0]])\n",
    "        else:\n",
    "            new_span.append([i[0], i[-1]])\n",
    "new_span         "
   ]
  },
  {
   "cell_type": "code",
   "execution_count": null,
   "metadata": {},
   "outputs": [],
   "source": []
  },
  {
   "cell_type": "code",
   "execution_count": null,
   "metadata": {},
   "outputs": [],
   "source": []
  },
  {
   "cell_type": "code",
   "execution_count": 42,
   "metadata": {},
   "outputs": [
    {
     "name": "stdout",
     "output_type": "stream",
     "text": [
      "tokens_with_offset_mapping: ['', 'Phones', '\\n', '\\n', 'Modern', 'humans', 'today', 'are', 'always', 'on', 'their', 'phone', '.', '', ''], len: 15\n"
     ]
    }
   ],
   "source": [
    "tokens_with_offset_mapping = [text[ele[0]:ele[1]] for ele in offset_mapping]\n",
    "print(f\"tokens_with_offset_mapping: {tokens_with_offset_mapping}, len: {len(tokens_with_offset_mapping)}\")"
   ]
  },
  {
   "cell_type": "code",
   "execution_count": 43,
   "metadata": {},
   "outputs": [],
   "source": [
    "text = \"Phones\\n\\nModern humans today are always on their phone. \" \n",
    "# Modern为实体，则(8, 14)"
   ]
  },
  {
   "cell_type": "markdown",
   "metadata": {},
   "source": [
    "**j[-1]表示end，-1由于标注数据end是闭区间，offset_mapping返回的[start, end)end是开区间，-1与标注数据end对应**"
   ]
  },
  {
   "cell_type": "code",
   "execution_count": 46,
   "metadata": {},
   "outputs": [
    {
     "name": "stdout",
     "output_type": "stream",
     "text": [
      "{0: 1, 6: 2, 7: 3, 8: 4, 15: 5, 22: 6, 28: 7, 32: 8, 39: 9, 42: 10, 48: 11, 53: 12, 55: 13}\n",
      "{6: 1, 7: 2, 8: 3, 14: 4, 21: 5, 27: 6, 31: 7, 38: 8, 41: 9, 47: 10, 53: 11, 54: 12, 55: 13}\n"
     ]
    }
   ],
   "source": [
    "start_mapping = {j[0]: i for i, j in enumerate(offset_mapping) if j != (0, 0)}\n",
    "end_mapping = {j[-1]: i for i, j in enumerate(offset_mapping) if j != (0, 0)}\n",
    "print(start_mapping)\n",
    "print(end_mapping)"
   ]
  },
  {
   "cell_type": "code",
   "execution_count": 45,
   "metadata": {},
   "outputs": [
    {
     "name": "stdout",
     "output_type": "stream",
     "text": [
      "entity_label: Modern human\n",
      "entity_token; ['Modern', 'Ġhumans']\n"
     ]
    }
   ],
   "source": [
    "# test \"Modern humans\"\n",
    "char_start, char_end = 8, 20\n",
    "entity_label = text[char_start:char_end]\n",
    "print(f\"entity_label: {entity_label}\")\n",
    "\n",
    "token_start, token_end = start_mapping[char_start], end_mapping[char_end]\n",
    "entity_token = tokens[token_start:token_end+1]\n",
    "print(f\"entity_token; {entity_token}\")"
   ]
  },
  {
   "cell_type": "code",
   "execution_count": null,
   "metadata": {},
   "outputs": [],
   "source": []
  },
  {
   "cell_type": "code",
   "execution_count": null,
   "metadata": {},
   "outputs": [],
   "source": []
  },
  {
   "cell_type": "code",
   "execution_count": null,
   "metadata": {},
   "outputs": [],
   "source": []
  },
  {
   "cell_type": "markdown",
   "metadata": {},
   "source": [
    "## 2.Mapping words to tokens."
   ]
  },
  {
   "cell_type": "code",
   "execution_count": 9,
   "metadata": {},
   "outputs": [
    {
     "name": "stdout",
     "output_type": "stream",
     "text": [
      "text split: ['Phones', 'Modern.', 'humans.', 'today', 'are', 'always', 'on', 'their', 'phone.']\n",
      "input_ids: [0, 48083, 39631, 4, 44734, 4, 34375, 1322, 30035, 261, 25017, 17283, 4, 2], len: 14\n",
      "token: ['<s>', 'Phones', 'Modern', '.', 'humans', '.', 'today', 'are', 'always', 'on', 'their', 'phone', '.', '</s>'], len: 14\n",
      "word_ids: [None, 0, 1, 1, 2, 2, 3, 4, 5, 6, 7, 8, 8, None], len: 14\n"
     ]
    }
   ],
   "source": [
    "text = \"Phones\\n\\nModern. humans. today are always on their phone. \" \n",
    "print(f\"text split: {text.split()}\")\n",
    "encoding = tokenizer(text.split(), is_split_into_words=True, truncation=True, max_length=512)\n",
    "input_ids = encoding['input_ids']\n",
    "print(f\"input_ids: {input_ids}, len: {len(input_ids)}\")\n",
    "tokens = tokenizer.convert_ids_to_tokens(input_ids)\n",
    "print(f\"token: {tokens}, len: {len(tokens)}\")\n",
    "word_ids = encoding.word_ids() \n",
    "print(f\"word_ids: {word_ids}, len: {len(word_ids)}\")"
   ]
  },
  {
   "cell_type": "code",
   "execution_count": 12,
   "metadata": {},
   "outputs": [
    {
     "name": "stdout",
     "output_type": "stream",
     "text": [
      "['Phones', 'Modern.', 'humans.', 'today', 'are', 'always', 'on', 'their', 'phone.']\n"
     ]
    }
   ],
   "source": [
    "print(text.split())"
   ]
  },
  {
   "cell_type": "code",
   "execution_count": 13,
   "metadata": {},
   "outputs": [
    {
     "data": {
      "text/plain": [
       "['Modern.', 'humans.']"
      ]
     },
     "execution_count": 13,
     "metadata": {},
     "output_type": "execute_result"
    }
   ],
   "source": [
    "word_start, word_end = 1, 3  # [)\n",
    "text.split()[word_start:word_end]"
   ]
  },
  {
   "cell_type": "code",
   "execution_count": 14,
   "metadata": {},
   "outputs": [
    {
     "data": {
      "text/plain": [
       "2"
      ]
     },
     "execution_count": 14,
     "metadata": {},
     "output_type": "execute_result"
    }
   ],
   "source": [
    "token_start = word_ids.index(word_start)\n",
    "token_start"
   ]
  },
  {
   "cell_type": "code",
   "execution_count": 16,
   "metadata": {},
   "outputs": [
    {
     "data": {
      "text/plain": [
       "(2, 5)"
      ]
     },
     "execution_count": 16,
     "metadata": {},
     "output_type": "execute_result"
    }
   ],
   "source": [
    "def mapping_word_to_token(word_ids, word_start, word_end):\n",
    "    token_start, token_end = -1, -1\n",
    "    for idx, word_id in enumerate(word_ids):\n",
    "        if word_id == word_start:\n",
    "            token_start = idx\n",
    "            break\n",
    "    for idx, word_id in enumerate(word_ids):\n",
    "        if word_id == word_end:\n",
    "            token_end = idx\n",
    "    return token_start, token_end\n",
    "\n",
    "mapping_word_to_token(word_ids, 1, 2)    "
   ]
  },
  {
   "cell_type": "code",
   "execution_count": 12,
   "metadata": {},
   "outputs": [
    {
     "data": {
      "text/plain": [
       "(0, 2)"
      ]
     },
     "execution_count": 12,
     "metadata": {},
     "output_type": "execute_result"
    }
   ],
   "source": [
    "def mapping_token_to_word(word_ids, token_start, token_end):\n",
    "    return word_ids[token_start], word_ids[token_end]\n",
    "\n",
    "mapping_token_to_word(word_ids, 1, 5)"
   ]
  },
  {
   "cell_type": "code",
   "execution_count": null,
   "metadata": {},
   "outputs": [],
   "source": []
  },
  {
   "cell_type": "code",
   "execution_count": null,
   "metadata": {},
   "outputs": [],
   "source": []
  },
  {
   "cell_type": "code",
   "execution_count": 16,
   "metadata": {},
   "outputs": [],
   "source": [
    "import numpy as np"
   ]
  },
  {
   "cell_type": "code",
   "execution_count": 35,
   "metadata": {},
   "outputs": [
    {
     "data": {
      "text/plain": [
       "array([[[-2.19866978,  1.1447375 ,  0.92294878],\n",
       "        [ 0.25705591, -0.06175304, -0.41273075],\n",
       "        [ 1.17907811, -0.5812148 ,  0.64390744]],\n",
       "\n",
       "       [[ 0.14645867,  2.24804856, -1.49206082],\n",
       "        [ 0.59735229,  0.33992097,  2.49375344],\n",
       "        [-0.67786164, -0.52116344, -0.78938703]]])"
      ]
     },
     "execution_count": 35,
     "metadata": {},
     "output_type": "execute_result"
    }
   ],
   "source": [
    "a = np.random.randn(2, 3, 3)\n",
    "b = np.random.randn(2, 3, 3)\n",
    "a"
   ]
  },
  {
   "cell_type": "code",
   "execution_count": 36,
   "metadata": {},
   "outputs": [
    {
     "data": {
      "text/plain": [
       "array([[[-1.14554669, -1.05169601, -0.57564661],\n",
       "        [-0.66068856,  1.50527007,  1.06941421],\n",
       "        [-0.03592041, -1.13148369, -2.10340704]],\n",
       "\n",
       "       [[-0.61072201, -0.53944643,  0.62138492],\n",
       "        [ 1.06405361,  0.51542254,  0.3228443 ],\n",
       "        [-0.39662927, -2.01357541,  1.58483281]]])"
      ]
     },
     "execution_count": 36,
     "metadata": {},
     "output_type": "execute_result"
    }
   ],
   "source": [
    "b"
   ]
  },
  {
   "cell_type": "code",
   "execution_count": 37,
   "metadata": {},
   "outputs": [
    {
     "data": {
      "text/plain": [
       "array([[[-1.67210823,  0.04652075,  0.17365108],\n",
       "        [-0.20181632,  0.72175852,  0.32834173],\n",
       "        [ 0.57157885, -0.85634924, -0.7297498 ]],\n",
       "\n",
       "       [[-0.23213167,  0.85430107, -0.43533795],\n",
       "        [ 0.83070295,  0.42767175,  1.40829887],\n",
       "        [-0.53724545, -1.26736943,  0.39772289]]])"
      ]
     },
     "execution_count": 37,
     "metadata": {},
     "output_type": "execute_result"
    }
   ],
   "source": [
    "(a+b)/2"
   ]
  },
  {
   "cell_type": "code",
   "execution_count": null,
   "metadata": {},
   "outputs": [],
   "source": []
  }
 ],
 "metadata": {
  "kernelspec": {
   "display_name": "Python [conda env:blog]",
   "language": "python",
   "name": "conda-env-blog-py"
  },
  "language_info": {
   "codemirror_mode": {
    "name": "ipython",
    "version": 3
   },
   "file_extension": ".py",
   "mimetype": "text/x-python",
   "name": "python",
   "nbconvert_exporter": "python",
   "pygments_lexer": "ipython3",
   "version": "3.8.3"
  }
 },
 "nbformat": 4,
 "nbformat_minor": 4
}
