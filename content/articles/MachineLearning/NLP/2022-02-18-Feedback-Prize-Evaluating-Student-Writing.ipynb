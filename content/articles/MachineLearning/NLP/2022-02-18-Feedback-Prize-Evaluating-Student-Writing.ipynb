{
 "cells": [
  {
   "cell_type": "markdown",
   "metadata": {},
   "source": [
    "date: 2022-02-18 11:17:17\n",
    "author: Jerry Su\n",
    "slug: Feedback-Prize-Evaluating-Student-Writing\n",
    "title: Feedback prize evaluating student writing\n",
    "category:\n",
    "tags: NLP\n",
    "summary: Reason is the light and the light of life.\n",
    "toc: show"
   ]
  },
  {
   "cell_type": "code",
   "execution_count": 133,
   "metadata": {},
   "outputs": [],
   "source": [
    "import pandas as pd\n",
    "import os\n",
    "import tqdm"
   ]
  },
  {
   "cell_type": "markdown",
   "metadata": {},
   "source": [
    "## EDA\n",
    "\n",
    "https://www.kaggle.com/robikscube/student-writing-competition-twitch-stream?scriptVersionId=83303421"
   ]
  },
  {
   "cell_type": "code",
   "execution_count": 134,
   "metadata": {},
   "outputs": [],
   "source": [
    "df = pd.read_csv('/root/.cache/data/train.csv')"
   ]
  },
  {
   "cell_type": "code",
   "execution_count": 135,
   "metadata": {},
   "outputs": [
    {
     "data": {
      "text/html": [
       "<div>\n",
       "<style scoped>\n",
       "    .dataframe tbody tr th:only-of-type {\n",
       "        vertical-align: middle;\n",
       "    }\n",
       "\n",
       "    .dataframe tbody tr th {\n",
       "        vertical-align: top;\n",
       "    }\n",
       "\n",
       "    .dataframe thead th {\n",
       "        text-align: right;\n",
       "    }\n",
       "</style>\n",
       "<table border=\"1\" class=\"dataframe\">\n",
       "  <thead>\n",
       "    <tr style=\"text-align: right;\">\n",
       "      <th></th>\n",
       "      <th>id</th>\n",
       "      <th>discourse_id</th>\n",
       "      <th>discourse_start</th>\n",
       "      <th>discourse_end</th>\n",
       "      <th>discourse_text</th>\n",
       "      <th>discourse_type</th>\n",
       "      <th>discourse_type_num</th>\n",
       "      <th>predictionstring</th>\n",
       "    </tr>\n",
       "  </thead>\n",
       "  <tbody>\n",
       "    <tr>\n",
       "      <th>0</th>\n",
       "      <td>423A1CA112E2</td>\n",
       "      <td>1.622628e+12</td>\n",
       "      <td>8.0</td>\n",
       "      <td>229.0</td>\n",
       "      <td>Modern humans today are always on their phone....</td>\n",
       "      <td>Lead</td>\n",
       "      <td>Lead 1</td>\n",
       "      <td>1 2 3 4 5 6 7 8 9 10 11 12 13 14 15 16 17 18 1...</td>\n",
       "    </tr>\n",
       "    <tr>\n",
       "      <th>1</th>\n",
       "      <td>423A1CA112E2</td>\n",
       "      <td>1.622628e+12</td>\n",
       "      <td>230.0</td>\n",
       "      <td>312.0</td>\n",
       "      <td>They are some really bad consequences when stu...</td>\n",
       "      <td>Position</td>\n",
       "      <td>Position 1</td>\n",
       "      <td>45 46 47 48 49 50 51 52 53 54 55 56 57 58 59</td>\n",
       "    </tr>\n",
       "    <tr>\n",
       "      <th>2</th>\n",
       "      <td>423A1CA112E2</td>\n",
       "      <td>1.622628e+12</td>\n",
       "      <td>313.0</td>\n",
       "      <td>401.0</td>\n",
       "      <td>Some certain areas in the United States ban ph...</td>\n",
       "      <td>Evidence</td>\n",
       "      <td>Evidence 1</td>\n",
       "      <td>60 61 62 63 64 65 66 67 68 69 70 71 72 73 74 75</td>\n",
       "    </tr>\n",
       "    <tr>\n",
       "      <th>3</th>\n",
       "      <td>423A1CA112E2</td>\n",
       "      <td>1.622628e+12</td>\n",
       "      <td>402.0</td>\n",
       "      <td>758.0</td>\n",
       "      <td>When people have phones, they know about certa...</td>\n",
       "      <td>Evidence</td>\n",
       "      <td>Evidence 2</td>\n",
       "      <td>76 77 78 79 80 81 82 83 84 85 86 87 88 89 90 9...</td>\n",
       "    </tr>\n",
       "    <tr>\n",
       "      <th>4</th>\n",
       "      <td>423A1CA112E2</td>\n",
       "      <td>1.622628e+12</td>\n",
       "      <td>759.0</td>\n",
       "      <td>886.0</td>\n",
       "      <td>Driving is one of the way how to get around. P...</td>\n",
       "      <td>Claim</td>\n",
       "      <td>Claim 1</td>\n",
       "      <td>139 140 141 142 143 144 145 146 147 148 149 15...</td>\n",
       "    </tr>\n",
       "  </tbody>\n",
       "</table>\n",
       "</div>"
      ],
      "text/plain": [
       "             id  discourse_id  discourse_start  discourse_end  \\\n",
       "0  423A1CA112E2  1.622628e+12              8.0          229.0   \n",
       "1  423A1CA112E2  1.622628e+12            230.0          312.0   \n",
       "2  423A1CA112E2  1.622628e+12            313.0          401.0   \n",
       "3  423A1CA112E2  1.622628e+12            402.0          758.0   \n",
       "4  423A1CA112E2  1.622628e+12            759.0          886.0   \n",
       "\n",
       "                                      discourse_text discourse_type  \\\n",
       "0  Modern humans today are always on their phone....           Lead   \n",
       "1  They are some really bad consequences when stu...       Position   \n",
       "2  Some certain areas in the United States ban ph...       Evidence   \n",
       "3  When people have phones, they know about certa...       Evidence   \n",
       "4  Driving is one of the way how to get around. P...          Claim   \n",
       "\n",
       "  discourse_type_num                                   predictionstring  \n",
       "0             Lead 1  1 2 3 4 5 6 7 8 9 10 11 12 13 14 15 16 17 18 1...  \n",
       "1         Position 1       45 46 47 48 49 50 51 52 53 54 55 56 57 58 59  \n",
       "2         Evidence 1    60 61 62 63 64 65 66 67 68 69 70 71 72 73 74 75  \n",
       "3         Evidence 2  76 77 78 79 80 81 82 83 84 85 86 87 88 89 90 9...  \n",
       "4            Claim 1  139 140 141 142 143 144 145 146 147 148 149 15...  "
      ]
     },
     "execution_count": 135,
     "metadata": {},
     "output_type": "execute_result"
    }
   ],
   "source": [
    "df.head()"
   ]
  },
  {
   "cell_type": "code",
   "execution_count": 136,
   "metadata": {},
   "outputs": [
    {
     "data": {
      "text/plain": [
       "array(['Lead', 'Position', 'Evidence', 'Claim', 'Concluding Statement',\n",
       "       'Counterclaim', 'Rebuttal'], dtype=object)"
      ]
     },
     "execution_count": 136,
     "metadata": {},
     "output_type": "execute_result"
    }
   ],
   "source": [
    "df['discourse_type'].unique()"
   ]
  },
  {
   "cell_type": "code",
   "execution_count": 137,
   "metadata": {},
   "outputs": [
    {
     "data": {
      "text/plain": [
       "15594"
      ]
     },
     "execution_count": 137,
     "metadata": {},
     "output_type": "execute_result"
    }
   ],
   "source": [
    "ids = df['id'].unique()\n",
    "ids.size"
   ]
  },
  {
   "cell_type": "code",
   "execution_count": 138,
   "metadata": {},
   "outputs": [],
   "source": [
    "# bad case\n",
    "# 2726E31ECDC6\n"
   ]
  },
  {
   "cell_type": "code",
   "execution_count": 143,
   "metadata": {},
   "outputs": [
    {
     "data": {
      "text/html": [
       "<div>\n",
       "<style scoped>\n",
       "    .dataframe tbody tr th:only-of-type {\n",
       "        vertical-align: middle;\n",
       "    }\n",
       "\n",
       "    .dataframe tbody tr th {\n",
       "        vertical-align: top;\n",
       "    }\n",
       "\n",
       "    .dataframe thead th {\n",
       "        text-align: right;\n",
       "    }\n",
       "</style>\n",
       "<table border=\"1\" class=\"dataframe\">\n",
       "  <thead>\n",
       "    <tr style=\"text-align: right;\">\n",
       "      <th></th>\n",
       "      <th>id</th>\n",
       "      <th>discourse_id</th>\n",
       "      <th>discourse_start</th>\n",
       "      <th>discourse_end</th>\n",
       "      <th>discourse_text</th>\n",
       "      <th>discourse_type</th>\n",
       "      <th>discourse_type_num</th>\n",
       "      <th>predictionstring</th>\n",
       "    </tr>\n",
       "  </thead>\n",
       "  <tbody>\n",
       "    <tr>\n",
       "      <th>29376</th>\n",
       "      <td>FFFD0AF13501</td>\n",
       "      <td>1.619824e+12</td>\n",
       "      <td>237.0</td>\n",
       "      <td>280.0</td>\n",
       "      <td>they get to see tons of awesome landmarks.</td>\n",
       "      <td>Claim</td>\n",
       "      <td>Claim 1</td>\n",
       "      <td>44 45 46 47 48 49 50 51</td>\n",
       "    </tr>\n",
       "    <tr>\n",
       "      <th>29377</th>\n",
       "      <td>FFFD0AF13501</td>\n",
       "      <td>1.619824e+12</td>\n",
       "      <td>281.0</td>\n",
       "      <td>347.0</td>\n",
       "      <td>If you love horses and cattle then is most lik...</td>\n",
       "      <td>Claim</td>\n",
       "      <td>Claim 2</td>\n",
       "      <td>52 53 54 55 56 57 58 59 60 61 62 63 64 65</td>\n",
       "    </tr>\n",
       "    <tr>\n",
       "      <th>29378</th>\n",
       "      <td>FFFD0AF13501</td>\n",
       "      <td>1.619824e+12</td>\n",
       "      <td>348.0</td>\n",
       "      <td>431.0</td>\n",
       "      <td>You get to enteract with them and feed them ca...</td>\n",
       "      <td>Evidence</td>\n",
       "      <td>Evidence 1</td>\n",
       "      <td>66 67 68 69 70 71 72 73 74 75 76 77 78 79 80 8...</td>\n",
       "    </tr>\n",
       "    <tr>\n",
       "      <th>29379</th>\n",
       "      <td>FFFD0AF13501</td>\n",
       "      <td>1.619824e+12</td>\n",
       "      <td>431.0</td>\n",
       "      <td>516.0</td>\n",
       "      <td>Even if you just want to help out your world o...</td>\n",
       "      <td>Claim</td>\n",
       "      <td>Claim 3</td>\n",
       "      <td>83 84 85 86 87 88 89 90 91 92 93 94 95 96 97 9...</td>\n",
       "    </tr>\n",
       "    <tr>\n",
       "      <th>29380</th>\n",
       "      <td>FFFD0AF13501</td>\n",
       "      <td>1.619824e+12</td>\n",
       "      <td>517.0</td>\n",
       "      <td>583.0</td>\n",
       "      <td>It's amazing how much stuff you can do there t...</td>\n",
       "      <td>Claim</td>\n",
       "      <td>Claim 4</td>\n",
       "      <td>102 103 104 105 106 107 108 109 110 111 112 11...</td>\n",
       "    </tr>\n",
       "    <tr>\n",
       "      <th>29381</th>\n",
       "      <td>FFFD0AF13501</td>\n",
       "      <td>1.619824e+12</td>\n",
       "      <td>584.0</td>\n",
       "      <td>943.0</td>\n",
       "      <td>you might be able to look at the pretty things...</td>\n",
       "      <td>Evidence</td>\n",
       "      <td>Evidence 2</td>\n",
       "      <td>116 117 118 119 120 121 122 123 124 125 126 12...</td>\n",
       "    </tr>\n",
       "    <tr>\n",
       "      <th>29382</th>\n",
       "      <td>FFFD0AF13501</td>\n",
       "      <td>1.619824e+12</td>\n",
       "      <td>959.0</td>\n",
       "      <td>1050.0</td>\n",
       "      <td>all i'm saying is that the seagoing cowboys wo...</td>\n",
       "      <td>Position</td>\n",
       "      <td>Position 1</td>\n",
       "      <td>193 194 195 196 197 198 199 200 201 202 203 20...</td>\n",
       "    </tr>\n",
       "    <tr>\n",
       "      <th>29383</th>\n",
       "      <td>FFFD0AF13501</td>\n",
       "      <td>1.619824e+12</td>\n",
       "      <td>1051.0</td>\n",
       "      <td>1245.0</td>\n",
       "      <td>You can go so many places and you rarely go to...</td>\n",
       "      <td>Concluding Statement</td>\n",
       "      <td>Concluding Statement 1</td>\n",
       "      <td>209 210 211 212 213 214 215 216 217 218 219 22...</td>\n",
       "    </tr>\n",
       "  </tbody>\n",
       "</table>\n",
       "</div>"
      ],
      "text/plain": [
       "                 id  discourse_id  discourse_start  discourse_end  \\\n",
       "29376  FFFD0AF13501  1.619824e+12            237.0          280.0   \n",
       "29377  FFFD0AF13501  1.619824e+12            281.0          347.0   \n",
       "29378  FFFD0AF13501  1.619824e+12            348.0          431.0   \n",
       "29379  FFFD0AF13501  1.619824e+12            431.0          516.0   \n",
       "29380  FFFD0AF13501  1.619824e+12            517.0          583.0   \n",
       "29381  FFFD0AF13501  1.619824e+12            584.0          943.0   \n",
       "29382  FFFD0AF13501  1.619824e+12            959.0         1050.0   \n",
       "29383  FFFD0AF13501  1.619824e+12           1051.0         1245.0   \n",
       "\n",
       "                                          discourse_text  \\\n",
       "29376         they get to see tons of awesome landmarks.   \n",
       "29377  If you love horses and cattle then is most lik...   \n",
       "29378  You get to enteract with them and feed them ca...   \n",
       "29379  Even if you just want to help out your world o...   \n",
       "29380  It's amazing how much stuff you can do there t...   \n",
       "29381  you might be able to look at the pretty things...   \n",
       "29382  all i'm saying is that the seagoing cowboys wo...   \n",
       "29383  You can go so many places and you rarely go to...   \n",
       "\n",
       "             discourse_type      discourse_type_num  \\\n",
       "29376                 Claim                 Claim 1   \n",
       "29377                 Claim                 Claim 2   \n",
       "29378              Evidence              Evidence 1   \n",
       "29379                 Claim                 Claim 3   \n",
       "29380                 Claim                 Claim 4   \n",
       "29381              Evidence              Evidence 2   \n",
       "29382              Position              Position 1   \n",
       "29383  Concluding Statement  Concluding Statement 1   \n",
       "\n",
       "                                        predictionstring  \n",
       "29376                            44 45 46 47 48 49 50 51  \n",
       "29377          52 53 54 55 56 57 58 59 60 61 62 63 64 65  \n",
       "29378  66 67 68 69 70 71 72 73 74 75 76 77 78 79 80 8...  \n",
       "29379  83 84 85 86 87 88 89 90 91 92 93 94 95 96 97 9...  \n",
       "29380  102 103 104 105 106 107 108 109 110 111 112 11...  \n",
       "29381  116 117 118 119 120 121 122 123 124 125 126 12...  \n",
       "29382  193 194 195 196 197 198 199 200 201 202 203 20...  \n",
       "29383  209 210 211 212 213 214 215 216 217 218 219 22...  "
      ]
     },
     "execution_count": 143,
     "metadata": {},
     "output_type": "execute_result"
    }
   ],
   "source": [
    "an_df = df[df['id'] == 'FFFD0AF13501']\n",
    "an_df"
   ]
  },
  {
   "cell_type": "code",
   "execution_count": 140,
   "metadata": {},
   "outputs": [],
   "source": [
    "def get_instance_with_row(df, idx: int):\n",
    "    row = df.loc[idx].to_dict()\n",
    "    file_name = os.path.join('/root/.cache/data/train', row['id'] + '.txt')\n",
    "    with open(file_name, 'r') as fp:\n",
    "        text = fp.read()\n",
    "    row['text'] = text\n",
    "    pred_ls =  row['predictionstring'].split(' ')\n",
    "    row['start_word'], row['end_word'] = int(pred_ls[0]), int(pred_ls[-1])\n",
    "    row['discourse_words'] = ' '.join(text.split()[row['start_word']:row['end_word'] + 1])\n",
    "    row['discourse_chars'] = text[int(row['discourse_start']):int(row['discourse_end'])]\n",
    "    return row                                  "
   ]
  },
  {
   "cell_type": "code",
   "execution_count": 142,
   "metadata": {},
   "outputs": [
    {
     "data": {
      "text/plain": [
       "{'id': 'FFFF80B8CC2F',\n",
       " 'discourse_id': 1617042401315.0,\n",
       " 'discourse_start': 0.0,\n",
       " 'discourse_end': 990.0,\n",
       " 'discourse_text': 'Venus is a planet what belong the System Solar. Venus is the second planet from our sun. Earth, Venus and Mars our other planetry neighbor, orbit the sun at different speeds. Venus is sometimes right around the corner-in space term-humans have sent numerous spacecraft to land ono this cloud-draped word.\\n\\nIn the atomosphere of almost 97% carbon dioxide blankets Venus. Astronomers are fascinated by Venus because it may well once have been the most Earth-like planet in our solar system. Today go to the univerce is very dangers because not can to breathe and you can not survive.\\n\\nThe NASA has one particulary compelling idea for seding humans to study Venus .At thirty-plus miles above the surface, temperatures would still be toasty at around 170 degrees Fahrenheit, but the air pressure would be close to that of sesa level on Earth.\\n\\nNOt can have table or cell phone is a acid or heat capable of melting tin.\\n\\nThe people are very corious what investigator everything the System Solar.',\n",
       " 'discourse_type': 'Evidence',\n",
       " 'discourse_type_num': 'Evidence 1',\n",
       " 'predictionstring': '0 1 2 3 4 5 6 7 8 9 10 11 12 13 14 15 16 17 18 19 20 21 22 23 24 25 26 27 28 29 30 31 32 33 34 35 36 37 38 39 40 41 42 43 44 45 46 47 48 49 50 51 52 53 54 55 56 57 58 59 60 61 62 63 64 65 66 67 68 69 70 71 72 73 74 75 76 77 78 79 80 81 82 83 84 85 86 87 88 89 90 91 92 93 94 95 96 97 98 99 100 101 102 103 104 105 106 107 108 109 110 111 112 113 114 115 116 117 118 119 120 121 122 123 124 125 126 127 128 129 130 131 132 133 134 135 136 137 138 139 140 141 142 143 144 145 146 147 148 149 150 151 152 153 154 155 156 157 158 159 160 161 162 163 164 165 166 167',\n",
       " 'text': 'Venus is a planet what belong the System Solar. Venus is the second planet from our sun. Earth, Venus and Mars our other planetry neighbor, orbit the sun at different speeds. Venus is sometimes right around the corner-in space term-humans have sent numerous spacecraft to land ono this cloud-draped word.\\n\\nIn the atomosphere of almost 97% carbon dioxide blankets Venus. Astronomers are fascinated by Venus because it may well once have been the most Earth-like planet in our solar system. Today go to the univerce is very dangers because not can to breathe and you can not survive.\\n\\nThe NASA has one particulary compelling idea for seding humans to study Venus .At thirty-plus miles above the surface, temperatures would still be toasty at around 170 degrees Fahrenheit, but the air pressure would be close to that of sesa level on Earth.\\n\\nNOt can have table or cell phone is a acid or heat capable of melting tin.\\n\\nThe people are very corious what investigator everything the System Solar.',\n",
       " 'start_word': 0,\n",
       " 'end_word': 167,\n",
       " 'discourse_words': 'Venus is a planet what belong the System Solar. Venus is the second planet from our sun. Earth, Venus and Mars our other planetry neighbor, orbit the sun at different speeds. Venus is sometimes right around the corner-in space term-humans have sent numerous spacecraft to land ono this cloud-draped word. In the atomosphere of almost 97% carbon dioxide blankets Venus. Astronomers are fascinated by Venus because it may well once have been the most Earth-like planet in our solar system. Today go to the univerce is very dangers because not can to breathe and you can not survive. The NASA has one particulary compelling idea for seding humans to study Venus .At thirty-plus miles above the surface, temperatures would still be toasty at around 170 degrees Fahrenheit, but the air pressure would be close to that of sesa level on Earth. NOt can have table or cell phone is a acid or heat capable of melting tin. The people are very corious what investigator everything the System Solar.',\n",
       " 'discourse_chars': 'Venus is a planet what belong the System Solar. Venus is the second planet from our sun. Earth, Venus and Mars our other planetry neighbor, orbit the sun at different speeds. Venus is sometimes right around the corner-in space term-humans have sent numerous spacecraft to land ono this cloud-draped word.\\n\\nIn the atomosphere of almost 97% carbon dioxide blankets Venus. Astronomers are fascinated by Venus because it may well once have been the most Earth-like planet in our solar system. Today go to the univerce is very dangers because not can to breathe and you can not survive.\\n\\nThe NASA has one particulary compelling idea for seding humans to study Venus .At thirty-plus miles above the surface, temperatures would still be toasty at around 170 degrees Fahrenheit, but the air pressure would be close to that of sesa level on Earth.\\n\\nNOt can have table or cell phone is a acid or heat capable of melting tin.\\n\\nThe people are very corious what investigator everything the System Solar.'}"
      ]
     },
     "execution_count": 142,
     "metadata": {},
     "output_type": "execute_result"
    }
   ],
   "source": [
    "instance = get_instance_with_row(df, 39597)\n",
    "instance"
   ]
  },
  {
   "cell_type": "code",
   "execution_count": 20,
   "metadata": {},
   "outputs": [
    {
     "name": "stderr",
     "output_type": "stream",
     "text": [
      "Special tokens have been added in the vocabulary, make sure the associated word embeddings are fine-tuned or trained.\n"
     ]
    }
   ],
   "source": [
    "from transformers import BigBirdTokenizerFast\n",
    "tokenizer = BigBirdTokenizerFast.from_pretrained('allenai/longformer-large-4096')\n",
    "\n",
    "\n",
    "def mapping_word_to_token(word_ids, word_start, word_end):\n",
    "    token_start, token_end = -1, -1\n",
    "    for idx, word_id in enumerate(word_ids):\n",
    "        if word_id == word_start:\n",
    "            token_start = idx\n",
    "            break\n",
    "    for idx, word_id in enumerate(word_ids):\n",
    "        if word_id == word_end:\n",
    "            token_end = idx\n",
    "    return token_start, token_end"
   ]
  },
  {
   "cell_type": "code",
   "execution_count": null,
   "metadata": {},
   "outputs": [],
   "source": []
  },
  {
   "cell_type": "code",
   "execution_count": null,
   "metadata": {},
   "outputs": [],
   "source": []
  },
  {
   "cell_type": "code",
   "execution_count": 10,
   "metadata": {},
   "outputs": [],
   "source": [
    "text = instance['text']"
   ]
  },
  {
   "cell_type": "code",
   "execution_count": null,
   "metadata": {},
   "outputs": [],
   "source": [
    "ss.split()"
   ]
  },
  {
   "cell_type": "code",
   "execution_count": null,
   "metadata": {},
   "outputs": [],
   "source": []
  },
  {
   "cell_type": "markdown",
   "metadata": {},
   "source": [
    "### (discourse_start, discourse_end) 与 predictionstring时什么关系？"
   ]
  },
  {
   "cell_type": "code",
   "execution_count": null,
   "metadata": {},
   "outputs": [],
   "source": [
    "\n",
    "def stat_relation(df):\n",
    "    cnt = 0\n",
    "    stat = {}\n",
    "    err = []\n",
    "    for idx, item in tqdm.tqdm(df.iterrows()):\n",
    "        id_, discourse_id, start, end, discourse_text, type_, type_num, pred_str = item\n",
    "        file_name = os.path.join('/root/.cache/data/train', id_ + '.txt')\n",
    "        with open(file_name, 'r') as fp:\n",
    "            text = fp.read()\n",
    "        \n",
    "        #print(discourse_text)\n",
    "        # text using char.\n",
    "        text_with_char = text[int(start):int(end)]\n",
    "        \n",
    "        if discourse_text != text_with_char:\n",
    "            text_with_char = text[int(start):int(end) - 1]\n",
    "            if discourse_text[:-1] == text_with_char:\n",
    "                stat['char'] = stat.get('char', 0) + 1\n",
    "            else:\n",
    "                err.append(idx)\n",
    "        else:\n",
    "            stat['char'] = stat.get('char', 0) + 1\n",
    "            \n",
    "        cnt += 1\n",
    "        if cnt == 6000000:\n",
    "            break\n",
    "\n",
    "    return stat\n",
    "        \n",
    "\n",
    "stat_relation(df)"
   ]
  },
  {
   "cell_type": "markdown",
   "metadata": {},
   "source": [
    "## 统计predstring正确数"
   ]
  },
  {
   "cell_type": "code",
   "execution_count": 58,
   "metadata": {},
   "outputs": [],
   "source": [
    "def stat_predstring(df):\n",
    "    cnt = 0\n",
    "    stat = {}\n",
    "    err = []\n",
    "    for idx, item in tqdm.tqdm(df.iterrows()):\n",
    "        id_, discourse_id, start_, end_, discourse_text, type_, type_num, pred_str = item\n",
    "        file_name = os.path.join('/root/.cache/data/train', id_ + '.txt')\n",
    "        with open(file_name, 'r') as fp:\n",
    "            text = fp.read()\n",
    "        \n",
    "        pred_ls =  pred_str.split(' ')\n",
    "        start, end = int(pred_ls[0]), int(pred_ls[-1])\n",
    "        text_pred = text.split()[start:end + 1]\n",
    "        text_pred = ' '.join(text_pred)\n",
    "        if discourse_text == text_pred:\n",
    "            stat['word'] = stat.get('word', 0) + 1\n",
    "        else:\n",
    "            print('='*200)\n",
    "            print(discourse_text)\n",
    "            print()\n",
    "            print(text_pred)\n",
    "            print('='*200)\n",
    "        cnt += 1\n",
    "        if cnt == 50:\n",
    "            break\n",
    "    return stat"
   ]
  }
 ],
 "metadata": {
  "kernelspec": {
   "display_name": "Python [conda env:blog]",
   "language": "python",
   "name": "conda-env-blog-py"
  },
  "language_info": {
   "codemirror_mode": {
    "name": "ipython",
    "version": 3
   },
   "file_extension": ".py",
   "mimetype": "text/x-python",
   "name": "python",
   "nbconvert_exporter": "python",
   "pygments_lexer": "ipython3",
   "version": "3.8.3"
  }
 },
 "nbformat": 4,
 "nbformat_minor": 4
}
