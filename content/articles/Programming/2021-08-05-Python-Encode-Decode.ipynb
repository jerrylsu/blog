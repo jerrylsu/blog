{
 "cells": [
  {
   "cell_type": "markdown",
   "metadata": {},
   "source": [
    "date: 2021-08-05 10:17:17\n",
    "author: Jerry Su\n",
    "slug: Python-Encode-Decode\n",
    "title: Python Encode Decode\n",
    "category: \n",
    "tags: Python\n",
    "summary: Reason is the light and the light of life.\n",
    "toc: show"
   ]
  },
  {
   "cell_type": "code",
   "execution_count": 4,
   "metadata": {},
   "outputs": [],
   "source": [
    "import base64\n",
    "import json\n",
    "import requests"
   ]
  },
  {
   "cell_type": "markdown",
   "metadata": {},
   "source": [
    "- json.load：文件对象 =》 python对象\n",
    "\n",
    "- json.loads：json格式字符串 =》 python对象\n",
    "\n",
    "- json.dump：python对象 =》 文件对象\n",
    "\n",
    "- json.dumps：python对象 =》 json格式字符串"
   ]
  },
  {
   "cell_type": "code",
   "execution_count": 12,
   "metadata": {},
   "outputs": [],
   "source": [
    "data_dict = {\n",
    "    \"fields\": {\"content\": \"Hello Wold!\"},\n",
    "    \"config\": {\n",
    "        \"labels\": [\"1\", \"2\", \"3\", \"4\", \"5\", \"6\"],\n",
    "        \"sub_labels\":{\"4\": [\"1\", \"2\"]}\n",
    "    }\n",
    "}"
   ]
  },
  {
   "cell_type": "code",
   "execution_count": 19,
   "metadata": {},
   "outputs": [
    {
     "data": {
      "text/plain": [
       "'{\"fields\": {\"content\": \"Hello Wold!\"}, \"config\": {\"labels\": [\"1\", \"2\", \"3\", \"4\", \"5\", \"6\"], \"sub_labels\": {\"4\": [\"1\", \"2\"]}}}'"
      ]
     },
     "execution_count": 19,
     "metadata": {},
     "output_type": "execute_result"
    }
   ],
   "source": [
    "# python对象转字符串\n",
    "json_str = json.dumps(data_dict, ensure_ascii=False)\n",
    "json_str"
   ]
  },
  {
   "cell_type": "code",
   "execution_count": 21,
   "metadata": {},
   "outputs": [
    {
     "data": {
      "text/plain": [
       "b'{\"fields\": {\"content\": \"Hello Wold!\"}, \"config\": {\"labels\": [\"1\", \"2\", \"3\", \"4\", \"5\", \"6\"], \"sub_labels\": {\"4\": [\"1\", \"2\"]}}}'"
      ]
     },
     "execution_count": 21,
     "metadata": {},
     "output_type": "execute_result"
    }
   ],
   "source": [
    "# 编码成二进制字符串\n",
    "bin_str = json_str.encode('utf-8')\n",
    "bin_str"
   ]
  },
  {
   "cell_type": "code",
   "execution_count": 27,
   "metadata": {},
   "outputs": [
    {
     "data": {
      "text/plain": [
       "b'eyJmaWVsZHMiOiB7ImNvbnRlbnQiOiAiSGVsbG8gV29sZCEifSwgImNvbmZpZyI6IHsibGFiZWxzIjogWyIxIiwgIjIiLCAiMyIsICI0IiwgIjUiLCAiNiJdLCAic3ViX2xhYmVscyI6IHsiNCI6IFsiMSIsICIyIl19fX0='"
      ]
     },
     "execution_count": 27,
     "metadata": {},
     "output_type": "execute_result"
    }
   ],
   "source": [
    "# 编码成base64用于网络请求传输，参数必须是字节对象\n",
    "base64_str = base64.b64encode(bin_str)\n",
    "base64_str"
   ]
  },
  {
   "cell_type": "code",
   "execution_count": 34,
   "metadata": {},
   "outputs": [
    {
     "data": {
      "text/plain": [
       "b'{\"fields\": {\"content\": \"Hello Wold!\"}, \"config\": {\"labels\": [\"1\", \"2\", \"3\", \"4\", \"5\", \"6\"], \"sub_labels\": {\"4\": [\"1\", \"2\"]}}}'"
      ]
     },
     "execution_count": 34,
     "metadata": {},
     "output_type": "execute_result"
    }
   ],
   "source": [
    "# 解码过程\n",
    "bin_str_decode = base64.b64decode(base64_str)\n",
    "bin_str_decode"
   ]
  },
  {
   "cell_type": "code",
   "execution_count": 36,
   "metadata": {},
   "outputs": [
    {
     "data": {
      "text/plain": [
       "{'fields': {'content': 'Hello Wold!'},\n",
       " 'config': {'labels': ['1', '2', '3', '4', '5', '6'],\n",
       "  'sub_labels': {'4': ['1', '2']}}}"
      ]
     },
     "execution_count": 36,
     "metadata": {},
     "output_type": "execute_result"
    }
   ],
   "source": [
    "json.loads(bin_str_decode)"
   ]
  }
 ],
 "metadata": {
  "kernelspec": {
   "display_name": "Python [conda env:dev] *",
   "language": "python",
   "name": "conda-env-dev-py"
  },
  "language_info": {
   "codemirror_mode": {
    "name": "ipython",
    "version": 3
   },
   "file_extension": ".py",
   "mimetype": "text/x-python",
   "name": "python",
   "nbconvert_exporter": "python",
   "pygments_lexer": "ipython3",
   "version": "3.8.10"
  }
 },
 "nbformat": 4,
 "nbformat_minor": 4
}
