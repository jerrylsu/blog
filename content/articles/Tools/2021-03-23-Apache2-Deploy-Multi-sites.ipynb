{
 "cells": [
  {
   "cell_type": "markdown",
   "metadata": {},
   "source": [
    "date: 2021-03-23 13:17:17\n",
    "author: Jerry Su\n",
    "slug: Apache2 Deploy Multi-sites\n",
    "title: Apache2 Deploy Multi-sites\n",
    "category: \n",
    "tags: Apache2, Server\n",
    "summary: Reason is the light and the light of life.\n",
    "toc: show"
   ]
  },
  {
   "cell_type": "markdown",
   "metadata": {},
   "source": [
    "[I submit the issue](https://github.com/posativ/isso/issues/718)\n",
    "\n",
    "## 1. Isso as systemd service\n",
    "\n",
    "Switch back to your privileged(root) user and create new service file.\n",
    "\n",
    "`vim /etc/systemd/system/isso.service`\n",
    "Paste the following in it.\n",
    "\n",
    "```\n",
    "[Unit]\n",
    "Description=Isso Commenting Server\n",
    "After=network.target\n",
    "[Service]\n",
    "Type=simple\n",
    "User=isso\n",
    "WorkingDirectory=/home/isso\n",
    "ExecStart=/home/isso/.local/bin/isso -c /home/isso/isso.conf\n",
    "Restart=on-failure\n",
    "RestartSec=5\n",
    "[Install]\n",
    "WantedBy=multi-user.target\n",
    "```\n",
    "\n",
    "Enable and start the service.\n",
    "\n",
    "`systemctl enable isso`\n",
    "\n",
    "`systemctl start isso`\n",
    "\n",
    "Check the status.\n",
    "\n",
    "`systemctl status isso`\n",
    "\n"
   ]
  },
  {
   "cell_type": "markdown",
   "metadata": {},
   "source": [
    "- apache2 Multi-sites\n",
    "\n",
    "- 阿里云二级域名\n",
    "\n",
    "- Apach2 as reverse proxy"
   ]
  },
  {
   "cell_type": "markdown",
   "metadata": {},
   "source": [
    "#### 1.1 新增站点配置文件"
   ]
  },
  {
   "cell_type": "code",
   "execution_count": 1,
   "metadata": {},
   "outputs": [
    {
     "name": "stdout",
     "output_type": "stream",
     "text": [
      "apache2.conf\tcore\t mods-available  sites-available\r\n",
      "conf-available\tenvvars  mods-enabled\t sites-enabled\r\n",
      "conf-enabled\tmagic\t ports.conf\r\n"
     ]
    }
   ],
   "source": [
    "!ls /etc/apache2"
   ]
  },
  {
   "cell_type": "code",
   "execution_count": 2,
   "metadata": {},
   "outputs": [
    {
     "name": "stdout",
     "output_type": "stream",
     "text": [
      "# This is the main Apache server configuration file.  It contains the\r\n",
      "# configuration directives that give the server its instructions.\r\n",
      "# See http://httpd.apache.org/docs/2.4/ for detailed information about\r\n",
      "# the directives and /usr/share/doc/apache2/README.Debian about Debian specific\r\n",
      "# hints.\r\n",
      "#\r\n",
      "#\r\n",
      "# Summary of how the Apache 2 configuration works in Debian:\r\n",
      "# The Apache 2 web server configuration in Debian is quite different to\r\n",
      "# upstream's suggested way to configure the web server. This is because Debian's\r\n",
      "# default Apache2 installation attempts to make adding and removing modules,\r\n",
      "# virtual hosts, and extra configuration directives as flexible as possible, in\r\n",
      "# order to make automating the changes and administering the server as easy as\r\n",
      "# possible.\r\n",
      "\r\n",
      "# It is split into several files forming the configuration hierarchy outlined\r\n",
      "# below, all located in the /etc/apache2/ directory:\r\n",
      "#\r\n",
      "#\t/etc/apache2/\r\n",
      "#\t|-- apache2.conf\r\n",
      "#\t|\t`--  ports.conf\r\n",
      "#\t|-- mods-enabled\r\n",
      "#\t|\t|-- *.load\r\n",
      "#\t|\t`-- *.conf\r\n",
      "#\t|-- conf-enabled\r\n",
      "#\t|\t`-- *.conf\r\n",
      "# \t`-- sites-enabled\r\n",
      "#\t \t`-- *.conf\r\n",
      "#\r\n",
      "#\r\n",
      "# * apache2.conf is the main configuration file (this file). It puts the pieces\r\n",
      "#   together by including all remaining configuration files when starting up the\r\n",
      "#   web server.\r\n",
      "#\r\n",
      "# * ports.conf is always included from the main configuration file. It is\r\n",
      "#   supposed to determine listening ports for incoming connections which can be\r\n",
      "#   customized anytime.\r\n",
      "#\r\n",
      "# * Configuration files in the mods-enabled/, conf-enabled/ and sites-enabled/\r\n",
      "#   directories contain particular configuration snippets which manage modules,\r\n",
      "#   global configuration fragments, or virtual host configurations,\r\n",
      "#   respectively.\r\n",
      "#\r\n",
      "#   They are activated by symlinking available configuration files from their\r\n",
      "#   respective *-available/ counterparts. These should be managed by using our\r\n",
      "#   helpers a2enmod/a2dismod, a2ensite/a2dissite and a2enconf/a2disconf. See\r\n",
      "#   their respective man pages for detailed information.\r\n",
      "#\r\n",
      "# * The binary is called apache2. Due to the use of environment variables, in\r\n",
      "#   the default configuration, apache2 needs to be started/stopped with\r\n",
      "#   /etc/init.d/apache2 or apache2ctl. Calling /usr/bin/apache2 directly will not\r\n",
      "#   work with the default configuration.\r\n",
      "\r\n",
      "\r\n",
      "# Global configuration\r\n",
      "#\r\n",
      "\r\n",
      "#\r\n",
      "# ServerRoot: The top of the directory tree under which the server's\r\n",
      "# configuration, error, and log files are kept.\r\n",
      "#\r\n",
      "# NOTE!  If you intend to place this on an NFS (or otherwise network)\r\n",
      "# mounted filesystem then please read the Mutex documentation (available\r\n",
      "# at <URL:http://httpd.apache.org/docs/2.4/mod/core.html#mutex>);\r\n",
      "# you will save yourself a lot of trouble.\r\n",
      "#\r\n",
      "# Do NOT add a slash at the end of the directory path.\r\n",
      "#\r\n",
      "#ServerRoot \"/etc/apache2\"\r\n",
      "\r\n",
      "#\r\n",
      "# The accept serialization lock file MUST BE STORED ON A LOCAL DISK.\r\n",
      "#\r\n",
      "#Mutex file:${APACHE_LOCK_DIR} default\r\n",
      "\r\n",
      "#\r\n",
      "# The directory where shm and other runtime files will be stored.\r\n",
      "#\r\n",
      "\r\n",
      "DefaultRuntimeDir ${APACHE_RUN_DIR}\r\n",
      "\r\n",
      "#\r\n",
      "# PidFile: The file in which the server should record its process\r\n",
      "# identification number when it starts.\r\n",
      "# This needs to be set in /etc/apache2/envvars\r\n",
      "#\r\n",
      "PidFile ${APACHE_PID_FILE}\r\n",
      "\r\n",
      "#\r\n",
      "# Timeout: The number of seconds before receives and sends time out.\r\n",
      "#\r\n",
      "Timeout 300\r\n",
      "\r\n",
      "#\r\n",
      "# KeepAlive: Whether or not to allow persistent connections (more than\r\n",
      "# one request per connection). Set to \"Off\" to deactivate.\r\n",
      "#\r\n",
      "KeepAlive On\r\n",
      "\r\n",
      "#\r\n",
      "# MaxKeepAliveRequests: The maximum number of requests to allow\r\n",
      "# during a persistent connection. Set to 0 to allow an unlimited amount.\r\n",
      "# We recommend you leave this number high, for maximum performance.\r\n",
      "#\r\n",
      "MaxKeepAliveRequests 100\r\n",
      "\r\n",
      "#\r\n",
      "# KeepAliveTimeout: Number of seconds to wait for the next request from the\r\n",
      "# same client on the same connection.\r\n",
      "#\r\n",
      "KeepAliveTimeout 5\r\n",
      "\r\n",
      "\r\n",
      "# These need to be set in /etc/apache2/envvars\r\n",
      "User ${APACHE_RUN_USER}\r\n",
      "Group ${APACHE_RUN_GROUP}\r\n",
      "\r\n",
      "#\r\n",
      "# HostnameLookups: Log the names of clients or just their IP addresses\r\n",
      "# e.g., www.apache.org (on) or 204.62.129.132 (off).\r\n",
      "# The default is off because it'd be overall better for the net if people\r\n",
      "# had to knowingly turn this feature on, since enabling it means that\r\n",
      "# each client request will result in AT LEAST one lookup request to the\r\n",
      "# nameserver.\r\n",
      "#\r\n",
      "HostnameLookups Off\r\n",
      "\r\n",
      "# ErrorLog: The location of the error log file.\r\n",
      "# If you do not specify an ErrorLog directive within a <VirtualHost>\r\n",
      "# container, error messages relating to that virtual host will be\r\n",
      "# logged here.  If you *do* define an error logfile for a <VirtualHost>\r\n",
      "# container, that host's errors will be logged there and not here.\r\n",
      "#\r\n",
      "ErrorLog ${APACHE_LOG_DIR}/error.log\r\n",
      "\r\n",
      "#\r\n",
      "# LogLevel: Control the severity of messages logged to the error_log.\r\n",
      "# Available values: trace8, ..., trace1, debug, info, notice, warn,\r\n",
      "# error, crit, alert, emerg.\r\n",
      "# It is also possible to configure the log level for particular modules, e.g.\r\n",
      "# \"LogLevel info ssl:warn\"\r\n",
      "#\r\n",
      "LogLevel warn\r\n",
      "\r\n",
      "# Include module configuration:\r\n",
      "IncludeOptional mods-enabled/*.load\r\n",
      "IncludeOptional mods-enabled/*.conf\r\n",
      "\r\n",
      "# Include list of ports to listen on\r\n",
      "Include ports.conf\r\n",
      "\r\n",
      "\r\n",
      "# Sets the default security model of the Apache2 HTTPD server. It does\r\n",
      "# not allow access to the root filesystem outside of /usr/share and /var/www.\r\n",
      "# The former is used by web applications packaged in Debian,\r\n",
      "# the latter may be used for local directories served by the web server. If\r\n",
      "# your system is serving content from a sub-directory in /srv you must allow\r\n",
      "# access here, or in any related virtual host.\r\n",
      "<Directory />\r\n",
      "\tOptions FollowSymLinks\r\n",
      "\tAllowOverride None\r\n",
      "\tRequire all denied\r\n",
      "</Directory>\r\n",
      "\r\n",
      "<Directory /usr/share>\r\n",
      "\tAllowOverride None\r\n",
      "\tRequire all granted\r\n",
      "</Directory>\r\n",
      "\r\n",
      "<Directory /var/www/>\r\n",
      "\tOptions Indexes FollowSymLinks\r\n",
      "\tAllowOverride None\r\n",
      "\tRequire all granted\r\n",
      "</Directory>\r\n",
      "\r\n",
      "#<Directory /srv/>\r\n",
      "#\tOptions Indexes FollowSymLinks\r\n",
      "#\tAllowOverride None\r\n",
      "#\tRequire all granted\r\n",
      "#</Directory>\r\n",
      "\r\n",
      "\r\n",
      "\r\n",
      "\r\n",
      "# AccessFileName: The name of the file to look for in each directory\r\n",
      "# for additional configuration directives.  See also the AllowOverride\r\n",
      "# directive.\r\n",
      "#\r\n",
      "AccessFileName .htaccess\r\n",
      "\r\n",
      "#\r\n",
      "# The following lines prevent .htaccess and .htpasswd files from being\r\n",
      "# viewed by Web clients.\r\n",
      "#\r\n",
      "<FilesMatch \"^\\.ht\">\r\n",
      "\tRequire all denied\r\n",
      "</FilesMatch>\r\n",
      "\r\n",
      "\r\n",
      "#\r\n",
      "# The following directives define some format nicknames for use with\r\n",
      "# a CustomLog directive.\r\n",
      "#\r\n",
      "# These deviate from the Common Log Format definitions in that they use %O\r\n",
      "# (the actual bytes sent including headers) instead of %b (the size of the\r\n",
      "# requested file), because the latter makes it impossible to detect partial\r\n",
      "# requests.\r\n",
      "#\r\n",
      "# Note that the use of %{X-Forwarded-For}i instead of %h is not recommended.\r\n",
      "# Use mod_remoteip instead.\r\n",
      "#\r\n",
      "LogFormat \"%v:%p %h %l %u %t \\\"%r\\\" %>s %O \\\"%{Referer}i\\\" \\\"%{User-Agent}i\\\"\" vhost_combined\r\n",
      "LogFormat \"%h %l %u %t \\\"%r\\\" %>s %O \\\"%{Referer}i\\\" \\\"%{User-Agent}i\\\"\" combined\r\n",
      "LogFormat \"%h %l %u %t \\\"%r\\\" %>s %O\" common\r\n",
      "LogFormat \"%{Referer}i -> %U\" referer\r\n",
      "LogFormat \"%{User-agent}i\" agent\r\n",
      "\r\n",
      "# Include of directories ignores editors' and dpkg's backup files,\r\n",
      "# see README.Debian for details.\r\n",
      "\r\n",
      "# Include generic snippets of statements\r\n",
      "IncludeOptional conf-enabled/*.conf\r\n",
      "\r\n",
      "# Include the virtual host configurations:\r\n",
      "IncludeOptional sites-enabled/*.conf\r\n",
      "\r\n",
      "# vim: syntax=apache ts=4 sw=4 sts=4 sr noet\r\n"
     ]
    }
   ],
   "source": [
    "!cat /etc/apache2/apache2.conf"
   ]
  },
  {
   "cell_type": "markdown",
   "metadata": {},
   "source": [
    "```\n",
    "# Include the virtual host configurations:\n",
    "\n",
    "IncludeOptional sites-enabled/*.conf\n",
    "```"
   ]
  },
  {
   "cell_type": "code",
   "execution_count": 3,
   "metadata": {},
   "outputs": [
    {
     "name": "stdout",
     "output_type": "stream",
     "text": [
      "blog.conf\r\n"
     ]
    }
   ],
   "source": [
    "#  blog.conf -> ../sites-available/blog.conf配置的软链接，指向真实的配置\n",
    "!ls /etc/apache2/sites-enabled"
   ]
  },
  {
   "cell_type": "code",
   "execution_count": 8,
   "metadata": {},
   "outputs": [
    {
     "name": "stdout",
     "output_type": "stream",
     "text": [
      "blog.conf  comments_blog.conf  default-ssl.conf\r\n"
     ]
    }
   ],
   "source": [
    "# 新建站点的配置文件，comments_blog.conf\n",
    "!ls /etc/apache2/sites-available"
   ]
  },
  {
   "cell_type": "code",
   "execution_count": 5,
   "metadata": {},
   "outputs": [
    {
     "name": "stdout",
     "output_type": "stream",
     "text": [
      "<VirtualHost *:80>\r\n",
      "\t# The ServerName directive sets the request scheme, hostname and port that\r\n",
      "\t# the server uses to identify itself. This is used when creating\r\n",
      "\t# redirection URLs. In the context of virtual hosts, the ServerName\r\n",
      "\t# specifies what hostname must appear in the request's Host: header to\r\n",
      "\t# match this virtual host. For the default virtual host (this file) this\r\n",
      "\t# value is not decisive as it is used as a last resort host regardless.\r\n",
      "\t# However, you must set it for any further virtual host explicitly.\r\n",
      "\t#ServerName www.example.com\r\n",
      "\r\n",
      "\tServerAdmin webmaster@localhost\r\n",
      "\tServerName http://www.comments.jerrylsu.net\r\n",
      "\tDocumentRoot /var/www/blog/isso\r\n",
      "\r\n",
      "  # off表示开启反向代理，on表示开`启正向代理\r\n",
      "  ProxyRequests Off\r\n",
      "  # 将这个虚拟主机跳转到本机的8180端口\r\n",
      "  # Proxy for Isso commenting\r\n",
      "  ProxyPass / http://localhost:8180/\r\n",
      "  ProxyPassReverse / http://localhost:8180/\r\n",
      "  <Proxy *>\r\n",
      "          Order Deny,Allow\r\n",
      "          Allow from all\r\n",
      "  </Proxy>\r\n",
      "\t# Available loglevels: trace8, ..., trace1, debug, info, notice, warn,\r\n",
      "\t# error, crit, alert, emerg.\r\n",
      "\t# It is also possible to configure the loglevel for particular\r\n",
      "\t# modules, e.g.\r\n",
      "\t#LogLevel info ssl:warn\r\n",
      "\r\n",
      "\tErrorLog ${APACHE_LOG_DIR}/error.log\r\n",
      "\tCustomLog ${APACHE_LOG_DIR}/access.log combined\r\n",
      "\r\n",
      "\t# For most configuration files from conf-available/, which are\r\n",
      "\t# enabled or disabled at a global level, it is possible to\r\n",
      "\t# include a line for only one particular virtual host. For example the\r\n",
      "\t# following line enables the CGI configuration for this host only\r\n",
      "\t# after it has been globally disabled with \"a2disconf\".\r\n",
      "\t#Include conf-available/serve-cgi-bin.conf\r\n",
      "</VirtualHost>\r\n",
      "\r\n",
      "# vim: syntax=apache ts=4 sw=4 sts=4 sr noet\r\n"
     ]
    }
   ],
   "source": [
    "!cat /etc/apache2/sites-available/comments_blog.conf"
   ]
  },
  {
   "cell_type": "markdown",
   "metadata": {},
   "source": [
    "#### 1.2 建立软链接"
   ]
  },
  {
   "cell_type": "code",
   "execution_count": 8,
   "metadata": {},
   "outputs": [
    {
     "name": "stdout",
     "output_type": "stream",
     "text": [
      "blog.conf  comments_blog.conf\r\n"
     ]
    }
   ],
   "source": [
    "# 为comments_blog.conf站点建立软链接\n",
    "\n",
    "\"\"\"\n",
    "cd /etc/apache2/sites-enabled\n",
    "\n",
    "#建立对应的软链接\n",
    "sudo ln -s /etc/apache2/sites-available/comments_blog.conf /etc/apache2/sites-enabled/comments_blog.conf\n",
    "\n",
    "-> a2ensite comments_blog.conf\n",
    "\n",
    "\"\"\"\n",
    "!ls /etc/apache2/sites-enabled"
   ]
  },
  {
   "cell_type": "markdown",
   "metadata": {},
   "source": [
    "#### 1.3 修改/etc/hosts"
   ]
  },
  {
   "cell_type": "code",
   "execution_count": 9,
   "metadata": {},
   "outputs": [
    {
     "name": "stdout",
     "output_type": "stream",
     "text": [
      "127.0.0.1\tlocalhost\r\n",
      "::1\tlocalhost ip6-localhost ip6-loopback\r\n",
      "fe00::0\tip6-localnet\r\n",
      "ff00::0\tip6-mcastprefix\r\n",
      "ff02::1\tip6-allnodes\r\n",
      "ff02::2\tip6-allrouters\r\n",
      "172.17.0.2\te7cac75317f0\r\n"
     ]
    }
   ],
   "source": [
    "!cat /etc/hosts"
   ]
  },
  {
   "cell_type": "markdown",
   "metadata": {},
   "source": [
    "#### 1.4 重启Apache2\n",
    "\n",
    "service apache2 restart"
   ]
  },
  {
   "cell_type": "code",
   "execution_count": null,
   "metadata": {},
   "outputs": [],
   "source": []
  },
  {
   "cell_type": "markdown",
   "metadata": {},
   "source": [
    "[https://hackriculture.fr/isso-commentaires-auto-heberges-pour-pelican-et-autres-sites-statiques.html](https://hackriculture.fr/isso-commentaires-auto-heberges-pour-pelican-et-autres-sites-statiques.html)\n",
    "\n",
    "[https://therandombits.com/2018/12/how-to-add-isso-comments-to-your-site/](https://therandombits.com/2018/12/how-to-add-isso-comments-to-your-site/)\n",
    "\n",
    "[http://www.linuxidc.com/Linux/2017-05/143590.htm](http://www.linuxidc.com/Linux/2017-05/143590.htm)"
   ]
  },
  {
   "cell_type": "code",
   "execution_count": null,
   "metadata": {},
   "outputs": [],
   "source": []
  }
 ],
 "metadata": {
  "kernelspec": {
   "display_name": "Python [conda env:blog] *",
   "language": "python",
   "name": "conda-env-blog-py"
  },
  "language_info": {
   "codemirror_mode": {
    "name": "ipython",
    "version": 3
   },
   "file_extension": ".py",
   "mimetype": "text/x-python",
   "name": "python",
   "nbconvert_exporter": "python",
   "pygments_lexer": "ipython3",
   "version": "3.8.3"
  }
 },
 "nbformat": 4,
 "nbformat_minor": 4
}
