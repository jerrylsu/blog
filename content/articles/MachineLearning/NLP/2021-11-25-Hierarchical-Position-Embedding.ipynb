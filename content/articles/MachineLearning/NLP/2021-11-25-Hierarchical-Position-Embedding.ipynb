{
 "cells": [
  {
   "cell_type": "markdown",
   "metadata": {},
   "source": [
    "- date: 2021-11-24 11:17:17\n",
    "- author: Jerry Su\n",
    "- slug: Hierarchical-Position-Embedding\n",
    "- title: Hierarchical Position Embedding\n",
    "- category: \n",
    "- tags: Paddle"
   ]
  },
  {
   "cell_type": "markdown",
   "metadata": {},
   "source": [
    "预训练模型 预训练的三种embedding\n",
    "\n",
    "word_embedding: [vocab_size, hidden_size]\n",
    "\n",
    "position_embedding: [max_len, hidden_size]\n",
    "\n",
    "token_type_embedding: [token_type_size, hidden_size]\n",
    "\n",
    "![embedding](../../../images/PaddlePaddle/embedding.png)"
   ]
  },
  {
   "cell_type": "code",
   "execution_count": 1,
   "metadata": {},
   "outputs": [],
   "source": [
    "import paddle"
   ]
  },
  {
   "cell_type": "code",
   "execution_count": 18,
   "metadata": {},
   "outputs": [
    {
     "data": {
      "text/plain": [
       "Tensor(shape=[10, 8], dtype=float32, place=CPUPlace, stop_gradient=True,\n",
       "       [[-1.70151997,  0.41166085,  2.07669687,  0.45709962, -0.06186785,\n",
       "         -0.97549921, -0.90647888,  2.12490559],\n",
       "        [ 0.40519783, -1.11712575,  1.54822433, -0.05031898, -0.51368678,\n",
       "         -1.38852108, -0.02409656,  1.00319695],\n",
       "        [ 0.57666051,  1.40628839, -0.56820840, -0.72696203,  2.13925982,\n",
       "          0.28499472,  0.27968141, -0.67539662],\n",
       "        [-0.07279679, -0.38625064,  0.30775487,  0.88405734,  0.47236541,\n",
       "         -0.01491422, -0.50424761,  1.80062306],\n",
       "        [ 1.34739888, -2.21111441, -1.01067805,  0.49614486,  0.94243181,\n",
       "          0.26475626, -0.96289474, -1.20046675],\n",
       "        [ 0.51090276,  0.54126865,  1.57957983,  0.10972761, -0.59386450,\n",
       "          0.31432116, -1.26107502,  0.82878709],\n",
       "        [-0.78502595, -1.61735356, -1.11995804, -0.73096234,  1.20255005,\n",
       "         -1.09889698,  0.63459170,  1.03971624],\n",
       "        [ 1.56938338,  0.92273849,  0.39578432, -0.37981853, -1.23813057,\n",
       "         -0.55158073, -3.24209809,  0.12925054],\n",
       "        [-1.13369787, -0.39774710, -0.49981558, -0.53536624,  0.75390613,\n",
       "         -1.32532024, -0.64734256, -0.03006230],\n",
       "        [-2.88903165,  1.16438472, -1.08206642, -0.51091170,  0.13472752,\n",
       "          0.63502938, -0.84292829,  0.48817706]])"
      ]
     },
     "execution_count": 18,
     "metadata": {},
     "output_type": "execute_result"
    }
   ],
   "source": [
    "em = paddle.randn([10,8])\n",
    "em"
   ]
  },
  {
   "cell_type": "code",
   "execution_count": 22,
   "metadata": {},
   "outputs": [
    {
     "data": {
      "text/plain": [
       "Tensor(shape=[10, 5], dtype=float32, place=CPUPlace, stop_gradient=True,\n",
       "       [[-1.70151997,  0.41166085,  2.07669687,  0.45709962, -0.06186785],\n",
       "        [ 0.40519783, -1.11712575,  1.54822433, -0.05031898, -0.51368678],\n",
       "        [ 0.57666051,  1.40628839, -0.56820840, -0.72696203,  2.13925982],\n",
       "        [-0.07279679, -0.38625064,  0.30775487,  0.88405734,  0.47236541],\n",
       "        [ 1.34739888, -2.21111441, -1.01067805,  0.49614486,  0.94243181],\n",
       "        [ 0.51090276,  0.54126865,  1.57957983,  0.10972761, -0.59386450],\n",
       "        [-0.78502595, -1.61735356, -1.11995804, -0.73096234,  1.20255005],\n",
       "        [ 1.56938338,  0.92273849,  0.39578432, -0.37981853, -1.23813057],\n",
       "        [-1.13369787, -0.39774710, -0.49981558, -0.53536624,  0.75390613],\n",
       "        [-2.88903165,  1.16438472, -1.08206642, -0.51091170,  0.13472752]])"
      ]
     },
     "execution_count": 22,
     "metadata": {},
     "output_type": "execute_result"
    }
   ],
   "source": [
    "em[..., :5]"
   ]
  },
  {
   "cell_type": "code",
   "execution_count": 5,
   "metadata": {},
   "outputs": [],
   "source": [
    "import torch"
   ]
  },
  {
   "cell_type": "code",
   "execution_count": 7,
   "metadata": {},
   "outputs": [
    {
     "data": {
      "text/plain": [
       "torch.Size([10, 8])"
      ]
     },
     "execution_count": 7,
     "metadata": {},
     "output_type": "execute_result"
    }
   ],
   "source": [
    "ee = torch.randn([10, 8])\n",
    "ee.shape"
   ]
  },
  {
   "cell_type": "code",
   "execution_count": 15,
   "metadata": {},
   "outputs": [
    {
     "data": {
      "text/plain": [
       "torch.Size([5, 8])"
      ]
     },
     "execution_count": 15,
     "metadata": {},
     "output_type": "execute_result"
    }
   ],
   "source": [
    "ee[None, :5].squeeze(0).shape"
   ]
  },
  {
   "cell_type": "code",
   "execution_count": null,
   "metadata": {},
   "outputs": [],
   "source": []
  }
 ],
 "metadata": {
  "kernelspec": {
   "display_name": "Python [conda env:blog]",
   "language": "python",
   "name": "conda-env-blog-py"
  },
  "language_info": {
   "codemirror_mode": {
    "name": "ipython",
    "version": 3
   },
   "file_extension": ".py",
   "mimetype": "text/x-python",
   "name": "python",
   "nbconvert_exporter": "python",
   "pygments_lexer": "ipython3",
   "version": "3.8.3"
  }
 },
 "nbformat": 4,
 "nbformat_minor": 4
}
