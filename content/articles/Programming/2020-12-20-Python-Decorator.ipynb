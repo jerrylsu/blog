{
 "cells": [
  {
   "cell_type": "markdown",
   "metadata": {},
   "source": [
    "date: 2020-12-20 10:17:17\n",
    "author: Jerry Su\n",
    "slug: Python-Decorator\n",
    "title: Python Decorator\n",
    "category: \n",
    "tags: Python"
   ]
  },
  {
   "cell_type": "markdown",
   "metadata": {},
   "source": [
    "@lock vs @lock()  装饰器 vs 装饰器工厂函数  \n",
    "\n",
    "相同\n",
    "\n",
    "- 均是导入时运行，返回值均是函数。\n",
    "\n",
    "不同\n",
    "\n",
    "- 装饰器返回的是替代被装饰的函数，装饰器工厂函数返回的是装饰器函数\n",
    "\n",
    "- 装饰器传入的是函数（被装饰的函数），装饰器工厂函数传入的是参数（传给装饰器的参数）"
   ]
  },
  {
   "cell_type": "markdown",
   "metadata": {},
   "source": [
    "## 0. 装饰器\n",
    "\n",
    "装饰器：参数和返回值必须是函数，即接收一个函数（被装饰的函数）对象，返回一个函数（已装饰的函数）对象。动态的给一个对象添加额外职责，即装饰器设计模式。\n",
    "\n",
    "装饰器的典型行为：把被装饰的函数替换为新函数，二者接收的参数相同，并返回被装饰函数本该的返回值，同时增加一些额外操作。\n",
    "\n",
    "**func = factorial, factorial = clocked**\n",
    "\n",
    "clock是装饰器\n",
    "\n",
    "factorial是被装饰函数\n",
    "\n",
    "clocked是被装饰后的函数\n",
    "\n",
    "factorial作为func参数传递给装饰器clock，装饰器clock返回clocked函数并复制给factorial。func是clocked的自由变量，两者构成闭包。\n",
    "\n",
    "当调用函数factorial时，实际上调用函数locked，而locked函数中func则为被装饰的函数factorial。"
   ]
  },
  {
   "cell_type": "code",
   "execution_count": 11,
   "metadata": {},
   "outputs": [],
   "source": [
    "# 实现一个简单的装饰器：调用被装饰的函数时，打印被调用函数的运行时间，传入参数和输出结果。\n",
    "\n",
    "import time\n",
    "\n",
    "def clock(func):\n",
    "    def clocked(*args):\n",
    "        start = time.time()\n",
    "        result = func(*args)\n",
    "        end = time.time() - start\n",
    "        arg_str = ''.join([repr(arg) for arg in args])\n",
    "        print(f'time: {end}, args: {arg_str}, result: {result}')\n",
    "        return result\n",
    "    return clocked\n",
    "    \n",
    "@clock\n",
    "def factorial(n):\n",
    "    return 1 if n < 2 else n * factorial(n - 1)"
   ]
  },
  {
   "cell_type": "code",
   "execution_count": 12,
   "metadata": {},
   "outputs": [
    {
     "name": "stdout",
     "output_type": "stream",
     "text": [
      "time: 4.76837158203125e-07, args: 1, result: 1\n",
      "time: 0.0006880760192871094, args: 2, result: 2\n",
      "time: 0.0008151531219482422, args: 3, result: 6\n",
      "time: 0.0009067058563232422, args: 4, result: 24\n",
      "time: 0.0010030269622802734, args: 5, result: 120\n",
      "time: 0.0011680126190185547, args: 6, result: 720\n"
     ]
    },
    {
     "data": {
      "text/plain": [
       "720"
      ]
     },
     "execution_count": 12,
     "metadata": {},
     "output_type": "execute_result"
    }
   ],
   "source": [
    "factorial(6)"
   ]
  },
  {
   "cell_type": "code",
   "execution_count": 13,
   "metadata": {},
   "outputs": [
    {
     "data": {
      "text/plain": [
       "'clocked'"
      ]
     },
     "execution_count": 13,
     "metadata": {},
     "output_type": "execute_result"
    }
   ],
   "source": [
    "factorial.__name__  # 可见factorial是函数locked的引用， 调用factorial(n)即调用locked(n)"
   ]
  },
  {
   "cell_type": "markdown",
   "metadata": {},
   "source": [
    "## 1. 装饰器何时运行？\n",
    "\n",
    "导入时与运行时：函数装饰器在**导入模块时立即执行**，而被装饰器装饰的函数，只有程序运行时显式调用时才执行。\n",
    "\n",
    "装饰器在实际工程中：\n",
    "\n",
    "- 通常，装饰器在一个py模块中定义，应用到其他py模块的函数上。\n",
    "\n",
    "- 通常，装饰器内部绘重新定义一个函数，将其返回。而非作为装饰器参数的函数。"
   ]
  },
  {
   "cell_type": "code",
   "execution_count": 14,
   "metadata": {},
   "outputs": [
    {
     "name": "stdout",
     "output_type": "stream",
     "text": [
      "running register <function func1 at 0x7ff5301fe8b0>\n",
      "running register <function func2 at 0x7ff531b69790>\n"
     ]
    }
   ],
   "source": [
    "registry = []\n",
    "\n",
    "def register(func):\n",
    "    print(f'running register {func}')\n",
    "    registry.append(func)\n",
    "    return func\n",
    "\n",
    "@register\n",
    "def func1():\n",
    "    print('running func1')\n",
    "\n",
    "@register\n",
    "def func2():\n",
    "    print('running func2')\n",
    "    \n",
    "def func3():\n",
    "    print('running fucn3')\n",
    "\n",
    "def main():\n",
    "    print(registry)\n",
    "    func1()\n",
    "    func2()\n",
    "    func3()"
   ]
  },
  {
   "cell_type": "code",
   "execution_count": 15,
   "metadata": {},
   "outputs": [
    {
     "data": {
      "text/plain": [
       "[<function __main__.func1()>, <function __main__.func2()>]"
      ]
     },
     "execution_count": 15,
     "metadata": {},
     "output_type": "execute_result"
    }
   ],
   "source": [
    "registry"
   ]
  },
  {
   "cell_type": "code",
   "execution_count": 16,
   "metadata": {},
   "outputs": [
    {
     "name": "stdout",
     "output_type": "stream",
     "text": [
      "[<function func1 at 0x7ff5301fe8b0>, <function func2 at 0x7ff531b69790>]\n",
      "running func1\n",
      "running func2\n",
      "running fucn3\n"
     ]
    }
   ],
   "source": [
    "main()"
   ]
  },
  {
   "cell_type": "markdown",
   "metadata": {},
   "source": [
    "## 2. 闭包\n",
    "\n",
    "多数装饰器会修改被装饰的函数。通常是在装饰器**内部重新定义一个函数**，将其返回，用来替换被装饰的函数。装饰器内部定义函数几乎都需要**闭包**。"
   ]
  },
  {
   "cell_type": "code",
   "execution_count": 17,
   "metadata": {},
   "outputs": [
    {
     "name": "stdout",
     "output_type": "stream",
     "text": [
      "10.0\n",
      "10.5\n"
     ]
    }
   ],
   "source": [
    "# 设计某商品收盘均价。注：实时增加新价\n",
    "\n",
    "# 类写法\n",
    "class Averager():\n",
    "    def __init__(self):\n",
    "        self.series = []\n",
    "        \n",
    "    def __call__(self, price):     # 可调用对象\n",
    "        self.series.append(price)\n",
    "        print(sum(self.series) / len(self.series))\n",
    "        \n",
    "avg = Averager()\n",
    "avg(10)  # 可调用对象 __call__()\n",
    "avg(11)"
   ]
  },
  {
   "cell_type": "code",
   "execution_count": 18,
   "metadata": {},
   "outputs": [
    {
     "name": "stdout",
     "output_type": "stream",
     "text": [
      "10.0\n",
      "10.5\n"
     ]
    }
   ],
   "source": [
    "# 函数式写法，高阶函数\n",
    "\n",
    "def make_averager():\n",
    "    series = []\n",
    "    \n",
    "    def averager(price):\n",
    "        series.append(price)\n",
    "        print(sum(series) / len(series))\n",
    "    \n",
    "    return averager\n",
    "\n",
    "avg = make_averager()\n",
    "avg(10)\n",
    "avg(11)"
   ]
  },
  {
   "cell_type": "markdown",
   "metadata": {},
   "source": [
    "类写法和函数式写法：\n",
    "\n",
    "- 共同之处：通过实例化类Averager()和调用make_averager()都会得到一个**可调用对象**。\n",
    "\n",
    "- 不同之处：如何存历史值price？类self.series，而函数式则存在series中。\n",
    "\n",
    "而series作为函数make_averager局部变量，在函数返回时局部变量应该销毁。而series相对于make_averager的内部函数averager称为自由变量。\n",
    "\n",
    "```\n",
    "    series = []\n",
    "    \n",
    "    def averager(price):\n",
    "        series.append(price)\n",
    "        print(sum(series) / len(series))\n",
    "```\n",
    "这个代码块称为闭包。闭包是一种函数，它会保留定义函数时存在的自由变量绑定，即使像make_averager函数返回作用域不存在了，averager函数仍然保留使用这些自由变量绑定。\n",
    "\n",
    "**重点：只有在嵌套函数中的函数，才可能处理不在全局作用域中的外部变量，相对该函数称为自由变量。而该函数与自由变量称为闭包。**"
   ]
  },
  {
   "cell_type": "markdown",
   "metadata": {},
   "source": [
    "## 3. 关键字nonlocal"
   ]
  },
  {
   "cell_type": "markdown",
   "metadata": {},
   "source": [
    "## 4. 参数化装饰器 - 装饰器函数工厂\n",
    "\n",
    "装饰器如何传递参数？通过创建**装饰器工厂函数**，参数传递给装饰器工厂函数，返回装饰器。"
   ]
  },
  {
   "cell_type": "code",
   "execution_count": null,
   "metadata": {},
   "outputs": [],
   "source": [
    "def add_start_docstrings(*docstr):\n",
    "    def docstring_decorator(fn):\n",
    "        fn.__doc__ = \"\".join(docstr) + (fn.__doc__ if fn.__doc__ is not None else \"\")\n",
    "        return fn\n",
    "\n",
    "    return docstring_decorator\n",
    "\n",
    "@add_start_docstrings(\"\"\"Bert Model with a `language modeling` head on top. \"\"\", BERT_START_DOCSTRING)\n",
    "def BertForMaskedLM():\n",
    "    pass"
   ]
  },
  {
   "cell_type": "markdown",
   "metadata": {},
   "source": [
    "## 进阶\n",
    "\n",
    "GrahamDumpleton wrapt\n",
    "\n",
    "https://github.com/GrahamDumpleton/wrapt/tree/develop/blog"
   ]
  },
  {
   "cell_type": "code",
   "execution_count": null,
   "metadata": {},
   "outputs": [],
   "source": []
  }
 ],
 "metadata": {
  "kernelspec": {
   "display_name": "Python [conda env:blog] *",
   "language": "python",
   "name": "conda-env-blog-py"
  },
  "language_info": {
   "codemirror_mode": {
    "name": "ipython",
    "version": 3
   },
   "file_extension": ".py",
   "mimetype": "text/x-python",
   "name": "python",
   "nbconvert_exporter": "python",
   "pygments_lexer": "ipython3",
   "version": "3.8.3"
  }
 },
 "nbformat": 4,
 "nbformat_minor": 4
}
