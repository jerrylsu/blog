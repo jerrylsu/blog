{
 "cells": [
  {
   "cell_type": "markdown",
   "metadata": {},
   "source": [
    "- date: 2022-05-08 11:17:17\n",
    "- author: Jerry Su\n",
    "- slug: Paddle-gather-index_select\n",
    "- title: Paddle gather index_select\n",
    "- category: \n",
    "- tags: Paddle"
   ]
  },
  {
   "cell_type": "markdown",
   "metadata": {},
   "source": [
    "gather实现torch数组花式索引\n",
    "\n",
    "https://github.com/PaddlePaddle/Paddle/issues/42554 [受到启发]如果要多个list做索引建议一个一个来分开处理\n",
    "\n",
    "https://github.com/PaddlePaddle/Paddle/issues/35072\n",
    "\n",
    "https://github.com/PaddlePaddle/Paddle/pull/34824\n",
    "\n",
    "https://github.com/PaddlePaddle/Paddle/issues/33605"
   ]
  },
  {
   "cell_type": "code",
   "execution_count": 1,
   "metadata": {},
   "outputs": [],
   "source": [
    "import torch"
   ]
  },
  {
   "cell_type": "code",
   "execution_count": 92,
   "metadata": {},
   "outputs": [
    {
     "name": "stdout",
     "output_type": "stream",
     "text": [
      "torch.Size([2, 3, 4, 5])\n"
     ]
    },
    {
     "data": {
      "text/plain": [
       "tensor([[[[-0.0760, -0.9579, -1.4367, -1.9330,  1.9332],\n",
       "          [-0.5192, -1.2808, -0.9056, -1.8171,  2.4717],\n",
       "          [-0.3558,  0.1629, -2.8641,  1.3472, -0.9211],\n",
       "          [ 0.0932,  0.6473,  1.0439,  1.2783,  0.1088]],\n",
       "\n",
       "         [[-0.1191, -0.8518,  0.9753, -0.7256, -0.7781],\n",
       "          [-0.5159, -0.0078,  0.3808,  2.2084,  0.5428],\n",
       "          [ 1.6506,  0.6946,  0.1436,  0.5960,  0.4892],\n",
       "          [-2.6200,  0.0104,  0.1307, -1.1882,  1.1010]],\n",
       "\n",
       "         [[ 0.0119,  0.0548, -0.1476, -0.3266, -0.3430],\n",
       "          [ 0.0218, -1.3204, -1.4213,  0.5170,  0.2243],\n",
       "          [ 1.6161,  1.3656, -1.6352,  0.9008, -0.4133],\n",
       "          [ 0.1467,  0.6184,  2.1848, -0.2661, -0.7767]]],\n",
       "\n",
       "\n",
       "        [[[-0.0625,  0.0730,  0.5231,  0.2452, -0.3780],\n",
       "          [-0.3511,  0.7749, -2.4241,  0.4164,  0.7710],\n",
       "          [-0.5274, -2.0765, -0.3656, -0.8910,  0.0848],\n",
       "          [-1.6999, -0.0182, -0.1018,  1.0403, -1.1671]],\n",
       "\n",
       "         [[ 1.5376,  1.5196, -0.0153, -0.7229, -1.3471],\n",
       "          [-0.1645,  0.8966, -0.5429, -0.2707,  0.7849],\n",
       "          [-0.0886, -1.0376,  1.2382,  0.2717, -0.3969],\n",
       "          [-0.3015, -0.6165,  0.2013, -0.0116,  0.8203]],\n",
       "\n",
       "         [[-0.7642, -1.6964,  1.4862,  0.8707, -0.3923],\n",
       "          [ 1.4053, -0.2089,  1.5149,  1.3437, -0.7319],\n",
       "          [ 0.5642,  0.5984,  0.3218, -1.3115,  0.3141],\n",
       "          [-1.3803,  0.0154,  0.4372,  0.4740, -1.0228]]]])"
      ]
     },
     "execution_count": 92,
     "metadata": {},
     "output_type": "execute_result"
    }
   ],
   "source": [
    "x = torch.randn(2, 3, 4, 5)\n",
    "print(x.shape)\n",
    "x"
   ]
  },
  {
   "cell_type": "code",
   "execution_count": 93,
   "metadata": {},
   "outputs": [],
   "source": [
    "dim0 = torch.tensor([0, 1])\n",
    "dim2 = torch.tensor([0, 2])"
   ]
  },
  {
   "cell_type": "code",
   "execution_count": 101,
   "metadata": {},
   "outputs": [
    {
     "name": "stdout",
     "output_type": "stream",
     "text": [
      "torch.Size([2, 3, 5])\n"
     ]
    },
    {
     "data": {
      "text/plain": [
       "tensor([[[-0.0760, -0.9579, -1.4367, -1.9330,  1.9332],\n",
       "         [-0.1191, -0.8518,  0.9753, -0.7256, -0.7781],\n",
       "         [ 0.0119,  0.0548, -0.1476, -0.3266, -0.3430]],\n",
       "\n",
       "        [[-0.5274, -2.0765, -0.3656, -0.8910,  0.0848],\n",
       "         [-0.0886, -1.0376,  1.2382,  0.2717, -0.3969],\n",
       "         [ 0.5642,  0.5984,  0.3218, -1.3115,  0.3141]]])"
      ]
     },
     "execution_count": 101,
     "metadata": {},
     "output_type": "execute_result"
    }
   ],
   "source": [
    "x_ = x[dim0, :, dim2]\n",
    "print(x_.shape)\n",
    "x_"
   ]
  },
  {
   "cell_type": "markdown",
   "metadata": {},
   "source": [
    "## paddle实现"
   ]
  },
  {
   "cell_type": "code",
   "execution_count": 95,
   "metadata": {},
   "outputs": [],
   "source": [
    "import paddle"
   ]
  },
  {
   "cell_type": "code",
   "execution_count": 105,
   "metadata": {},
   "outputs": [],
   "source": [
    "xx = paddle.to_tensor(x.numpy())\n",
    "# xx"
   ]
  },
  {
   "cell_type": "code",
   "execution_count": 117,
   "metadata": {},
   "outputs": [],
   "source": [
    "axis0 = paddle.to_tensor([0, 1])\n",
    "axis1 = paddle.to_tensor([0, 2])"
   ]
  },
  {
   "cell_type": "code",
   "execution_count": 121,
   "metadata": {},
   "outputs": [],
   "source": [
    "out1 = paddle.gather(xx, index=axis0, axis=0)"
   ]
  },
  {
   "cell_type": "code",
   "execution_count": 139,
   "metadata": {},
   "outputs": [
    {
     "data": {
      "text/plain": [
       "Tensor(shape=[2, 2], dtype=int64, place=CPUPlace, stop_gradient=True,\n",
       "       [[0, 0],\n",
       "        [1, 2]])"
      ]
     },
     "execution_count": 139,
     "metadata": {},
     "output_type": "execute_result"
    }
   ],
   "source": [
    "index =paddle.stack([axis0, axis1], axis=-1)\n",
    "index "
   ]
  },
  {
   "cell_type": "code",
   "execution_count": 140,
   "metadata": {},
   "outputs": [
    {
     "data": {
      "text/plain": [
       "Tensor(shape=[2, 4, 5], dtype=float32, place=CPUPlace, stop_gradient=True,\n",
       "       [[[-0.07601893, -0.95786285, -1.43674135, -1.93300319,  1.93319392],\n",
       "         [-0.51922202, -1.28075957, -0.90560406, -1.81705618,  2.47172594],\n",
       "         [-0.35581169,  0.16289686, -2.86410379,  1.34724343, -0.92106235],\n",
       "         [ 0.09319570,  0.64727783,  1.04392993,  1.27829981,  0.10877635]],\n",
       "\n",
       "        [[-0.76419204, -1.69635403,  1.48616660,  0.87069529, -0.39233911],\n",
       "         [ 1.40529430, -0.20886442,  1.51489639,  1.34371901, -0.73188514],\n",
       "         [ 0.56418574,  0.59838581,  0.32179439, -1.31146288,  0.31410775],\n",
       "         [-1.38033020,  0.01542827,  0.43722150,  0.47403052, -1.02283168]]])"
      ]
     },
     "execution_count": 140,
     "metadata": {},
     "output_type": "execute_result"
    }
   ],
   "source": [
    "paddle.gather_nd(out1, index=index)#.transpose([0, 1, 3, 2])"
   ]
  },
  {
   "cell_type": "code",
   "execution_count": null,
   "metadata": {},
   "outputs": [],
   "source": []
  }
 ],
 "metadata": {
  "kernelspec": {
   "display_name": "Python [conda env:blog]",
   "language": "python",
   "name": "conda-env-blog-py"
  },
  "language_info": {
   "codemirror_mode": {
    "name": "ipython",
    "version": 3
   },
   "file_extension": ".py",
   "mimetype": "text/x-python",
   "name": "python",
   "nbconvert_exporter": "python",
   "pygments_lexer": "ipython3",
   "version": "3.8.3"
  }
 },
 "nbformat": 4,
 "nbformat_minor": 4
}
