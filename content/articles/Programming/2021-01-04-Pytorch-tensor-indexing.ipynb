{
 "cells": [
  {
   "cell_type": "markdown",
   "metadata": {},
   "source": [
    "- date: 2021-02-07 12:17:17\n",
    "- author: Jerry Su\n",
    "- slug: Pytorch-fancy-indexing\n",
    "- title: Pytorch fancy indexing\n",
    "- category: \n",
    "- tags: Pytorch"
   ]
  },
  {
   "cell_type": "markdown",
   "metadata": {},
   "source": [
    "花式索引\n",
    "\n",
    "组合索引\n",
    "\n",
    "与numpy索引方式几乎一致，参考numpy学习"
   ]
  },
  {
   "cell_type": "code",
   "execution_count": 4,
   "metadata": {},
   "outputs": [],
   "source": [
    "import torch"
   ]
  },
  {
   "cell_type": "code",
   "execution_count": 8,
   "metadata": {},
   "outputs": [
    {
     "name": "stdout",
     "output_type": "stream",
     "text": [
      "torch.Size([1, 3, 4, 5])\n"
     ]
    },
    {
     "data": {
      "text/plain": [
       "tensor([[[[ 2.2271,  2.0278, -0.5272,  1.4764, -0.6787],\n",
       "          [-0.7569, -0.8737,  0.0031,  0.7208,  1.9315],\n",
       "          [ 0.6217,  0.3060, -0.3342,  0.1870,  1.5624],\n",
       "          [-1.2602, -1.7282, -0.1555,  2.0486,  0.2562]],\n",
       "\n",
       "         [[-0.3865, -0.4514,  0.6373, -0.2836, -0.0389],\n",
       "          [ 1.1489, -1.4416,  0.2477,  1.7385,  0.7891],\n",
       "          [ 0.7877,  0.6736, -1.0933,  0.3111,  0.2772],\n",
       "          [ 0.4253,  1.3894, -1.1572,  1.6345,  0.1543]],\n",
       "\n",
       "         [[-1.6844,  0.5027, -0.4037,  1.5505, -0.6599],\n",
       "          [ 0.8898, -1.4016, -0.2114,  1.2523,  0.3860],\n",
       "          [-0.0034,  0.9842, -0.2550, -0.6099, -0.5720],\n",
       "          [-1.4554,  0.3559,  1.4612, -0.4953, -1.1379]]]])"
      ]
     },
     "execution_count": 8,
     "metadata": {},
     "output_type": "execute_result"
    }
   ],
   "source": [
    "x = torch.randn(1, 3, 4, 5)\n",
    "print(x.shape)\n",
    "x"
   ]
  },
  {
   "cell_type": "code",
   "execution_count": 6,
   "metadata": {},
   "outputs": [],
   "source": [
    "dim0 = torch.tensor([0, 0])\n",
    "dim2 = torch.tensor([0, 1])"
   ]
  },
  {
   "cell_type": "code",
   "execution_count": 10,
   "metadata": {},
   "outputs": [
    {
     "data": {
      "text/plain": [
       "tensor([[[ 2.2271,  2.0278, -0.5272,  1.4764, -0.6787],\n",
       "         [-0.3865, -0.4514,  0.6373, -0.2836, -0.0389],\n",
       "         [-1.6844,  0.5027, -0.4037,  1.5505, -0.6599]],\n",
       "\n",
       "        [[-0.7569, -0.8737,  0.0031,  0.7208,  1.9315],\n",
       "         [ 1.1489, -1.4416,  0.2477,  1.7385,  0.7891],\n",
       "         [ 0.8898, -1.4016, -0.2114,  1.2523,  0.3860]]])"
      ]
     },
     "execution_count": 10,
     "metadata": {},
     "output_type": "execute_result"
    }
   ],
   "source": [
    "x_ = x[dim0, :, dim2]\n",
    "x_"
   ]
  },
  {
   "cell_type": "code",
   "execution_count": null,
   "metadata": {},
   "outputs": [],
   "source": []
  }
 ],
 "metadata": {
  "kernelspec": {
   "display_name": "Python [conda env:blog]",
   "language": "python",
   "name": "conda-env-blog-py"
  },
  "language_info": {
   "codemirror_mode": {
    "name": "ipython",
    "version": 3
   },
   "file_extension": ".py",
   "mimetype": "text/x-python",
   "name": "python",
   "nbconvert_exporter": "python",
   "pygments_lexer": "ipython3",
   "version": "3.8.3"
  }
 },
 "nbformat": 4,
 "nbformat_minor": 4
}
