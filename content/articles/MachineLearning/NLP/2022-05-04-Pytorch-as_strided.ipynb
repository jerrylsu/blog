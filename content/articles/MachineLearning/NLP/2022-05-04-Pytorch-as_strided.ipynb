{
 "cells": [
  {
   "cell_type": "markdown",
   "metadata": {},
   "source": [
    "- date: 2022-05-04 11:17:17\n",
    "- author: Jerry Su\n",
    "- slug: Pytorch-stride-as_strided\n",
    "- title: Pytorch tensor.stride & tensor.as_strided\n",
    "- category: \n",
    "- tags: Pytorch"
   ]
  },
  {
   "cell_type": "markdown",
   "metadata": {},
   "source": [
    "## tensor.stride()\n",
    "\n",
    "任意维度上的步长，是其低维度乘积。\n",
    "\n",
    "shape: (12, 512, 768) stride: (512*768*1, 768*1, 1*1)\n",
    "\n",
    "## tensor.as_strided()\n",
    "\n",
    "- input (Tensor) – the input tensor.\n",
    "\n",
    "- size (tuple or ints) – the shape of the output tensor\n",
    "\n",
    "- stride (tuple or ints) – the stride of the output tensor\n",
    "\n",
    "- storage_offset (int, optional) – the offset in the underlying storage of the output tensor\n",
    "\n",
    "由input张量，以指定的size, stride, storage_offset创建新的view。"
   ]
  },
  {
   "cell_type": "code",
   "execution_count": 2,
   "metadata": {},
   "outputs": [],
   "source": [
    "import torch"
   ]
  },
  {
   "cell_type": "code",
   "execution_count": 46,
   "metadata": {},
   "outputs": [
    {
     "data": {
      "text/plain": [
       "tensor([[[ 0.9071,  0.2834, -0.1989, -1.4063],\n",
       "         [-1.7204,  1.7097, -1.2490,  1.1157]],\n",
       "\n",
       "        [[ 1.7791,  0.6694,  0.3891, -0.0156],\n",
       "         [-1.6843, -1.1728,  0.0408, -0.7561]],\n",
       "\n",
       "        [[ 0.9002,  1.4651,  0.7972,  1.1046],\n",
       "         [ 1.4144,  0.3738,  0.4680,  0.9603]]])"
      ]
     },
     "execution_count": 46,
     "metadata": {},
     "output_type": "execute_result"
    }
   ],
   "source": [
    "x = torch.randn(3, 2, 4)\n",
    "x"
   ]
  },
  {
   "cell_type": "code",
   "execution_count": 77,
   "metadata": {},
   "outputs": [
    {
     "name": "stdout",
     "output_type": "stream",
     "text": [
      "0维度上的步长：8\n",
      "1维度上的步长：4\n",
      "2维度上的步长：1\n"
     ]
    },
    {
     "data": {
      "text/plain": [
       "(8, 4, 1)"
      ]
     },
     "execution_count": 77,
     "metadata": {},
     "output_type": "execute_result"
    }
   ],
   "source": [
    "print(f\"0维度上的步长：{len(x[0]) * len(x[0][0] * 1)}\\n\"\n",
    "      f\"1维度上的步长：{len(x[0][0]) * 1}\\n\"\n",
    "      f\"2维度上的步长：{1 * 1}\")\n",
    "\n",
    "x.stride()"
   ]
  },
  {
   "cell_type": "code",
   "execution_count": 78,
   "metadata": {},
   "outputs": [
    {
     "data": {
      "text/plain": [
       "tensor([[ 0.9071,  0.2834, -0.1989, -1.4063],\n",
       "        [-1.7204,  1.7097, -1.2490,  1.1157]])"
      ]
     },
     "execution_count": 78,
     "metadata": {},
     "output_type": "execute_result"
    }
   ],
   "source": [
    "x[0]"
   ]
  },
  {
   "cell_type": "code",
   "execution_count": 67,
   "metadata": {},
   "outputs": [
    {
     "data": {
      "text/plain": [
       "tensor([ 0.9071,  0.2834, -0.1989, -1.4063])"
      ]
     },
     "execution_count": 67,
     "metadata": {},
     "output_type": "execute_result"
    }
   ],
   "source": [
    "x[0][0]"
   ]
  },
  {
   "cell_type": "code",
   "execution_count": 59,
   "metadata": {},
   "outputs": [
    {
     "data": {
      "text/plain": [
       "tensor(0.9071)"
      ]
     },
     "execution_count": 59,
     "metadata": {},
     "output_type": "execute_result"
    }
   ],
   "source": [
    "x[0][0][0]"
   ]
  },
  {
   "cell_type": "code",
   "execution_count": 61,
   "metadata": {},
   "outputs": [
    {
     "data": {
      "text/plain": [
       "torch.Size([3, 2, 4])"
      ]
     },
     "execution_count": 61,
     "metadata": {},
     "output_type": "execute_result"
    }
   ],
   "source": [
    "x.shape"
   ]
  },
  {
   "cell_type": "code",
   "execution_count": 81,
   "metadata": {},
   "outputs": [
    {
     "data": {
      "text/plain": [
       "(200, 10, 1)"
      ]
     },
     "execution_count": 81,
     "metadata": {},
     "output_type": "execute_result"
    }
   ],
   "source": [
    "x1 = torch.randn(5, 20, 10) # stride: (20 * 10 * 1, 10 * 1, 1 * 1)\n",
    "x1.stride()"
   ]
  },
  {
   "cell_type": "code",
   "execution_count": 75,
   "metadata": {},
   "outputs": [
    {
     "name": "stdout",
     "output_type": "stream",
     "text": [
      "(245760, 16384, 64, 1)\n"
     ]
    },
    {
     "data": {
      "text/plain": [
       "(245760, 16384, 64, 1)"
      ]
     },
     "execution_count": 75,
     "metadata": {},
     "output_type": "execute_result"
    }
   ],
   "source": [
    "x2 = torch.randn(10, 15, 256, 64) # stride: (15 * 256 * 64 * 1, 256 * 64 * 1, 64 * 1, 1 *1)\n",
    "print((15 * 256 * 64 * 1, 256 * 64 * 1, 64 * 1, 1 *1))\n",
    "x2.stride()"
   ]
  },
  {
   "cell_type": "code",
   "execution_count": null,
   "metadata": {},
   "outputs": [],
   "source": []
  }
 ],
 "metadata": {
  "kernelspec": {
   "display_name": "Python [conda env:blog]",
   "language": "python",
   "name": "conda-env-blog-py"
  },
  "language_info": {
   "codemirror_mode": {
    "name": "ipython",
    "version": 3
   },
   "file_extension": ".py",
   "mimetype": "text/x-python",
   "name": "python",
   "nbconvert_exporter": "python",
   "pygments_lexer": "ipython3",
   "version": "3.8.3"
  }
 },
 "nbformat": 4,
 "nbformat_minor": 4
}
