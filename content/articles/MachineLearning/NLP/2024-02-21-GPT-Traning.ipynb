{
 "cells": [
  {
   "cell_type": "markdown",
   "id": "425e610d-b585-4781-909a-4f956a000a2a",
   "metadata": {},
   "source": [
    "date: 2024-02-20 11:17:17\n",
    "author: Jerry Su\n",
    "slug: GPT-Train\n",
    "title: GPT Training\n",
    "category: \n",
    "tags: LLM, NLP\n",
    "toc: show"
   ]
  },
  {
   "cell_type": "markdown",
   "id": "ec391c91-5f32-40a0-a73e-0d68f2953dbf",
   "metadata": {},
   "source": [
    "## Teacher Forcing\n",
    "\n",
    "## Exposure bias\n",
    "\n",
    "- 最优路径。一步错，步步错\n",
    "\n",
    "## Scheduled sampling\n",
    "\n",
    "- 实现修正纠错。开始更大概率选取ground truth作为target，随着时间更多概率选取模型predict结果作为target，最终逐渐使得train和test的mismatch越来越小\n",
    "\n",
    "## LLM训练为什么不需要Scheduled sampling？\n",
    "\n",
    "- 因为LLM训练不存在Exposure bias问题。LLM pre-trianing may explore much more paths from large data."
   ]
  },
  {
   "cell_type": "code",
   "execution_count": 15,
   "id": "37d39e26-e047-4d1e-9d81-21e714e9f2c2",
   "metadata": {},
   "outputs": [
    {
     "name": "stdout",
     "output_type": "stream",
     "text": [
      "[NbConvertApp] WARNING | Config option `kernel_spec_manager_class` not recognized by `NbConvertApp`.\n",
      "[NbConvertApp] Converting notebook 2024-02-20-Top-p-Sampling.ipynb to markdown\n",
      "[NbConvertApp] Writing 6822 bytes to 2024-02-20-Top-p-Sampling.md\n"
     ]
    }
   ],
   "source": [
    "!jupyter nbconvert --to markdown 2024-02-21-GPT-Traning.ipynb"
   ]
  }
 ],
 "metadata": {
  "kernelspec": {
   "display_name": "Python 3 (ipykernel)",
   "language": "python",
   "name": "python3"
  },
  "language_info": {
   "codemirror_mode": {
    "name": "ipython",
    "version": 3
   },
   "file_extension": ".py",
   "mimetype": "text/x-python",
   "name": "python",
   "nbconvert_exporter": "python",
   "pygments_lexer": "ipython3",
   "version": "3.8.10"
  }
 },
 "nbformat": 4,
 "nbformat_minor": 5
}
