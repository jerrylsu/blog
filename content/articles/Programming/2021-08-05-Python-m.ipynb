{
 "cells": [
  {
   "cell_type": "markdown",
   "metadata": {},
   "source": [
    "date: 2021-08-05 10:17:17\n",
    "author: Jerry Su\n",
    "slug: Python-m\n",
    "title: Python -m\n",
    "category: \n",
    "tags: Python\n",
    "summary: Reason is the light and the light of life.\n",
    "toc: show"
   ]
  },
  {
   "cell_type": "markdown",
   "metadata": {},
   "source": [
    "python -m http.server 启动一个http服务器，用于文件共享\n",
    "\n",
    "[https://a7744hsc.github.io/python/2018/05/03/Run-python-script.html](https://a7744hsc.github.io/python/2018/05/03/Run-python-script.html)"
   ]
  }
 ],
 "metadata": {
  "kernelspec": {
   "display_name": "Python [conda env:blog] *",
   "language": "python",
   "name": "conda-env-blog-py"
  },
  "language_info": {
   "codemirror_mode": {
    "name": "ipython",
    "version": 3
   },
   "file_extension": ".py",
   "mimetype": "text/x-python",
   "name": "python",
   "nbconvert_exporter": "python",
   "pygments_lexer": "ipython3",
   "version": "3.8.3"
  }
 },
 "nbformat": 4,
 "nbformat_minor": 4
}
