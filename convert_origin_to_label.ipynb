{
 "cells": [
  {
   "cell_type": "markdown",
   "id": "42b87148-00a5-49d4-b9d3-9d57dce2ffe3",
   "metadata": {},
   "source": [
    "## 1.数据处理"
   ]
  },
  {
   "cell_type": "code",
   "execution_count": 1,
   "id": "6f722619-34a7-4edb-b5f9-d51206fb34ba",
   "metadata": {},
   "outputs": [],
   "source": [
    "import pandas as pd\n",
    "import json\n",
    "from bs4 import BeautifulSoup"
   ]
  },
  {
   "cell_type": "code",
   "execution_count": 2,
   "id": "c2ebce54-c5c7-4697-a507-4462470eed65",
   "metadata": {},
   "outputs": [],
   "source": [
    "df_06 = pd.read_csv(\"./202201-06.csv\", encoding=\"gbk\", encoding_errors=\"ignore\")\n",
    "df_09 = pd.read_csv(\"./202207-09.csv\", encoding=\"gbk\", encoding_errors=\"ignore\")\n",
    "df_12 = pd.read_csv(\"./202210-12.csv\", encoding=\"gbk\", encoding_errors=\"ignore\")\n",
    "df_02 = pd.read_csv(\"./202301-02.csv\", encoding=\"gbk\", encoding_errors=\"ignore\")\n",
    "df_05 = pd.read_csv(\"./202303-05.csv\", encoding=\"gbk\", encoding_errors=\"ignore\")\n",
    "df_08 = pd.read_csv(\"./202306-08.csv\", encoding=\"gbk\", encoding_errors=\"ignore\")"
   ]
  },
  {
   "cell_type": "raw",
   "id": "a02f4b30-979f-454b-a105-df7ce2b3713a",
   "metadata": {},
   "source": [
    "text = df_2203_2206.iloc[0][\"content\"]\n",
    "with open(\"./text.html\", \"w\") as fp:\n",
    "    fp.write(text)"
   ]
  },
  {
   "cell_type": "code",
   "execution_count": 3,
   "id": "bc95167e-3157-45ac-8d2f-bc0ad1ff9ad0",
   "metadata": {},
   "outputs": [],
   "source": [
    "df = pd.concat([df_06, df_09, df_12, df_02, df_05, df_08], ignore_index=True)"
   ]
  },
  {
   "cell_type": "code",
   "execution_count": 4,
   "id": "8610c9fc-ac21-440b-8530-2a81e170994d",
   "metadata": {},
   "outputs": [
    {
     "data": {
      "text/plain": [
       "(49010, 6)"
      ]
     },
     "execution_count": 4,
     "metadata": {},
     "output_type": "execute_result"
    }
   ],
   "source": [
    "df_shape = df.shape\n",
    "df_shape"
   ]
  },
  {
   "cell_type": "code",
   "execution_count": 5,
   "id": "1dcc1275-bb5d-4eb9-ae0b-e1cb7743124b",
   "metadata": {},
   "outputs": [
    {
     "data": {
      "text/html": [
       "<div>\n",
       "<style scoped>\n",
       "    .dataframe tbody tr th:only-of-type {\n",
       "        vertical-align: middle;\n",
       "    }\n",
       "\n",
       "    .dataframe tbody tr th {\n",
       "        vertical-align: top;\n",
       "    }\n",
       "\n",
       "    .dataframe thead th {\n",
       "        text-align: right;\n",
       "    }\n",
       "</style>\n",
       "<table border=\"1\" class=\"dataframe\">\n",
       "  <thead>\n",
       "    <tr style=\"text-align: right;\">\n",
       "      <th></th>\n",
       "      <th>docartname</th>\n",
       "      <th>doc_art_content</th>\n",
       "      <th>ssubmitdemandcode</th>\n",
       "      <th>reqName</th>\n",
       "      <th>reqType</th>\n",
       "      <th>status</th>\n",
       "    </tr>\n",
       "  </thead>\n",
       "  <tbody>\n",
       "    <tr>\n",
       "      <th>0</th>\n",
       "      <td>解约协议文件导入</td>\n",
       "      <td>&lt;div class=\"odm-word\" data-docid=\"690659647518...</td>\n",
       "      <td>YWXQ2022030149</td>\n",
       "      <td>金综风险监测预警新增规则开发需求</td>\n",
       "      <td>4.0</td>\n",
       "      <td>5</td>\n",
       "    </tr>\n",
       "    <tr>\n",
       "      <th>1</th>\n",
       "      <td>导入结果查询</td>\n",
       "      <td>&lt;div class=\"odm-word\" data-docid=\"690659647518...</td>\n",
       "      <td>YWXQ2022030149</td>\n",
       "      <td>金综风险监测预警新增规则开发需求</td>\n",
       "      <td>4.0</td>\n",
       "      <td>5</td>\n",
       "    </tr>\n",
       "    <tr>\n",
       "      <th>2</th>\n",
       "      <td>存量协议文件导入</td>\n",
       "      <td>&lt;div class=\"odm-word\" data-docid=\"690659647518...</td>\n",
       "      <td>YWXQ2022030149</td>\n",
       "      <td>金综风险监测预警新增规则开发需求</td>\n",
       "      <td>4.0</td>\n",
       "      <td>5</td>\n",
       "    </tr>\n",
       "    <tr>\n",
       "      <th>3</th>\n",
       "      <td>非联网签约</td>\n",
       "      <td>&lt;div class=\"odm-word\" data-docid=\"690659647518...</td>\n",
       "      <td>YWXQ2022030149</td>\n",
       "      <td>金综风险监测预警新增规则开发需求</td>\n",
       "      <td>4.0</td>\n",
       "      <td>5</td>\n",
       "    </tr>\n",
       "    <tr>\n",
       "      <th>4</th>\n",
       "      <td>?后管配置上线荣数SIP权益服务内容</td>\n",
       "      <td>&lt;div class=\"odm-word\" data-docid=\"690696198726...</td>\n",
       "      <td>YWXQ2021120438</td>\n",
       "      <td>权益管理系统接入荣数SIP需求报告</td>\n",
       "      <td>1.0</td>\n",
       "      <td>5</td>\n",
       "    </tr>\n",
       "    <tr>\n",
       "      <th>...</th>\n",
       "      <td>...</td>\n",
       "      <td>...</td>\n",
       "      <td>...</td>\n",
       "      <td>...</td>\n",
       "      <td>...</td>\n",
       "      <td>...</td>\n",
       "    </tr>\n",
       "    <tr>\n",
       "      <th>49005</th>\n",
       "      <td>贴现利率优惠券的领取和查询</td>\n",
       "      <td>&lt;div class=\"odm-word\" data-docid=\"709968605443...</td>\n",
       "      <td>CP0050323060525</td>\n",
       "      <td>票据宝贴现利率优惠券需求</td>\n",
       "      <td>1.0</td>\n",
       "      <td>3,192</td>\n",
       "    </tr>\n",
       "    <tr>\n",
       "      <th>49006</th>\n",
       "      <td>拆出资金(行社之间)记账规则优化</td>\n",
       "      <td>&lt;div class=\"odm-word\" data-docid=\"708528144823...</td>\n",
       "      <td>JS0070123070068</td>\n",
       "      <td>外汇资金系统拆借业务SWIFT行社清算记账规则优化需求说明书</td>\n",
       "      <td>1.0</td>\n",
       "      <td>3,192</td>\n",
       "    </tr>\n",
       "    <tr>\n",
       "      <th>49007</th>\n",
       "      <td>拆出资金(境内境外)记账规则优化</td>\n",
       "      <td>&lt;div class=\"odm-word\" data-docid=\"708528144823...</td>\n",
       "      <td>JS0070123070068</td>\n",
       "      <td>外汇资金系统拆借业务SWIFT行社清算记账规则优化需求说明书</td>\n",
       "      <td>1.0</td>\n",
       "      <td>3,192</td>\n",
       "    </tr>\n",
       "    <tr>\n",
       "      <th>49008</th>\n",
       "      <td>拆入资金(境内境外)记账规则优化</td>\n",
       "      <td>&lt;div class=\"odm-word\" data-docid=\"708528144823...</td>\n",
       "      <td>JS0070123070068</td>\n",
       "      <td>外汇资金系统拆借业务SWIFT行社清算记账规则优化需求说明书</td>\n",
       "      <td>1.0</td>\n",
       "      <td>3,192</td>\n",
       "    </tr>\n",
       "    <tr>\n",
       "      <th>49009</th>\n",
       "      <td>拆入资金(行社之间)记账规则优化</td>\n",
       "      <td>&lt;div class=\"odm-word\" data-docid=\"708528144823...</td>\n",
       "      <td>JS0070123070068</td>\n",
       "      <td>外汇资金系统拆借业务SWIFT行社清算记账规则优化需求说明书</td>\n",
       "      <td>1.0</td>\n",
       "      <td>3,192</td>\n",
       "    </tr>\n",
       "  </tbody>\n",
       "</table>\n",
       "<p>49010 rows × 6 columns</p>\n",
       "</div>"
      ],
      "text/plain": [
       "               docartname                                    doc_art_content  \\\n",
       "0                解约协议文件导入  <div class=\"odm-word\" data-docid=\"690659647518...   \n",
       "1                  导入结果查询  <div class=\"odm-word\" data-docid=\"690659647518...   \n",
       "2                存量协议文件导入  <div class=\"odm-word\" data-docid=\"690659647518...   \n",
       "3                   非联网签约  <div class=\"odm-word\" data-docid=\"690659647518...   \n",
       "4      ?后管配置上线荣数SIP权益服务内容  <div class=\"odm-word\" data-docid=\"690696198726...   \n",
       "...                   ...                                                ...   \n",
       "49005       贴现利率优惠券的领取和查询  <div class=\"odm-word\" data-docid=\"709968605443...   \n",
       "49006    拆出资金(行社之间)记账规则优化  <div class=\"odm-word\" data-docid=\"708528144823...   \n",
       "49007    拆出资金(境内境外)记账规则优化  <div class=\"odm-word\" data-docid=\"708528144823...   \n",
       "49008    拆入资金(境内境外)记账规则优化  <div class=\"odm-word\" data-docid=\"708528144823...   \n",
       "49009    拆入资金(行社之间)记账规则优化  <div class=\"odm-word\" data-docid=\"708528144823...   \n",
       "\n",
       "      ssubmitdemandcode                         reqName  reqType status  \n",
       "0        YWXQ2022030149                金综风险监测预警新增规则开发需求      4.0      5  \n",
       "1        YWXQ2022030149                金综风险监测预警新增规则开发需求      4.0      5  \n",
       "2        YWXQ2022030149                金综风险监测预警新增规则开发需求      4.0      5  \n",
       "3        YWXQ2022030149                金综风险监测预警新增规则开发需求      4.0      5  \n",
       "4        YWXQ2021120438               权益管理系统接入荣数SIP需求报告      1.0      5  \n",
       "...                 ...                             ...      ...    ...  \n",
       "49005   CP0050323060525                    票据宝贴现利率优惠券需求      1.0  3,192  \n",
       "49006   JS0070123070068  外汇资金系统拆借业务SWIFT行社清算记账规则优化需求说明书      1.0  3,192  \n",
       "49007   JS0070123070068  外汇资金系统拆借业务SWIFT行社清算记账规则优化需求说明书      1.0  3,192  \n",
       "49008   JS0070123070068  外汇资金系统拆借业务SWIFT行社清算记账规则优化需求说明书      1.0  3,192  \n",
       "49009   JS0070123070068  外汇资金系统拆借业务SWIFT行社清算记账规则优化需求说明书      1.0  3,192  \n",
       "\n",
       "[49010 rows x 6 columns]"
      ]
     },
     "execution_count": 5,
     "metadata": {},
     "output_type": "execute_result"
    }
   ],
   "source": [
    "df"
   ]
  },
  {
   "cell_type": "markdown",
   "id": "70407993-b088-453c-a8da-e0510fdaf516",
   "metadata": {},
   "source": [
    "### 1.1.创建需求状态字典"
   ]
  },
  {
   "cell_type": "code",
   "execution_count": 6,
   "id": "88231478-6d94-4011-b302-8a07a1a0288b",
   "metadata": {
    "tags": []
   },
   "outputs": [],
   "source": [
    "df_status = pd.read_excel(\"./需求状态枚举.xlsx\")"
   ]
  },
  {
   "cell_type": "code",
   "execution_count": 7,
   "id": "aad631c8-b4a6-464a-8e47-6a2c758f3a58",
   "metadata": {},
   "outputs": [
    {
     "data": {
      "text/plain": [
       "{2: '需求管理岗确认',\n",
       " 5: '需求已上线',\n",
       " 6: '受理',\n",
       " 7: '项目技术审批',\n",
       " 8: '撤销',\n",
       " 3109: '开发分管领导审批',\n",
       " 3120: '驳回',\n",
       " 3190: '业务确认',\n",
       " 3191: '技术确认',\n",
       " 3192: '需求开发',\n",
       " 3193: '测试',\n",
       " 3209: '架构审批',\n",
       " 3242: '待上线',\n",
       " 3269: '需求补充',\n",
       " 3508: '缺陷已上线',\n",
       " 3509: '缺陷已关闭',\n",
       " 3548: '审批流程审查',\n",
       " 3577: '基线申请',\n",
       " 3579: '缺陷修复',\n",
       " 3580: '需求协调',\n",
       " 3581: '测试确认',\n",
       " 3625: '基线确认',\n",
       " 3918: '反洗钱材料审批',\n",
       " 3919: '需求关闭',\n",
       " 3925: '反洗钱材料上传',\n",
       " 3949: '需求规格材料上传',\n",
       " 3950: '需求规格评审',\n",
       " 4156: '挂起',\n",
       " 4723: '项目业务审批',\n",
       " 4724: '业务前置审批',\n",
       " 4725: '内部审批',\n",
       " 4846: '行领导审批'}"
      ]
     },
     "execution_count": 7,
     "metadata": {},
     "output_type": "execute_result"
    }
   ],
   "source": [
    "key_column = df_status[\"状态码\"]\n",
    "value_column = df_status[\"状态名称\"]\n",
    "status_dict = dict(zip(key_column, value_column))\n"
   ]
  },
  {
   "cell_type": "markdown",
   "id": "527a66f6-9f4c-43d3-a147-d8977fbe1b1c",
   "metadata": {},
   "source": [
    "### 1.2.数据转换"
   ]
  },
  {
   "cell_type": "code",
   "execution_count": 24,
   "id": "6dd1031d-d3b3-418e-aa6a-63cdbd2337d6",
   "metadata": {},
   "outputs": [],
   "source": [
    "def format_text(item):\n",
    "    # 1.handle div element.\n",
    "    # text_all = \"\"\n",
    "    # soup = BeautifulSoup(item)    \n",
    "    # div_elements = soup.find_all(\"div\")\n",
    "    # if not div_elements:\n",
    "    #     return text_all\n",
    "    # for div in div_elements:\n",
    "    #     div_text = div.text\n",
    "    #     # div_text = div_text.replace(\" \", \"\").replace(\"\\n\", \"\").replace(\"\\t\", \"\")\n",
    "    #     div_text = div_text.replace(\" \", \"\").replace(\"\\t\", \"\")\n",
    "    #     if not div_text:\n",
    "    #         continue\n",
    "    #     text_all += div_text\n",
    "    soup = BeautifulSoup(item) \n",
    "    text_all = soup.get_text()\n",
    "    text_all = text_all.replace(\" \", \"\").replace(\"\\t\", \"\")\n",
    "    if not text_all:\n",
    "        return \"\"\n",
    "        \n",
    "    # 2.handle h1 element.\n",
    "    h1_element = soup.find(\"h1\")\n",
    "    h1_text = h1_element.text\n",
    "    h1_text = h1_text.replace(\" \", \"\")\n",
    "    \n",
    "    # 3. concat h1 and div text with \"|||\".\n",
    "    if text_all.startswith(h1_text):\n",
    "        text_all = text_all[len(h1_text):]\n",
    "    # text_all = h1_text + \"|||\" + text_all\n",
    "\n",
    "    return text_all"
   ]
  },
  {
   "cell_type": "code",
   "execution_count": 25,
   "id": "c7a588fa-a214-41ed-83e1-eed41b406ba5",
   "metadata": {},
   "outputs": [],
   "source": [
    "def format_dataframe(df: pd.DataFrame, column_name: str) -> pd.DataFrame:\n",
    "    df[f\"{column_name}_formated\"] = df[column_name].apply(lambda x: format_text(x))\n",
    "    # df[\"len\"] = df[f\"{column_name}_formated\"].apply(lambda x: len(x))\n",
    "    return df"
   ]
  },
  {
   "cell_type": "code",
   "execution_count": 26,
   "id": "fd207c34-a0cd-46d6-bdf2-05444f62ddfc",
   "metadata": {},
   "outputs": [],
   "source": [
    "df_formated = format_dataframe(df=df, column_name=\"doc_art_content\")"
   ]
  },
  {
   "cell_type": "code",
   "execution_count": 27,
   "id": "f572744f-3e80-45b3-9eab-2fdc01d024a0",
   "metadata": {},
   "outputs": [
    {
     "data": {
      "text/html": [
       "<div>\n",
       "<style scoped>\n",
       "    .dataframe tbody tr th:only-of-type {\n",
       "        vertical-align: middle;\n",
       "    }\n",
       "\n",
       "    .dataframe tbody tr th {\n",
       "        vertical-align: top;\n",
       "    }\n",
       "\n",
       "    .dataframe thead th {\n",
       "        text-align: right;\n",
       "    }\n",
       "</style>\n",
       "<table border=\"1\" class=\"dataframe\">\n",
       "  <thead>\n",
       "    <tr style=\"text-align: right;\">\n",
       "      <th></th>\n",
       "      <th>docartname</th>\n",
       "      <th>doc_art_content</th>\n",
       "      <th>ssubmitdemandcode</th>\n",
       "      <th>reqName</th>\n",
       "      <th>reqType</th>\n",
       "      <th>status</th>\n",
       "      <th>doc_art_content_formated</th>\n",
       "    </tr>\n",
       "  </thead>\n",
       "  <tbody>\n",
       "    <tr>\n",
       "      <th>0</th>\n",
       "      <td>解约协议文件导入</td>\n",
       "      <td>&lt;div class=\"odm-word\" data-docid=\"690659647518...</td>\n",
       "      <td>YWXQ2022030149</td>\n",
       "      <td>金综风险监测预警新增规则开发需求</td>\n",
       "      <td>4.0</td>\n",
       "      <td>5</td>\n",
       "      <td>功能描述*\\n非联网产品接收渠道解约协议文件导入请求，逐条调用签约组件进行解约。\\n界面原型...</td>\n",
       "    </tr>\n",
       "    <tr>\n",
       "      <th>1</th>\n",
       "      <td>导入结果查询</td>\n",
       "      <td>&lt;div class=\"odm-word\" data-docid=\"690659647518...</td>\n",
       "      <td>YWXQ2022030149</td>\n",
       "      <td>金综风险监测预警新增规则开发需求</td>\n",
       "      <td>4.0</td>\n",
       "      <td>5</td>\n",
       "      <td>功能描述*\\n非联网产品接收渠道结果查询请求，返回渠道结果文件。\\n界面原型*\\n中间业务属...</td>\n",
       "    </tr>\n",
       "    <tr>\n",
       "      <th>2</th>\n",
       "      <td>存量协议文件导入</td>\n",
       "      <td>&lt;div class=\"odm-word\" data-docid=\"690659647518...</td>\n",
       "      <td>YWXQ2022030149</td>\n",
       "      <td>金综风险监测预警新增规则开发需求</td>\n",
       "      <td>4.0</td>\n",
       "      <td>5</td>\n",
       "      <td>功能描述*\\n非联网产品接收渠道存量协议导入请求，并逐条调用签约组件进行签约。\\n界面原型*...</td>\n",
       "    </tr>\n",
       "    <tr>\n",
       "      <th>3</th>\n",
       "      <td>非联网签约</td>\n",
       "      <td>&lt;div class=\"odm-word\" data-docid=\"690659647518...</td>\n",
       "      <td>YWXQ2022030149</td>\n",
       "      <td>金综风险监测预警新增规则开发需求</td>\n",
       "      <td>4.0</td>\n",
       "      <td>5</td>\n",
       "      <td>功能描述*\\n1          非联网产品接收渠道签约报文，调用签约组件进行签约。\\n界...</td>\n",
       "    </tr>\n",
       "    <tr>\n",
       "      <th>4</th>\n",
       "      <td>?后管配置上线荣数SIP权益服务内容</td>\n",
       "      <td>&lt;div class=\"odm-word\" data-docid=\"690696198726...</td>\n",
       "      <td>YWXQ2021120438</td>\n",
       "      <td>权益管理系统接入荣数SIP需求报告</td>\n",
       "      <td>1.0</td>\n",
       "      <td>5</td>\n",
       "      <td>服务产品创建功能描述*\\n1、 后管需要配置荣数SIP相关的权益服务内容。\\n2、 对于服务...</td>\n",
       "    </tr>\n",
       "    <tr>\n",
       "      <th>...</th>\n",
       "      <td>...</td>\n",
       "      <td>...</td>\n",
       "      <td>...</td>\n",
       "      <td>...</td>\n",
       "      <td>...</td>\n",
       "      <td>...</td>\n",
       "      <td>...</td>\n",
       "    </tr>\n",
       "    <tr>\n",
       "      <th>49005</th>\n",
       "      <td>贴现利率优惠券的领取和查询</td>\n",
       "      <td>&lt;div class=\"odm-word\" data-docid=\"709968605443...</td>\n",
       "      <td>CP0050323060525</td>\n",
       "      <td>票据宝贴现利率优惠券需求</td>\n",
       "      <td>1.0</td>\n",
       "      <td>3,192</td>\n",
       "      <td>功能描述\\n在企业互联pc端领取和查询优惠券。\\n输入输出说明\\n菜单新增位置：企业互联-票...</td>\n",
       "    </tr>\n",
       "    <tr>\n",
       "      <th>49006</th>\n",
       "      <td>拆出资金(行社之间)记账规则优化</td>\n",
       "      <td>&lt;div class=\"odm-word\" data-docid=\"708528144823...</td>\n",
       "      <td>JS0070123070068</td>\n",
       "      <td>外汇资金系统拆借业务SWIFT行社清算记账规则优化需求说明书</td>\n",
       "      <td>1.0</td>\n",
       "      <td>3,192</td>\n",
       "      <td>功能描述*\\n优化拆出资金（行社之间，包括本级）的SWIFT行社清算记账规则，取消核心手工记...</td>\n",
       "    </tr>\n",
       "    <tr>\n",
       "      <th>49007</th>\n",
       "      <td>拆出资金(境内境外)记账规则优化</td>\n",
       "      <td>&lt;div class=\"odm-word\" data-docid=\"708528144823...</td>\n",
       "      <td>JS0070123070068</td>\n",
       "      <td>外汇资金系统拆借业务SWIFT行社清算记账规则优化需求说明书</td>\n",
       "      <td>1.0</td>\n",
       "      <td>3,192</td>\n",
       "      <td>功能描述*\\n优化拆出资金（境内境外）的SWIFT行社清算记账规则，取消核心手工记账步骤，使...</td>\n",
       "    </tr>\n",
       "    <tr>\n",
       "      <th>49008</th>\n",
       "      <td>拆入资金(境内境外)记账规则优化</td>\n",
       "      <td>&lt;div class=\"odm-word\" data-docid=\"708528144823...</td>\n",
       "      <td>JS0070123070068</td>\n",
       "      <td>外汇资金系统拆借业务SWIFT行社清算记账规则优化需求说明书</td>\n",
       "      <td>1.0</td>\n",
       "      <td>3,192</td>\n",
       "      <td>功能描述*\\n优化拆入资金（境内境外）的SWIFT行社清算记账规则，取消核心手工记账步骤，使...</td>\n",
       "    </tr>\n",
       "    <tr>\n",
       "      <th>49009</th>\n",
       "      <td>拆入资金(行社之间)记账规则优化</td>\n",
       "      <td>&lt;div class=\"odm-word\" data-docid=\"708528144823...</td>\n",
       "      <td>JS0070123070068</td>\n",
       "      <td>外汇资金系统拆借业务SWIFT行社清算记账规则优化需求说明书</td>\n",
       "      <td>1.0</td>\n",
       "      <td>3,192</td>\n",
       "      <td>功能描述*\\n优化拆入资金（行社之间，包括本级）的SWIFT行社清算记账规则，取消核心手工记...</td>\n",
       "    </tr>\n",
       "  </tbody>\n",
       "</table>\n",
       "<p>49010 rows × 7 columns</p>\n",
       "</div>"
      ],
      "text/plain": [
       "               docartname                                    doc_art_content  \\\n",
       "0                解约协议文件导入  <div class=\"odm-word\" data-docid=\"690659647518...   \n",
       "1                  导入结果查询  <div class=\"odm-word\" data-docid=\"690659647518...   \n",
       "2                存量协议文件导入  <div class=\"odm-word\" data-docid=\"690659647518...   \n",
       "3                   非联网签约  <div class=\"odm-word\" data-docid=\"690659647518...   \n",
       "4      ?后管配置上线荣数SIP权益服务内容  <div class=\"odm-word\" data-docid=\"690696198726...   \n",
       "...                   ...                                                ...   \n",
       "49005       贴现利率优惠券的领取和查询  <div class=\"odm-word\" data-docid=\"709968605443...   \n",
       "49006    拆出资金(行社之间)记账规则优化  <div class=\"odm-word\" data-docid=\"708528144823...   \n",
       "49007    拆出资金(境内境外)记账规则优化  <div class=\"odm-word\" data-docid=\"708528144823...   \n",
       "49008    拆入资金(境内境外)记账规则优化  <div class=\"odm-word\" data-docid=\"708528144823...   \n",
       "49009    拆入资金(行社之间)记账规则优化  <div class=\"odm-word\" data-docid=\"708528144823...   \n",
       "\n",
       "      ssubmitdemandcode                         reqName  reqType status  \\\n",
       "0        YWXQ2022030149                金综风险监测预警新增规则开发需求      4.0      5   \n",
       "1        YWXQ2022030149                金综风险监测预警新增规则开发需求      4.0      5   \n",
       "2        YWXQ2022030149                金综风险监测预警新增规则开发需求      4.0      5   \n",
       "3        YWXQ2022030149                金综风险监测预警新增规则开发需求      4.0      5   \n",
       "4        YWXQ2021120438               权益管理系统接入荣数SIP需求报告      1.0      5   \n",
       "...                 ...                             ...      ...    ...   \n",
       "49005   CP0050323060525                    票据宝贴现利率优惠券需求      1.0  3,192   \n",
       "49006   JS0070123070068  外汇资金系统拆借业务SWIFT行社清算记账规则优化需求说明书      1.0  3,192   \n",
       "49007   JS0070123070068  外汇资金系统拆借业务SWIFT行社清算记账规则优化需求说明书      1.0  3,192   \n",
       "49008   JS0070123070068  外汇资金系统拆借业务SWIFT行社清算记账规则优化需求说明书      1.0  3,192   \n",
       "49009   JS0070123070068  外汇资金系统拆借业务SWIFT行社清算记账规则优化需求说明书      1.0  3,192   \n",
       "\n",
       "                                doc_art_content_formated  \n",
       "0      功能描述*\\n非联网产品接收渠道解约协议文件导入请求，逐条调用签约组件进行解约。\\n界面原型...  \n",
       "1      功能描述*\\n非联网产品接收渠道结果查询请求，返回渠道结果文件。\\n界面原型*\\n中间业务属...  \n",
       "2      功能描述*\\n非联网产品接收渠道存量协议导入请求，并逐条调用签约组件进行签约。\\n界面原型*...  \n",
       "3      功能描述*\\n1          非联网产品接收渠道签约报文，调用签约组件进行签约。\\n界...  \n",
       "4      服务产品创建功能描述*\\n1、 后管需要配置荣数SIP相关的权益服务内容。\\n2、 对于服务...  \n",
       "...                                                  ...  \n",
       "49005  功能描述\\n在企业互联pc端领取和查询优惠券。\\n输入输出说明\\n菜单新增位置：企业互联-票...  \n",
       "49006  功能描述*\\n优化拆出资金（行社之间，包括本级）的SWIFT行社清算记账规则，取消核心手工记...  \n",
       "49007  功能描述*\\n优化拆出资金（境内境外）的SWIFT行社清算记账规则，取消核心手工记账步骤，使...  \n",
       "49008  功能描述*\\n优化拆入资金（境内境外）的SWIFT行社清算记账规则，取消核心手工记账步骤，使...  \n",
       "49009  功能描述*\\n优化拆入资金（行社之间，包括本级）的SWIFT行社清算记账规则，取消核心手工记...  \n",
       "\n",
       "[49010 rows x 7 columns]"
      ]
     },
     "execution_count": 27,
     "metadata": {},
     "output_type": "execute_result"
    }
   ],
   "source": [
    "df_formated"
   ]
  },
  {
   "cell_type": "code",
   "execution_count": 28,
   "id": "b1c2fe8e-6bb9-4d55-9b62-ec33c5c5d4e1",
   "metadata": {},
   "outputs": [
    {
     "data": {
      "text/plain": [
       "49010"
      ]
     },
     "execution_count": 28,
     "metadata": {},
     "output_type": "execute_result"
    }
   ],
   "source": [
    "df_formated_shape = df_formated.shape[0]\n",
    "df_formated_shape"
   ]
  },
  {
   "cell_type": "code",
   "execution_count": 29,
   "id": "4487eb90-9493-43f4-8127-bc77591fbdfb",
   "metadata": {},
   "outputs": [],
   "source": [
    "df_formated[\"status_cn\"] = df_formated[\"status\"].apply(lambda x: status_dict[int(x.replace(\",\", \"\"))])"
   ]
  },
  {
   "cell_type": "code",
   "execution_count": 30,
   "id": "cf34bc01-d7d4-4c3c-9178-5214b9ed65b0",
   "metadata": {},
   "outputs": [],
   "source": [
    "type_dict = {\n",
    "    \"1.0\": \"产品研发需求\",\n",
    "    \"2.0\": \"数据库表需求\",\n",
    "    \"3.0\": \"特色系统需求\",\n",
    "    \"4.0\": \"数据分析需求\",\n",
    "    \"5.0\": \"技术开发需求\",\n",
    "    \"nan\": \"UNK\"\n",
    "}\n",
    "df_formated[\"reqType_cn\"] = df_formated[\"reqType\"].apply(lambda x: type_dict[str(x)])"
   ]
  },
  {
   "cell_type": "code",
   "execution_count": 31,
   "id": "7d0d013e-f3c4-4d5b-b6a9-77aae1b6e18e",
   "metadata": {},
   "outputs": [],
   "source": [
    "df_formated[\"len\"] = df_formated[\"doc_art_content_formated\"].apply(lambda x: len(x))"
   ]
  },
  {
   "cell_type": "code",
   "execution_count": 32,
   "id": "9714c081-4acd-4ae4-9cf5-b1968fe9097a",
   "metadata": {},
   "outputs": [
    {
     "data": {
      "text/html": [
       "<div>\n",
       "<style scoped>\n",
       "    .dataframe tbody tr th:only-of-type {\n",
       "        vertical-align: middle;\n",
       "    }\n",
       "\n",
       "    .dataframe tbody tr th {\n",
       "        vertical-align: top;\n",
       "    }\n",
       "\n",
       "    .dataframe thead th {\n",
       "        text-align: right;\n",
       "    }\n",
       "</style>\n",
       "<table border=\"1\" class=\"dataframe\">\n",
       "  <thead>\n",
       "    <tr style=\"text-align: right;\">\n",
       "      <th></th>\n",
       "      <th>docartname</th>\n",
       "      <th>doc_art_content</th>\n",
       "      <th>ssubmitdemandcode</th>\n",
       "      <th>reqName</th>\n",
       "      <th>reqType</th>\n",
       "      <th>status</th>\n",
       "      <th>doc_art_content_formated</th>\n",
       "      <th>status_cn</th>\n",
       "      <th>reqType_cn</th>\n",
       "      <th>len</th>\n",
       "    </tr>\n",
       "  </thead>\n",
       "  <tbody>\n",
       "    <tr>\n",
       "      <th>0</th>\n",
       "      <td>解约协议文件导入</td>\n",
       "      <td>&lt;div class=\"odm-word\" data-docid=\"690659647518...</td>\n",
       "      <td>YWXQ2022030149</td>\n",
       "      <td>金综风险监测预警新增规则开发需求</td>\n",
       "      <td>4.0</td>\n",
       "      <td>5</td>\n",
       "      <td>功能描述*\\n非联网产品接收渠道解约协议文件导入请求，逐条调用签约组件进行解约。\\n界面原型...</td>\n",
       "      <td>需求已上线</td>\n",
       "      <td>数据分析需求</td>\n",
       "      <td>1040</td>\n",
       "    </tr>\n",
       "    <tr>\n",
       "      <th>1</th>\n",
       "      <td>导入结果查询</td>\n",
       "      <td>&lt;div class=\"odm-word\" data-docid=\"690659647518...</td>\n",
       "      <td>YWXQ2022030149</td>\n",
       "      <td>金综风险监测预警新增规则开发需求</td>\n",
       "      <td>4.0</td>\n",
       "      <td>5</td>\n",
       "      <td>功能描述*\\n非联网产品接收渠道结果查询请求，返回渠道结果文件。\\n界面原型*\\n中间业务属...</td>\n",
       "      <td>需求已上线</td>\n",
       "      <td>数据分析需求</td>\n",
       "      <td>797</td>\n",
       "    </tr>\n",
       "    <tr>\n",
       "      <th>2</th>\n",
       "      <td>存量协议文件导入</td>\n",
       "      <td>&lt;div class=\"odm-word\" data-docid=\"690659647518...</td>\n",
       "      <td>YWXQ2022030149</td>\n",
       "      <td>金综风险监测预警新增规则开发需求</td>\n",
       "      <td>4.0</td>\n",
       "      <td>5</td>\n",
       "      <td>功能描述*\\n非联网产品接收渠道存量协议导入请求，并逐条调用签约组件进行签约。\\n界面原型*...</td>\n",
       "      <td>需求已上线</td>\n",
       "      <td>数据分析需求</td>\n",
       "      <td>1326</td>\n",
       "    </tr>\n",
       "    <tr>\n",
       "      <th>3</th>\n",
       "      <td>非联网签约</td>\n",
       "      <td>&lt;div class=\"odm-word\" data-docid=\"690659647518...</td>\n",
       "      <td>YWXQ2022030149</td>\n",
       "      <td>金综风险监测预警新增规则开发需求</td>\n",
       "      <td>4.0</td>\n",
       "      <td>5</td>\n",
       "      <td>功能描述*\\n1          非联网产品接收渠道签约报文，调用签约组件进行签约。\\n界...</td>\n",
       "      <td>需求已上线</td>\n",
       "      <td>数据分析需求</td>\n",
       "      <td>3606</td>\n",
       "    </tr>\n",
       "    <tr>\n",
       "      <th>4</th>\n",
       "      <td>?后管配置上线荣数SIP权益服务内容</td>\n",
       "      <td>&lt;div class=\"odm-word\" data-docid=\"690696198726...</td>\n",
       "      <td>YWXQ2021120438</td>\n",
       "      <td>权益管理系统接入荣数SIP需求报告</td>\n",
       "      <td>1.0</td>\n",
       "      <td>5</td>\n",
       "      <td>服务产品创建功能描述*\\n1、 后管需要配置荣数SIP相关的权益服务内容。\\n2、 对于服务...</td>\n",
       "      <td>需求已上线</td>\n",
       "      <td>产品研发需求</td>\n",
       "      <td>805</td>\n",
       "    </tr>\n",
       "    <tr>\n",
       "      <th>...</th>\n",
       "      <td>...</td>\n",
       "      <td>...</td>\n",
       "      <td>...</td>\n",
       "      <td>...</td>\n",
       "      <td>...</td>\n",
       "      <td>...</td>\n",
       "      <td>...</td>\n",
       "      <td>...</td>\n",
       "      <td>...</td>\n",
       "      <td>...</td>\n",
       "    </tr>\n",
       "    <tr>\n",
       "      <th>49005</th>\n",
       "      <td>贴现利率优惠券的领取和查询</td>\n",
       "      <td>&lt;div class=\"odm-word\" data-docid=\"709968605443...</td>\n",
       "      <td>CP0050323060525</td>\n",
       "      <td>票据宝贴现利率优惠券需求</td>\n",
       "      <td>1.0</td>\n",
       "      <td>3,192</td>\n",
       "      <td>功能描述\\n在企业互联pc端领取和查询优惠券。\\n输入输出说明\\n菜单新增位置：企业互联-票...</td>\n",
       "      <td>需求开发</td>\n",
       "      <td>产品研发需求</td>\n",
       "      <td>852</td>\n",
       "    </tr>\n",
       "    <tr>\n",
       "      <th>49006</th>\n",
       "      <td>拆出资金(行社之间)记账规则优化</td>\n",
       "      <td>&lt;div class=\"odm-word\" data-docid=\"708528144823...</td>\n",
       "      <td>JS0070123070068</td>\n",
       "      <td>外汇资金系统拆借业务SWIFT行社清算记账规则优化需求说明书</td>\n",
       "      <td>1.0</td>\n",
       "      <td>3,192</td>\n",
       "      <td>功能描述*\\n优化拆出资金（行社之间，包括本级）的SWIFT行社清算记账规则，取消核心手工记...</td>\n",
       "      <td>需求开发</td>\n",
       "      <td>产品研发需求</td>\n",
       "      <td>505</td>\n",
       "    </tr>\n",
       "    <tr>\n",
       "      <th>49007</th>\n",
       "      <td>拆出资金(境内境外)记账规则优化</td>\n",
       "      <td>&lt;div class=\"odm-word\" data-docid=\"708528144823...</td>\n",
       "      <td>JS0070123070068</td>\n",
       "      <td>外汇资金系统拆借业务SWIFT行社清算记账规则优化需求说明书</td>\n",
       "      <td>1.0</td>\n",
       "      <td>3,192</td>\n",
       "      <td>功能描述*\\n优化拆出资金（境内境外）的SWIFT行社清算记账规则，取消核心手工记账步骤，使...</td>\n",
       "      <td>需求开发</td>\n",
       "      <td>产品研发需求</td>\n",
       "      <td>857</td>\n",
       "    </tr>\n",
       "    <tr>\n",
       "      <th>49008</th>\n",
       "      <td>拆入资金(境内境外)记账规则优化</td>\n",
       "      <td>&lt;div class=\"odm-word\" data-docid=\"708528144823...</td>\n",
       "      <td>JS0070123070068</td>\n",
       "      <td>外汇资金系统拆借业务SWIFT行社清算记账规则优化需求说明书</td>\n",
       "      <td>1.0</td>\n",
       "      <td>3,192</td>\n",
       "      <td>功能描述*\\n优化拆入资金（境内境外）的SWIFT行社清算记账规则，取消核心手工记账步骤，使...</td>\n",
       "      <td>需求开发</td>\n",
       "      <td>产品研发需求</td>\n",
       "      <td>842</td>\n",
       "    </tr>\n",
       "    <tr>\n",
       "      <th>49009</th>\n",
       "      <td>拆入资金(行社之间)记账规则优化</td>\n",
       "      <td>&lt;div class=\"odm-word\" data-docid=\"708528144823...</td>\n",
       "      <td>JS0070123070068</td>\n",
       "      <td>外汇资金系统拆借业务SWIFT行社清算记账规则优化需求说明书</td>\n",
       "      <td>1.0</td>\n",
       "      <td>3,192</td>\n",
       "      <td>功能描述*\\n优化拆入资金（行社之间，包括本级）的SWIFT行社清算记账规则，取消核心手工记...</td>\n",
       "      <td>需求开发</td>\n",
       "      <td>产品研发需求</td>\n",
       "      <td>505</td>\n",
       "    </tr>\n",
       "  </tbody>\n",
       "</table>\n",
       "<p>49010 rows × 10 columns</p>\n",
       "</div>"
      ],
      "text/plain": [
       "               docartname                                    doc_art_content  \\\n",
       "0                解约协议文件导入  <div class=\"odm-word\" data-docid=\"690659647518...   \n",
       "1                  导入结果查询  <div class=\"odm-word\" data-docid=\"690659647518...   \n",
       "2                存量协议文件导入  <div class=\"odm-word\" data-docid=\"690659647518...   \n",
       "3                   非联网签约  <div class=\"odm-word\" data-docid=\"690659647518...   \n",
       "4      ?后管配置上线荣数SIP权益服务内容  <div class=\"odm-word\" data-docid=\"690696198726...   \n",
       "...                   ...                                                ...   \n",
       "49005       贴现利率优惠券的领取和查询  <div class=\"odm-word\" data-docid=\"709968605443...   \n",
       "49006    拆出资金(行社之间)记账规则优化  <div class=\"odm-word\" data-docid=\"708528144823...   \n",
       "49007    拆出资金(境内境外)记账规则优化  <div class=\"odm-word\" data-docid=\"708528144823...   \n",
       "49008    拆入资金(境内境外)记账规则优化  <div class=\"odm-word\" data-docid=\"708528144823...   \n",
       "49009    拆入资金(行社之间)记账规则优化  <div class=\"odm-word\" data-docid=\"708528144823...   \n",
       "\n",
       "      ssubmitdemandcode                         reqName  reqType status  \\\n",
       "0        YWXQ2022030149                金综风险监测预警新增规则开发需求      4.0      5   \n",
       "1        YWXQ2022030149                金综风险监测预警新增规则开发需求      4.0      5   \n",
       "2        YWXQ2022030149                金综风险监测预警新增规则开发需求      4.0      5   \n",
       "3        YWXQ2022030149                金综风险监测预警新增规则开发需求      4.0      5   \n",
       "4        YWXQ2021120438               权益管理系统接入荣数SIP需求报告      1.0      5   \n",
       "...                 ...                             ...      ...    ...   \n",
       "49005   CP0050323060525                    票据宝贴现利率优惠券需求      1.0  3,192   \n",
       "49006   JS0070123070068  外汇资金系统拆借业务SWIFT行社清算记账规则优化需求说明书      1.0  3,192   \n",
       "49007   JS0070123070068  外汇资金系统拆借业务SWIFT行社清算记账规则优化需求说明书      1.0  3,192   \n",
       "49008   JS0070123070068  外汇资金系统拆借业务SWIFT行社清算记账规则优化需求说明书      1.0  3,192   \n",
       "49009   JS0070123070068  外汇资金系统拆借业务SWIFT行社清算记账规则优化需求说明书      1.0  3,192   \n",
       "\n",
       "                                doc_art_content_formated status_cn reqType_cn  \\\n",
       "0      功能描述*\\n非联网产品接收渠道解约协议文件导入请求，逐条调用签约组件进行解约。\\n界面原型...     需求已上线     数据分析需求   \n",
       "1      功能描述*\\n非联网产品接收渠道结果查询请求，返回渠道结果文件。\\n界面原型*\\n中间业务属...     需求已上线     数据分析需求   \n",
       "2      功能描述*\\n非联网产品接收渠道存量协议导入请求，并逐条调用签约组件进行签约。\\n界面原型*...     需求已上线     数据分析需求   \n",
       "3      功能描述*\\n1          非联网产品接收渠道签约报文，调用签约组件进行签约。\\n界...     需求已上线     数据分析需求   \n",
       "4      服务产品创建功能描述*\\n1、 后管需要配置荣数SIP相关的权益服务内容。\\n2、 对于服务...     需求已上线     产品研发需求   \n",
       "...                                                  ...       ...        ...   \n",
       "49005  功能描述\\n在企业互联pc端领取和查询优惠券。\\n输入输出说明\\n菜单新增位置：企业互联-票...      需求开发     产品研发需求   \n",
       "49006  功能描述*\\n优化拆出资金（行社之间，包括本级）的SWIFT行社清算记账规则，取消核心手工记...      需求开发     产品研发需求   \n",
       "49007  功能描述*\\n优化拆出资金（境内境外）的SWIFT行社清算记账规则，取消核心手工记账步骤，使...      需求开发     产品研发需求   \n",
       "49008  功能描述*\\n优化拆入资金（境内境外）的SWIFT行社清算记账规则，取消核心手工记账步骤，使...      需求开发     产品研发需求   \n",
       "49009  功能描述*\\n优化拆入资金（行社之间，包括本级）的SWIFT行社清算记账规则，取消核心手工记...      需求开发     产品研发需求   \n",
       "\n",
       "        len  \n",
       "0      1040  \n",
       "1       797  \n",
       "2      1326  \n",
       "3      3606  \n",
       "4       805  \n",
       "...     ...  \n",
       "49005   852  \n",
       "49006   505  \n",
       "49007   857  \n",
       "49008   842  \n",
       "49009   505  \n",
       "\n",
       "[49010 rows x 10 columns]"
      ]
     },
     "execution_count": 32,
     "metadata": {},
     "output_type": "execute_result"
    }
   ],
   "source": [
    "df_formated"
   ]
  },
  {
   "cell_type": "code",
   "execution_count": 33,
   "id": "75b6fcd0-f93c-4e00-8645-83d54697bd78",
   "metadata": {},
   "outputs": [],
   "source": [
    "column_order = [\"reqName\", \"ssubmitdemandcode\", \"reqType\", \"status_cn\", \"docartname\"]\n",
    "def reformat_text(item):\n",
    "    text = f\"需求类型：{item['reqType_cn']}\" + \"||| \\n\" \\\n",
    "        + f\"需求编号：{item['ssubmitdemandcode']}\" +  \"||| \\n\" \\\n",
    "        + f\"需求标题：{item['reqName']}\" + \"||| \\n\" \\\n",
    "        + f\"流程状态：{item['status_cn']}\" + \"||| \\n\" \\\n",
    "        + f\"条目名称：{item['docartname']}\" + \"||| \\n\" \\\n",
    "        + f\"条目内容长度：{item['len']}\" + \"||| \\n\\n\" \\\n",
    "        + f\"条目内容：{item['doc_art_content_formated']}\"\n",
    "    return text"
   ]
  },
  {
   "cell_type": "code",
   "execution_count": 34,
   "id": "69382140-12f8-4f9d-8ee7-b88174a9fa1f",
   "metadata": {},
   "outputs": [],
   "source": [
    "def reformat_dataframe(df: pd.DataFrame) -> pd.DataFrame:\n",
    "    df[\"doc_art_content_reformated\"] = df.apply(lambda x: reformat_text(x), axis=1)\n",
    "    return df"
   ]
  },
  {
   "cell_type": "code",
   "execution_count": 35,
   "id": "c53c6d30-7fe5-466c-a19f-91024981eae8",
   "metadata": {},
   "outputs": [
    {
     "data": {
      "text/html": [
       "<div>\n",
       "<style scoped>\n",
       "    .dataframe tbody tr th:only-of-type {\n",
       "        vertical-align: middle;\n",
       "    }\n",
       "\n",
       "    .dataframe tbody tr th {\n",
       "        vertical-align: top;\n",
       "    }\n",
       "\n",
       "    .dataframe thead th {\n",
       "        text-align: right;\n",
       "    }\n",
       "</style>\n",
       "<table border=\"1\" class=\"dataframe\">\n",
       "  <thead>\n",
       "    <tr style=\"text-align: right;\">\n",
       "      <th></th>\n",
       "      <th>docartname</th>\n",
       "      <th>doc_art_content</th>\n",
       "      <th>ssubmitdemandcode</th>\n",
       "      <th>reqName</th>\n",
       "      <th>reqType</th>\n",
       "      <th>status</th>\n",
       "      <th>doc_art_content_formated</th>\n",
       "      <th>status_cn</th>\n",
       "      <th>reqType_cn</th>\n",
       "      <th>len</th>\n",
       "      <th>doc_art_content_reformated</th>\n",
       "    </tr>\n",
       "  </thead>\n",
       "  <tbody>\n",
       "    <tr>\n",
       "      <th>0</th>\n",
       "      <td>解约协议文件导入</td>\n",
       "      <td>&lt;div class=\"odm-word\" data-docid=\"690659647518...</td>\n",
       "      <td>YWXQ2022030149</td>\n",
       "      <td>金综风险监测预警新增规则开发需求</td>\n",
       "      <td>4.0</td>\n",
       "      <td>5</td>\n",
       "      <td>功能描述*\\n非联网产品接收渠道解约协议文件导入请求，逐条调用签约组件进行解约。\\n界面原型...</td>\n",
       "      <td>需求已上线</td>\n",
       "      <td>数据分析需求</td>\n",
       "      <td>1040</td>\n",
       "      <td>需求类型：数据分析需求||| \\n需求编号：YWXQ2022030149||| \\n需求标题...</td>\n",
       "    </tr>\n",
       "    <tr>\n",
       "      <th>1</th>\n",
       "      <td>导入结果查询</td>\n",
       "      <td>&lt;div class=\"odm-word\" data-docid=\"690659647518...</td>\n",
       "      <td>YWXQ2022030149</td>\n",
       "      <td>金综风险监测预警新增规则开发需求</td>\n",
       "      <td>4.0</td>\n",
       "      <td>5</td>\n",
       "      <td>功能描述*\\n非联网产品接收渠道结果查询请求，返回渠道结果文件。\\n界面原型*\\n中间业务属...</td>\n",
       "      <td>需求已上线</td>\n",
       "      <td>数据分析需求</td>\n",
       "      <td>797</td>\n",
       "      <td>需求类型：数据分析需求||| \\n需求编号：YWXQ2022030149||| \\n需求标题...</td>\n",
       "    </tr>\n",
       "    <tr>\n",
       "      <th>2</th>\n",
       "      <td>存量协议文件导入</td>\n",
       "      <td>&lt;div class=\"odm-word\" data-docid=\"690659647518...</td>\n",
       "      <td>YWXQ2022030149</td>\n",
       "      <td>金综风险监测预警新增规则开发需求</td>\n",
       "      <td>4.0</td>\n",
       "      <td>5</td>\n",
       "      <td>功能描述*\\n非联网产品接收渠道存量协议导入请求，并逐条调用签约组件进行签约。\\n界面原型*...</td>\n",
       "      <td>需求已上线</td>\n",
       "      <td>数据分析需求</td>\n",
       "      <td>1326</td>\n",
       "      <td>需求类型：数据分析需求||| \\n需求编号：YWXQ2022030149||| \\n需求标题...</td>\n",
       "    </tr>\n",
       "    <tr>\n",
       "      <th>3</th>\n",
       "      <td>非联网签约</td>\n",
       "      <td>&lt;div class=\"odm-word\" data-docid=\"690659647518...</td>\n",
       "      <td>YWXQ2022030149</td>\n",
       "      <td>金综风险监测预警新增规则开发需求</td>\n",
       "      <td>4.0</td>\n",
       "      <td>5</td>\n",
       "      <td>功能描述*\\n1          非联网产品接收渠道签约报文，调用签约组件进行签约。\\n界...</td>\n",
       "      <td>需求已上线</td>\n",
       "      <td>数据分析需求</td>\n",
       "      <td>3606</td>\n",
       "      <td>需求类型：数据分析需求||| \\n需求编号：YWXQ2022030149||| \\n需求标题...</td>\n",
       "    </tr>\n",
       "    <tr>\n",
       "      <th>4</th>\n",
       "      <td>?后管配置上线荣数SIP权益服务内容</td>\n",
       "      <td>&lt;div class=\"odm-word\" data-docid=\"690696198726...</td>\n",
       "      <td>YWXQ2021120438</td>\n",
       "      <td>权益管理系统接入荣数SIP需求报告</td>\n",
       "      <td>1.0</td>\n",
       "      <td>5</td>\n",
       "      <td>服务产品创建功能描述*\\n1、 后管需要配置荣数SIP相关的权益服务内容。\\n2、 对于服务...</td>\n",
       "      <td>需求已上线</td>\n",
       "      <td>产品研发需求</td>\n",
       "      <td>805</td>\n",
       "      <td>需求类型：产品研发需求||| \\n需求编号：YWXQ2021120438||| \\n需求标题...</td>\n",
       "    </tr>\n",
       "    <tr>\n",
       "      <th>...</th>\n",
       "      <td>...</td>\n",
       "      <td>...</td>\n",
       "      <td>...</td>\n",
       "      <td>...</td>\n",
       "      <td>...</td>\n",
       "      <td>...</td>\n",
       "      <td>...</td>\n",
       "      <td>...</td>\n",
       "      <td>...</td>\n",
       "      <td>...</td>\n",
       "      <td>...</td>\n",
       "    </tr>\n",
       "    <tr>\n",
       "      <th>49005</th>\n",
       "      <td>贴现利率优惠券的领取和查询</td>\n",
       "      <td>&lt;div class=\"odm-word\" data-docid=\"709968605443...</td>\n",
       "      <td>CP0050323060525</td>\n",
       "      <td>票据宝贴现利率优惠券需求</td>\n",
       "      <td>1.0</td>\n",
       "      <td>3,192</td>\n",
       "      <td>功能描述\\n在企业互联pc端领取和查询优惠券。\\n输入输出说明\\n菜单新增位置：企业互联-票...</td>\n",
       "      <td>需求开发</td>\n",
       "      <td>产品研发需求</td>\n",
       "      <td>852</td>\n",
       "      <td>需求类型：产品研发需求||| \\n需求编号：CP0050323060525||| \\n需求标...</td>\n",
       "    </tr>\n",
       "    <tr>\n",
       "      <th>49006</th>\n",
       "      <td>拆出资金(行社之间)记账规则优化</td>\n",
       "      <td>&lt;div class=\"odm-word\" data-docid=\"708528144823...</td>\n",
       "      <td>JS0070123070068</td>\n",
       "      <td>外汇资金系统拆借业务SWIFT行社清算记账规则优化需求说明书</td>\n",
       "      <td>1.0</td>\n",
       "      <td>3,192</td>\n",
       "      <td>功能描述*\\n优化拆出资金（行社之间，包括本级）的SWIFT行社清算记账规则，取消核心手工记...</td>\n",
       "      <td>需求开发</td>\n",
       "      <td>产品研发需求</td>\n",
       "      <td>505</td>\n",
       "      <td>需求类型：产品研发需求||| \\n需求编号：JS0070123070068||| \\n需求标...</td>\n",
       "    </tr>\n",
       "    <tr>\n",
       "      <th>49007</th>\n",
       "      <td>拆出资金(境内境外)记账规则优化</td>\n",
       "      <td>&lt;div class=\"odm-word\" data-docid=\"708528144823...</td>\n",
       "      <td>JS0070123070068</td>\n",
       "      <td>外汇资金系统拆借业务SWIFT行社清算记账规则优化需求说明书</td>\n",
       "      <td>1.0</td>\n",
       "      <td>3,192</td>\n",
       "      <td>功能描述*\\n优化拆出资金（境内境外）的SWIFT行社清算记账规则，取消核心手工记账步骤，使...</td>\n",
       "      <td>需求开发</td>\n",
       "      <td>产品研发需求</td>\n",
       "      <td>857</td>\n",
       "      <td>需求类型：产品研发需求||| \\n需求编号：JS0070123070068||| \\n需求标...</td>\n",
       "    </tr>\n",
       "    <tr>\n",
       "      <th>49008</th>\n",
       "      <td>拆入资金(境内境外)记账规则优化</td>\n",
       "      <td>&lt;div class=\"odm-word\" data-docid=\"708528144823...</td>\n",
       "      <td>JS0070123070068</td>\n",
       "      <td>外汇资金系统拆借业务SWIFT行社清算记账规则优化需求说明书</td>\n",
       "      <td>1.0</td>\n",
       "      <td>3,192</td>\n",
       "      <td>功能描述*\\n优化拆入资金（境内境外）的SWIFT行社清算记账规则，取消核心手工记账步骤，使...</td>\n",
       "      <td>需求开发</td>\n",
       "      <td>产品研发需求</td>\n",
       "      <td>842</td>\n",
       "      <td>需求类型：产品研发需求||| \\n需求编号：JS0070123070068||| \\n需求标...</td>\n",
       "    </tr>\n",
       "    <tr>\n",
       "      <th>49009</th>\n",
       "      <td>拆入资金(行社之间)记账规则优化</td>\n",
       "      <td>&lt;div class=\"odm-word\" data-docid=\"708528144823...</td>\n",
       "      <td>JS0070123070068</td>\n",
       "      <td>外汇资金系统拆借业务SWIFT行社清算记账规则优化需求说明书</td>\n",
       "      <td>1.0</td>\n",
       "      <td>3,192</td>\n",
       "      <td>功能描述*\\n优化拆入资金（行社之间，包括本级）的SWIFT行社清算记账规则，取消核心手工记...</td>\n",
       "      <td>需求开发</td>\n",
       "      <td>产品研发需求</td>\n",
       "      <td>505</td>\n",
       "      <td>需求类型：产品研发需求||| \\n需求编号：JS0070123070068||| \\n需求标...</td>\n",
       "    </tr>\n",
       "  </tbody>\n",
       "</table>\n",
       "<p>49010 rows × 11 columns</p>\n",
       "</div>"
      ],
      "text/plain": [
       "               docartname                                    doc_art_content  \\\n",
       "0                解约协议文件导入  <div class=\"odm-word\" data-docid=\"690659647518...   \n",
       "1                  导入结果查询  <div class=\"odm-word\" data-docid=\"690659647518...   \n",
       "2                存量协议文件导入  <div class=\"odm-word\" data-docid=\"690659647518...   \n",
       "3                   非联网签约  <div class=\"odm-word\" data-docid=\"690659647518...   \n",
       "4      ?后管配置上线荣数SIP权益服务内容  <div class=\"odm-word\" data-docid=\"690696198726...   \n",
       "...                   ...                                                ...   \n",
       "49005       贴现利率优惠券的领取和查询  <div class=\"odm-word\" data-docid=\"709968605443...   \n",
       "49006    拆出资金(行社之间)记账规则优化  <div class=\"odm-word\" data-docid=\"708528144823...   \n",
       "49007    拆出资金(境内境外)记账规则优化  <div class=\"odm-word\" data-docid=\"708528144823...   \n",
       "49008    拆入资金(境内境外)记账规则优化  <div class=\"odm-word\" data-docid=\"708528144823...   \n",
       "49009    拆入资金(行社之间)记账规则优化  <div class=\"odm-word\" data-docid=\"708528144823...   \n",
       "\n",
       "      ssubmitdemandcode                         reqName  reqType status  \\\n",
       "0        YWXQ2022030149                金综风险监测预警新增规则开发需求      4.0      5   \n",
       "1        YWXQ2022030149                金综风险监测预警新增规则开发需求      4.0      5   \n",
       "2        YWXQ2022030149                金综风险监测预警新增规则开发需求      4.0      5   \n",
       "3        YWXQ2022030149                金综风险监测预警新增规则开发需求      4.0      5   \n",
       "4        YWXQ2021120438               权益管理系统接入荣数SIP需求报告      1.0      5   \n",
       "...                 ...                             ...      ...    ...   \n",
       "49005   CP0050323060525                    票据宝贴现利率优惠券需求      1.0  3,192   \n",
       "49006   JS0070123070068  外汇资金系统拆借业务SWIFT行社清算记账规则优化需求说明书      1.0  3,192   \n",
       "49007   JS0070123070068  外汇资金系统拆借业务SWIFT行社清算记账规则优化需求说明书      1.0  3,192   \n",
       "49008   JS0070123070068  外汇资金系统拆借业务SWIFT行社清算记账规则优化需求说明书      1.0  3,192   \n",
       "49009   JS0070123070068  外汇资金系统拆借业务SWIFT行社清算记账规则优化需求说明书      1.0  3,192   \n",
       "\n",
       "                                doc_art_content_formated status_cn reqType_cn  \\\n",
       "0      功能描述*\\n非联网产品接收渠道解约协议文件导入请求，逐条调用签约组件进行解约。\\n界面原型...     需求已上线     数据分析需求   \n",
       "1      功能描述*\\n非联网产品接收渠道结果查询请求，返回渠道结果文件。\\n界面原型*\\n中间业务属...     需求已上线     数据分析需求   \n",
       "2      功能描述*\\n非联网产品接收渠道存量协议导入请求，并逐条调用签约组件进行签约。\\n界面原型*...     需求已上线     数据分析需求   \n",
       "3      功能描述*\\n1          非联网产品接收渠道签约报文，调用签约组件进行签约。\\n界...     需求已上线     数据分析需求   \n",
       "4      服务产品创建功能描述*\\n1、 后管需要配置荣数SIP相关的权益服务内容。\\n2、 对于服务...     需求已上线     产品研发需求   \n",
       "...                                                  ...       ...        ...   \n",
       "49005  功能描述\\n在企业互联pc端领取和查询优惠券。\\n输入输出说明\\n菜单新增位置：企业互联-票...      需求开发     产品研发需求   \n",
       "49006  功能描述*\\n优化拆出资金（行社之间，包括本级）的SWIFT行社清算记账规则，取消核心手工记...      需求开发     产品研发需求   \n",
       "49007  功能描述*\\n优化拆出资金（境内境外）的SWIFT行社清算记账规则，取消核心手工记账步骤，使...      需求开发     产品研发需求   \n",
       "49008  功能描述*\\n优化拆入资金（境内境外）的SWIFT行社清算记账规则，取消核心手工记账步骤，使...      需求开发     产品研发需求   \n",
       "49009  功能描述*\\n优化拆入资金（行社之间，包括本级）的SWIFT行社清算记账规则，取消核心手工记...      需求开发     产品研发需求   \n",
       "\n",
       "        len                         doc_art_content_reformated  \n",
       "0      1040  需求类型：数据分析需求||| \\n需求编号：YWXQ2022030149||| \\n需求标题...  \n",
       "1       797  需求类型：数据分析需求||| \\n需求编号：YWXQ2022030149||| \\n需求标题...  \n",
       "2      1326  需求类型：数据分析需求||| \\n需求编号：YWXQ2022030149||| \\n需求标题...  \n",
       "3      3606  需求类型：数据分析需求||| \\n需求编号：YWXQ2022030149||| \\n需求标题...  \n",
       "4       805  需求类型：产品研发需求||| \\n需求编号：YWXQ2021120438||| \\n需求标题...  \n",
       "...     ...                                                ...  \n",
       "49005   852  需求类型：产品研发需求||| \\n需求编号：CP0050323060525||| \\n需求标...  \n",
       "49006   505  需求类型：产品研发需求||| \\n需求编号：JS0070123070068||| \\n需求标...  \n",
       "49007   857  需求类型：产品研发需求||| \\n需求编号：JS0070123070068||| \\n需求标...  \n",
       "49008   842  需求类型：产品研发需求||| \\n需求编号：JS0070123070068||| \\n需求标...  \n",
       "49009   505  需求类型：产品研发需求||| \\n需求编号：JS0070123070068||| \\n需求标...  \n",
       "\n",
       "[49010 rows x 11 columns]"
      ]
     },
     "execution_count": 35,
     "metadata": {},
     "output_type": "execute_result"
    }
   ],
   "source": [
    "df_formated = reformat_dataframe(df=df_formated)\n",
    "df_formated"
   ]
  },
  {
   "cell_type": "code",
   "execution_count": null,
   "id": "59c50510-0572-4bd8-9779-6ec1251ec4a5",
   "metadata": {},
   "outputs": [],
   "source": []
  },
  {
   "cell_type": "markdown",
   "id": "94ecc976-a0d1-42a5-86cd-00a049abbb8a",
   "metadata": {},
   "source": [
    "### 1.3.数据去重"
   ]
  },
  {
   "cell_type": "code",
   "execution_count": 36,
   "id": "6e809091-ade4-453f-bfd1-e5ebf43682f7",
   "metadata": {},
   "outputs": [],
   "source": [
    "df_unique_formated = df_formated.drop_duplicates(subset=\"doc_art_content_formated\")"
   ]
  },
  {
   "cell_type": "code",
   "execution_count": 37,
   "id": "0fcc6cec-132d-4b3c-99e6-cb3b89ee012d",
   "metadata": {},
   "outputs": [
    {
     "data": {
      "text/plain": [
       "32115"
      ]
     },
     "execution_count": 37,
     "metadata": {},
     "output_type": "execute_result"
    }
   ],
   "source": [
    "df_unique_formated_shape = df_unique_formated.shape[0]\n",
    "df_unique_formated_shape"
   ]
  },
  {
   "cell_type": "code",
   "execution_count": 38,
   "id": "af53816a-b2e7-4189-83b5-119ba7f868c1",
   "metadata": {},
   "outputs": [
    {
     "data": {
      "text/plain": [
       "'删除重复数据数量：16895'"
      ]
     },
     "execution_count": 38,
     "metadata": {},
     "output_type": "execute_result"
    }
   ],
   "source": [
    "f\"删除重复数据数量：{df_formated_shape - df_unique_formated_shape}\""
   ]
  },
  {
   "cell_type": "markdown",
   "id": "a279d89b-f132-464e-a244-0f031d770710",
   "metadata": {},
   "source": [
    "### 1.3.删除错误数据"
   ]
  },
  {
   "cell_type": "code",
   "execution_count": 39,
   "id": "e6a9e3bc-723e-4bc5-aa09-a58a0b06afcb",
   "metadata": {},
   "outputs": [
    {
     "data": {
      "text/plain": [
       "11219"
      ]
     },
     "execution_count": 39,
     "metadata": {},
     "output_type": "execute_result"
    }
   ],
   "source": [
    "cond1 = df_unique_formated[\"docartname\"].str.contains(\"功能清单\")\n",
    "cond2 = df_unique_formated[\"docartname\"].str.contains(\"功能说明\")\n",
    "cond3 = df_unique_formated[\"docartname\"].str.contains(\"功能描述\")\n",
    "cond4 = df_unique_formated[\"docartname\"].str.contains(\"界面原型\")\n",
    "cond5 = df_unique_formated[\"docartname\"].str.contains(\"业务要素\")\n",
    "cond6 = df_unique_formated[\"docartname\"].str.contains(\"业务规则\")\n",
    "cond7 = df_unique_formated[\"docartname\"].str.contains(\"输入输出\")\n",
    "cond8 = df_unique_formated[\"docartname\"].str.contains(\"规则说明\")\n",
    "cond9 = df_unique_formated[\"docartname\"].str.contains(\"其他说明\")\n",
    "cond10 = df_unique_formated[\"docartname\"].str.contains(\"页面需求\")\n",
    "cond11 = df_unique_formated[\"docartname\"].str.contains(\"权限说明\")\n",
    "cond = cond1 | cond2 | cond3 | cond4 | cond5 | cond6 | cond7 | cond8 | cond9 | cond10 | cond11\n",
    "df_docartname = df_unique_formated[cond]\n",
    "df_docartname.shape[0]"
   ]
  },
  {
   "cell_type": "code",
   "execution_count": 40,
   "id": "9c15081b-d755-4846-acc2-05bacf3ad898",
   "metadata": {},
   "outputs": [
    {
     "name": "stderr",
     "output_type": "stream",
     "text": [
      "/usr/local/lib/python3.7/dist-packages/pandas/core/frame.py:4913: SettingWithCopyWarning: \n",
      "A value is trying to be set on a copy of a slice from a DataFrame\n",
      "\n",
      "See the caveats in the documentation: https://pandas.pydata.org/pandas-docs/stable/user_guide/indexing.html#returning-a-view-versus-a-copy\n",
      "  errors=errors,\n"
     ]
    }
   ],
   "source": [
    "df_unique_formated.drop(df_docartname.index, inplace=True)"
   ]
  },
  {
   "cell_type": "code",
   "execution_count": 41,
   "id": "fd3a1e2e-e723-4c70-a19d-3380bc5160eb",
   "metadata": {},
   "outputs": [
    {
     "data": {
      "text/plain": [
       "20896"
      ]
     },
     "execution_count": 41,
     "metadata": {},
     "output_type": "execute_result"
    }
   ],
   "source": [
    "df_unique_formated.shape[0]"
   ]
  },
  {
   "cell_type": "markdown",
   "id": "6d418533-4181-4cd2-8a94-b29f10142435",
   "metadata": {},
   "source": [
    "### 1.4.关键词筛选"
   ]
  },
  {
   "cell_type": "markdown",
   "id": "e33a46a8-ba0e-4bbc-bf1b-adaf6a1e2ab6",
   "metadata": {},
   "source": [
    "#### 1.4.1.页面"
   ]
  },
  {
   "cell_type": "code",
   "execution_count": 42,
   "id": "761e24d1-e0d6-486f-beef-9bebdf67c6d9",
   "metadata": {},
   "outputs": [
    {
     "data": {
      "text/plain": [
       "81"
      ]
     },
     "execution_count": 42,
     "metadata": {},
     "output_type": "execute_result"
    }
   ],
   "source": [
    "cond1 = df_unique_formated[\"doc_art_content_formated\"].str.contains(\"修改字段\")\n",
    "cond2 = df_unique_formated[\"doc_art_content_formated\"].str.contains(\"下拉枚举\")\n",
    "cond3 = df_unique_formated[\"doc_art_content_formated\"].str.contains(\"UI界面\")\n",
    "cond = cond1 | cond2 | cond3\n",
    "df1 = df_unique_formated[cond]\n",
    "df1.shape[0]"
   ]
  },
  {
   "cell_type": "markdown",
   "id": "bcd6ca97-ca4b-4f9f-94f7-377fbd45408b",
   "metadata": {},
   "source": [
    "#### 1.4.2.报表"
   ]
  },
  {
   "cell_type": "code",
   "execution_count": 43,
   "id": "726d34c6-6797-433f-b7d7-b4253748ba27",
   "metadata": {},
   "outputs": [
    {
     "data": {
      "text/plain": [
       "423"
      ]
     },
     "execution_count": 43,
     "metadata": {},
     "output_type": "execute_result"
    }
   ],
   "source": [
    "cond1 = df_unique_formated[\"doc_art_content_formated\"].str.contains(\"报表优化\")\n",
    "cond2 = df_unique_formated[\"doc_art_content_formated\"].str.contains(\"报表需求\")\n",
    "cond3 = df_unique_formated[\"doc_art_content_formated\"].str.contains(\"新增报表\")\n",
    "cond4 = df_unique_formated[\"doc_art_content_formated\"].str.contains(\"报表描述\")\n",
    "cond5 = df_unique_formated[\"doc_art_content_formated\"].str.contains(\"报表业务口径\")\n",
    "cond6 = df_unique_formated[\"doc_art_content_formated\"].str.contains(\"报表查询\")\n",
    "cond = cond1 | cond2 | cond3 | cond4 | cond5 | cond6\n",
    "df2 = df_unique_formated[cond]\n",
    "df2.shape[0]"
   ]
  },
  {
   "cell_type": "markdown",
   "id": "6a66b655-698b-4915-995b-8d38e37550c1",
   "metadata": {},
   "source": [
    "#### 1.4.3.指标"
   ]
  },
  {
   "cell_type": "code",
   "execution_count": 44,
   "id": "96c0da90-4d35-4f98-a1a1-f19adfd64822",
   "metadata": {},
   "outputs": [
    {
     "data": {
      "text/plain": [
       "400"
      ]
     },
     "execution_count": 44,
     "metadata": {},
     "output_type": "execute_result"
    }
   ],
   "source": [
    "cond1 = df_unique_formated[\"doc_art_content_formated\"].str.contains(\"指标需求\")\n",
    "cond2 = df_unique_formated[\"doc_art_content_formated\"].str.contains(\"指标业务口径\")\n",
    "cond3 = df_unique_formated[\"doc_art_content_formated\"].str.contains(\"指标优化\")\n",
    "cond = cond1 | cond2 | cond3\n",
    "df3 = df_unique_formated[cond]\n",
    "df3.shape[0]"
   ]
  },
  {
   "cell_type": "markdown",
   "id": "b5e7efca-2355-4244-aa3a-3b364961a038",
   "metadata": {},
   "source": [
    "#### 1.4.4.埋点"
   ]
  },
  {
   "cell_type": "code",
   "execution_count": 45,
   "id": "f01715d7-b23f-4405-87a6-87170e540fc5",
   "metadata": {},
   "outputs": [
    {
     "data": {
      "text/plain": [
       "39"
      ]
     },
     "execution_count": 45,
     "metadata": {},
     "output_type": "execute_result"
    }
   ],
   "source": [
    "cond1 = df_unique_formated[\"doc_art_content_formated\"].str.contains(\"埋点优化\")\n",
    "cond2 = df_unique_formated[\"doc_art_content_formated\"].str.contains(\"数据埋点\")\n",
    "cond3 = df_unique_formated[\"doc_art_content_formated\"].str.contains(\"点击位\")\n",
    "cond4 = df_unique_formated[\"doc_art_content_formated\"].str.contains(\"采集数据\")\n",
    "cond5 = df_unique_formated[\"doc_art_content_formated\"].str.contains(\"实际修订方式\")\n",
    "cond = cond1 | cond2 | cond3 | cond4 | cond5\n",
    "df4 = df_unique_formated[cond]\n",
    "df4.shape[0]"
   ]
  },
  {
   "cell_type": "markdown",
   "id": "d160ae98-3e1b-4792-a673-02f1e095e1af",
   "metadata": {},
   "source": [
    "#### 1.4.8.接入"
   ]
  },
  {
   "cell_type": "code",
   "execution_count": 46,
   "id": "ea213107-c79a-477b-b495-968f2d6cfddb",
   "metadata": {},
   "outputs": [
    {
     "data": {
      "text/plain": [
       "549"
      ]
     },
     "execution_count": 46,
     "metadata": {},
     "output_type": "execute_result"
    }
   ],
   "source": [
    "cond1 = df_unique_formated[\"doc_art_content_formated\"].str.contains(\"接入\")\n",
    "cond2 = df_unique_formated[\"doc_art_content_formated\"].str.contains(\"ODS\")\n",
    "cond3 = df_unique_formated[\"doc_art_content_formated\"].str.contains(\"DW\")\n",
    "cond4 = df_unique_formated[\"doc_art_content_formated\"].str.contains(\"SMY\")\n",
    "cond5 = df_unique_formated[\"doc_art_content_formated\"].str.contains(\"Location\")\n",
    "cond6 = df_unique_formated[\"doc_art_content_formated\"].str.contains(\"OLAP\")\n",
    "cond7 = df_unique_formated[\"doc_art_content_formated\"].str.contains(\"SOPHON\")\n",
    "cond = cond1 | cond2 | cond3 | cond4 | cond5 | cond6 | cond7\n",
    "df8 = df_unique_formated[cond]\n",
    "df8.shape[0]"
   ]
  },
  {
   "cell_type": "markdown",
   "id": "44b3f30d-802f-4ba6-9bf6-ed0853368383",
   "metadata": {},
   "source": [
    "#### 1.4.9.下发"
   ]
  },
  {
   "cell_type": "code",
   "execution_count": 47,
   "id": "b694c3ee-6a3c-4be6-ac9d-5c282d93bba5",
   "metadata": {},
   "outputs": [
    {
     "data": {
      "text/plain": [
       "299"
      ]
     },
     "execution_count": 47,
     "metadata": {},
     "output_type": "execute_result"
    }
   ],
   "source": [
    "cond1 = df_unique_formated[\"doc_art_content_formated\"].str.contains(\"下发\")\n",
    "cond2 = df_unique_formated[\"doc_art_content_formated\"].str.contains(\"拆分方式\")\n",
    "cond = cond1 | cond2\n",
    "df9 = df_unique_formated[cond]\n",
    "df9.shape[0]"
   ]
  },
  {
   "cell_type": "markdown",
   "id": "d2ba6db6-a17e-4092-91fa-a1c2d061b16e",
   "metadata": {},
   "source": [
    "#### 1.4.10.开通推广"
   ]
  },
  {
   "cell_type": "code",
   "execution_count": 48,
   "id": "aedff23a-608c-431f-8e57-9ed8b72552ab",
   "metadata": {},
   "outputs": [
    {
     "data": {
      "text/plain": [
       "782"
      ]
     },
     "execution_count": 48,
     "metadata": {},
     "output_type": "execute_result"
    }
   ],
   "source": [
    "cond = df_unique_formated[\"doc_art_content_formated\"].str.contains(\"开通\")\n",
    "df10 = df_unique_formated[cond]\n",
    "df10.shape[0]"
   ]
  },
  {
   "cell_type": "code",
   "execution_count": 49,
   "id": "b478e0d4-51fe-4240-80e3-acb757e082bf",
   "metadata": {},
   "outputs": [
    {
     "data": {
      "text/plain": [
       "2474"
      ]
     },
     "execution_count": 49,
     "metadata": {},
     "output_type": "execute_result"
    }
   ],
   "source": [
    "df_keyword_filter = pd.concat([df1, df2, df3, df4, df8, df9, df10])\n",
    "df_keyword_filter_unique = df_keyword_filter.drop_duplicates(subset=\"doc_art_content_formated\")\n",
    "df_keyword_filter_unique.shape[0]"
   ]
  },
  {
   "cell_type": "markdown",
   "id": "3b7946bb-9efe-41c9-955d-a6159b19da96",
   "metadata": {},
   "source": [
    "#### 删除关键词过滤出的dataframe"
   ]
  },
  {
   "cell_type": "code",
   "execution_count": 50,
   "id": "577466ca-d666-4d6a-85e8-3ab65e0f5817",
   "metadata": {},
   "outputs": [
    {
     "data": {
      "text/plain": [
       "20896"
      ]
     },
     "execution_count": 50,
     "metadata": {},
     "output_type": "execute_result"
    }
   ],
   "source": [
    "df_unique_formated.shape[0]"
   ]
  },
  {
   "cell_type": "code",
   "execution_count": 51,
   "id": "7121a14b-5bc2-42aa-bf1a-d83852bf950c",
   "metadata": {},
   "outputs": [],
   "source": [
    "df_unique_formated.drop(df_keyword_filter_unique.index, inplace=True)"
   ]
  },
  {
   "cell_type": "code",
   "execution_count": 52,
   "id": "b32ccab6-0096-413e-8081-d655a009569e",
   "metadata": {},
   "outputs": [
    {
     "data": {
      "text/plain": [
       "18422"
      ]
     },
     "execution_count": 52,
     "metadata": {},
     "output_type": "execute_result"
    }
   ],
   "source": [
    "df_unique_formated.shape[0]"
   ]
  },
  {
   "cell_type": "markdown",
   "id": "611ed531-5adf-4a24-9aa5-4b662366221f",
   "metadata": {},
   "source": [
    "### 1.5.需求编号筛选"
   ]
  },
  {
   "cell_type": "code",
   "execution_count": 53,
   "id": "087ab1ed-f28a-4e09-a816-fc2cd959625c",
   "metadata": {},
   "outputs": [
    {
     "data": {
      "text/plain": [
       "52"
      ]
     },
     "execution_count": 53,
     "metadata": {},
     "output_type": "execute_result"
    }
   ],
   "source": [
    "con_fx = df_unique_formated[\"ssubmitdemandcode\"].str.startswith(\"FX\")\n",
    "df_fx = df_unique_formated[con_fx]\n",
    "df_fx.shape[0]"
   ]
  },
  {
   "cell_type": "code",
   "execution_count": 54,
   "id": "4f782c63-6cbe-4125-af5d-bbc2a52b5ebe",
   "metadata": {},
   "outputs": [
    {
     "data": {
      "text/plain": [
       "389"
      ]
     },
     "execution_count": 54,
     "metadata": {},
     "output_type": "execute_result"
    }
   ],
   "source": [
    "con_js = df_unique_formated[\"ssubmitdemandcode\"].str.startswith(\"JS\")\n",
    "df_js = df_unique_formated[con_js]\n",
    "df_js.shape[0]"
   ]
  },
  {
   "cell_type": "code",
   "execution_count": 55,
   "id": "692f40e5-7d5b-427f-a74d-9376274d2e68",
   "metadata": {},
   "outputs": [
    {
     "data": {
      "text/plain": [
       "18422"
      ]
     },
     "execution_count": 55,
     "metadata": {},
     "output_type": "execute_result"
    }
   ],
   "source": [
    "df_unique_formated.shape[0]"
   ]
  },
  {
   "cell_type": "code",
   "execution_count": 56,
   "id": "7c058129-aae2-4155-8369-28b7c409d7c8",
   "metadata": {},
   "outputs": [],
   "source": [
    "df_unique_formated.drop(df_fx.index, inplace=True)\n",
    "df_unique_formated.drop(df_js.index, inplace=True)"
   ]
  },
  {
   "cell_type": "code",
   "execution_count": 57,
   "id": "887d4fda-6f7e-4c7a-b3f3-59c607e2edb6",
   "metadata": {},
   "outputs": [
    {
     "data": {
      "text/plain": [
       "17981"
      ]
     },
     "execution_count": 57,
     "metadata": {},
     "output_type": "execute_result"
    }
   ],
   "source": [
    "df_unique_formated.shape[0]"
   ]
  },
  {
   "cell_type": "markdown",
   "id": "3f3ecae4-f841-44d5-bec9-f4aee047c892",
   "metadata": {},
   "source": [
    "### 1.6.简单规则/复杂规则"
   ]
  },
  {
   "cell_type": "code",
   "execution_count": 58,
   "id": "7c479e0e-a464-4ff4-b355-bbdc915613e4",
   "metadata": {},
   "outputs": [
    {
     "data": {
      "text/plain": [
       "9230"
      ]
     },
     "execution_count": 58,
     "metadata": {},
     "output_type": "execute_result"
    }
   ],
   "source": [
    "con_js = df_unique_formated[\"ssubmitdemandcode\"].str.startswith(\"YWXQ\")\n",
    "df_ywxq = df_unique_formated[~con_js]\n",
    "df_ywxq.shape[0]"
   ]
  },
  {
   "cell_type": "code",
   "execution_count": 59,
   "id": "4f7714b3-8f5a-490a-a737-8b308345bf09",
   "metadata": {},
   "outputs": [],
   "source": [
    "df_ywxq_7085 = df_ywxq.head(7085)"
   ]
  },
  {
   "cell_type": "markdown",
   "id": "61643917-95e0-49a8-9e37-e90e7e65fac7",
   "metadata": {},
   "source": [
    "### 1.6.数据保存"
   ]
  },
  {
   "cell_type": "code",
   "execution_count": 60,
   "id": "76df2750-f6f1-4212-a6a9-9b686c68b524",
   "metadata": {},
   "outputs": [
    {
     "data": {
      "text/html": [
       "<div>\n",
       "<style scoped>\n",
       "    .dataframe tbody tr th:only-of-type {\n",
       "        vertical-align: middle;\n",
       "    }\n",
       "\n",
       "    .dataframe tbody tr th {\n",
       "        vertical-align: top;\n",
       "    }\n",
       "\n",
       "    .dataframe thead th {\n",
       "        text-align: right;\n",
       "    }\n",
       "</style>\n",
       "<table border=\"1\" class=\"dataframe\">\n",
       "  <thead>\n",
       "    <tr style=\"text-align: right;\">\n",
       "      <th></th>\n",
       "      <th>docartname</th>\n",
       "      <th>doc_art_content</th>\n",
       "      <th>ssubmitdemandcode</th>\n",
       "      <th>reqName</th>\n",
       "      <th>reqType</th>\n",
       "      <th>status</th>\n",
       "      <th>doc_art_content_formated</th>\n",
       "      <th>status_cn</th>\n",
       "      <th>reqType_cn</th>\n",
       "      <th>len</th>\n",
       "      <th>doc_art_content_reformated</th>\n",
       "    </tr>\n",
       "  </thead>\n",
       "  <tbody>\n",
       "    <tr>\n",
       "      <th>59</th>\n",
       "      <td>新增需求文档分区功能</td>\n",
       "      <td>&lt;div class=\"odm-word\" data-docid=\"690946552449...</td>\n",
       "      <td>YWXQ2022030230</td>\n",
       "      <td>需求管理平台关于需求文档分区业务需求说明书</td>\n",
       "      <td>1.0</td>\n",
       "      <td>5</td>\n",
       "      <td>功能描述\\n新增需求文档分区功能，实现ABC区的自定义配置。\\n界面说明一、界面原型：界面一...</td>\n",
       "      <td>需求已上线</td>\n",
       "      <td>产品研发需求</td>\n",
       "      <td>1360</td>\n",
       "      <td>需求类型：产品研发需求||| \\n需求编号：YWXQ2022030230||| \\n需求标题...</td>\n",
       "    </tr>\n",
       "    <tr>\n",
       "      <th>70</th>\n",
       "      <td>报送-证监报送</td>\n",
       "      <td>&lt;div class=\"odm-word\" data-docid=\"690989319639...</td>\n",
       "      <td>YWXQ2022010138</td>\n",
       "      <td>财富代销系统（基金）证监数据报送需求报告</td>\n",
       "      <td>1.0</td>\n",
       "      <td>5</td>\n",
       "      <td>证监报送各张表增加报送字段功能描述*\\n在证监报送菜单下的对应表格中，增加对应字段，用于行社...</td>\n",
       "      <td>需求已上线</td>\n",
       "      <td>产品研发需求</td>\n",
       "      <td>4076</td>\n",
       "      <td>需求类型：产品研发需求||| \\n需求编号：YWXQ2022010138||| \\n需求标题...</td>\n",
       "    </tr>\n",
       "    <tr>\n",
       "      <th>113</th>\n",
       "      <td>行社自建联盟功能新增</td>\n",
       "      <td>&lt;div class=\"odm-word\" data-docid=\"691056520187...</td>\n",
       "      <td>YWXQ2021070092</td>\n",
       "      <td>瑞丰银行_省卡劵核心融合需求</td>\n",
       "      <td>1.0</td>\n",
       "      <td>5</td>\n",
       "      <td>自发券创建功能描述*\\n票券系统提供自发券创建接口；行社自建联盟创建自发券，经互联网前置调用...</td>\n",
       "      <td>需求已上线</td>\n",
       "      <td>产品研发需求</td>\n",
       "      <td>14128</td>\n",
       "      <td>需求类型：产品研发需求||| \\n需求编号：YWXQ2021070092||| \\n需求标题...</td>\n",
       "    </tr>\n",
       "    <tr>\n",
       "      <th>4680</th>\n",
       "      <td>外呼座席系统互联网融资催收字段优化</td>\n",
       "      <td>&lt;div class=\"odm-word\" data-docid=\"695048166486...</td>\n",
       "      <td>YWXQ2022070063</td>\n",
       "      <td>教育培训部-外呼服务持续优化（一）业务需求</td>\n",
       "      <td>1.0</td>\n",
       "      <td>5</td>\n",
       "      <td>功能描述*\\n目前，互联网融资催收活动中，产品信息栏的“账单日”字段数据实际为还款日，需修改...</td>\n",
       "      <td>需求已上线</td>\n",
       "      <td>产品研发需求</td>\n",
       "      <td>81</td>\n",
       "      <td>需求类型：产品研发需求||| \\n需求编号：YWXQ2022070063||| \\n需求标题...</td>\n",
       "    </tr>\n",
       "    <tr>\n",
       "      <th>4876</th>\n",
       "      <td>XX模块（数据加工类模板）</td>\n",
       "      <td>&lt;div class=\"odm-word\" data-docid=\"694466459971...</td>\n",
       "      <td>YWXQ2022050110</td>\n",
       "      <td>丰收互联快捷方式设置优化详细业务需求说明书-v1.0 （小型类模板）</td>\n",
       "      <td>1.0</td>\n",
       "      <td>5</td>\n",
       "      <td>XX数据加工功能描述*\\n描述需求所涉及的报表、指标、预警规则、绩效方案等的名称、目的、作用...</td>\n",
       "      <td>需求已上线</td>\n",
       "      <td>产品研发需求</td>\n",
       "      <td>699</td>\n",
       "      <td>需求类型：产品研发需求||| \\n需求编号：YWXQ2022050110||| \\n需求标题...</td>\n",
       "    </tr>\n",
       "    <tr>\n",
       "      <th>...</th>\n",
       "      <td>...</td>\n",
       "      <td>...</td>\n",
       "      <td>...</td>\n",
       "      <td>...</td>\n",
       "      <td>...</td>\n",
       "      <td>...</td>\n",
       "      <td>...</td>\n",
       "      <td>...</td>\n",
       "      <td>...</td>\n",
       "      <td>...</td>\n",
       "      <td>...</td>\n",
       "    </tr>\n",
       "    <tr>\n",
       "      <th>43317</th>\n",
       "      <td>产品画报-画报访问</td>\n",
       "      <td>&lt;div class=\"odm-word\" data-docid=\"708560070489...</td>\n",
       "      <td>CP0080023070484</td>\n",
       "      <td>理财有方系统小程序行社版画报转发</td>\n",
       "      <td>1.0</td>\n",
       "      <td>5</td>\n",
       "      <td>功能描述*\\n接收到产品画报链接的微信好友可以点击链接跳转到理财有方小程序查看相应的产品详情...</td>\n",
       "      <td>需求已上线</td>\n",
       "      <td>产品研发需求</td>\n",
       "      <td>180</td>\n",
       "      <td>需求类型：产品研发需求||| \\n需求编号：CP0080023070484||| \\n需求标...</td>\n",
       "    </tr>\n",
       "    <tr>\n",
       "      <th>43318</th>\n",
       "      <td>视频画报-画报访问</td>\n",
       "      <td>&lt;div class=\"odm-word\" data-docid=\"708560070489...</td>\n",
       "      <td>CP0080023070484</td>\n",
       "      <td>理财有方系统小程序行社版画报转发</td>\n",
       "      <td>1.0</td>\n",
       "      <td>5</td>\n",
       "      <td>功能描述*\\n接收到视频画报链接的微信好友可以点击链接跳转到理财有方小程序查看相应的产品详情...</td>\n",
       "      <td>需求已上线</td>\n",
       "      <td>产品研发需求</td>\n",
       "      <td>234</td>\n",
       "      <td>需求类型：产品研发需求||| \\n需求编号：CP0080023070484||| \\n需求标...</td>\n",
       "    </tr>\n",
       "    <tr>\n",
       "      <th>43319</th>\n",
       "      <td>零售客户关系管理--走访明细功能优化</td>\n",
       "      <td>&lt;div class=\"odm-word\" data-docid=\"708560273375...</td>\n",
       "      <td>CP0060823070073</td>\n",
       "      <td>【0703】零售客户关系管理-走访营销新增签到统计功能及走访明细功能优化需求说明书（小微类）</td>\n",
       "      <td>1.0</td>\n",
       "      <td>3,193</td>\n",
       "      <td>功能描述*\\n走访明细功能优化。\\n输入输出\\n界面/凭证/表单原型（样例）设计：\\n无。\\...</td>\n",
       "      <td>测试</td>\n",
       "      <td>产品研发需求</td>\n",
       "      <td>145</td>\n",
       "      <td>需求类型：产品研发需求||| \\n需求编号：CP0060823070073||| \\n需求标...</td>\n",
       "    </tr>\n",
       "    <tr>\n",
       "      <th>43320</th>\n",
       "      <td>零售客户关系管理--走访营销新增签到统计功能</td>\n",
       "      <td>&lt;div class=\"odm-word\" data-docid=\"708560273375...</td>\n",
       "      <td>CP0060823070073</td>\n",
       "      <td>【0703】零售客户关系管理-走访营销新增签到统计功能及走访明细功能优化需求说明书（小微类）</td>\n",
       "      <td>1.0</td>\n",
       "      <td>3,193</td>\n",
       "      <td>功能描述*\\n零售客户关系管理--走访营销新增签到统计功能。\\n输入输出\\n界面/凭证/表单...</td>\n",
       "      <td>测试</td>\n",
       "      <td>产品研发需求</td>\n",
       "      <td>461</td>\n",
       "      <td>需求类型：产品研发需求||| \\n需求编号：CP0060823070073||| \\n需求标...</td>\n",
       "    </tr>\n",
       "    <tr>\n",
       "      <th>43337</th>\n",
       "      <td>个人信用数据接口功能(功能名称)</td>\n",
       "      <td>&lt;div class=\"odm-word\" data-docid=\"708562165735...</td>\n",
       "      <td>CP0900323070401</td>\n",
       "      <td>百行数据接入数据云--度小满洞见银联等接口</td>\n",
       "      <td>1.0</td>\n",
       "      <td>5</td>\n",
       "      <td>功能描述\\n以下为各产品接口输入输出参数示例，详情请查看对应参考文档：\\n \\n\\nDXM-...</td>\n",
       "      <td>需求已上线</td>\n",
       "      <td>产品研发需求</td>\n",
       "      <td>3411</td>\n",
       "      <td>需求类型：产品研发需求||| \\n需求编号：CP0900323070401||| \\n需求标...</td>\n",
       "    </tr>\n",
       "  </tbody>\n",
       "</table>\n",
       "<p>10000 rows × 11 columns</p>\n",
       "</div>"
      ],
      "text/plain": [
       "                   docartname  \\\n",
       "59                 新增需求文档分区功能   \n",
       "70                    报送-证监报送   \n",
       "113                行社自建联盟功能新增   \n",
       "4680        外呼座席系统互联网融资催收字段优化   \n",
       "4876            XX模块（数据加工类模板）   \n",
       "...                       ...   \n",
       "43317               产品画报-画报访问   \n",
       "43318               视频画报-画报访问   \n",
       "43319      零售客户关系管理--走访明细功能优化   \n",
       "43320  零售客户关系管理--走访营销新增签到统计功能   \n",
       "43337        个人信用数据接口功能(功能名称)   \n",
       "\n",
       "                                         doc_art_content ssubmitdemandcode  \\\n",
       "59     <div class=\"odm-word\" data-docid=\"690946552449...    YWXQ2022030230   \n",
       "70     <div class=\"odm-word\" data-docid=\"690989319639...    YWXQ2022010138   \n",
       "113    <div class=\"odm-word\" data-docid=\"691056520187...    YWXQ2021070092   \n",
       "4680   <div class=\"odm-word\" data-docid=\"695048166486...    YWXQ2022070063   \n",
       "4876   <div class=\"odm-word\" data-docid=\"694466459971...    YWXQ2022050110   \n",
       "...                                                  ...               ...   \n",
       "43317  <div class=\"odm-word\" data-docid=\"708560070489...   CP0080023070484   \n",
       "43318  <div class=\"odm-word\" data-docid=\"708560070489...   CP0080023070484   \n",
       "43319  <div class=\"odm-word\" data-docid=\"708560273375...   CP0060823070073   \n",
       "43320  <div class=\"odm-word\" data-docid=\"708560273375...   CP0060823070073   \n",
       "43337  <div class=\"odm-word\" data-docid=\"708562165735...   CP0900323070401   \n",
       "\n",
       "                                              reqName  reqType status  \\\n",
       "59                              需求管理平台关于需求文档分区业务需求说明书      1.0      5   \n",
       "70                               财富代销系统（基金）证监数据报送需求报告      1.0      5   \n",
       "113                                    瑞丰银行_省卡劵核心融合需求      1.0      5   \n",
       "4680                            教育培训部-外呼服务持续优化（一）业务需求      1.0      5   \n",
       "4876               丰收互联快捷方式设置优化详细业务需求说明书-v1.0 （小型类模板）      1.0      5   \n",
       "...                                               ...      ...    ...   \n",
       "43317                                理财有方系统小程序行社版画报转发      1.0      5   \n",
       "43318                                理财有方系统小程序行社版画报转发      1.0      5   \n",
       "43319  【0703】零售客户关系管理-走访营销新增签到统计功能及走访明细功能优化需求说明书（小微类）      1.0  3,193   \n",
       "43320  【0703】零售客户关系管理-走访营销新增签到统计功能及走访明细功能优化需求说明书（小微类）      1.0  3,193   \n",
       "43337                           百行数据接入数据云--度小满洞见银联等接口      1.0      5   \n",
       "\n",
       "                                doc_art_content_formated status_cn reqType_cn  \\\n",
       "59     功能描述\\n新增需求文档分区功能，实现ABC区的自定义配置。\\n界面说明一、界面原型：界面一...     需求已上线     产品研发需求   \n",
       "70     证监报送各张表增加报送字段功能描述*\\n在证监报送菜单下的对应表格中，增加对应字段，用于行社...     需求已上线     产品研发需求   \n",
       "113    自发券创建功能描述*\\n票券系统提供自发券创建接口；行社自建联盟创建自发券，经互联网前置调用...     需求已上线     产品研发需求   \n",
       "4680   功能描述*\\n目前，互联网融资催收活动中，产品信息栏的“账单日”字段数据实际为还款日，需修改...     需求已上线     产品研发需求   \n",
       "4876   XX数据加工功能描述*\\n描述需求所涉及的报表、指标、预警规则、绩效方案等的名称、目的、作用...     需求已上线     产品研发需求   \n",
       "...                                                  ...       ...        ...   \n",
       "43317  功能描述*\\n接收到产品画报链接的微信好友可以点击链接跳转到理财有方小程序查看相应的产品详情...     需求已上线     产品研发需求   \n",
       "43318  功能描述*\\n接收到视频画报链接的微信好友可以点击链接跳转到理财有方小程序查看相应的产品详情...     需求已上线     产品研发需求   \n",
       "43319  功能描述*\\n走访明细功能优化。\\n输入输出\\n界面/凭证/表单原型（样例）设计：\\n无。\\...        测试     产品研发需求   \n",
       "43320  功能描述*\\n零售客户关系管理--走访营销新增签到统计功能。\\n输入输出\\n界面/凭证/表单...        测试     产品研发需求   \n",
       "43337  功能描述\\n以下为各产品接口输入输出参数示例，详情请查看对应参考文档：\\n \\n\\nDXM-...     需求已上线     产品研发需求   \n",
       "\n",
       "         len                         doc_art_content_reformated  \n",
       "59      1360  需求类型：产品研发需求||| \\n需求编号：YWXQ2022030230||| \\n需求标题...  \n",
       "70      4076  需求类型：产品研发需求||| \\n需求编号：YWXQ2022010138||| \\n需求标题...  \n",
       "113    14128  需求类型：产品研发需求||| \\n需求编号：YWXQ2021070092||| \\n需求标题...  \n",
       "4680      81  需求类型：产品研发需求||| \\n需求编号：YWXQ2022070063||| \\n需求标题...  \n",
       "4876     699  需求类型：产品研发需求||| \\n需求编号：YWXQ2022050110||| \\n需求标题...  \n",
       "...      ...                                                ...  \n",
       "43317    180  需求类型：产品研发需求||| \\n需求编号：CP0080023070484||| \\n需求标...  \n",
       "43318    234  需求类型：产品研发需求||| \\n需求编号：CP0080023070484||| \\n需求标...  \n",
       "43319    145  需求类型：产品研发需求||| \\n需求编号：CP0060823070073||| \\n需求标...  \n",
       "43320    461  需求类型：产品研发需求||| \\n需求编号：CP0060823070073||| \\n需求标...  \n",
       "43337   3411  需求类型：产品研发需求||| \\n需求编号：CP0900323070401||| \\n需求标...  \n",
       "\n",
       "[10000 rows x 11 columns]"
      ]
     },
     "execution_count": 60,
     "metadata": {},
     "output_type": "execute_result"
    }
   ],
   "source": [
    "df_v1 = pd.concat([df_keyword_filter_unique, df_fx, df_js, df_ywxq_7085])\n",
    "df_v1"
   ]
  },
  {
   "cell_type": "code",
   "execution_count": 61,
   "id": "84e473c6-5b39-4f6c-9a6a-1b687377a9b9",
   "metadata": {},
   "outputs": [],
   "source": [
    "df_v1[\"doc_art_content_reformated\"].to_excel(\"./item_content_v1.0.0.xlsx\", index=False, header=False, engine=\"xlsxwriter\")"
   ]
  },
  {
   "cell_type": "code",
   "execution_count": 62,
   "id": "258aa49c-54f5-4aea-a716-527feea12cc0",
   "metadata": {},
   "outputs": [
    {
     "name": "stdout",
     "output_type": "stream",
     "text": [
      "[NbConvertApp] Converting notebook convert_origin_to_label.ipynb to html\n",
      "[NbConvertApp] Writing 726833 bytes to convert_origin_to_label.html\n"
     ]
    }
   ],
   "source": [
    "!jupyter nbconvert --to html convert_origin_to_label.ipynb"
   ]
  },
  {
   "cell_type": "code",
   "execution_count": null,
   "id": "f58992af-0bb3-4bae-afc9-7af41fb55236",
   "metadata": {},
   "outputs": [],
   "source": []
  },
  {
   "cell_type": "markdown",
   "id": "0da49a59-f1f6-4282-a1ea-71806d241ae4",
   "metadata": {},
   "source": [
    "### 1.0.数据载入"
   ]
  }
 ],
 "metadata": {
  "kernelspec": {
   "display_name": "Python 3 (ipykernel)",
   "language": "python",
   "name": "python3"
  },
  "language_info": {
   "codemirror_mode": {
    "name": "ipython",
    "version": 3
   },
   "file_extension": ".py",
   "mimetype": "text/x-python",
   "name": "python",
   "nbconvert_exporter": "python",
   "pygments_lexer": "ipython3",
   "version": "3.7.13"
  }
 },
 "nbformat": 4,
 "nbformat_minor": 5
}
