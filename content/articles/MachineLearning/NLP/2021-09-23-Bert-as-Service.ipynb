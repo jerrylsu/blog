{
 "cells": [
  {
   "cell_type": "markdown",
   "metadata": {},
   "source": [
    "date: 2021-09-23 10:17:17\n",
    "author: Jerry Su\n",
    "slug: Bert-as-Service\n",
    "title: Bert as Service\n",
    "category: \n",
    "tags: NLP\n",
    "summary: Reason is the light and the light of life.\n",
    "toc: show"
   ]
  },
  {
   "cell_type": "markdown",
   "metadata": {},
   "source": [
    "git clone git@github.com:hanxiao/bert-as-service.git\n",
    "\n",
    "https://bert-as-service.readthedocs.io/en/latest/section/get-start.html#start-the-bert-service-in-a-docker-container\n",
    "\n",
    "docker build -t bert-as-service -f ./docker/Dockerfile .\n",
    "\n",
    "docker run --runtime nvidia -itd -p 8022:5555 -p 8021:5556 -v /bert-as-service/server/model/:/model -t bert-as-service 1 128\n",
    "\n",
    "```\n",
    "usage: /usr/local/bin/bert-serving-start -http_port 8125 -num_worker=4 -max_seq_len=64 -max_batch_size=512 -model_dir /model\n",
    "                 ARG   VALUE\n",
    "__________________________________________________\n",
    "           ckpt_name = bert_model.ckpt\n",
    "         config_name = bert_config.json\n",
    "                cors = *\n",
    "                 cpu = False\n",
    "          device_map = []\n",
    "       do_lower_case = True\n",
    "  fixed_embed_length = False\n",
    "                fp16 = False\n",
    " gpu_memory_fraction = 0.5\n",
    "       graph_tmp_dir = None\n",
    "    http_max_connect = 10\n",
    "           http_port = 8125\n",
    "        mask_cls_sep = False\n",
    "      max_batch_size = 512\n",
    "         max_seq_len = 64\n",
    "           model_dir = /model\n",
    "no_position_embeddings = False\n",
    "    no_special_token = False\n",
    "          num_worker = 4\n",
    "       pooling_layer = [-2]\n",
    "    pooling_strategy = REDUCE_MEAN\n",
    "                port = 5555\n",
    "            port_out = 5556\n",
    "       prefetch_size = 10\n",
    " priority_batch_size = 16\n",
    "show_tokens_to_client = False\n",
    "     tuned_model_dir = None\n",
    "             verbose = False\n",
    "                 xla = False\n",
    "```"
   ]
  }
 ],
 "metadata": {
  "kernelspec": {
   "display_name": "Python 3 (ipykernel)",
   "language": "python",
   "name": "python3"
  },
  "language_info": {
   "codemirror_mode": {
    "name": "ipython",
    "version": 3
   },
   "file_extension": ".py",
   "mimetype": "text/x-python",
   "name": "python",
   "nbconvert_exporter": "python",
   "pygments_lexer": "ipython3",
   "version": "3.8.10"
  }
 },
 "nbformat": 4,
 "nbformat_minor": 4
}
