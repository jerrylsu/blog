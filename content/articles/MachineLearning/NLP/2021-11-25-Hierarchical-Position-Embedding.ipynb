{
 "cells": [
  {
   "cell_type": "markdown",
   "metadata": {},
   "source": [
    "- date: 2021-11-24 11:17:17\n",
    "- author: Jerry Su\n",
    "- slug: Hierarchical-Position-Embedding\n",
    "- title: Hierarchical Position Embedding\n",
    "- category: \n",
    "- tags: Paddle"
   ]
  },
  {
   "cell_type": "markdown",
   "metadata": {},
   "source": [
    "预训练模型 预训练的三种embedding\n",
    "\n",
    "word_embedding: [vocab_size, hidden_size]\n",
    "\n",
    "position_embedding: [max_len, hidden_size]\n",
    "\n",
    "token_type_embedding: [token_type_size, hidden_size]\n",
    "\n",
    "![embedding](../../../images/PaddlePaddle/embedding.png)"
   ]
  }
 ],
 "metadata": {
  "kernelspec": {
   "display_name": "Python [conda env:blog]",
   "language": "python",
   "name": "conda-env-blog-py"
  },
  "language_info": {
   "codemirror_mode": {
    "name": "ipython",
    "version": 3
   },
   "file_extension": ".py",
   "mimetype": "text/x-python",
   "name": "python",
   "nbconvert_exporter": "python",
   "pygments_lexer": "ipython3",
   "version": "3.8.3"
  }
 },
 "nbformat": 4,
 "nbformat_minor": 4
}
