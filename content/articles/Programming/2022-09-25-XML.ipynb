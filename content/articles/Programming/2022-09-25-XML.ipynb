{
 "cells": [
  {
   "cell_type": "markdown",
   "metadata": {},
   "source": [
    "- date: 2022-09-25 10:17:17\n",
    "- author: Jerry Su\n",
    "- slug: lxml\n",
    "- title: lxml\n",
    "- category: \n",
    "- tags: Python\n"
   ]
  },
  {
   "cell_type": "markdown",
   "metadata": {},
   "source": [
    "XML -> lxml"
   ]
  },
  {
   "cell_type": "markdown",
   "metadata": {},
   "source": [
    "lxml: lxml is the most feature-rich and easy-to-use library for processing XML and HTML in the Python language.\n",
    "\n",
    "[https://lxml.de](https://lxml.de)\n",
    "\n",
    "[https://github.com/lxml/lxml](https://github.com/lxml/lxml)"
   ]
  }
 ],
 "metadata": {
  "kernelspec": {
   "display_name": "Python [conda env:blog]",
   "language": "python",
   "name": "conda-env-blog-py"
  },
  "language_info": {
   "codemirror_mode": {
    "name": "ipython",
    "version": 3
   },
   "file_extension": ".py",
   "mimetype": "text/x-python",
   "name": "python",
   "nbconvert_exporter": "python",
   "pygments_lexer": "ipython3",
   "version": "3.8.3"
  }
 },
 "nbformat": 4,
 "nbformat_minor": 4
}
