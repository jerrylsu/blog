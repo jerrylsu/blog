{
 "cells": [
  {
   "cell_type": "markdown",
   "metadata": {},
   "source": [
    "date: 2020-12-03 10:17:17\n",
    "author: Jerry Su\n",
    "slug: Python-list.index\n",
    "title: Python - list.index\n",
    "category: \n",
    "tags: Python"
   ]
  },
  {
   "cell_type": "markdown",
   "metadata": {},
   "source": [
    "## 1. Return first index of value\n",
    "```\n",
    "Signature: text_tokens.index(value, start=0, stop=9223372036854775807, /)\n",
    "Docstring:\n",
    "Return first index of value.\n",
    "\n",
    "Raises ValueError if the value is not present.\n",
    "Type:      builtin_function_or_method\n",
    "```"
   ]
  },
  {
   "cell_type": "code",
   "execution_count": 1,
   "metadata": {},
   "outputs": [],
   "source": [
    "text_tokens = ['jerry', '<hl>', 'hello', 'world', '<hl>', 'annie']"
   ]
  },
  {
   "cell_type": "code",
   "execution_count": 2,
   "metadata": {},
   "outputs": [
    {
     "data": {
      "text/plain": [
       "1"
      ]
     },
     "execution_count": 2,
     "metadata": {},
     "output_type": "execute_result"
    }
   ],
   "source": [
    "start = text_tokens.index('<hl>')\n",
    "start"
   ]
  },
  {
   "cell_type": "markdown",
   "metadata": {},
   "source": [
    "## 2. Return indexes of some values"
   ]
  },
  {
   "cell_type": "code",
   "execution_count": 3,
   "metadata": {},
   "outputs": [
    {
     "data": {
      "text/plain": [
       "4"
      ]
     },
     "execution_count": 3,
     "metadata": {},
     "output_type": "execute_result"
    }
   ],
   "source": [
    "end = text_tokens.index('<hl>', start+1)\n",
    "end"
   ]
  },
  {
   "cell_type": "markdown",
   "metadata": {},
   "source": [
    "## 3. Example"
   ]
  },
  {
   "cell_type": "code",
   "execution_count": 12,
   "metadata": {},
   "outputs": [],
   "source": [
    "def create_token_type_ids_from_sequences(token_ids, split_word):\n",
    "    try:\n",
    "        start = token_ids.index(split_word)\n",
    "    except ValueError:\n",
    "        return [0] * len(token_ids)\n",
    "    try:\n",
    "        end = token_ids.index(split_word, start + 1)\n",
    "    except ValueError:\n",
    "        return [0] * start + [1] * (len(token_ids) - start)\n",
    "    return [0] * start + [1] * (end - start + 1) + [0] * (len(token_ids) - end -1)"
   ]
  },
  {
   "cell_type": "code",
   "execution_count": 13,
   "metadata": {},
   "outputs": [],
   "source": [
    "text_tokens1 = ['jerry', '<hl>', 'hello', 'world', '<hl>', 'annie']\n",
    "text_tokens2 = ['jerry', '<hl>', 'hello', 'world']\n",
    "text_tokens3 = ['jerry', 'hello', 'world', 'annie']"
   ]
  },
  {
   "cell_type": "code",
   "execution_count": 14,
   "metadata": {},
   "outputs": [
    {
     "data": {
      "text/plain": [
       "[0, 1, 1, 1, 1, 0]"
      ]
     },
     "execution_count": 14,
     "metadata": {},
     "output_type": "execute_result"
    }
   ],
   "source": [
    "create_token_type_ids_from_sequences(text_tokens1, '<hl>')"
   ]
  },
  {
   "cell_type": "code",
   "execution_count": 15,
   "metadata": {},
   "outputs": [
    {
     "data": {
      "text/plain": [
       "[0, 1, 1, 1]"
      ]
     },
     "execution_count": 15,
     "metadata": {},
     "output_type": "execute_result"
    }
   ],
   "source": [
    "create_token_type_ids_from_sequences(text_tokens2, '<hl>')"
   ]
  },
  {
   "cell_type": "code",
   "execution_count": 16,
   "metadata": {},
   "outputs": [
    {
     "data": {
      "text/plain": [
       "[0, 0, 0, 0]"
      ]
     },
     "execution_count": 16,
     "metadata": {},
     "output_type": "execute_result"
    }
   ],
   "source": [
    "create_token_type_ids_from_sequences(text_tokens3, '<hl>')"
   ]
  }
 ],
 "metadata": {
  "kernelspec": {
   "display_name": "Python [conda env:blog] *",
   "language": "python",
   "name": "conda-env-blog-py"
  },
  "language_info": {
   "codemirror_mode": {
    "name": "ipython",
    "version": 3
   },
   "file_extension": ".py",
   "mimetype": "text/x-python",
   "name": "python",
   "nbconvert_exporter": "python",
   "pygments_lexer": "ipython3",
   "version": "3.8.3"
  }
 },
 "nbformat": 4,
 "nbformat_minor": 4
}
