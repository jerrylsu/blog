{
 "cells": [
  {
   "cell_type": "markdown",
   "id": "409e9b55-747c-48f3-b3fc-5a76c885c96a",
   "metadata": {},
   "source": [
    "### 1.5 向量召回"
   ]
  },
  {
   "cell_type": "code",
   "execution_count": 2,
   "id": "6a481725-fc3b-4941-ba74-5b21af4a8c03",
   "metadata": {},
   "outputs": [],
   "source": [
    "import requests\n",
    "import pandas as pd\n",
    "from pprint import pprint"
   ]
  },
  {
   "cell_type": "code",
   "execution_count": 11,
   "id": "a2e41566-0e77-4a43-abce-fdb670b4d365",
   "metadata": {},
   "outputs": [],
   "source": [
    "def post_koujing_server(\n",
    "    url: str,\n",
    "    topk: int,\n",
    "    index_name: str,\n",
    "    table_name: str,\n",
    "    subject: str\n",
    ") -> dict:\n",
    "    \"\"\"获取推荐服务结果\n",
    "    \"\"\"\n",
    "    data = {\n",
    "        \"serial_id\": \"123456\",\n",
    "        \"input\": {\n",
    "            \"topk\": topk,\n",
    "            \"index_name\": index_name,\n",
    "            \"table_name\": table_name,\n",
    "            \"subject\": subject\n",
    "        },\n",
    "    }\n",
    "    response = requests.post(url, json=data)\n",
    "    result = response.json()\n",
    "    return result"
   ]
  },
  {
   "cell_type": "code",
   "execution_count": 6,
   "id": "c8210a06-98cc-4515-a5e5-fb3c3a64dc47",
   "metadata": {},
   "outputs": [],
   "source": [
    "df = pd.read_csv(\"../offline/口径相似度-数据.csv\")\n",
    "df[\"BUSINESS_SYS_DESC\"] = df[\"IND_BUSINESS_DESC\"] + df[\"OTHER_SYS_MODEL_DESC\"]"
   ]
  },
  {
   "cell_type": "code",
   "execution_count": 8,
   "id": "fadb26e2-2d38-4186-9585-93f42dd84355",
   "metadata": {},
   "outputs": [
    {
     "data": {
      "text/plain": [
       "['IND_BUSINESS_DESC', 'OTHER_SYS_MODEL_DESC', 'BUSINESS_SYS_DESC']"
      ]
     },
     "execution_count": 8,
     "metadata": {},
     "output_type": "execute_result"
    }
   ],
   "source": [
    "table_name = df.columns.to_list()\n",
    "table_name"
   ]
  },
  {
   "cell_type": "code",
   "execution_count": 7,
   "id": "22a2b7f4-5dec-4a97-bd56-a46eece11223",
   "metadata": {},
   "outputs": [
    {
     "data": {
      "text/plain": [
       "IND_BUSINESS_DESC                                            统计贷款合同利息的合计值\n",
       "OTHER_SYS_MODEL_DESC    SELECT SUM(CON_AMT*INTEREST_RATE)\\n  FROM UIMP...\n",
       "BUSINESS_SYS_DESC       统计贷款合同利息的合计值SELECT SUM(CON_AMT*INTEREST_RATE)\\...\n",
       "Name: 0, dtype: object"
      ]
     },
     "execution_count": 7,
     "metadata": {},
     "output_type": "execute_result"
    }
   ],
   "source": [
    "item = df.iloc[0]\n",
    "item"
   ]
  },
  {
   "cell_type": "code",
   "execution_count": 20,
   "id": "6bcb047c-7d9d-4d38-8ade-721d2560a907",
   "metadata": {},
   "outputs": [],
   "source": [
    "\n",
    "# url = 'http://10.31.55.11:8750/finance/subject/recommend/v1'\n",
    "url = \"http://158.219.101.198:8088/naturalLanguageProcessing/infer-finance-recommend/finance/subject/recommend/v1\"\n",
    "topk=4\n",
    "index_name=\"business_sys_index\"\n",
    "table_name=\"BUSINESS_SYS_DESC\"\n",
    "subject=item[\"BUSINESS_SYS_DESC\"]"
   ]
  },
  {
   "cell_type": "code",
   "execution_count": 21,
   "id": "352a859d-2400-4d47-9fa7-6885bf2bab22",
   "metadata": {},
   "outputs": [],
   "source": [
    "response = post_koujing_server(\n",
    "    url=url,\n",
    "    topk=topk,\n",
    "    index_name=index_name,\n",
    "    table_name=table_name,\n",
    "    subject=subject\n",
    ")"
   ]
  },
  {
   "cell_type": "code",
   "execution_count": 22,
   "id": "1234d2ab-9585-40d5-9faf-bf64309b9fa8",
   "metadata": {},
   "outputs": [
    {
     "data": {
      "text/plain": [
       "{'serial_id': '123456',\n",
       " 'err_no': '0',\n",
       " 'msg': 'SUCCESS',\n",
       " 'content': [{'subject': '统计贷款合同利息的合计值SELECT SUM(CON_AMT*INTEREST_RATE)\\n  FROM UIMP.F_AC_INDI_LN_CON \\n;',\n",
       "   'table_name': 'BUSINESS_SYS_DESC',\n",
       "   'score': 1.0},\n",
       "  {'subject': '统计贷款合同金额的合计值SELECT SUM(CON_AMT)\\n  FROM UIMP.F_AC_INDI_LN_CON \\n;',\n",
       "   'table_name': 'BUSINESS_SYS_DESC',\n",
       "   'score': 0.87919},\n",
       "  {'subject': '统计贷款余额的合计值SELECT SUM(LN_BAL)\\n           FROM UIMP.F_AC_INDI_LN_AGG\\n;   ',\n",
       "   'table_name': 'BUSINESS_SYS_DESC',\n",
       "   'score': 0.73143},\n",
       "  {'subject': '统计信用卡表内应收利息的合计值SELECT SUM(BNYSLX)           \\n     FROM UIMP.F_AC_CRDT_CARD_ACCT_AGG\\n;',\n",
       "   'table_name': 'BUSINESS_SYS_DESC',\n",
       "   'score': 0.72137}]}"
      ]
     },
     "execution_count": 22,
     "metadata": {},
     "output_type": "execute_result"
    }
   ],
   "source": [
    "response"
   ]
  },
  {
   "cell_type": "code",
   "execution_count": null,
   "id": "9e25127e-2812-4e62-ac9f-2395a1b34107",
   "metadata": {},
   "outputs": [],
   "source": []
  }
 ],
 "metadata": {
  "kernelspec": {
   "display_name": "Python 3 (ipykernel)",
   "language": "python",
   "name": "python3"
  },
  "language_info": {
   "codemirror_mode": {
    "name": "ipython",
    "version": 3
   },
   "file_extension": ".py",
   "mimetype": "text/x-python",
   "name": "python",
   "nbconvert_exporter": "python",
   "pygments_lexer": "ipython3",
   "version": "3.8.10"
  }
 },
 "nbformat": 4,
 "nbformat_minor": 5
}
