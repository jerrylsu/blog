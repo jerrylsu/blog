{
 "cells": [
  {
   "cell_type": "markdown",
   "metadata": {},
   "source": [
    "date: 2023-01-05 10:17:17\n",
    "author: Jerry Su\n",
    "slug: Rust-self-&self-&mut-self\n",
    "title: Rust self vs &self vs &mut self\n",
    "category: \n",
    "tags: Rust\n",
    "toc: show"
   ]
  },
  {
   "cell_type": "markdown",
   "metadata": {},
   "source": [
    "- **self**: (self: Self) Having a method that takes ownership of the instance by using just self as the first parameter is rare; this technique is usually used when the method transforms self into something else and you want to prevent the caller from using the original instance after the transformation.\n",
    "\n",
    "- **&self**: (self: &Self) We don’t want to take ownership, and we just want to read the data in the struct, not write to it.\n",
    "\n",
    "- **&mut self**: (self: &mut Self) If we wanted to change the instance that we’ve called the method on as part of what the method does, we’d use &mut self as the first parameter.\n",
    "\n",
    "\n",
    "[https://stackoverflow.com/questions/59018413/when-to-use-self-self-mut-self-in-methods](https://stackoverflow.com/questions/59018413/when-to-use-self-self-mut-self-in-methods)\n"
   ]
  },
  {
   "cell_type": "code",
   "execution_count": 2,
   "metadata": {},
   "outputs": [
    {
     "name": "stdout",
     "output_type": "stream",
     "text": [
      "[NbConvertApp] WARNING | Config option `kernel_spec_manager_class` not recognized by `NbConvertApp`.\n",
      "[NbConvertApp] Converting notebook 2023-01-05-Rust-self-&self-&mut-self.ipynb to markdown\n",
      "[NbConvertApp] Writing 1210 bytes to 2023-01-05-Rust-self-&self-&mut-self.md\n"
     ]
    }
   ],
   "source": [
    "!jupyter nbconvert --to markdown 2023-01-05-Rust-self-\\&self-\\&mut-self.ipynb"
   ]
  }
 ],
 "metadata": {
  "kernelspec": {
   "display_name": "Python [conda env:dev] *",
   "language": "python",
   "name": "conda-env-dev-py"
  },
  "language_info": {
   "codemirror_mode": {
    "name": "ipython",
    "version": 3
   },
   "file_extension": ".py",
   "mimetype": "text/x-python",
   "name": "python",
   "nbconvert_exporter": "python",
   "pygments_lexer": "ipython3",
   "version": "3.8.10"
  }
 },
 "nbformat": 4,
 "nbformat_minor": 4
}
