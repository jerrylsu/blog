{
 "cells": [
  {
   "cell_type": "markdown",
   "metadata": {},
   "source": [
    "- date: 2021-11-16 11:17:17\n",
    "- author: Jerry Su\n",
    "- slug: paddle implements torch.repeat_interleave/K.repeat_elements using paddle.reshape &paddle.tile\n",
    "- title: paddle implements torch.repeat_interleave/K.repeat_elements using paddle.reshape & paddle.tile\n",
    "- category: \n",
    "- tags: Deep Learning, Pytorch, Paddle"
   ]
  },
  {
   "cell_type": "markdown",
   "metadata": {},
   "source": [
    "https://pytorch.org/docs/stable/generated/torch.Tensor.repeat.html#torch.Tensor.repeat\n",
    "\n",
    "https://pytorch.org/docs/stable/generated/torch.repeat_interleave.html\n",
    "\n",
    "If the repeats is tensor([n1, n2, n3, …]), then the output will be tensor([0, 0, …, 1, 1, …, 2, 2, …, …]) where 0 appears n1 times, 1 appears n2 times, 2 appears n3 times, etc."
   ]
  },
  {
   "cell_type": "markdown",
   "metadata": {},
   "source": [
    "## torch.repeat"
   ]
  },
  {
   "cell_type": "markdown",
   "metadata": {},
   "source": [
    "## torch.repeat_interleave"
   ]
  },
  {
   "cell_type": "code",
   "execution_count": 1,
   "metadata": {},
   "outputs": [],
   "source": [
    "import torch"
   ]
  },
  {
   "cell_type": "code",
   "execution_count": 136,
   "metadata": {},
   "outputs": [
    {
     "name": "stdout",
     "output_type": "stream",
     "text": [
      "torch.Size([2, 4, 6])\n",
      "tensor([[[ 0,  1,  2,  3,  4,  5],\n",
      "         [ 6,  7,  8,  9, 10, 11],\n",
      "         [12, 13, 14, 15, 16, 17],\n",
      "         [18, 19, 20, 21, 22, 23]],\n",
      "\n",
      "        [[24, 25, 26, 27, 28, 29],\n",
      "         [30, 31, 32, 33, 34, 35],\n",
      "         [36, 37, 38, 39, 40, 41],\n",
      "         [42, 43, 44, 45, 46, 47]]])\n"
     ]
    }
   ],
   "source": [
    "pos_emb = torch.arange(0, 48).reshape((2, 4, 6))   # [batch_size, seq_len, inner_dim]\n",
    "print(pos_emb.shape)\n",
    "print(pos_emb)"
   ]
  },
  {
   "cell_type": "code",
   "execution_count": 139,
   "metadata": {},
   "outputs": [
    {
     "name": "stdout",
     "output_type": "stream",
     "text": [
      "torch.Size([2, 4, 1, 3])\n",
      "tensor([[[[ 0,  2,  4]],\n",
      "\n",
      "         [[ 6,  8, 10]],\n",
      "\n",
      "         [[12, 14, 16]],\n",
      "\n",
      "         [[18, 20, 22]]],\n",
      "\n",
      "\n",
      "        [[[24, 26, 28]],\n",
      "\n",
      "         [[30, 32, 34]],\n",
      "\n",
      "         [[36, 38, 40]],\n",
      "\n",
      "         [[42, 44, 46]]]])\n"
     ]
    }
   ],
   "source": [
    "sin_pos = pos_emb[..., None, ::2]     # [batch_size, seq_len, 1, inner_dim // 2]\n",
    "print(sin_pos.shape)\n",
    "print(sin_pos)                        # 取奇数列"
   ]
  },
  {
   "cell_type": "code",
   "execution_count": 140,
   "metadata": {},
   "outputs": [
    {
     "name": "stdout",
     "output_type": "stream",
     "text": [
      "torch.Size([2, 4, 1, 6])\n",
      "tensor([[[[ 0,  0,  2,  2,  4,  4]],\n",
      "\n",
      "         [[ 6,  6,  8,  8, 10, 10]],\n",
      "\n",
      "         [[12, 12, 14, 14, 16, 16]],\n",
      "\n",
      "         [[18, 18, 20, 20, 22, 22]]],\n",
      "\n",
      "\n",
      "        [[[24, 24, 26, 26, 28, 28]],\n",
      "\n",
      "         [[30, 30, 32, 32, 34, 34]],\n",
      "\n",
      "         [[36, 36, 38, 38, 40, 40]],\n",
      "\n",
      "         [[42, 42, 44, 44, 46, 46]]]])\n"
     ]
    }
   ],
   "source": [
    "sin_pos = sin_pos.repeat_interleave(2, dim=-1)\n",
    "print(sin_pos.shape)\n",
    "print(sin_pos)                        # 最后一维复制"
   ]
  },
  {
   "cell_type": "markdown",
   "metadata": {},
   "source": [
    "## paddle\n",
    "\n",
    "通过paddle.tile & paddle.reshape实现torch.repeat_interleave算子\n",
    "\n",
    "https://github.com/PaddlePaddle/Paddle/issues/37227"
   ]
  },
  {
   "cell_type": "code",
   "execution_count": 175,
   "metadata": {},
   "outputs": [],
   "source": [
    "import paddle"
   ]
  },
  {
   "cell_type": "code",
   "execution_count": 176,
   "metadata": {},
   "outputs": [
    {
     "name": "stdout",
     "output_type": "stream",
     "text": [
      "[2, 4, 6]\n",
      "Tensor(shape=[2, 4, 6], dtype=int64, place=CPUPlace, stop_gradient=True,\n",
      "       [[[0 , 1 , 2 , 3 , 4 , 5 ],\n",
      "         [6 , 7 , 8 , 9 , 10, 11],\n",
      "         [12, 13, 14, 15, 16, 17],\n",
      "         [18, 19, 20, 21, 22, 23]],\n",
      "\n",
      "        [[24, 25, 26, 27, 28, 29],\n",
      "         [30, 31, 32, 33, 34, 35],\n",
      "         [36, 37, 38, 39, 40, 41],\n",
      "         [42, 43, 44, 45, 46, 47]]])\n"
     ]
    }
   ],
   "source": [
    "pos_emb_paddle = paddle.arange(0, 48).reshape((2, 4, 6))   # [batch_size, seq_len, inner_dim]\n",
    "print(pos_emb_paddle.shape)\n",
    "print(pos_emb_paddle)"
   ]
  },
  {
   "cell_type": "markdown",
   "metadata": {},
   "source": [
    "#### `pos_emb_paddle = pos_emb_paddle[..., None, ::2].reshape((2, 4, 3, 1)).tile((1, 1, 1, 2)).reshape((2, 4, 1, 6))`"
   ]
  },
  {
   "cell_type": "code",
   "execution_count": 169,
   "metadata": {},
   "outputs": [
    {
     "data": {
      "text/plain": [
       "Tensor(shape=[2, 4, 3, 1], dtype=int64, place=CPUPlace, stop_gradient=True,\n",
       "       [[[[0 ],\n",
       "          [2 ],\n",
       "          [4 ]],\n",
       "\n",
       "         [[6 ],\n",
       "          [8 ],\n",
       "          [10]],\n",
       "\n",
       "         [[12],\n",
       "          [14],\n",
       "          [16]],\n",
       "\n",
       "         [[18],\n",
       "          [20],\n",
       "          [22]]],\n",
       "\n",
       "\n",
       "        [[[24],\n",
       "          [26],\n",
       "          [28]],\n",
       "\n",
       "         [[30],\n",
       "          [32],\n",
       "          [34]],\n",
       "\n",
       "         [[36],\n",
       "          [38],\n",
       "          [40]],\n",
       "\n",
       "         [[42],\n",
       "          [44],\n",
       "          [46]]]])"
      ]
     },
     "execution_count": 169,
     "metadata": {},
     "output_type": "execute_result"
    }
   ],
   "source": [
    "pos_emb_paddle = pos_emb_paddle[..., None, ::2].reshape((2,4,3,1)).tile((1, 1, 1, 2)).     # 转换低纬\n",
    "pos_emb_paddle"
   ]
  },
  {
   "cell_type": "code",
   "execution_count": 170,
   "metadata": {},
   "outputs": [
    {
     "data": {
      "text/plain": [
       "Tensor(shape=[2, 4, 3, 2], dtype=int64, place=CPUPlace, stop_gradient=True,\n",
       "       [[[[0 , 0 ],\n",
       "          [2 , 2 ],\n",
       "          [4 , 4 ]],\n",
       "\n",
       "         [[6 , 6 ],\n",
       "          [8 , 8 ],\n",
       "          [10, 10]],\n",
       "\n",
       "         [[12, 12],\n",
       "          [14, 14],\n",
       "          [16, 16]],\n",
       "\n",
       "         [[18, 18],\n",
       "          [20, 20],\n",
       "          [22, 22]]],\n",
       "\n",
       "\n",
       "        [[[24, 24],\n",
       "          [26, 26],\n",
       "          [28, 28]],\n",
       "\n",
       "         [[30, 30],\n",
       "          [32, 32],\n",
       "          [34, 34]],\n",
       "\n",
       "         [[36, 36],\n",
       "          [38, 38],\n",
       "          [40, 40]],\n",
       "\n",
       "         [[42, 42],\n",
       "          [44, 44],\n",
       "          [46, 46]]]])"
      ]
     },
     "execution_count": 170,
     "metadata": {},
     "output_type": "execute_result"
    }
   ],
   "source": [
    "pos_emb_paddle = pos_emb_paddle.tile((1, 1, 1, 2))  # \n",
    "pos_emb_paddle"
   ]
  },
  {
   "cell_type": "code",
   "execution_count": 161,
   "metadata": {},
   "outputs": [
    {
     "data": {
      "text/plain": [
       "Tensor(shape=[2, 4, 1, 6], dtype=int64, place=CPUPlace, stop_gradient=True,\n",
       "       [[[[0 , 0 , 2 , 2 , 4 , 4 ]],\n",
       "\n",
       "         [[6 , 6 , 8 , 8 , 10, 10]],\n",
       "\n",
       "         [[12, 12, 14, 14, 16, 16]],\n",
       "\n",
       "         [[18, 18, 20, 20, 22, 22]]],\n",
       "\n",
       "\n",
       "        [[[24, 24, 26, 26, 28, 28]],\n",
       "\n",
       "         [[30, 30, 32, 32, 34, 34]],\n",
       "\n",
       "         [[36, 36, 38, 38, 40, 40]],\n",
       "\n",
       "         [[42, 42, 44, 44, 46, 46]]]])"
      ]
     },
     "execution_count": 161,
     "metadata": {},
     "output_type": "execute_result"
    }
   ],
   "source": [
    "pos_emb_paddle.reshape((2,4,1,6))"
   ]
  }
 ],
 "metadata": {
  "kernelspec": {
   "display_name": "Python [conda env:blog]",
   "language": "python",
   "name": "conda-env-blog-py"
  },
  "language_info": {
   "codemirror_mode": {
    "name": "ipython",
    "version": 3
   },
   "file_extension": ".py",
   "mimetype": "text/x-python",
   "name": "python",
   "nbconvert_exporter": "python",
   "pygments_lexer": "ipython3",
   "version": "3.8.3"
  }
 },
 "nbformat": 4,
 "nbformat_minor": 4
}
