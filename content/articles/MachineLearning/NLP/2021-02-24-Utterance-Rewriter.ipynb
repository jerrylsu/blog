{
 "cells": [
  {
   "cell_type": "markdown",
   "metadata": {},
   "source": [
    "date: 2021-02-24 10:17:17\n",
    "author: Jerry Su\n",
    "slug: Utterance-Rewriter\n",
    "title: Utterance Rewriter\n",
    "category: \n",
    "tags: Deep Learning, NLP\n",
    "summary: Reason is the light and the light of life.\n",
    "toc: show"
   ]
  },
  {
   "cell_type": "markdown",
   "metadata": {},
   "source": [
    "## Utterance Rewriter\n",
    "\n",
    "解决指代消解与信息省略问题\n",
    "\n",
    "- [Hui Su, Xiaoyu Shen, Rongzhi Zhang, Fei Sun, Pengwei Hu, Cheng Niu, and Jie Zhou. 2019. Improving Multi-turn Dialogue Modelling with Utterance ReWriter.arXiv preprint arXiv:1906.07004 (2019).](https://arxiv.org/pdf/1906.07004.pdf)\n",
    "\n",
    "\n",
    "- [Svitlana Vakulenko, Shayne Longpre, Zhucheng Tu, and Raviteja Anantha. 2020. Question Rewriting for Conversational Question Answering. ArXivabs/2004.14652 (2020).](https://arxiv.org/pdf/2004.14652.pdf)\n",
    "\n",
    "\n",
    "- [Ahmed Elgohary, Denis Peskov, and Jordan L. BoydGraber. 2019. Can you unpack that? learning to\n",
    "rewrite questions-in-context. In EMNLP.](https://par.nsf.gov/servlets/purl/10132986)\n",
    "\n",
    "\n",
    "- Few-Shot Generative Conversational Query Rewriting\n",
    "\n",
    "## Pointer Networkers\n",
    "\n",
    "- [Oriol Vinyals, Meire Fortunato, and Navdeep Jaitly. 2015. Pointer networks. In Advances in Neural Information Processing Systems, pages 2692–2700.](https://arxiv.org/abs/1506.03134)"
   ]
  },
  {
   "cell_type": "markdown",
   "metadata": {},
   "source": [
    "问题形式化\n",
    "\n",
    "训练样本：$(H, U_n -> R)$\n",
    "\n",
    "前n-1轮对话：$H = \\{U_1, U_2,...,U_{N-1}\\}$\n",
    "\n",
    "第n轮话述，即要改写的话述：$U_n$\n",
    "\n",
    "改写以后的话述：$R$，如果不存在指代消解和实体省略情况，$R$就等同于$U_n$，即负样本。\n",
    "\n",
    "**目标：学习映射函数$p(R|(H, U_N))$，自动根据历史信息$H$重写$U_n$。**"
   ]
  }
 ],
 "metadata": {
  "kernelspec": {
   "display_name": "Python [conda env:blog] *",
   "language": "python",
   "name": "conda-env-blog-py"
  },
  "language_info": {
   "codemirror_mode": {
    "name": "ipython",
    "version": 3
   },
   "file_extension": ".py",
   "mimetype": "text/x-python",
   "name": "python",
   "nbconvert_exporter": "python",
   "pygments_lexer": "ipython3",
   "version": "3.8.3"
  }
 },
 "nbformat": 4,
 "nbformat_minor": 2
}
