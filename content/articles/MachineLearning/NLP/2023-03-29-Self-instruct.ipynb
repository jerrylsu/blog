{
 "cells": [
  {
   "cell_type": "markdown",
   "id": "425e610d-b585-4781-909a-4f956a000a2a",
   "metadata": {},
   "source": [
    "date: 2023-04-29 11:17:17\n",
    "author: Jerry Su\n",
    "slug: Self-Instruct\n",
    "title: Self instruct\n",
    "category: \n",
    "tags: LM, NLP\n",
    "summary: Reason is the light and the light of life.\n",
    "toc: show"
   ]
  },
  {
   "cell_type": "markdown",
   "id": "93696114-0f30-4fb2-b9f5-5435ddb7e11f",
   "metadata": {},
   "source": [
    "**Self-Instruct** is a framework that helps language models improve their ability to follow natural language instructions. It does this by using the model's own generations to create a large collection of instructional data. With Self-Instruct, it is possible to improve the instruction-following capabilities of language models without relying on extensive manual annotation."
   ]
  },
  {
   "cell_type": "markdown",
   "id": "a1ff29ac-d568-4808-9876-5d855bbd8f53",
   "metadata": {},
   "source": [
    "In recent years, there has been a growing interest in building models that can follow natural language instructions to perform a wide range of tasks. These models, known as \"instruction-tuned\" language models, have demonstrated the ability to generalize to new tasks. However, their performance is heavily dependent on the quality and quantity of the human-written instruction data used to train them, which can be limited in diversity and creativity. To overcome these limitations, it is important to develop alternative approaches for supervising instruction-tuned models and improving their instruction-following capabilities."
   ]
  },
  {
   "cell_type": "markdown",
   "id": "f3118738-d437-4ddb-b7d7-2e30699f34fc",
   "metadata": {},
   "source": [
    "![self-instruct]({static}/images/Self-instruct/self-instruct.jpeg)"
   ]
  },
  {
   "cell_type": "markdown",
   "id": "37d43aac-8cfd-440f-a471-36acce90ef35",
   "metadata": {},
   "source": [
    "The Self-Instruct process is an iterative bootstrapping algorithm that starts with a seed set of manually-written instructions and uses them to prompt the language model to generate new instructions and corresponding input-output instances. These generations are then filtered to remove low-quality or similar ones, and the resulting data is added back to the task pool. This process can be repeated multiple times, resulting in a large collection of instructional data that can be used to fine-tune the language model to follow instructions more effectively."
   ]
  },
  {
   "cell_type": "code",
   "execution_count": 6,
   "id": "37d39e26-e047-4d1e-9d81-21e714e9f2c2",
   "metadata": {},
   "outputs": [
    {
     "name": "stdout",
     "output_type": "stream",
     "text": [
      "[NbConvertApp] WARNING | Config option `kernel_spec_manager_class` not recognized by `NbConvertApp`.\n",
      "[NbConvertApp] Converting notebook 2023-03-29-Self-instruct.ipynb to markdown\n",
      "[NbConvertApp] Writing 2147 bytes to 2023-03-29-Self-instruct.md\n"
     ]
    }
   ],
   "source": [
    "!jupyter nbconvert --to markdown 2023-03-29-Self-instruct.ipynb"
   ]
  }
 ],
 "metadata": {
  "kernelspec": {
   "display_name": "Python 3 (ipykernel)",
   "language": "python",
   "name": "python3"
  },
  "language_info": {
   "codemirror_mode": {
    "name": "ipython",
    "version": 3
   },
   "file_extension": ".py",
   "mimetype": "text/x-python",
   "name": "python",
   "nbconvert_exporter": "python",
   "pygments_lexer": "ipython3",
   "version": "3.8.10"
  }
 },
 "nbformat": 4,
 "nbformat_minor": 5
}
