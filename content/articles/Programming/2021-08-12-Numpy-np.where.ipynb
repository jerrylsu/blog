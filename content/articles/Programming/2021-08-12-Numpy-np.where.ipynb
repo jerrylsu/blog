{
 "cells": [
  {
   "cell_type": "markdown",
   "metadata": {},
   "source": [
    "- date: 2021-08-12 10:17:17\n",
    "- author: Jerry Su\n",
    "- slug: Numpy-np.where\n",
    "- title: Numpy np.where\n",
    "- category: \n",
    "- tags: Numpy\n",
    "\n",
    "[TOC]"
   ]
  },
  {
   "cell_type": "code",
   "execution_count": 1,
   "metadata": {},
   "outputs": [],
   "source": [
    "import numpy as np"
   ]
  },
  {
   "cell_type": "code",
   "execution_count": 2,
   "metadata": {},
   "outputs": [
    {
     "data": {
      "text/plain": [
       "array([[[-0.63882431,  0.26764237,  0.18704847, -0.95128241],\n",
       "        [ 0.50347302, -0.9034708 ,  0.89933897, -0.8512234 ],\n",
       "        [-0.6062661 ,  0.87888493, -0.92353925,  0.72041584],\n",
       "        [ 0.0618104 ,  0.11100648, -0.80865941,  0.67237864]],\n",
       "\n",
       "       [[-0.80388873,  0.95422384, -0.77986622,  0.02179025],\n",
       "        [-0.09980469,  0.21488388, -0.90330487,  0.92916316],\n",
       "        [-0.6806753 , -0.09360644,  0.19634257, -0.54418029],\n",
       "        [ 0.33410675, -0.49717237, -0.01449492, -0.61828707]]])"
      ]
     },
     "execution_count": 2,
     "metadata": {},
     "output_type": "execute_result"
    }
   ],
   "source": [
    "scores = -1 + 2 * np.random.random(size=(2, 4, 4)) #  随机生成[-1, 1]之间小数\n",
    "scores"
   ]
  },
  {
   "cell_type": "code",
   "execution_count": 7,
   "metadata": {},
   "outputs": [
    {
     "data": {
      "text/plain": [
       "array([[-0.63882431,  0.26764237,  0.18704847, -0.95128241],\n",
       "       [ 0.50347302, -0.9034708 ,  0.89933897, -0.8512234 ],\n",
       "       [-0.6062661 ,  0.87888493, -0.92353925,  0.72041584],\n",
       "       [ 0.0618104 ,  0.11100648, -0.80865941,  0.67237864]])"
      ]
     },
     "execution_count": 7,
     "metadata": {},
     "output_type": "execute_result"
    }
   ],
   "source": [
    "scores[0]"
   ]
  },
  {
   "cell_type": "code",
   "execution_count": 3,
   "metadata": {},
   "outputs": [
    {
     "data": {
      "text/plain": [
       "(array([0, 0, 0, 0, 0, 1, 1]),\n",
       " array([1, 1, 2, 2, 3, 0, 1]),\n",
       " array([0, 2, 1, 3, 3, 1, 3]))"
      ]
     },
     "execution_count": 3,
     "metadata": {},
     "output_type": "execute_result"
    }
   ],
   "source": [
    "locs = np.where(scores > 0.5)\n",
    "locs"
   ]
  },
  {
   "cell_type": "code",
   "execution_count": 43,
   "metadata": {},
   "outputs": [
    {
     "name": "stdout",
     "output_type": "stream",
     "text": [
      "0 1 0\n",
      "0 1 1\n",
      "0 1 2\n",
      "0 2 2\n",
      "1 0 1\n",
      "1 0 2\n",
      "1 1 1\n",
      "1 1 3\n",
      "1 2 0\n",
      "1 3 2\n",
      "1 3 3\n"
     ]
    }
   ],
   "source": [
    "for dim0, dim1, dim2 in zip(*locs):\n",
    "    print(dim0, dim1, dim2)"
   ]
  },
  {
   "cell_type": "code",
   "execution_count": 48,
   "metadata": {},
   "outputs": [
    {
     "data": {
      "text/plain": [
       "b't\\xe3\\x92\\x92KQ\\xd4?0\\xfbC\\xe7\\xff\\xc5\\xb8?fd;}\\xf2e\\xe2\\xbf\\xa2\\x14\\x11\\xe7\\x9e#\\xeb\\xbfx\\x97S\\xfb\\xf1\\xa6\\xee? \\xa8\\xdfq\\xd0X\\xe2?\\x1e\\x90W\\xc2\\xd4>\\xea?P\\xc5\\xec2zX\\xd8?\\xc0H\"\\x89\\x91n\\xc5?\\x9a\\x89\\xa5\\x1fYc\\xe1\\xbf\\xc0$\\x84\\xf1\\xdf\\xd7\\xe6?\\x00\\xf5$\\xc9\\x97au\\xbf\\xf0tB\\xfd\\x84b\\xd7?\\xd0\\xf1\\x85R\\xe2U\\xb6?\\xe0y\\xac\\x0b\\x90\\xb0\\xca?\\x00\\xf9\\xd8ss7\\xb9\\xbf@\\xcd[\\x17\\x16\\x87\\x96\\xbf^\\xd9\\xadex/\\xe8?\\x0e\\xa1\\x13 \\'\\xb0\\xea?\\x80\\xf27\\xdb\\xe1\\x9c\\xe2\\xbf\\xa0\\xce\\xa3\\xa4\\nB\\xd8?*\\xfeC\\x13\\x13\\x00\\xe6? \\xf4\\xe8\\x13T\\xb4\\xb9?\\xaa\\xdd\\xdf\\x02:\\x9a\\xe1?h5\\xdb\\xe2IC\\xe6?\\xe0\\xc3;\\x9d\\xbc-\\xb7\\xbf@)\\xab*\\xa2,\\x90?\\xf8\\xd3\\xa5cfy\\xde?$Z\\x96\\xce\\x84\\x10\\xd3\\xbf@\\n/@\\x91\\x1b\\xa5?\\xf4\\x91e\\x0f\\xd5\\xdf\\xec?\\x9a/d?\\x8c\\xb3\\xe4?'"
      ]
     },
     "execution_count": 48,
     "metadata": {},
     "output_type": "execute_result"
    }
   ],
   "source": [
    "scores.tostring()"
   ]
  },
  {
   "cell_type": "code",
   "execution_count": null,
   "metadata": {},
   "outputs": [],
   "source": []
  }
 ],
 "metadata": {
  "kernelspec": {
   "display_name": "Python [conda env:blog]",
   "language": "python",
   "name": "conda-env-blog-py"
  },
  "language_info": {
   "codemirror_mode": {
    "name": "ipython",
    "version": 3
   },
   "file_extension": ".py",
   "mimetype": "text/x-python",
   "name": "python",
   "nbconvert_exporter": "python",
   "pygments_lexer": "ipython3",
   "version": "3.8.3"
  }
 },
 "nbformat": 4,
 "nbformat_minor": 4
}
