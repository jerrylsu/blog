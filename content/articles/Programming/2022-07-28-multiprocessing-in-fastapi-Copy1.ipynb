{
 "cells": [
  {
   "cell_type": "markdown",
   "metadata": {},
   "source": [
    "- date: 2022-07-28 10:17:17\n",
    "- author: Jerry Su\n",
    "- slug: Multiprocessing-in-FastAPI\n",
    "- title: Multiprocessing in FastAPI\n",
    "- category: \n",
    "- tags: Python\n"
   ]
  },
  {
   "cell_type": "code",
   "execution_count": null,
   "metadata": {},
   "outputs": [],
   "source": [
    "@app.post(\"/async-endpoint\")\n",
    "async def test_endpoint():\n",
    "    try:\n",
    "        loop = asyncio.get_running_loop()\n",
    "        with concurrent.futures.ProcessPoolExecutor(max_workers=1) as pool:\n",
    "            results = await loop.run_in_executor(pool,\n",
    "                                                 subject_extract_check_process,\n",
    "                                                  *(args, subject_check_rules, docx_paras, pdf_paras))  # wait result\n",
    "    except Exception as err:\n",
    "        logger.error(f\"Subprocess execute fail: {str(err)}\")\n",
    "        results = []\n",
    "    return results"
   ]
  },
  {
   "cell_type": "markdown",
   "metadata": {},
   "source": [
    "https://stackoverflow.com/questions/63169865/how-to-do-multiprocessing-in-fastapi"
   ]
  }
 ],
 "metadata": {
  "kernelspec": {
   "display_name": "Python [conda env:blog]",
   "language": "python",
   "name": "conda-env-blog-py"
  },
  "language_info": {
   "codemirror_mode": {
    "name": "ipython",
    "version": 3
   },
   "file_extension": ".py",
   "mimetype": "text/x-python",
   "name": "python",
   "nbconvert_exporter": "python",
   "pygments_lexer": "ipython3",
   "version": "3.8.3"
  }
 },
 "nbformat": 4,
 "nbformat_minor": 4
}
