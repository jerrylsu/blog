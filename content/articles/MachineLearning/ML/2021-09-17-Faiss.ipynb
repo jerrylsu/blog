{
 "cells": [
  {
   "cell_type": "markdown",
   "metadata": {},
   "source": [
    "date: 2021-09-17 10:17:17\n",
    "author: Jerry Su\n",
    "slug: Faiss\n",
    "title: Faiss\n",
    "category: \n",
    "tags: Machine Learning, Faiss"
   ]
  },
  {
   "cell_type": "markdown",
   "metadata": {},
   "source": [
    "0.faiss Mac m1 install源码安装？\n",
    "\n",
    "master分支若不支持arm64，则下载使用下面 `pr：matsui528:workaround-for-aarch64-gcc`源码`git clone -b branch_name url`分支下载\n",
    "\n",
    "https://github.com/facebookresearch/faiss/pull/1882\n",
    "\n",
    "```\n",
    "https://github.com/facebookresearch/faiss/wiki/Installing-Faiss#compiling-faiss-on-arm\n",
    "$ brew install llvm\n",
    "$ brew install swig\n",
    "$ cd faiss\n",
    "$ cmake -B build -DFAISS_ENABLE_GPU=OFF -DFAISS_ENABLE_C_API=ON -DBUILD_SHARED_LIBS=ON -DBUILD_TESTING=OFF -DFAISS_ENABLE_PYTHON=ON .\n",
    "$ cmake  -B build -DCMAKE_CXX_COMPILER=clang++ -DFAISS_ENABLE_GPU=OFF  -DPython_EXECUTABLE=$(which python3) -DFAISS_OPT_LEVEL=generic -DCMAKE_BUILD_TYPE=Release -DBUILD_TESTING=ON\n",
    "$ make -C build -j faiss\n",
    "$ make -C build -j swigfaiss\n",
    "$ cd build/faiss/python/ && python3 setup.py build\n",
    "$ export PYTHONPATH=$PWD/build/faiss/python/build/lib/\n",
    "```\n",
    "\n",
    "1.faiss add是增量增加吗？\n",
    "\n",
    "2.faiss index训练是在每次add新数据，都需要重新训练吗？\n",
    "\n",
    "[https://github.com/facebookresearch/faiss/wiki](https://github.com/facebookresearch/faiss/wiki)\n",
    "\n",
    "[https://github.com/facebookresearch/faiss](https://github.com/facebookresearch/faiss)\n",
    "\n",
    "[推荐召回算法-6如何从十亿数据找出你喜欢的内容-向量检索技术](https://www.bilibili.com/video/BV15v4118753?from=search&seid=9527663759693988199&spm_id_from=333.337.0.0)\n",
    "\n",
    "[使用 Faiss 进行海量特征的相似度匹配](https://bbs.cvmart.net/articles/3887)"
   ]
  },
  {
   "cell_type": "markdown",
   "metadata": {},
   "source": [
    "### 1.生成随机数据\n",
    "\n",
    "`Faiss`处理固定维数`d`的向量集合，通常为 10 到 100 秒。 这些集合可以存储在矩阵中。\n",
    "我们假设行优先存储，即。 向量编号 i 的第 j 个分量存储在矩阵的第 i 行、第 j 列中。 `Faiss`仅使用`32`位浮点矩阵。\n",
    "\n",
    "- `xb`用于数据库，它包含所有必须编入索引的向量，我们将在其中进行搜索。大小`nb * d`\n",
    "\n",
    "- `xq`用于查询向量，我们需要找到最近的邻居。大小`nq * d`，单个查询向量`nq = 1`"
   ]
  },
  {
   "cell_type": "code",
   "execution_count": 10,
   "metadata": {},
   "outputs": [],
   "source": [
    "import faiss\n",
    "import numpy as np"
   ]
  },
  {
   "cell_type": "code",
   "execution_count": 11,
   "metadata": {},
   "outputs": [],
   "source": [
    "d = 64              # 向量维度\n",
    "nb = 1000           # 数据库大小\n",
    "nq = 10             # 待查询query大小\n",
    "np.random.seed(42)  # 可复现\n",
    "\n",
    "xb = np.random.random((nb, d)).astype('float32')  # 均匀分布，数据类型必须float32\n",
    "xb[:, 0] += np.arange(nb) / 1000                  # 给向量的第0维（即，索引维度）增加一个小的偏移量\n",
    "\n",
    "xq = np.random.random((nq, d)).astype('float32')\n",
    "xq[:, 0] += np.arange(nq) / 1000"
   ]
  },
  {
   "cell_type": "code",
   "execution_count": 12,
   "metadata": {},
   "outputs": [
    {
     "name": "stdout",
     "output_type": "stream",
     "text": [
      "(1000, 64) (10, 64)\n"
     ]
    }
   ],
   "source": [
    "print(xb.shape, xq.shape)"
   ]
  },
  {
   "cell_type": "markdown",
   "metadata": {},
   "source": [
    "### 2.创建索引并添加数据\n",
    "\n",
    "- `Faiss`是围绕`Index`对象构建的。 它封装了一组数据库向量，并可选择对它们进行预处理以提高搜索效率。 \n",
    "索引有很多种，我们将使用最简单的版本，只对它们执行暴力`L2`距离搜索：`IndexFlatL2`。\n",
    "\n",
    "- 所有索引在创建时都需要知道，操作向量的维数，即d。然后，大多数索引还需要一个训练阶段，以分析向量的分布。\n",
    "对于全量暴力搜索`IndexFlatL2`，可以跳过这个操作。\n",
    "\n",
    "- `Index`创建和训练后，对其都可以执行两个操作：`add`和`search`。\n",
    "\n",
    "- `index.add`向索引添加向量数据，`index.is_traned`查看索引是否已经训练，`index.ntotal`索引向量数量\n",
    "\n",
    "- 一些索引还可以存储与每个向量对应的整数`ID`（但不是`IndexFlatL2`）。 如果未提供`ID`，则`add`仅使用向量序号作为`ID`。即，第一个向量为 0，第二个为 1，依此类推。"
   ]
  },
  {
   "cell_type": "code",
   "execution_count": 4,
   "metadata": {},
   "outputs": [
    {
     "name": "stdout",
     "output_type": "stream",
     "text": [
      "True\n",
      "1000\n"
     ]
    }
   ],
   "source": [
    "index = faiss.IndexFlatL2(d)    # 创建索引\n",
    "print(index.is_trained)\n",
    "index.add(xb)\n",
    "print(index.ntotal)"
   ]
  },
  {
   "cell_type": "markdown",
   "metadata": {},
   "source": [
    "### 3.搜索\n",
    "\n",
    "- 可以对索引执行的基本搜索操作是`k-最近邻搜索`，即。 对于每个查询向量，在数据库中找到它的`k`个最近的邻居。\n",
    "\n",
    "- 这个操作的结果可以方便地存储在一个大小为`nq * k`的整数矩阵中，其中第`i`行包含查询向量`i`的邻居的`ID`，按距离增加排序。 除了这个矩阵之外，搜索操作还返回一个具有相应平方距离的`nq * k`浮点矩阵。(`ID`矩阵和距离矩阵)"
   ]
  },
  {
   "cell_type": "code",
   "execution_count": 5,
   "metadata": {},
   "outputs": [
    {
     "name": "stdout",
     "output_type": "stream",
     "text": [
      "[[  0 274 495 509]\n",
      " [  1 860 391 676]\n",
      " [  2 278 197 144]\n",
      " [  3 400 781 106]\n",
      " [  4 505  36 483]]\n",
      "[[0.        6.9914494 7.450281  7.777972 ]\n",
      " [0.        7.223036  7.5612698 7.563117 ]\n",
      " [0.        6.3398957 7.187016  7.2561207]\n",
      " [0.        6.401422  6.5932446 7.007648 ]\n",
      " [0.        5.6738653 6.231701  6.7210436]]\n"
     ]
    }
   ],
   "source": [
    "k = 4\n",
    "D, I = index.search(xb[:5], k)\n",
    "print(I)\n",
    "print(D)"
   ]
  },
  {
   "cell_type": "code",
   "execution_count": 6,
   "metadata": {},
   "outputs": [
    {
     "name": "stdout",
     "output_type": "stream",
     "text": [
      "[[502  85 606 234]\n",
      " [444 699 636 436]\n",
      " [432 148 629 524]\n",
      " [629  38 515 945]\n",
      " [303  33 919 307]]\n",
      "[[6.813346  6.9684916 7.0068817 7.0398655]\n",
      " [6.5172014 6.7739353 6.8253922 6.8459854]\n",
      " [7.1742516 8.173426  8.238693  8.29656  ]\n",
      " [6.794969  6.981325  7.088125  7.1704335]\n",
      " [5.7955394 6.356456  7.205101  7.23569  ]]\n"
     ]
    }
   ],
   "source": [
    "D, I = index.search(xq[:5], k)\n",
    "print(I)\n",
    "print(D)"
   ]
  },
  {
   "cell_type": "markdown",
   "metadata": {},
   "source": [
    "### 4.更快速搜索"
   ]
  },
  {
   "cell_type": "code",
   "execution_count": 7,
   "metadata": {},
   "outputs": [
    {
     "name": "stdout",
     "output_type": "stream",
     "text": [
      "False\n",
      "True\n"
     ]
    }
   ],
   "source": [
    "nlist = 10\n",
    "quantizer = faiss.IndexFlatL2(d)\n",
    "index = faiss.IndexIVFFlat(quantizer, d, nlist)\n",
    "print(index.is_trained)\n",
    "index.train(xb)\n",
    "print(index.is_trained)"
   ]
  },
  {
   "cell_type": "code",
   "execution_count": 8,
   "metadata": {},
   "outputs": [],
   "source": [
    "index.add_with_ids(xb, np.arange(1000, 2000))"
   ]
  },
  {
   "cell_type": "code",
   "execution_count": 9,
   "metadata": {},
   "outputs": [
    {
     "data": {
      "text/plain": [
       "(array([[0.       , 7.7962465, 8.162846 , 8.279927 , 8.418131 ]],\n",
       "       dtype=float32),\n",
       " array([[1000, 1318, 1541, 1225, 1121]]))"
      ]
     },
     "execution_count": 9,
     "metadata": {},
     "output_type": "execute_result"
    }
   ],
   "source": [
    "index.search(xb[:1], 5)"
   ]
  },
  {
   "cell_type": "code",
   "execution_count": 34,
   "metadata": {
    "scrolled": true
   },
   "outputs": [
    {
     "name": "stdout",
     "output_type": "stream",
     "text": [
      "[[466 205 137 147]\n",
      " [436 371 220 606]\n",
      " [629 524 318 402]\n",
      " [515 945 733 891]\n",
      " [303 606 341 473]]\n",
      "[[7.2691383 7.389188  7.9478083 7.973056 ]\n",
      " [6.8459854 6.9232197 7.1473436 7.42725  ]\n",
      " [8.238693  8.29656   8.312122  8.395692 ]\n",
      " [7.088125  7.1704335 7.4821615 7.6420956]\n",
      " [5.7955394 7.6942344 8.055542  8.17235  ]]\n"
     ]
    }
   ],
   "source": [
    "index.add(xb)\n",
    "# index.nprobe = 5    # 默认为1\n",
    "D, I = index.search(xq[:5], k)\n",
    "print(I)\n",
    "print(D)"
   ]
  }
 ],
 "metadata": {
  "kernelspec": {
   "display_name": "Python 3 (ipykernel)",
   "language": "python",
   "name": "python3"
  },
  "language_info": {
   "codemirror_mode": {
    "name": "ipython",
    "version": 3
   },
   "file_extension": ".py",
   "mimetype": "text/x-python",
   "name": "python",
   "nbconvert_exporter": "python",
   "pygments_lexer": "ipython3",
   "version": "3.8.3"
  }
 },
 "nbformat": 4,
 "nbformat_minor": 2
}
