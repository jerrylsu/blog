{
 "cells": [
  {
   "cell_type": "code",
   "execution_count": 2,
   "id": "05b7207f-0c0c-4ac8-b075-47fd02a43572",
   "metadata": {},
   "outputs": [
    {
     "data": {
      "text/plain": [
       "Timing: true\n",
       "sccache: true\n"
      ]
     },
     "execution_count": 2,
     "metadata": {},
     "output_type": "execute_result"
    },
    {
     "data": {
      "text/html": [
       "<span style=\"color: rgba(0,0,0,0.4);\">Took 82031ms</span>"
      ]
     },
     "execution_count": 2,
     "metadata": {},
     "output_type": "execute_result"
    }
   ],
   "source": [
    ":timing\n",
    ":sccache 1\n",
    ":dep poker = { path = \".\" }\n",
    ":dep rand = \"0.8.5\"\n",
    ":dep rand_xoshiro = \"0.6.0\""
   ]
  },
  {
   "cell_type": "code",
   "execution_count": 3,
   "id": "4615ade1-4d22-4813-ac86-bc7d904a7093",
   "metadata": {},
   "outputs": [
    {
     "data": {
      "text/html": [
       "<span style=\"color: rgba(0,0,0,0.4);\">Took 313ms</span>"
      ]
     },
     "execution_count": 3,
     "metadata": {},
     "output_type": "execute_result"
    }
   ],
   "source": [
    "use std::fs::File;\n",
    "use std::path::Path;\n",
    "use rand::SeedableRng;\n",
    "use rand_xoshiro::Xoshiro256PlusPlus;\n",
    "use poker::card::{self, ALL, Rank, Suit, Card, from_str, from_id, id_sum, join_id, get_joker_bits};\n",
    "use poker::hand_type::{self, HandType, RANK_LOOKUP, get_hand_type, get_major_rank, get_minor_rank};\n",
    "use poker::pineapple::play::{PlayRounds, BruteForceMethod};"
   ]
  },
  {
   "cell_type": "markdown",
   "id": "54e55c50-82e9-489f-a511-77c170df67e7",
   "metadata": {},
   "source": [
    "## Debug\n",
    "\n",
    "Assume following is the test case that failed. \n",
    "```\n",
    "Row0: Ks Ad As \n",
    "Row1: Ts Th 2j 5c 3d\n",
    "Row2: 2s 2h 2c\n",
    "```\n",
    "Combine all cards into one string separated by spaces, i.e., \n",
    "```\n",
    "\"Ks Ad As Ts Th 2j 5c 3d 2s 2h 2c\"\n",
    "```\n",
    "Get left cards by running the following code. "
   ]
  },
  {
   "cell_type": "code",
   "execution_count": 4,
   "id": "197ebaae-1e33-4251-872b-6878d95b3c8f",
   "metadata": {},
   "outputs": [
    {
     "data": {
      "text/plain": [
       "\"As Ah Ac Ad Ks Kh Kc Qs Qh Qc Qd Ts Th Tc Td 9s 9h 9c 9d 8s 8h 8c 7s 6s 6h 5s 5h 5c 5d 4s 4h 4c 4d 3j 3s 3h 3c 3d 2j 2s 2h 2c 2d\""
      ]
     },
     "execution_count": 4,
     "metadata": {},
     "output_type": "execute_result"
    },
    {
     "data": {
      "text/html": [
       "<span style=\"color: rgba(0,0,0,0.4);\">Took 1045ms</span>"
      ]
     },
     "execution_count": 4,
     "metadata": {},
     "output_type": "execute_result"
    }
   ],
   "source": [
    "join_id(ALL ^ id_sum(&from_str(\"Jd 6c 6d Jc 8d 7d Kd Js Jh 7h 7c\").unwrap()), 54).unwrap()"
   ]
  },
  {
   "cell_type": "code",
   "execution_count": 5,
   "id": "5b8c1328-8e49-4cf2-8b40-5782b39c0b11",
   "metadata": {},
   "outputs": [
    {
     "name": "stdout",
     "output_type": "stream",
     "text": [
      "Iteration score: -6.189449801474759\n",
      "Analytical score: -6.189449801474759\n",
      "Delta: 0, Pass test: true\n"
     ]
    },
    {
     "data": {
      "text/html": [
       "<span style=\"color: rgba(0,0,0,0.4);\">Took 5871ms</span>"
      ]
     },
     "execution_count": 5,
     "metadata": {},
     "output_type": "execute_result"
    }
   ],
   "source": [
    "let id0 = id_sum(&from_str(\"Jd 6c 6d\").unwrap());\n",
    "let id1 = id_sum(&from_str(\"Jc 8d 7d\").unwrap());\n",
    "let id2 = id_sum(&from_str(\"Kd Js Jh 7h 7c\").unwrap());\n",
    "let mut cards_left = from_str(\"As Ah Ac Ad Ks Kh Kc Qs Qh Qc Qd Ts Th Tc Td 9s 9h 9c 9d 8s 8h 8c 7s 6s 6h 5s 5h 5c 5d 4s 4h 4c 4d 3j 3s 3h 3c 3d 2j 2s 2h 2c 2d\").unwrap();\n",
    "cards_left.sort_by_key(|c| c.get_index());\n",
    "let ids_left = id_sum(&cards_left);\n",
    "assert!(ids_left & id0 == 0);\n",
    "assert!(ids_left & id1 == 0);\n",
    "assert!(ids_left & id2 == 0);\n",
    "\n",
    "let mut play: PlayRounds = PlayRounds::new(id0, id1, id2);\n",
    "let mut rng = Xoshiro256PlusPlus::seed_from_u64(13);\n",
    "let s_it = play.score_r4_it_debug(&cards_left, 2.0, \"test.csv\");\n",
    "let s = play.score_r4(&cards_left, 2.0, &mut BruteForceMethod::Iteration);\n",
    "let delta = (s - s_it).abs();\n",
    "println!(\"Iteration score: {}\", s_it);\n",
    "println!(\"Analytical score: {}\", s);\n",
    "println!(\"Delta: {}, Pass test: {}\", delta, delta < 1E-8);"
   ]
  },
  {
   "cell_type": "code",
   "execution_count": 4,
   "id": "d69db92a-fecb-45bf-9f63-cd9dade52632",
   "metadata": {},
   "outputs": [
    {
     "data": {
      "text/html": [
       "<span style=\"color: rgba(0,0,0,0.4);\">Took 5371ms</span>"
      ]
     },
     "execution_count": 4,
     "metadata": {},
     "output_type": "execute_result"
    },
    {
     "name": "stdout",
     "output_type": "stream",
     "text": [
      "Iteration score: -2.25\n",
      "Analytical score: -2.25\n",
      "Delta: 0, Pass test: true\n"
     ]
    }
   ],
   "source": [
    "let id0 = id_sum(&from_str(\"Jd 6c 6d\").unwrap());\n",
    "let id1 = id_sum(&from_str(\"Jc 8d 7d\").unwrap());\n",
    "let id2 = id_sum(&from_str(\"Kd Js Jh 7h 7c\").unwrap());\n",
    "let mut cards_left = from_str(\"7s 6h 3c 3d\").unwrap();\n",
    "cards_left.sort_by_key(|c| c.get_index());\n",
    "let ids_left = id_sum(&cards_left);\n",
    "assert!(ids_left & id0 == 0);\n",
    "assert!(ids_left & id1 == 0);\n",
    "assert!(ids_left & id2 == 0);\n",
    "\n",
    "let mut play: PlayRounds = PlayRounds::new(id0, id1, id2);\n",
    "let mut rng = Xoshiro256PlusPlus::seed_from_u64(13);\n",
    "let s_it = play.score_r4_it_debug(&cards_left, 2.0, \"test.csv\");\n",
    "let s = play.score_r4(&cards_left, 2.0, &mut BruteForceMethod::Iteration);\n",
    "let delta = (s - s_it).abs();\n",
    "println!(\"Iteration score: {}\", s_it);\n",
    "println!(\"Analytical score: {}\", s);\n",
    "println!(\"Delta: {}, Pass test: {}\", delta, delta < 1E-8);"
   ]
  },
  {
   "cell_type": "code",
   "execution_count": null,
   "id": "4929c4bb-1086-4901-9c92-f0d4ffbae830",
   "metadata": {},
   "outputs": [],
   "source": []
  }
 ],
 "metadata": {
  "kernelspec": {
   "display_name": "Rust",
   "language": "rust",
   "name": "rust"
  },
  "language_info": {
   "codemirror_mode": "rust",
   "file_extension": ".rs",
   "mimetype": "text/rust",
   "name": "Rust",
   "pygment_lexer": "rust",
   "version": ""
  }
 },
 "nbformat": 4,
 "nbformat_minor": 5
}
