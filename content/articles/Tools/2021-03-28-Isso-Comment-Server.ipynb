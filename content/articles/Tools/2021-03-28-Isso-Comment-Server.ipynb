{
 "cells": [
  {
   "cell_type": "markdown",
   "metadata": {},
   "source": [
    "date: 2021-03-28 13:17:17\n",
    "author: Jerry Su\n",
    "slug: Isso-Comment-Server\n",
    "title: Isso-Comment-Server\n",
    "category: \n",
    "tags: Blog\n",
    "summary: Reason is the light and the light of life.\n",
    "toc: show"
   ]
  },
  {
   "cell_type": "markdown",
   "metadata": {},
   "source": [
    "## 1. Isso as systemd service\n",
    "\n",
    "Switch back to your privileged(root) user and create new service file.\n",
    "\n",
    "`vim /etc/systemd/system/isso.service`\n",
    "Paste the following in it.\n",
    "\n",
    "```\n",
    "[Unit]\n",
    "Description=Isso Commenting Server\n",
    "After=network.target\n",
    "[Service]\n",
    "Type=simple\n",
    "User=isso\n",
    "WorkingDirectory=/home/isso\n",
    "ExecStart=/home/isso/.local/bin/isso -c /home/isso/isso.conf\n",
    "Restart=on-failure\n",
    "RestartSec=5\n",
    "[Install]\n",
    "WantedBy=multi-user.target\n",
    "```\n",
    "\n",
    "Enable and start the service.\n",
    "\n",
    "`systemctl enable isso`\n",
    "\n",
    "`systemctl start isso`\n",
    "\n",
    "Check the status.\n",
    "\n",
    "`systemctl status isso`\n",
    "\n"
   ]
  },
  {
   "cell_type": "markdown",
   "metadata": {},
   "source": [
    "[I submit the Isso issue due to CORS](https://github.com/posativ/isso/issues/718)\n",
    "\n",
    "![CORS](../../images/Blog/CORS_error.png)"
   ]
  },
  {
   "cell_type": "markdown",
   "metadata": {},
   "source": [
    "[https://posativ.org/isso/](https://posativ.org/isso/)\n",
    "\n",
    "[Apache2 Deploy Multi-sites](http://www.jerrylsu.net/articles/2021/tools-Apache2%20Deploy%20Multi-sites.html)\n",
    "\n",
    "[https://hackriculture.fr/isso-commentaires-auto-heberges-pour-pelican-et-autres-sites-statiques.html](https://hackriculture.fr/isso-commentaires-auto-heberges-pour-pelican-et-autres-sites-statiques.html)\n",
    "\n",
    "[https://therandombits.com/2018/12/how-to-add-isso-comments-to-your-site/](https://therandombits.com/2018/12/how-to-add-isso-comments-to-your-site/)\n"
   ]
  }
 ],
 "metadata": {
  "kernelspec": {
   "display_name": "Python [conda env:blog] *",
   "language": "python",
   "name": "conda-env-blog-py"
  },
  "language_info": {
   "codemirror_mode": {
    "name": "ipython",
    "version": 3
   },
   "file_extension": ".py",
   "mimetype": "text/x-python",
   "name": "python",
   "nbconvert_exporter": "python",
   "pygments_lexer": "ipython3",
   "version": "3.8.3"
  }
 },
 "nbformat": 4,
 "nbformat_minor": 4
}
