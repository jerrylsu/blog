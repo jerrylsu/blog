{
 "cells": [
  {
   "cell_type": "markdown",
   "metadata": {},
   "source": [
    "date: 2021-02-25 10:17:17\n",
    "author: Jerry Su\n",
    "slug: Pointer-Networkers\n",
    "title: Pointer Networkers\n",
    "category: \n",
    "tags: Deep Learning, NLP"
   ]
  },
  {
   "cell_type": "markdown",
   "metadata": {},
   "source": [
    "## Pointer Networkers\n",
    "\n",
    "A new neural architecture to learn the conditional probability of an output sequence with elements that are discrete tokens corresponding to positions in an input sequence.\n",
    "\n",
    "解码器可以输出依赖于输入的内容。\n",
    "\n",
    "- [Oriol Vinyals, Meire Fortunato, and Navdeep Jaitly. 2015. Pointer networks. In Advances in Neural Information Processing Systems, pages 2692–2700.](https://arxiv.org/abs/1506.03134)\n",
    "\n",
    "\n",
    "- [Abigail See, Peter J. Liu, and Christopher D. Manning. Get to the point: Summarization with pointer-generator networks. In Proceedings of the 55th Annual Meeting of the Association for Computational Linguistics (Volume 1: Long Papers), pp. 1073–1083, July 2017.](https://arxiv.org/pdf/1704.04368.pdf)\n",
    "\n",
    "\n",
    "- [李宏毅Pointer Networkers](https://www.bilibili.com/video/BV1JE411g7XF?p=52)"
   ]
  },
  {
   "cell_type": "markdown",
   "metadata": {},
   "source": [
    "![PointerNetworkers1](../../../images/PointerNetworkers/PointerNetworkers1.png)\n",
    "\n",
    "![PointerNetworkers2](../../../images/PointerNetworkers/PointerNetworkers2.png)\n",
    "\n",
    "- [Get To The Point: Summarization with Pointer-Generator Networks](https://arxiv.org/abs/1704.04368)\n",
    "\n",
    "- [https://github.com/abisee/pointer-generator](https://github.com/abisee/pointer-generator)\n",
    "\n",
    "![application](../../../images/PointerNetworkers/application.png)\n",
    "\n",
    "- 从input复制到output中，可以output字典中不存在的词OOV。"
   ]
  }
 ],
 "metadata": {
  "kernelspec": {
   "display_name": "Python 3 (ipykernel)",
   "language": "python",
   "name": "python3"
  },
  "language_info": {
   "codemirror_mode": {
    "name": "ipython",
    "version": 3
   },
   "file_extension": ".py",
   "mimetype": "text/x-python",
   "name": "python",
   "nbconvert_exporter": "python",
   "pygments_lexer": "ipython3",
   "version": "3.8.10"
  }
 },
 "nbformat": 4,
 "nbformat_minor": 4
}
