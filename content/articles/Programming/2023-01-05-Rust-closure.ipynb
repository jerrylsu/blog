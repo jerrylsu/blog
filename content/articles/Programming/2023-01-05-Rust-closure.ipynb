{
 "cells": [
  {
   "cell_type": "markdown",
   "id": "2f396242-d25a-4797-8d94-113a24ec7ef9",
   "metadata": {},
   "source": [
    "date: 2023-01-05 14:17:17\n",
    "author: Jerry Su\n",
    "slug: Rust-closure\n",
    "title: Rust closure\n",
    "category: \n",
    "tags: Rust\n",
    "toc: show"
   ]
  },
  {
   "cell_type": "markdown",
   "id": "c3399f3f-a8de-463d-98af-98240b8477d7",
   "metadata": {},
   "source": [
    "闭包：可以捕获周围作用域中变量的**匿名函数**。\n",
    "\n",
    "- 可以保存在一个变量中。\n",
    "\n",
    "- 可以作为参数传递给其他函数。\n",
    "\n",
    "- 不同于函数，闭包允许捕获周围作用域中的变量。\n",
    "\n",
    "- 调用方式与函数调用相同，输入和返回类型可以省略。\n",
    "\n",
    "- 声明时使用 || 替代 () 将输入参数括起来。\n",
    "\n",
    "- 函数体定界符（{}）对于单个表达式是可选的，其他情况必须加上。"
   ]
  },
  {
   "cell_type": "code",
   "execution_count": 40,
   "id": "7348657b-aa49-4b74-935c-951c3c343bb2",
   "metadata": {},
   "outputs": [
    {
     "name": "stdout",
     "output_type": "stream",
     "text": [
      "x: 1001\n"
     ]
    },
    {
     "data": {
      "text/plain": [
       "()"
      ]
     },
     "execution_count": 40,
     "metadata": {},
     "output_type": "execute_result"
    }
   ],
   "source": [
    "fn test_closure() {\n",
    "    let MAX = 1000;\n",
    "    let closure = |i: u32| i + MAX;\n",
    "    let x = 1;\n",
    "    println!(\"x: {}\", closure(x));\n",
    "}\n",
    "\n",
    "test_closure()"
   ]
  }
 ],
 "metadata": {
  "kernelspec": {
   "display_name": "Rust",
   "language": "rust",
   "name": "rust"
  },
  "language_info": {
   "codemirror_mode": "rust",
   "file_extension": ".rs",
   "mimetype": "text/rust",
   "name": "Rust",
   "pygment_lexer": "rust",
   "version": ""
  }
 },
 "nbformat": 4,
 "nbformat_minor": 5
}
