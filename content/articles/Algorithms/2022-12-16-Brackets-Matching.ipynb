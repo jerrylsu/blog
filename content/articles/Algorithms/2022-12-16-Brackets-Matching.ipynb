{
 "cells": [
  {
   "cell_type": "markdown",
   "metadata": {},
   "source": [
    "date: 2022-12-16 10:17:17\n",
    "author: Jerry Su\n",
    "slug: Brackets-Matching\n",
    "title: Brackets Matching\n",
    "category: \n",
    "tags: Algorithm\n",
    "toc: show"
   ]
  },
  {
   "cell_type": "code",
   "execution_count": 4,
   "metadata": {},
   "outputs": [],
   "source": [
    "brackets = {')': '(', '》': '《', '）': '（'}\n",
    "brackets_open, brackets_close = brackets.values(), brackets.keys()\n",
    "\n",
    "\n",
    "def brackets_match(text: str) -> int:\n",
    "    \"\"\"Brackets Match\n",
    "    \"\"\"\n",
    "    stack, error = [], []\n",
    "    for idx, char in enumerate(text):\n",
    "        if char in brackets_open:\n",
    "            stack.append((idx, char))\n",
    "        elif char in brackets_close:\n",
    "            if stack and stack[-1][-1] == brackets[char]:\n",
    "                stack.pop()\n",
    "            else:\n",
    "                error.append(idx)\n",
    "    if stack:\n",
    "        error = [item[0] for item in stack] + error\n",
    "    return error"
   ]
  },
  {
   "cell_type": "code",
   "execution_count": 5,
   "metadata": {},
   "outputs": [
    {
     "name": "stdout",
     "output_type": "stream",
     "text": [
      "[NbConvertApp] WARNING | Config option `kernel_spec_manager_class` not recognized by `NbConvertApp`.\n",
      "[NbConvertApp] Converting notebook 2022-12-16-Brackets-Matching.ipynb to markdown\n",
      "[NbConvertApp] Writing 1085 bytes to 2022-12-16-Brackets-Matching.md\n"
     ]
    }
   ],
   "source": [
    "!jupyter nbconvert --to markdown 2022-12-16-Brackets-Matching.ipynb"
   ]
  },
  {
   "cell_type": "code",
   "execution_count": null,
   "metadata": {},
   "outputs": [],
   "source": []
  }
 ],
 "metadata": {
  "kernelspec": {
   "display_name": "Python 3 (ipykernel)",
   "language": "python",
   "name": "python3"
  },
  "language_info": {
   "codemirror_mode": {
    "name": "ipython",
    "version": 3
   },
   "file_extension": ".py",
   "mimetype": "text/x-python",
   "name": "python",
   "nbconvert_exporter": "python",
   "pygments_lexer": "ipython3",
   "version": "3.8.10"
  }
 },
 "nbformat": 4,
 "nbformat_minor": 4
}
