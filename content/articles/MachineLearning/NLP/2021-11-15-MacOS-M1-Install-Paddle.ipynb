{
 "cells": [
  {
   "cell_type": "markdown",
   "metadata": {},
   "source": [
    "- date: 2021-11-15 11:17:17\n",
    "- author: Jerry Su\n",
    "- slug: Mac m1 install Paddle\n",
    "- title: Mac m1 install Paddle\n",
    "- category: \n",
    "- tags: Paddle"
   ]
  },
  {
   "cell_type": "markdown",
   "metadata": {},
   "source": [
    "Mac m1系统mini-conda,环境安装paddle问题？\n",
    "\n",
    "```\n",
    "conda activate paddle\n",
    "python -m pip install paddlepaddle -i https://mirror.baidu.com/pypi/simple\n",
    "Looking in indexes: https://mirror.baidu.com/pypi/simple\n",
    "ERROR: Could not find a version that satisfies the requirement paddlepaddle\n",
    "ERROR: No matching distribution found for paddlepaddle\n",
    "```\n",
    "\n",
    "\n",
    "https://www.paddlepaddle.org.cn/install/quick?docurl=/documentation/docs/zh/install/pip/macos-pip.html\n",
    "\n",
    "https://github.com/PaddlePaddle/Paddle/issues/32377\n",
    "\n",
    "macOS 版本 10.x/11.x (64 bit) (不支持GPU版本)\n",
    "\n",
    "Python 版本 3.6/3.7/3.8/3.9 (64 bit)\n",
    "\n",
    "pip 或 pip3 版本 20.2.2或更高版本 (64 bit)\n",
    "\n",
    "```\n",
    "CONDA_SUBDIR=osx-64 conda create -n paddle python==3.8.10 // create a new environment called pd_rosetta with intel packages.\n",
    "conda activate paddle\n",
    "python -c \"import platform;print(platform.machine())\"  // should be ‘x86_64’ not ‘arm64’\n",
    "conda env config vars set CONDA_SUBDIR=osx-64 // # make sure that conda commands in this environment use intel packages\n",
    "conda deactivate\n",
    "conda activate paddle\n",
    "echo \"CONDA_SUBDIR: $CONDA_SUBDIR\"\n",
    "python -m pip install paddlepaddle -i https://mirror.baidu.com/pypi/simple\n",
    "```\n",
    "\n",
    "```\n",
    "// enter python to check install \n",
    "python\n",
    "import paddle\n",
    "paddle.utils.run_check()\n",
    "```"
   ]
  }
 ],
 "metadata": {
  "kernelspec": {
   "display_name": "Python [conda env:blog]",
   "language": "python",
   "name": "conda-env-blog-py"
  },
  "language_info": {
   "codemirror_mode": {
    "name": "ipython",
    "version": 3
   },
   "file_extension": ".py",
   "mimetype": "text/x-python",
   "name": "python",
   "nbconvert_exporter": "python",
   "pygments_lexer": "ipython3",
   "version": "3.8.3"
  }
 },
 "nbformat": 4,
 "nbformat_minor": 4
}
