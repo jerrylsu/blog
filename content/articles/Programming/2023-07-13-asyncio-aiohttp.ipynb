{
 "cells": [
  {
   "cell_type": "markdown",
   "metadata": {},
   "source": [
    "date: 2023-07-13 10:17:17\n",
    "author: Jerry Su\n",
    "slug: Concurrent-http-requests-using-asyncio-aiohttp\n",
    "title: Concurrent http requests using asyncio aiohttp\n",
    "category: \n",
    "tags: Python\n",
    "toc: show"
   ]
  },
  {
   "cell_type": "code",
   "execution_count": 4,
   "metadata": {},
   "outputs": [],
   "source": [
    "import aiohttp\n",
    "import asyncio\n",
    "from typing import Dict"
   ]
  },
  {
   "cell_type": "code",
   "execution_count": 5,
   "metadata": {},
   "outputs": [],
   "source": [
    "async def async_post_request(url: str, data: Dict) -> Dict:\n",
    "    \"\"\"async post.\n",
    "    \"\"\"\n",
    "    async with aiohttp.ClientSession() as session:\n",
    "        async with session.post(url, json=data) as resp:\n",
    "            response = await resp.json()\n",
    "    return response"
   ]
  },
  {
   "cell_type": "code",
   "execution_count": 15,
   "metadata": {},
   "outputs": [],
   "source": [
    "model_url_dict={\n",
    "    \"scene1\": \"http://0.0.0.0:8781/classify/utcx\",\n",
    "    \"scene2\": \"http://0.0.0.0:8782/classify/utcx\",\n",
    "    \"scene3\": \"http://0.0.0.0:8783/classify/utcx\",\n",
    "    \"scene4\": \"http://0.0.0.0:8784/classify/utcx\",\n",
    "    \"scene5\": \"http://0.0.0.0:8785/classify/utcx\",\n",
    "    \"scene6\": \"http://0.0.0.0:8786/classify/utcx\"}\n",
    "\n",
    "data = {\n",
    "        \"serial_id\": \"123\",\n",
    "        \"input\": {\n",
    "            \"type\": \"text\",\n",
    "            \"texts\": [\"test\"],\n",
    "        },\n",
    "    }"
   ]
  },
  {
   "cell_type": "code",
   "execution_count": null,
   "metadata": {},
   "outputs": [],
   "source": [
    "scene_list = model_url_dict.keys()\n",
    "task_list = []\n",
    "for scene_name in scene_list:\n",
    "    task = asyncio.create_task(async_post_request(model_url_dict[scene_name], data))\n",
    "    task_list.append(task)\n",
    "done, pending = await asyncio.wait(task_list, timeout=1)"
   ]
  },
  {
   "cell_type": "code",
   "execution_count": null,
   "metadata": {},
   "outputs": [],
   "source": [
    "for done_task in done:\n",
    "    result = done_task.result()\n",
    "    print(f\"{result}\")"
   ]
  },
  {
   "cell_type": "code",
   "execution_count": 2,
   "metadata": {},
   "outputs": [
    {
     "name": "stdout",
     "output_type": "stream",
     "text": [
      "[NbConvertApp] WARNING | Config option `kernel_spec_manager_class` not recognized by `NbConvertApp`.\n",
      "[NbConvertApp] Converting notebook 2023-01-05-Rust-self-&self-&mut-self.ipynb to markdown\n",
      "[NbConvertApp] Writing 1210 bytes to 2023-01-05-Rust-self-&self-&mut-self.md\n"
     ]
    }
   ],
   "source": [
    "!jupyter nbconvert --to markdown 2023-07-13-asyncio-aiohttp.ipynb"
   ]
  }
 ],
 "metadata": {
  "kernelspec": {
   "display_name": "Python [conda env:dev] *",
   "language": "python",
   "name": "conda-env-dev-py"
  },
  "language_info": {
   "codemirror_mode": {
    "name": "ipython",
    "version": 3
   },
   "file_extension": ".py",
   "mimetype": "text/x-python",
   "name": "python",
   "nbconvert_exporter": "python",
   "pygments_lexer": "ipython3",
   "version": "3.8.10"
  }
 },
 "nbformat": 4,
 "nbformat_minor": 4
}
