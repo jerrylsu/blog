{
 "cells": [
  {
   "cell_type": "markdown",
   "metadata": {},
   "source": [
    "date: 2021-03-22 10:17:17\n",
    "author: Jerry Su\n",
    "slug: Python-Blinker\n",
    "title: Python Blinker\n",
    "category: \n",
    "tags: Python"
   ]
  },
  {
   "cell_type": "code",
   "execution_count": 1,
   "metadata": {},
   "outputs": [],
   "source": [
    "from blinker import signal"
   ]
  },
  {
   "cell_type": "code",
   "execution_count": 2,
   "metadata": {},
   "outputs": [
    {
     "data": {
      "text/plain": [
       "True"
      ]
     },
     "execution_count": 2,
     "metadata": {},
     "output_type": "execute_result"
    }
   ],
   "source": [
    "# 创建信号，单例模式\n",
    "inited = signal('inited')\n",
    "inited is signal('inited')"
   ]
  },
  {
   "cell_type": "code",
   "execution_count": 3,
   "metadata": {},
   "outputs": [
    {
     "data": {
      "text/plain": [
       "<function __main__.subscriber1(sender)>"
      ]
     },
     "execution_count": 3,
     "metadata": {},
     "output_type": "execute_result"
    }
   ],
   "source": [
    "# 订阅信号\n",
    "# 使用Signal.connect()方法注册一个函数，每当触发信号的时候，就会调用该函数。该函数以触发信号的对象作为参数，这个函数其实就是信号订阅者。\n",
    "def subscriber1(sender):\n",
    "    print(f\"1- Got a signal sent by {sender}\")\n",
    "    # while True:\n",
    "    #     pass\n",
    "    # print('subscriber finished!')\n",
    "\n",
    "def subscriber2(sender):\n",
    "    print(f\"2- Got a signal sent by {sender}\")\n",
    "    \n",
    "ready = signal('ready')\n",
    "# 依据订阅先后顺序执行\n",
    "ready.connect(subscriber2)\n",
    "ready.connect(subscriber1)"
   ]
  },
  {
   "cell_type": "code",
   "execution_count": 4,
   "metadata": {},
   "outputs": [
    {
     "name": "stdout",
     "output_type": "stream",
     "text": [
      "2- Got a signal sent by jerry\n",
      "1- Got a signal sent by jerry\n",
      "finished\n"
     ]
    }
   ],
   "source": [
    "# 触发信号\n",
    "# 使用Signal.send()方法通知信号订阅者\n",
    "ready.send('jerry')\n",
    "print('finished')"
   ]
  }
 ],
 "metadata": {
  "kernelspec": {
   "display_name": "Python [conda env:blog] *",
   "language": "python",
   "name": "conda-env-blog-py"
  },
  "language_info": {
   "codemirror_mode": {
    "name": "ipython",
    "version": 3
   },
   "file_extension": ".py",
   "mimetype": "text/x-python",
   "name": "python",
   "nbconvert_exporter": "python",
   "pygments_lexer": "ipython3",
   "version": "3.8.3"
  }
 },
 "nbformat": 4,
 "nbformat_minor": 4
}
