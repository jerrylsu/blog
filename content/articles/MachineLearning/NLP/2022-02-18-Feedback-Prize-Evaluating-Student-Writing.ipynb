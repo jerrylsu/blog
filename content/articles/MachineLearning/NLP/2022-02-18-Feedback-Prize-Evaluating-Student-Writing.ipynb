{
 "cells": [
  {
   "cell_type": "markdown",
   "metadata": {},
   "source": [
    "- date: 2022-02-18 11:17:17\n",
    "- author: Jerry Su\n",
    "- slug: Feedback-Prize-Evaluating-Student-Writing\n",
    "- title: Feedback-Pr?ize-Evaluating-Student-Writing\n",
    "- category:\n",
    "- tags: NLP"
   ]
  },
  {
   "cell_type": "code",
   "execution_count": 59,
   "metadata": {},
   "outputs": [],
   "source": [
    "import pandas as pd\n",
    "import os\n",
    "import tqdm"
   ]
  },
  {
   "cell_type": "markdown",
   "metadata": {},
   "source": [
    "## EDA\n",
    "\n",
    "https://www.kaggle.com/robikscube/student-writing-competition-twitch-stream?scriptVersionId=83303421"
   ]
  },
  {
   "cell_type": "code",
   "execution_count": 74,
   "metadata": {},
   "outputs": [],
   "source": [
    "df = pd.read_csv('/root/.cache/data/train.csv')"
   ]
  },
  {
   "cell_type": "code",
   "execution_count": 75,
   "metadata": {},
   "outputs": [
    {
     "data": {
      "text/html": [
       "<div>\n",
       "<style scoped>\n",
       "    .dataframe tbody tr th:only-of-type {\n",
       "        vertical-align: middle;\n",
       "    }\n",
       "\n",
       "    .dataframe tbody tr th {\n",
       "        vertical-align: top;\n",
       "    }\n",
       "\n",
       "    .dataframe thead th {\n",
       "        text-align: right;\n",
       "    }\n",
       "</style>\n",
       "<table border=\"1\" class=\"dataframe\">\n",
       "  <thead>\n",
       "    <tr style=\"text-align: right;\">\n",
       "      <th></th>\n",
       "      <th>id</th>\n",
       "      <th>discourse_id</th>\n",
       "      <th>discourse_start</th>\n",
       "      <th>discourse_end</th>\n",
       "      <th>discourse_text</th>\n",
       "      <th>discourse_type</th>\n",
       "      <th>discourse_type_num</th>\n",
       "      <th>predictionstring</th>\n",
       "    </tr>\n",
       "  </thead>\n",
       "  <tbody>\n",
       "    <tr>\n",
       "      <th>0</th>\n",
       "      <td>423A1CA112E2</td>\n",
       "      <td>1.622628e+12</td>\n",
       "      <td>8.0</td>\n",
       "      <td>229.0</td>\n",
       "      <td>Modern humans today are always on their phone....</td>\n",
       "      <td>Lead</td>\n",
       "      <td>Lead 1</td>\n",
       "      <td>1 2 3 4 5 6 7 8 9 10 11 12 13 14 15 16 17 18 1...</td>\n",
       "    </tr>\n",
       "    <tr>\n",
       "      <th>1</th>\n",
       "      <td>423A1CA112E2</td>\n",
       "      <td>1.622628e+12</td>\n",
       "      <td>230.0</td>\n",
       "      <td>312.0</td>\n",
       "      <td>They are some really bad consequences when stu...</td>\n",
       "      <td>Position</td>\n",
       "      <td>Position 1</td>\n",
       "      <td>45 46 47 48 49 50 51 52 53 54 55 56 57 58 59</td>\n",
       "    </tr>\n",
       "    <tr>\n",
       "      <th>2</th>\n",
       "      <td>423A1CA112E2</td>\n",
       "      <td>1.622628e+12</td>\n",
       "      <td>313.0</td>\n",
       "      <td>401.0</td>\n",
       "      <td>Some certain areas in the United States ban ph...</td>\n",
       "      <td>Evidence</td>\n",
       "      <td>Evidence 1</td>\n",
       "      <td>60 61 62 63 64 65 66 67 68 69 70 71 72 73 74 75</td>\n",
       "    </tr>\n",
       "    <tr>\n",
       "      <th>3</th>\n",
       "      <td>423A1CA112E2</td>\n",
       "      <td>1.622628e+12</td>\n",
       "      <td>402.0</td>\n",
       "      <td>758.0</td>\n",
       "      <td>When people have phones, they know about certa...</td>\n",
       "      <td>Evidence</td>\n",
       "      <td>Evidence 2</td>\n",
       "      <td>76 77 78 79 80 81 82 83 84 85 86 87 88 89 90 9...</td>\n",
       "    </tr>\n",
       "    <tr>\n",
       "      <th>4</th>\n",
       "      <td>423A1CA112E2</td>\n",
       "      <td>1.622628e+12</td>\n",
       "      <td>759.0</td>\n",
       "      <td>886.0</td>\n",
       "      <td>Driving is one of the way how to get around. P...</td>\n",
       "      <td>Claim</td>\n",
       "      <td>Claim 1</td>\n",
       "      <td>139 140 141 142 143 144 145 146 147 148 149 15...</td>\n",
       "    </tr>\n",
       "  </tbody>\n",
       "</table>\n",
       "</div>"
      ],
      "text/plain": [
       "             id  discourse_id  discourse_start  discourse_end  \\\n",
       "0  423A1CA112E2  1.622628e+12              8.0          229.0   \n",
       "1  423A1CA112E2  1.622628e+12            230.0          312.0   \n",
       "2  423A1CA112E2  1.622628e+12            313.0          401.0   \n",
       "3  423A1CA112E2  1.622628e+12            402.0          758.0   \n",
       "4  423A1CA112E2  1.622628e+12            759.0          886.0   \n",
       "\n",
       "                                      discourse_text discourse_type  \\\n",
       "0  Modern humans today are always on their phone....           Lead   \n",
       "1  They are some really bad consequences when stu...       Position   \n",
       "2  Some certain areas in the United States ban ph...       Evidence   \n",
       "3  When people have phones, they know about certa...       Evidence   \n",
       "4  Driving is one of the way how to get around. P...          Claim   \n",
       "\n",
       "  discourse_type_num                                   predictionstring  \n",
       "0             Lead 1  1 2 3 4 5 6 7 8 9 10 11 12 13 14 15 16 17 18 1...  \n",
       "1         Position 1       45 46 47 48 49 50 51 52 53 54 55 56 57 58 59  \n",
       "2         Evidence 1    60 61 62 63 64 65 66 67 68 69 70 71 72 73 74 75  \n",
       "3         Evidence 2  76 77 78 79 80 81 82 83 84 85 86 87 88 89 90 9...  \n",
       "4            Claim 1  139 140 141 142 143 144 145 146 147 148 149 15...  "
      ]
     },
     "execution_count": 75,
     "metadata": {},
     "output_type": "execute_result"
    }
   ],
   "source": [
    "df.head()"
   ]
  },
  {
   "cell_type": "code",
   "execution_count": 76,
   "metadata": {},
   "outputs": [
    {
     "data": {
      "text/plain": [
       "array(['Lead', 'Position', 'Evidence', 'Claim', 'Concluding Statement',\n",
       "       'Counterclaim', 'Rebuttal'], dtype=object)"
      ]
     },
     "execution_count": 76,
     "metadata": {},
     "output_type": "execute_result"
    }
   ],
   "source": [
    "df['discourse_type'].unique()"
   ]
  },
  {
   "cell_type": "code",
   "execution_count": 78,
   "metadata": {},
   "outputs": [
    {
     "data": {
      "text/plain": [
       "15594"
      ]
     },
     "execution_count": 78,
     "metadata": {},
     "output_type": "execute_result"
    }
   ],
   "source": [
    "ids = df['id'].unique()\n",
    "ids.size"
   ]
  },
  {
   "cell_type": "code",
   "execution_count": null,
   "metadata": {},
   "outputs": [],
   "source": [
    "# bad case\n",
    "# 2726E31ECDC6\n"
   ]
  },
  {
   "cell_type": "code",
   "execution_count": 108,
   "metadata": {},
   "outputs": [
    {
     "data": {
      "text/html": [
       "<div>\n",
       "<style scoped>\n",
       "    .dataframe tbody tr th:only-of-type {\n",
       "        vertical-align: middle;\n",
       "    }\n",
       "\n",
       "    .dataframe tbody tr th {\n",
       "        vertical-align: top;\n",
       "    }\n",
       "\n",
       "    .dataframe thead th {\n",
       "        text-align: right;\n",
       "    }\n",
       "</style>\n",
       "<table border=\"1\" class=\"dataframe\">\n",
       "  <thead>\n",
       "    <tr style=\"text-align: right;\">\n",
       "      <th></th>\n",
       "      <th>id</th>\n",
       "      <th>discourse_id</th>\n",
       "      <th>discourse_start</th>\n",
       "      <th>discourse_end</th>\n",
       "      <th>discourse_text</th>\n",
       "      <th>discourse_type</th>\n",
       "      <th>discourse_type_num</th>\n",
       "      <th>predictionstring</th>\n",
       "    </tr>\n",
       "  </thead>\n",
       "  <tbody>\n",
       "    <tr>\n",
       "      <th>139141</th>\n",
       "      <td>6D8814C66BB4</td>\n",
       "      <td>1.617887e+12</td>\n",
       "      <td>0.0</td>\n",
       "      <td>141.0</td>\n",
       "      <td>Sometimes when you are in a tough spot you see...</td>\n",
       "      <td>Lead</td>\n",
       "      <td>Lead 1</td>\n",
       "      <td>0 1 2 3 4 5 6 7 8 9 10 11 12 13 14 15 16 17 18...</td>\n",
       "    </tr>\n",
       "    <tr>\n",
       "      <th>139142</th>\n",
       "      <td>6D8814C66BB4</td>\n",
       "      <td>1.617887e+12</td>\n",
       "      <td>165.0</td>\n",
       "      <td>200.0</td>\n",
       "      <td>you learn more about the situation</td>\n",
       "      <td>Claim</td>\n",
       "      <td>Claim 1</td>\n",
       "      <td>33 34 35 36 37 38</td>\n",
       "    </tr>\n",
       "    <tr>\n",
       "      <th>139143</th>\n",
       "      <td>6D8814C66BB4</td>\n",
       "      <td>1.617887e+12</td>\n",
       "      <td>201.0</td>\n",
       "      <td>255.0</td>\n",
       "      <td>you will probably know the aftermath of your d...</td>\n",
       "      <td>Claim</td>\n",
       "      <td>Claim 2</td>\n",
       "      <td>39 40 41 42 43 44 45 46 47</td>\n",
       "    </tr>\n",
       "    <tr>\n",
       "      <th>139144</th>\n",
       "      <td>6D8814C66BB4</td>\n",
       "      <td>1.617887e+12</td>\n",
       "      <td>260.0</td>\n",
       "      <td>335.0</td>\n",
       "      <td>you will have your friends to support you no m...</td>\n",
       "      <td>Claim</td>\n",
       "      <td>Claim 3</td>\n",
       "      <td>49 50 51 52 53 54 55 56 57 58 59 60 61 62</td>\n",
       "    </tr>\n",
       "    <tr>\n",
       "      <th>139145</th>\n",
       "      <td>6D8814C66BB4</td>\n",
       "      <td>1.617887e+12</td>\n",
       "      <td>336.0</td>\n",
       "      <td>462.0</td>\n",
       "      <td>I always think the best thing to do in any str...</td>\n",
       "      <td>Position</td>\n",
       "      <td>Position 1</td>\n",
       "      <td>63 64 65 66 67 68 69 70 71 72 73 74 75 76 77 7...</td>\n",
       "    </tr>\n",
       "    <tr>\n",
       "      <th>139146</th>\n",
       "      <td>6D8814C66BB4</td>\n",
       "      <td>1.617887e+12</td>\n",
       "      <td>519.0</td>\n",
       "      <td>580.0</td>\n",
       "      <td>You will learn more about what is happening in...</td>\n",
       "      <td>Claim</td>\n",
       "      <td>Claim 4</td>\n",
       "      <td>98 99 100 101 102 103 104 105 106 107 108</td>\n",
       "    </tr>\n",
       "    <tr>\n",
       "      <th>139147</th>\n",
       "      <td>6D8814C66BB4</td>\n",
       "      <td>1.617887e+12</td>\n",
       "      <td>581.0</td>\n",
       "      <td>1149.0</td>\n",
       "      <td>Most likely when something first happens you w...</td>\n",
       "      <td>Evidence</td>\n",
       "      <td>Evidence 1</td>\n",
       "      <td>109 110 111 112 113 114 115 116 117 118 119 12...</td>\n",
       "    </tr>\n",
       "    <tr>\n",
       "      <th>139148</th>\n",
       "      <td>6D8814C66BB4</td>\n",
       "      <td>1.617887e+12</td>\n",
       "      <td>1150.0</td>\n",
       "      <td>1285.0</td>\n",
       "      <td>When your talking to your friend about the sit...</td>\n",
       "      <td>Claim</td>\n",
       "      <td>Claim 5</td>\n",
       "      <td>210 211 212 213 214 215 216 217 218 219 220 22...</td>\n",
       "    </tr>\n",
       "    <tr>\n",
       "      <th>139149</th>\n",
       "      <td>6D8814C66BB4</td>\n",
       "      <td>1.617887e+12</td>\n",
       "      <td>1286.0</td>\n",
       "      <td>1617.0</td>\n",
       "      <td>It's always good to know whats going to happen...</td>\n",
       "      <td>Evidence</td>\n",
       "      <td>Evidence 2</td>\n",
       "      <td>234 235 236 237 238 239 240 241 242 243 244 24...</td>\n",
       "    </tr>\n",
       "    <tr>\n",
       "      <th>139150</th>\n",
       "      <td>6D8814C66BB4</td>\n",
       "      <td>1.617887e+12</td>\n",
       "      <td>1618.0</td>\n",
       "      <td>1695.0</td>\n",
       "      <td>After you are done making your decision your f...</td>\n",
       "      <td>Claim</td>\n",
       "      <td>Claim 6</td>\n",
       "      <td>295 296 297 298 299 300 301 302 303 304 305 30...</td>\n",
       "    </tr>\n",
       "    <tr>\n",
       "      <th>139151</th>\n",
       "      <td>6D8814C66BB4</td>\n",
       "      <td>1.617887e+12</td>\n",
       "      <td>1696.0</td>\n",
       "      <td>2152.0</td>\n",
       "      <td>Even before you make your decision your friend...</td>\n",
       "      <td>Evidence</td>\n",
       "      <td>Evidence 3</td>\n",
       "      <td>308 309 310 311 312 313 314 315 316 317 318 31...</td>\n",
       "    </tr>\n",
       "    <tr>\n",
       "      <th>139152</th>\n",
       "      <td>6D8814C66BB4</td>\n",
       "      <td>1.617887e+12</td>\n",
       "      <td>2153.0</td>\n",
       "      <td>2541.0</td>\n",
       "      <td>As I said it's always best to ask a friend for...</td>\n",
       "      <td>Concluding Statement</td>\n",
       "      <td>Concluding Statement 1</td>\n",
       "      <td>393 394 395 396 397 398 399 400 401 402 403 40...</td>\n",
       "    </tr>\n",
       "  </tbody>\n",
       "</table>\n",
       "</div>"
      ],
      "text/plain": [
       "                  id  discourse_id  discourse_start  discourse_end  \\\n",
       "139141  6D8814C66BB4  1.617887e+12              0.0          141.0   \n",
       "139142  6D8814C66BB4  1.617887e+12            165.0          200.0   \n",
       "139143  6D8814C66BB4  1.617887e+12            201.0          255.0   \n",
       "139144  6D8814C66BB4  1.617887e+12            260.0          335.0   \n",
       "139145  6D8814C66BB4  1.617887e+12            336.0          462.0   \n",
       "139146  6D8814C66BB4  1.617887e+12            519.0          580.0   \n",
       "139147  6D8814C66BB4  1.617887e+12            581.0         1149.0   \n",
       "139148  6D8814C66BB4  1.617887e+12           1150.0         1285.0   \n",
       "139149  6D8814C66BB4  1.617887e+12           1286.0         1617.0   \n",
       "139150  6D8814C66BB4  1.617887e+12           1618.0         1695.0   \n",
       "139151  6D8814C66BB4  1.617887e+12           1696.0         2152.0   \n",
       "139152  6D8814C66BB4  1.617887e+12           2153.0         2541.0   \n",
       "\n",
       "                                           discourse_text  \\\n",
       "139141  Sometimes when you are in a tough spot you see...   \n",
       "139142                you learn more about the situation    \n",
       "139143  you will probably know the aftermath of your d...   \n",
       "139144  you will have your friends to support you no m...   \n",
       "139145  I always think the best thing to do in any str...   \n",
       "139146  You will learn more about what is happening in...   \n",
       "139147  Most likely when something first happens you w...   \n",
       "139148  When your talking to your friend about the sit...   \n",
       "139149  It's always good to know whats going to happen...   \n",
       "139150  After you are done making your decision your f...   \n",
       "139151  Even before you make your decision your friend...   \n",
       "139152  As I said it's always best to ask a friend for...   \n",
       "\n",
       "              discourse_type      discourse_type_num  \\\n",
       "139141                  Lead                  Lead 1   \n",
       "139142                 Claim                 Claim 1   \n",
       "139143                 Claim                 Claim 2   \n",
       "139144                 Claim                 Claim 3   \n",
       "139145              Position              Position 1   \n",
       "139146                 Claim                 Claim 4   \n",
       "139147              Evidence              Evidence 1   \n",
       "139148                 Claim                 Claim 5   \n",
       "139149              Evidence              Evidence 2   \n",
       "139150                 Claim                 Claim 6   \n",
       "139151              Evidence              Evidence 3   \n",
       "139152  Concluding Statement  Concluding Statement 1   \n",
       "\n",
       "                                         predictionstring  \n",
       "139141  0 1 2 3 4 5 6 7 8 9 10 11 12 13 14 15 16 17 18...  \n",
       "139142                                  33 34 35 36 37 38  \n",
       "139143                         39 40 41 42 43 44 45 46 47  \n",
       "139144          49 50 51 52 53 54 55 56 57 58 59 60 61 62  \n",
       "139145  63 64 65 66 67 68 69 70 71 72 73 74 75 76 77 7...  \n",
       "139146          98 99 100 101 102 103 104 105 106 107 108  \n",
       "139147  109 110 111 112 113 114 115 116 117 118 119 12...  \n",
       "139148  210 211 212 213 214 215 216 217 218 219 220 22...  \n",
       "139149  234 235 236 237 238 239 240 241 242 243 244 24...  \n",
       "139150  295 296 297 298 299 300 301 302 303 304 305 30...  \n",
       "139151  308 309 310 311 312 313 314 315 316 317 318 31...  \n",
       "139152  393 394 395 396 397 398 399 400 401 402 403 40...  "
      ]
     },
     "execution_count": 108,
     "metadata": {},
     "output_type": "execute_result"
    }
   ],
   "source": [
    "an_df = df[df['id'] == '6D8814C66BB4']\n",
    "an_df"
   ]
  },
  {
   "cell_type": "code",
   "execution_count": 114,
   "metadata": {},
   "outputs": [],
   "source": [
    "def get_instance_with_row(df, idx: int):\n",
    "    row = df.loc[idx].to_dict()\n",
    "    file_name = os.path.join('/root/.cache/data/train', row['id'] + '.txt')\n",
    "    with open(file_name, 'r') as fp:\n",
    "        text = fp.read()\n",
    "    row['text'] = text\n",
    "    pred_ls =  row['predictionstring'].split(' ')\n",
    "    row['start_word'], row['end_word'] = int(pred_ls[0]), int(pred_ls[-1])\n",
    "    row['discourse_words'] = ' '.join(text.split()[row['start_word']:row['end_word'] + 1])\n",
    "    row['discourse_chars'] = text[int(row['discourse_start']):int(row['discourse_end'])]\n",
    "    return row                                  "
   ]
  },
  {
   "cell_type": "code",
   "execution_count": 115,
   "metadata": {},
   "outputs": [
    {
     "data": {
      "text/plain": [
       "{'id': '6D8814C66BB4',\n",
       " 'discourse_id': 1617887045821.0,\n",
       " 'discourse_start': 260.0,\n",
       " 'discourse_end': 335.0,\n",
       " 'discourse_text': 'you will have your friends to support you no matter the decision you chose ',\n",
       " 'discourse_type': 'Claim',\n",
       " 'discourse_type_num': 'Claim 3',\n",
       " 'predictionstring': '49 50 51 52 53 54 55 56 57 58 59 60 61 62',\n",
       " 'text': 'Sometimes when you are in a tough spot you seek help from friends. You will ask them \"what to do\" and \"what would you do in this situation\" . When you\\'re doing this you learn more about the situation, you will probably\\xa0know the aftermath of your\\xa0decision, and you will have your friends to support you no matter the decision you chose. I always think the best thing to do in any stressful situation is to tell someone and let them help you figure out what to do. Here\\'s multiply reasons why you should always do this.\\n\\nYou will learn more about what is happening in the situation. Most likely when something first happens you won\\'t know what to do. If you ask a friend about what you should do there going to help you unravel the situation you\\'re in. When you do this you will get multiply different views on the situation. Which could be a good or bad thing. It could sometimes make everything more confusing, or make it more easier to understand, but I know one thing is certain you would expand your knowledge about the situation. Expanding your knowledge about the situation is helpful is multiply ways. It will help you pick the better option.\\n\\nWhen your talking to your friend about the situation you will also most likely talk about what will happen after you make your descion. It\\'s always good to know whats going to happen after you make your decision. It always helps you to chose the best option and it warns you of the consequences\\xa0of your option. It\\'s always the best to plan into the future and see whats going to happened. After learning the aftermath you will be prepared and pick the better option.\\n\\nAfter you are done making your decision your friends will always support you. Even before you make your decision\\xa0your friends will help you, and they will support you after you make your decision. Even if you pick the wrong decision your true friends would be there to support you. It\\'s always nice having someone around to help you and support you though a tough time. It will bring your confidence up and help you be more confident about your choice. it\\'s always nice to have someone by your side to help you in your times of need.\\n\\nAs I said it\\'s always best to ask a friend for help. No matter what the situation is you should always ask for help and it doesn\\'t matter who it is you ask just make it someone you trust. That will help you pick the best outcome.\\n\\nThat is why I think it is best to ask someone for help even if it\\'s a not that big of a deal. A friend always helps a friend no matter what the situation is.',\n",
       " 'start_word': 49,\n",
       " 'end_word': 62,\n",
       " 'discourse_words': 'you will have your friends to support you no matter the decision you chose.',\n",
       " 'discourse_chars': 'you will have your friends to support you no matter the decision you chose.'}"
      ]
     },
     "execution_count": 115,
     "metadata": {},
     "output_type": "execute_result"
    }
   ],
   "source": [
    "instance = get_instance_with_row(df, 139144)\n",
    "instance"
   ]
  },
  {
   "cell_type": "code",
   "execution_count": 20,
   "metadata": {},
   "outputs": [
    {
     "name": "stderr",
     "output_type": "stream",
     "text": [
      "Special tokens have been added in the vocabulary, make sure the associated word embeddings are fine-tuned or trained.\n"
     ]
    }
   ],
   "source": [
    "from transformers import BigBirdTokenizerFast\n",
    "tokenizer = BigBirdTokenizerFast.from_pretrained('allenai/longformer-large-4096')\n",
    "\n",
    "\n",
    "def mapping_word_to_token(word_ids, word_start, word_end):\n",
    "    token_start, token_end = -1, -1\n",
    "    for idx, word_id in enumerate(word_ids):\n",
    "        if word_id == word_start:\n",
    "            token_start = idx\n",
    "            break\n",
    "    for idx, word_id in enumerate(word_ids):\n",
    "        if word_id == word_end:\n",
    "            token_end = idx\n",
    "    return token_start, token_end"
   ]
  },
  {
   "cell_type": "code",
   "execution_count": null,
   "metadata": {},
   "outputs": [],
   "source": []
  },
  {
   "cell_type": "code",
   "execution_count": null,
   "metadata": {},
   "outputs": [],
   "source": []
  },
  {
   "cell_type": "code",
   "execution_count": 10,
   "metadata": {},
   "outputs": [],
   "source": [
    "text = instance['text']"
   ]
  },
  {
   "cell_type": "code",
   "execution_count": null,
   "metadata": {},
   "outputs": [],
   "source": [
    "ss.split()"
   ]
  },
  {
   "cell_type": "code",
   "execution_count": null,
   "metadata": {},
   "outputs": [],
   "source": []
  },
  {
   "cell_type": "markdown",
   "metadata": {},
   "source": [
    "### (discourse_start, discourse_end) 与 predictionstring时什么关系？"
   ]
  },
  {
   "cell_type": "code",
   "execution_count": null,
   "metadata": {},
   "outputs": [],
   "source": [
    "\n",
    "def stat_relation(df):\n",
    "    cnt = 0\n",
    "    stat = {}\n",
    "    err = []\n",
    "    for idx, item in tqdm.tqdm(df.iterrows()):\n",
    "        id_, discourse_id, start, end, discourse_text, type_, type_num, pred_str = item\n",
    "        file_name = os.path.join('/root/.cache/data/train', id_ + '.txt')\n",
    "        with open(file_name, 'r') as fp:\n",
    "            text = fp.read()\n",
    "        \n",
    "        #print(discourse_text)\n",
    "        # text using char.\n",
    "        text_with_char = text[int(start):int(end)]\n",
    "        \n",
    "        if discourse_text != text_with_char:\n",
    "            text_with_char = text[int(start):int(end) - 1]\n",
    "            if discourse_text[:-1] == text_with_char:\n",
    "                stat['char'] = stat.get('char', 0) + 1\n",
    "            else:\n",
    "                err.append(idx)\n",
    "        else:\n",
    "            stat['char'] = stat.get('char', 0) + 1\n",
    "            \n",
    "        cnt += 1\n",
    "        if cnt == 6000000:\n",
    "            break\n",
    "\n",
    "    return stat\n",
    "        \n",
    "\n",
    "stat_relation(df)"
   ]
  },
  {
   "cell_type": "markdown",
   "metadata": {},
   "source": [
    "## 统计predstring正确数"
   ]
  },
  {
   "cell_type": "code",
   "execution_count": 58,
   "metadata": {},
   "outputs": [],
   "source": [
    "def stat_predstring(df):\n",
    "    cnt = 0\n",
    "    stat = {}\n",
    "    err = []\n",
    "    for idx, item in tqdm.tqdm(df.iterrows()):\n",
    "        id_, discourse_id, start_, end_, discourse_text, type_, type_num, pred_str = item\n",
    "        file_name = os.path.join('/root/.cache/data/train', id_ + '.txt')\n",
    "        with open(file_name, 'r') as fp:\n",
    "            text = fp.read()\n",
    "        \n",
    "        pred_ls =  pred_str.split(' ')\n",
    "        start, end = int(pred_ls[0]), int(pred_ls[-1])\n",
    "        text_pred = text.split()[start:end + 1]\n",
    "        text_pred = ' '.join(text_pred)\n",
    "        if discourse_text == text_pred:\n",
    "            stat['word'] = stat.get('word', 0) + 1\n",
    "        else:\n",
    "            print('='*200)\n",
    "            print(discourse_text)\n",
    "            print()\n",
    "            print(text_pred)\n",
    "            print('='*200)\n",
    "        cnt += 1\n",
    "        if cnt == 50:\n",
    "            break\n",
    "    return stat"
   ]
  },
  {
   "cell_type": "code",
   "execution_count": null,
   "metadata": {},
   "outputs": [],
   "source": []
  },
  {
   "cell_type": "code",
   "execution_count": null,
   "metadata": {},
   "outputs": [],
   "source": []
  },
  {
   "cell_type": "code",
   "execution_count": null,
   "metadata": {},
   "outputs": [],
   "source": []
  }
 ],
 "metadata": {
  "kernelspec": {
   "display_name": "Python [conda env:blog]",
   "language": "python",
   "name": "conda-env-blog-py"
  },
  "language_info": {
   "codemirror_mode": {
    "name": "ipython",
    "version": 3
   },
   "file_extension": ".py",
   "mimetype": "text/x-python",
   "name": "python",
   "nbconvert_exporter": "python",
   "pygments_lexer": "ipython3",
   "version": "3.8.3"
  }
 },
 "nbformat": 4,
 "nbformat_minor": 4
}
