{
 "cells": [
  {
   "cell_type": "markdown",
   "metadata": {},
   "source": [
    "date: 2021-01-04 10:17:17\n",
    "author: Jerry Su\n",
    "slug: Python-typing\n",
    "title: Python - typing\n",
    "category: \n",
    "tags: Python\n",
    "summary: Reason is the light and the light of life.\n",
    "toc: show"
   ]
  },
  {
   "cell_type": "code",
   "execution_count": 10,
   "metadata": {},
   "outputs": [],
   "source": [
    "from typing import Union, Optional, Callable, Iterable, Mapping, Sequence, List, Tuple, Any"
   ]
  },
  {
   "cell_type": "markdown",
   "metadata": {},
   "source": [
    "[https://docs.python.org/3/library/typing.html](https://docs.python.org/3/library/typing.html)"
   ]
  },
  {
   "cell_type": "markdown",
   "metadata": {},
   "source": [
    "Any, Union, Tuple, List, Sequence, Mapping, Callable, TypeVar,Optional, Generic等的使用频率比较高，其中Union、Optional、Sequence、Mapping非常有用。\n",
    "\n",
    "- Union\n",
    "\n",
    "即并集，所以Union[X, Y] 意思是要么X类型、要么Y类型\n",
    "\n",
    "- Optional\n",
    "\n",
    "Optional[X]与Union[X, None]，即它默认允许None类型\n",
    "\n",
    "- Sequence\n",
    "\n",
    "即序列，需要注意的是，List一般用来标注返回值；Sequence、Iterable用来标注参数类型\n",
    "\n",
    "- Mapping\n",
    "\n",
    "即字典，需要注意的是，Dict一般用来标注返回值；Mapping用来标注参数类型"
   ]
  },
  {
   "cell_type": "code",
   "execution_count": null,
   "metadata": {},
   "outputs": [],
   "source": [
    "def test(\n",
    "    X: Optional[Union[np.ndarray, pd.DataFrame]] = None,\n",
    "    obs: Optional[Union[pd.DataFrame, Mapping[str, Iterable[Any]]]] = None,\n",
    "    var: Optional[Union[pd.DataFrame, Mapping[str, Iterable[Any]]]] = None,\n",
    "    uns: Optional[Mapping[str, Any]] = None,\n",
    "    obsm: Optional[Union[np.ndarray, Mapping[str, Sequence[Any]]]] = None,\n",
    "    varm: Optional[Union[np.ndarray, Mapping[str, Sequence[Any]]]] = None,\n",
    "    layers: Optional[Mapping[str, Union[np.ndarray, sparse.spmatrix]]] = None,\n",
    "    raw: Optional[Raw] = None,\n",
    "    dtype: Union[np.dtype, str] = 'float32',\n",
    "    shape: Optional[Tuple[int, int]] = None,\n",
    "    filename: Optional[PathLike] = None,\n",
    "    filemode: Optional[str] = None,\n",
    "    asview: bool = False,\n",
    "    *, oidx: Index = None, vidx: Index = None) -> List[Any]:\n",
    "    pass"
   ]
  }
 ],
 "metadata": {
  "kernelspec": {
   "display_name": "Python [conda env:blog] *",
   "language": "python",
   "name": "conda-env-blog-py"
  },
  "language_info": {
   "codemirror_mode": {
    "name": "ipython",
    "version": 3
   },
   "file_extension": ".py",
   "mimetype": "text/x-python",
   "name": "python",
   "nbconvert_exporter": "python",
   "pygments_lexer": "ipython3",
   "version": "3.8.3"
  }
 },
 "nbformat": 4,
 "nbformat_minor": 4
}
