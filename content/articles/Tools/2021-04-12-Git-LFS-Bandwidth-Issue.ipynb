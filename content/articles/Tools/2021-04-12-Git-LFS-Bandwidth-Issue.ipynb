{
 "cells": [
  {
   "cell_type": "markdown",
   "metadata": {},
   "source": [
    "date: 2021-04-12 13:17:17\n",
    "author: Jerry Su\n",
    "slug: Git-LFS-Bandwidth-Issue\n",
    "title: Git LFS Bandwidth Issue\n",
    "category: \n",
    "tags: Git"
   ]
  },
  {
   "cell_type": "markdown",
   "metadata": {},
   "source": [
    "Response: This repository is over its data quota. Account responsible for LFS bandwidth should purchase more data packs to restore access.\n",
    "\n",
    "Solution:\n",
    "- Fork the repo to one of your users\n",
    "- Go to repo settings\n",
    "- Find \"Include Git LFS objects in archives\" under the Archives section and check it\n",
    "- Go to the Danger Zone section, select \"Archive this repository\"\n",
    "- Confirm and authorize.\n",
    "- Return to the archived repository.\n",
    "- Download as .zip\n",
    "- Download will pause for a minute or so before it starts downloading lfs objects. Wait and it should continue.\n"
   ]
  }
 ],
 "metadata": {
  "kernelspec": {
   "display_name": "Python [conda env:blog] *",
   "language": "python",
   "name": "conda-env-blog-py"
  },
  "language_info": {
   "codemirror_mode": {
    "name": "ipython",
    "version": 3
   },
   "file_extension": ".py",
   "mimetype": "text/x-python",
   "name": "python",
   "nbconvert_exporter": "python",
   "pygments_lexer": "ipython3",
   "version": "3.8.3"
  }
 },
 "nbformat": 4,
 "nbformat_minor": 4
}
