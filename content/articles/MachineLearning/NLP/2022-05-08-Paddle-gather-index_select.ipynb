{
 "cells": [
  {
   "cell_type": "markdown",
   "metadata": {},
   "source": [
    "- date: 2022-05-08 11:17:17\n",
    "- author: Jerry Su\n",
    "- slug: Paddle-gather-index_select\n",
    "- title: Paddle gather index_select\n",
    "- category: \n",
    "- tags: Paddle"
   ]
  },
  {
   "cell_type": "markdown",
   "metadata": {},
   "source": [
    "gather实现torch数组花式索引\n",
    "\n",
    "https://github.com/PaddlePaddle/Paddle/issues/42554 [受到启发]如果要多个list做索引建议一个一个来分开处理\n",
    "\n",
    "https://github.com/PaddlePaddle/Paddle/issues/35072\n",
    "\n",
    "https://github.com/PaddlePaddle/Paddle/pull/34824\n",
    "\n",
    "https://github.com/PaddlePaddle/Paddle/issues/33605"
   ]
  },
  {
   "cell_type": "code",
   "execution_count": 141,
   "metadata": {},
   "outputs": [],
   "source": [
    "import torch"
   ]
  },
  {
   "cell_type": "code",
   "execution_count": 142,
   "metadata": {},
   "outputs": [
    {
     "name": "stdout",
     "output_type": "stream",
     "text": [
      "torch.Size([2, 3, 4, 5])\n"
     ]
    },
    {
     "data": {
      "text/plain": [
       "tensor([[[[-5.4468e-01, -5.0562e-01,  1.2807e+00,  3.4061e-01,  2.0514e+00],\n",
       "          [-1.3104e+00, -9.8287e-01,  3.7319e-01, -1.4745e+00,  1.4230e+00],\n",
       "          [-4.3422e-01,  2.3498e+00,  1.3136e-01,  2.1823e+00,  5.1223e-01],\n",
       "          [ 1.2024e+00, -9.4088e-01,  1.2282e+00, -1.0885e+00, -8.7535e-02]],\n",
       "\n",
       "         [[ 7.8700e-01, -2.2048e-01, -6.0638e-01,  9.3186e-01,  5.6504e-02],\n",
       "          [ 1.7838e+00, -8.2962e-01, -2.7352e+00, -1.4160e+00,  2.6104e+00],\n",
       "          [-3.7266e-02, -2.1329e-01, -2.1592e+00,  2.2810e+00, -2.3482e+00],\n",
       "          [-2.9233e-01,  1.1370e+00,  1.3566e+00,  1.9546e-01, -1.8684e-01]],\n",
       "\n",
       "         [[-1.8817e-01,  4.0500e-01, -1.4191e+00,  2.3311e-01,  1.3099e+00],\n",
       "          [-1.3656e+00,  1.0606e+00,  1.7107e+00, -1.9834e-01,  4.1514e-01],\n",
       "          [ 2.2179e-01, -7.2007e-01, -9.1608e-01,  1.4468e+00,  4.3706e-02],\n",
       "          [ 6.4846e-01, -1.3944e+00,  4.1428e-01,  4.0398e-01,  5.4115e-01]]],\n",
       "\n",
       "\n",
       "        [[[-2.3598e+00, -8.8833e-01, -4.2781e-01, -2.3981e-01,  2.1471e-01],\n",
       "          [-1.1781e+00,  4.3100e-01,  3.5601e-01,  1.5856e+00, -5.8470e-01],\n",
       "          [ 9.2444e-02,  7.2827e-01,  2.2149e+00,  1.1706e+00, -4.7734e-02],\n",
       "          [-1.0274e+00,  8.5586e-01,  1.2618e+00,  2.8460e-02,  9.4270e-02]],\n",
       "\n",
       "         [[-3.4107e-01, -3.4325e-02, -4.8396e-02, -1.4431e+00, -5.6117e-01],\n",
       "          [ 1.9967e-01,  1.3329e+00,  6.1695e-01,  4.1505e-01,  2.7575e+00],\n",
       "          [-1.2955e+00,  5.6621e-01, -1.0634e-01, -7.2221e-02,  1.1317e+00],\n",
       "          [ 8.7444e-01, -2.1166e-01, -1.1783e+00, -2.2078e-02, -1.5392e+00]],\n",
       "\n",
       "         [[-2.2304e-01, -1.4913e+00,  8.9758e-01, -1.3736e+00,  1.1076e-03],\n",
       "          [ 1.6112e+00, -2.5923e-02, -1.5465e+00,  7.8411e-01,  1.2573e+00],\n",
       "          [-1.0909e+00, -9.8247e-01, -9.2949e-01,  1.4528e+00, -3.8393e-01],\n",
       "          [ 8.1381e-01,  5.6867e-01,  1.1946e+00, -4.3303e-02, -4.8267e-01]]]])"
      ]
     },
     "execution_count": 142,
     "metadata": {},
     "output_type": "execute_result"
    }
   ],
   "source": [
    "x = torch.randn(2, 3, 4, 5)\n",
    "print(x.shape)\n",
    "x"
   ]
  },
  {
   "cell_type": "code",
   "execution_count": 143,
   "metadata": {},
   "outputs": [],
   "source": [
    "dim0 = torch.tensor([0, 1])\n",
    "dim2 = torch.tensor([0, 2])"
   ]
  },
  {
   "cell_type": "code",
   "execution_count": 144,
   "metadata": {},
   "outputs": [
    {
     "name": "stdout",
     "output_type": "stream",
     "text": [
      "torch.Size([2, 3, 5])\n"
     ]
    },
    {
     "data": {
      "text/plain": [
       "tensor([[[-0.5447, -0.5056,  1.2807,  0.3406,  2.0514],\n",
       "         [ 0.7870, -0.2205, -0.6064,  0.9319,  0.0565],\n",
       "         [-0.1882,  0.4050, -1.4191,  0.2331,  1.3099]],\n",
       "\n",
       "        [[ 0.0924,  0.7283,  2.2149,  1.1706, -0.0477],\n",
       "         [-1.2955,  0.5662, -0.1063, -0.0722,  1.1317],\n",
       "         [-1.0909, -0.9825, -0.9295,  1.4528, -0.3839]]])"
      ]
     },
     "execution_count": 144,
     "metadata": {},
     "output_type": "execute_result"
    }
   ],
   "source": [
    "x_ = x[dim0, :, dim2]\n",
    "print(x_.shape)\n",
    "x_"
   ]
  },
  {
   "cell_type": "markdown",
   "metadata": {},
   "source": [
    "## paddle实现"
   ]
  },
  {
   "cell_type": "code",
   "execution_count": 145,
   "metadata": {},
   "outputs": [],
   "source": [
    "import paddle"
   ]
  },
  {
   "cell_type": "code",
   "execution_count": 146,
   "metadata": {},
   "outputs": [],
   "source": [
    "xx = paddle.to_tensor(x.numpy())\n",
    "# xx"
   ]
  },
  {
   "cell_type": "code",
   "execution_count": 147,
   "metadata": {},
   "outputs": [
    {
     "name": "stderr",
     "output_type": "stream",
     "text": [
      "/opt/conda/envs/blog/lib/python3.8/site-packages/paddle/tensor/creation.py:130: DeprecationWarning: `np.object` is a deprecated alias for the builtin `object`. To silence this warning, use `object` by itself. Doing this will not modify any behavior and is safe. \n",
      "Deprecated in NumPy 1.20; for more details and guidance: https://numpy.org/devdocs/release/1.20.0-notes.html#deprecations\n",
      "  if data.dtype == np.object:\n"
     ]
    }
   ],
   "source": [
    "axis0 = paddle.to_tensor([0, 1])\n",
    "axis1 = paddle.to_tensor([0, 2])"
   ]
  },
  {
   "cell_type": "code",
   "execution_count": 121,
   "metadata": {},
   "outputs": [],
   "source": [
    "out1 = paddle.gather(xx, index=axis0, axis=0)"
   ]
  },
  {
   "cell_type": "code",
   "execution_count": 139,
   "metadata": {},
   "outputs": [
    {
     "data": {
      "text/plain": [
       "Tensor(shape=[2, 2], dtype=int64, place=CPUPlace, stop_gradient=True,\n",
       "       [[0, 0],\n",
       "        [1, 2]])"
      ]
     },
     "execution_count": 139,
     "metadata": {},
     "output_type": "execute_result"
    }
   ],
   "source": [
    "index =paddle.stack([axis0, axis1], axis=-1)\n",
    "index "
   ]
  },
  {
   "cell_type": "code",
   "execution_count": 140,
   "metadata": {},
   "outputs": [
    {
     "data": {
      "text/plain": [
       "Tensor(shape=[2, 4, 5], dtype=float32, place=CPUPlace, stop_gradient=True,\n",
       "       [[[-0.07601893, -0.95786285, -1.43674135, -1.93300319,  1.93319392],\n",
       "         [-0.51922202, -1.28075957, -0.90560406, -1.81705618,  2.47172594],\n",
       "         [-0.35581169,  0.16289686, -2.86410379,  1.34724343, -0.92106235],\n",
       "         [ 0.09319570,  0.64727783,  1.04392993,  1.27829981,  0.10877635]],\n",
       "\n",
       "        [[-0.76419204, -1.69635403,  1.48616660,  0.87069529, -0.39233911],\n",
       "         [ 1.40529430, -0.20886442,  1.51489639,  1.34371901, -0.73188514],\n",
       "         [ 0.56418574,  0.59838581,  0.32179439, -1.31146288,  0.31410775],\n",
       "         [-1.38033020,  0.01542827,  0.43722150,  0.47403052, -1.02283168]]])"
      ]
     },
     "execution_count": 140,
     "metadata": {},
     "output_type": "execute_result"
    }
   ],
   "source": [
    "paddle.gather_nd(out1, index=index)#.transpose([0, 1, 3, 2])"
   ]
  },
  {
   "cell_type": "code",
   "execution_count": null,
   "metadata": {},
   "outputs": [],
   "source": []
  }
 ],
 "metadata": {
  "kernelspec": {
   "display_name": "Python [conda env:blog]",
   "language": "python",
   "name": "conda-env-blog-py"
  },
  "language_info": {
   "codemirror_mode": {
    "name": "ipython",
    "version": 3
   },
   "file_extension": ".py",
   "mimetype": "text/x-python",
   "name": "python",
   "nbconvert_exporter": "python",
   "pygments_lexer": "ipython3",
   "version": "3.8.3"
  }
 },
 "nbformat": 4,
 "nbformat_minor": 4
}
