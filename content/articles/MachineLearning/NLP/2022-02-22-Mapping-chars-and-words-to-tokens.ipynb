{
 "cells": [
  {
   "cell_type": "markdown",
   "metadata": {},
   "source": [
    "- date: 2022-02-22 11:17:17\n",
    "- author: Jerry Su\n",
    "- slug:  Mapping-Chars-and-Words-to-Tokens\n",
    "- title: Mapping-Chars-and-Words-to-Tokens\n",
    "- category:\n",
    "- tags: NLP"
   ]
  },
  {
   "cell_type": "markdown",
   "metadata": {},
   "source": [
    "[How to Convert Characters, Tokens, and Words](https://www.kaggle.com/c/feedback-prize-2021/discussion/298094)"
   ]
  },
  {
   "cell_type": "markdown",
   "metadata": {},
   "source": [
    "## 1. Mapping char to token."
   ]
  },
  {
   "cell_type": "code",
   "execution_count": 3,
   "metadata": {},
   "outputs": [],
   "source": [
    "from transformers import BigBirdTokenizerFast"
   ]
  },
  {
   "cell_type": "code",
   "execution_count": 4,
   "metadata": {},
   "outputs": [
    {
     "name": "stderr",
     "output_type": "stream",
     "text": [
      "Special tokens have been added in the vocabulary, make sure the associated word embeddings are fine-tuned or trained.\n"
     ]
    }
   ],
   "source": [
    "tokenizer = BigBirdTokenizerFast.from_pretrained('allenai/longformer-large-4096')"
   ]
  },
  {
   "cell_type": "code",
   "execution_count": null,
   "metadata": {},
   "outputs": [],
   "source": [
    "text = \"Phones\\n\\nModern humans today are always on their phone. \"\n",
    "text_encoded = tokenizer(text, return_offsets_mapping=True, max_length=512, truncation=True)\n",
    "text_encoded"
   ]
  },
  {
   "cell_type": "code",
   "execution_count": null,
   "metadata": {},
   "outputs": [],
   "source": [
    "input_ids = text_encoded['input_ids']\n",
    "tokens = tokenizer.convert_ids_to_tokens(input_ids)\n",
    "offset_mapping = text_encoded['offset_mapping']\n",
    "print(f\"input_ids:\\t {input_ids}, len: {len(input_ids)}\")\n",
    "print(f\"tokens:\\t\\t {tokens}, len: {len(tokens)}\")\n",
    "print(f\"offset_mapping:  {offset_mapping}, len: {len(offset_mapping)}\")\n",
    "text"
   ]
  },
  {
   "cell_type": "markdown",
   "metadata": {},
   "source": [
    "offset_mapping:指对应token在原text的起止为止（start, end）左闭右开"
   ]
  },
  {
   "cell_type": "code",
   "execution_count": null,
   "metadata": {},
   "outputs": [],
   "source": [
    "tokens_with_offset_mapping = [text[ele[0]:ele[1]] for ele in offset_mapping]\n",
    "print(f\"tokens_with_offset_mapping: {tokens_with_offset_mapping}, len: {len(tokens_with_offset_mapping)}\")"
   ]
  },
  {
   "cell_type": "code",
   "execution_count": null,
   "metadata": {},
   "outputs": [],
   "source": [
    "text = \"Phones\\n\\nModern humans today are always on their phone. \" \n",
    "# Modern为实体，则(8, 14)"
   ]
  },
  {
   "cell_type": "code",
   "execution_count": null,
   "metadata": {},
   "outputs": [],
   "source": [
    "start_mapping = {j[0]: i for i, j in enumerate(offset_mapping) if j != (0, 0)}\n",
    "end_mapping = {j[-1] - 1: i for i, j in enumerate(offset_mapping) if j != (0, 0)}\n",
    "print(start_mapping)\n",
    "print(end_mapping)"
   ]
  },
  {
   "cell_type": "code",
   "execution_count": null,
   "metadata": {},
   "outputs": [],
   "source": [
    "# test \"Modern humans\"\n",
    "char_start, char_end = 8, 20\n",
    "entity_label = text[char_start:char_end]\n",
    "print(f\"entity_label: {entity_label}\")\n",
    "\n",
    "token_start, token_end = start_mapping[char_start], end_mapping[char_end]\n",
    "entity_token = tokens[token_start:token_end+1]\n",
    "print(f\"entity_token; {entity_token}\")"
   ]
  },
  {
   "cell_type": "code",
   "execution_count": null,
   "metadata": {},
   "outputs": [],
   "source": []
  },
  {
   "cell_type": "markdown",
   "metadata": {},
   "source": [
    "## 2.Mapping words to tokens."
   ]
  },
  {
   "cell_type": "code",
   "execution_count": 11,
   "metadata": {},
   "outputs": [
    {
     "name": "stdout",
     "output_type": "stream",
     "text": [
      "text split: ['Phones', 'Modern.', 'humans.', 'today', 'are', 'always', 'on', 'their', 'phone.']\n",
      "input_ids: [0, 48083, 39631, 4, 44734, 4, 34375, 1322, 30035, 261, 25017, 17283, 4, 2], len: 14\n",
      "token: ['<s>', 'Phones', 'Modern', '.', 'humans', '.', 'today', 'are', 'always', 'on', 'their', 'phone', '.', '</s>'], len: 14\n",
      "word_ids: [None, 0, 1, 1, 2, 2, 3, 4, 5, 6, 7, 8, 8, None], len: 14\n"
     ]
    }
   ],
   "source": [
    "text = \"Phones\\n\\nModern. humans. today are always on their phone. \" \n",
    "print(f\"text split: {text.split()}\")\n",
    "encoding = tokenizer(text.split(), is_split_into_words=True, truncation=True, max_length=512)\n",
    "input_ids = encoding['input_ids']\n",
    "print(f\"input_ids: {input_ids}, len: {len(input_ids)}\")\n",
    "tokens = tokenizer.convert_ids_to_tokens(input_ids)\n",
    "print(f\"token: {tokens}, len: {len(tokens)}\")\n",
    "word_ids = encoding.word_ids() \n",
    "print(f\"word_ids: {word_ids}, len: {len(word_ids)}\")"
   ]
  },
  {
   "cell_type": "code",
   "execution_count": 12,
   "metadata": {},
   "outputs": [
    {
     "name": "stdout",
     "output_type": "stream",
     "text": [
      "['Phones', 'Modern.', 'humans.', 'today', 'are', 'always', 'on', 'their', 'phone.']\n"
     ]
    }
   ],
   "source": [
    "print(text.split())"
   ]
  },
  {
   "cell_type": "code",
   "execution_count": 13,
   "metadata": {},
   "outputs": [
    {
     "data": {
      "text/plain": [
       "['Modern.', 'humans.']"
      ]
     },
     "execution_count": 13,
     "metadata": {},
     "output_type": "execute_result"
    }
   ],
   "source": [
    "word_start, word_end = 1, 3  # [)\n",
    "text.split()[word_start:word_end]"
   ]
  },
  {
   "cell_type": "code",
   "execution_count": 14,
   "metadata": {},
   "outputs": [
    {
     "data": {
      "text/plain": [
       "2"
      ]
     },
     "execution_count": 14,
     "metadata": {},
     "output_type": "execute_result"
    }
   ],
   "source": [
    "token_start = word_ids.index(word_start)\n",
    "token_start"
   ]
  },
  {
   "cell_type": "code",
   "execution_count": 16,
   "metadata": {},
   "outputs": [
    {
     "data": {
      "text/plain": [
       "(2, 5)"
      ]
     },
     "execution_count": 16,
     "metadata": {},
     "output_type": "execute_result"
    }
   ],
   "source": [
    "def mapping_word_to_token(word_ids, word_start, word_end):\n",
    "    token_start, token_end = -1, -1\n",
    "    for idx, word_id in enumerate(word_ids):\n",
    "        if word_id == word_start:\n",
    "            token_start = idx\n",
    "            break\n",
    "    for idx, word_id in enumerate(word_ids):\n",
    "        if word_id == word_end:\n",
    "            token_end = idx\n",
    "    return token_start, token_end\n",
    "\n",
    "mapping_word_to_token(word_ids, 1, 2)    "
   ]
  },
  {
   "cell_type": "code",
   "execution_count": 18,
   "metadata": {},
   "outputs": [
    {
     "data": {
      "text/plain": [
       "(1, 2)"
      ]
     },
     "execution_count": 18,
     "metadata": {},
     "output_type": "execute_result"
    }
   ],
   "source": [
    "def mapping_token_to_word(word_ids, token_start, token_end):\n",
    "    return word_ids[token_stavimrt], word_ids[token_end]\n",
    "\n",
    "mapping_token_to_word(word_ids, 2, 5)"
   ]
  },
  {
   "cell_type": "code",
   "execution_count": null,
   "metadata": {},
   "outputs": [],
   "source": []
  },
  {
   "cell_type": "code",
   "execution_count": null,
   "metadata": {},
   "outputs": [],
   "source": []
  }
 ],
 "metadata": {
  "kernelspec": {
   "display_name": "Python [conda env:blog]",
   "language": "python",
   "name": "conda-env-blog-py"
  },
  "language_info": {
   "codemirror_mode": {
    "name": "ipython",
    "version": 3
   },
   "file_extension": ".py",
   "mimetype": "text/x-python",
   "name": "python",
   "nbconvert_exporter": "python",
   "pygments_lexer": "ipython3",
   "version": "3.8.3"
  }
 },
 "nbformat": 4,
 "nbformat_minor": 4
}
