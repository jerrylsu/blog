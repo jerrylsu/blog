{
 "cells": [
  {
   "cell_type": "markdown",
   "metadata": {},
   "source": [
    "- date: 2022-07-19 10:17:17\n",
    "- author: Jerry Su\n",
    "- slug: FastAPI-for-cpu-bound-task\n",
    "- title: FastAPI for cpu-bound task\n",
    "- category: \n",
    "- tags: Python\n"
   ]
  },
  {
   "cell_type": "markdown",
   "metadata": {},
   "source": [
    "fastAPI\n",
    "\n",
    "**def** vs **async def**\n",
    "\n",
    "def: 线程池，实现并发\n",
    "\n",
    "async def: 协程，事件循环器实现并发。不存在await操作，退化成串行排队。\n",
    "\n",
    "async def如何用在cpu-bound任务上？ 可以用户态适时，asyncio.sleep()释放cpu给其他协程执行。"
   ]
  },
  {
   "cell_type": "markdown",
   "metadata": {},
   "source": [
    "https://stackoverflow.com/questions/71516140/fastapi-runs-api-calls-in-serial-instead-of-parallel-fashion"
   ]
  }
 ],
 "metadata": {
  "kernelspec": {
   "display_name": "Python [conda env:blog]",
   "language": "python",
   "name": "conda-env-blog-py"
  },
  "language_info": {
   "codemirror_mode": {
    "name": "ipython",
    "version": 3
   },
   "file_extension": ".py",
   "mimetype": "text/x-python",
   "name": "python",
   "nbconvert_exporter": "python",
   "pygments_lexer": "ipython3",
   "version": "3.8.3"
  }
 },
 "nbformat": 4,
 "nbformat_minor": 4
}
